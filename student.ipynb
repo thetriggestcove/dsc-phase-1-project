{
 "cells": [
  {
   "cell_type": "markdown",
   "metadata": {},
   "source": [
    "## Final Project Submission\n",
    "\n",
    "Please fill out:\n",
    "* Student name: \n",
    "* Student pace: self paced / part time / full time\n",
    "* Scheduled project review date/time: \n",
    "* Instructor name: \n",
    "* Blog post URL:\n"
   ]
  },
  {
   "cell_type": "code",
   "execution_count": 25,
   "metadata": {},
   "outputs": [],
   "source": [
    "import pandas as pd\n",
    "import numpy as np\n",
    "import sqlite3\n",
    "import json"
   ]
  },
  {
   "cell_type": "markdown",
   "metadata": {},
   "source": [
    "# Initial data investigation"
   ]
  },
  {
   "cell_type": "code",
   "execution_count": 5,
   "metadata": {},
   "outputs": [
    {
     "name": "stdout",
     "output_type": "stream",
     "text": [
      "[Errno 2] No such file or directory: 'zippedData'\n",
      "/Users/jessicamiles/Documents/Flatiron_Data_Science/git_labs_lessons/phase1/dsc-phase-1-project/zippedData\n"
     ]
    }
   ],
   "source": [
    "cd zippedData"
   ]
  },
  {
   "cell_type": "code",
   "execution_count": 6,
   "metadata": {
    "scrolled": false
   },
   "outputs": [
    {
     "name": "stdout",
     "output_type": "stream",
     "text": [
      "bom.movie_gross.csv.gz        imdb.title.principals.csv.gz\r\n",
      "column_summary.csv            imdb.title.ratings.csv.gz\r\n",
      "imdb.name.basics.csv.gz       rt.movie_info.tsv.gz\r\n",
      "imdb.title.akas.csv.gz        rt.reviews.tsv.gz\r\n",
      "imdb.title.basics.csv.gz      tmdb.movies.csv.gz\r\n",
      "imdb.title.crew.csv.gz        tn.movie_budgets.csv.gz\r\n"
     ]
    }
   ],
   "source": [
    "ls"
   ]
  },
  {
   "cell_type": "code",
   "execution_count": 7,
   "metadata": {},
   "outputs": [],
   "source": [
    "def preview_csvtsv(filepath, row_count):\n",
    "    \"\"\"Create a dataframe of initial n rows from file as a preview.\n",
    "    Supports either csv or tsv file formats, and files compressed as gz.\n",
    "    File format and gz detected using file extensions.\n",
    "    Prints a preview dataframe of the file, the preview's head(), \n",
    "    and the total number of rows.\n",
    "    \"\"\"\n",
    "    import gzip\n",
    "    is_gz = False\n",
    "    \n",
    "    print(f\"\"\"--------------------------------------------------\n",
    "    File: {filepath}\n",
    "    --------------------------------------------------\"\"\")\n",
    "    \n",
    "    # determine file extension(s)\n",
    "    if filepath.split('.')[-1].lower() == 'csv':\n",
    "        filetype='csv'\n",
    "    elif filepath.split('.')[-1].lower() == 'tsv':\n",
    "        filetype='tsv'\n",
    "    elif filepath.split('.')[-1].lower() == 'gz':\n",
    "        # if we have a gz file, get second to last element\n",
    "        is_gz = True\n",
    "        if filepath.split('.')[-2].lower() == 'csv':\n",
    "            filetype='csv'\n",
    "        elif filepath.split('.')[-2].lower() == 'tsv':\n",
    "            filetype='tsv'\n",
    "    else:\n",
    "        # default to CSV if can't determine the file extention\n",
    "        filetype='csv'\n",
    "    \n",
    "    # Process file based on extension. \n",
    "    # Pandas doesn't care if the file is a gz compressed\n",
    "    if filetype == 'csv':\n",
    "        df_test = pd.read_csv(filepath, nrows=row_count)\n",
    "    elif filetype == 'tsv':\n",
    "        df_test = pd.read_table(filepath, nrows=row_count)\n",
    "\n",
    "    num_lines = 0\n",
    "    \n",
    "    # get line count. This differs based on if the file is gz or not\n",
    "    if is_gz:\n",
    "        for line in gzip.open(filepath):\n",
    "            num_lines += 1\n",
    "    else:\n",
    "        for line in open(filepath):\n",
    "            num_lines += 1\n",
    "    \n",
    "    display(df_test.head())\n",
    "    display(df_test.info())\n",
    "    print(f\"\\nFile contains {num_lines} total lines, including header.\")\n",
    "    print('\\n\\n\\n')\n",
    "    \n",
    "    pass"
   ]
  },
  {
   "cell_type": "code",
   "execution_count": 8,
   "metadata": {},
   "outputs": [],
   "source": [
    "def filelist_to_dfs_prelim(filepath_list, dfname_list):\n",
    "    \"\"\"Creates a dataframe for each file in the list.\n",
    "    Names each dataframe using the corresponding name list.\n",
    "    \"\"\"\n",
    "    df_dict = {}\n",
    "    filetype = ''\n",
    "\n",
    "    if len(filepath_list) != len(dfname_list):\n",
    "        return \"Error: lists must be of equivalent length.\"\n",
    "    \n",
    "    # loop through each file in the filepath_list\n",
    "    for i, file in enumerate(filepath_list):\n",
    "        \n",
    "        print(f\"Working on {file}...\")\n",
    "        \n",
    "        # figure out the file type to use the appropriate method\n",
    "        if file.split('.')[-1].lower() == 'csv':\n",
    "            filetype='csv'\n",
    "        elif file.split('.')[-1].lower() == 'tsv':\n",
    "            filetype='tsv'\n",
    "        elif file.split('.')[-2].lower() == 'csv':\n",
    "            filetype='csv'\n",
    "        elif file.split('.')[-2].lower() == 'tsv':\n",
    "            filetype='tsv'\n",
    "        else:\n",
    "            # default to CSV if can't determine the file extention\n",
    "            filetype='csv'\n",
    "        \n",
    "        try:\n",
    "            # determine file extension and apply appropriate method to load preview\n",
    "            if filetype == 'tsv':\n",
    "                df_dict[dfname_list[i]] = pd.read_table(file)\n",
    "            else:\n",
    "                # default to CSV if not tsv\n",
    "                df_dict[dfname_list[i]] = pd.read_csv(file) \n",
    "        except:\n",
    "            print(f\"Error encountered and {file} was skipped\")\n",
    "\n",
    "    return df_dict\n",
    "    "
   ]
  },
  {
   "cell_type": "code",
   "execution_count": 9,
   "metadata": {},
   "outputs": [],
   "source": [
    "def filelist_to_dfs_errorh(filepath_list, dfname_list):\n",
    "    \"\"\"Creates a dataframe for each file in the list.\n",
    "    Names each dataframe using the corresponding name list.\n",
    "    \"\"\"\n",
    "    df_dict = {}\n",
    "    filetype = ''\n",
    "    \n",
    "    if len(filepath_list) != len(dfname_list):\n",
    "        return \"Error: lists must be of equivalent length.\"\n",
    "    \n",
    "    # loop through each file in the filepath_list\n",
    "    for i, file in enumerate(filepath_list):\n",
    "        \n",
    "        print(f\"Working on {file}...\")\n",
    "\n",
    "        # figure out the file type to use the appropriate method\n",
    "        if file.split('.')[-1].lower() == 'csv':\n",
    "            filetype='csv'\n",
    "        elif file.split('.')[-1].lower() == 'tsv':\n",
    "            filetype='tsv'\n",
    "        elif file.split('.')[-2].lower() == 'csv':\n",
    "            filetype='csv'\n",
    "        elif file.split('.')[-2].lower() == 'tsv':\n",
    "            filetype='tsv'\n",
    "        else:\n",
    "            # default to CSV if can't determine the file extention\n",
    "            filetype='csv'\n",
    "        \n",
    "        # determine file extension and apply appropriate method to load df\n",
    "        # Credit to https://stackoverflow.com/questions/33440805\n",
    "        #     /pandas-dataframe-read-csv-on-bad-data for handling error rows\n",
    "        if filetype == 'tsv':\n",
    "            df_dict[dfname_list[i]] = pd.read_table(file\n",
    "                                        , error_bad_lines = False\n",
    "                                        , warn_bad_lines = True\n",
    "                                        , encoding='latin1') \n",
    "        else:\n",
    "            # default to CSV if not tsv\n",
    "            df_dict[dfname_list[i]] = pd.read_csv(file\n",
    "                                        , error_bad_lines = False\n",
    "                                        , warn_bad_lines = True\n",
    "                                        , encoding='latin1') \n",
    "\n",
    "    return df_dict\n",
    "    "
   ]
  },
  {
   "cell_type": "code",
   "execution_count": 10,
   "metadata": {},
   "outputs": [],
   "source": [
    "def summarize_cols(df_dict):\n",
    "    \"\"\"Creates a dataframe with df/column summary info.\n",
    "    Takes a dictionary as input, where the key is the name of the df,\n",
    "    and the value is the dataframe itself.\"\"\"\n",
    "    \n",
    "    arr_colsumm = np.array([['df_namekey', 'col_name'\n",
    "                                 , 'col_type', 'col_nan_count'\n",
    "                                 , 'total_rows']])\n",
    "    \n",
    "    for df_key in df_dict.keys():\n",
    "        # append each column's info to the array\n",
    "        for col in df_dict[df_key].columns:\n",
    "            arr_colsumm = np.append(arr_colsumm\n",
    "               , [[df_key\n",
    "                 , col\n",
    "                 , df_dict[df_key][col].dtype\n",
    "                 , df_dict[df_key][col].isna().sum()\n",
    "                 , len(df_dict[df_key])]], axis=0)\n",
    "\n",
    "    df_colsumm = pd.DataFrame(arr_colsumm[1:], columns=arr_colsumm[0])\n",
    "    \n",
    "    return df_colsumm"
   ]
  },
  {
   "cell_type": "code",
   "execution_count": 11,
   "metadata": {},
   "outputs": [],
   "source": [
    "files = ['bom.movie_gross.csv.gz'\n",
    "         ,'imdb.title.ratings.csv.gz'\n",
    "         ,'imdb.name.basics.csv.gz'\n",
    "         ,'rt.movie_info.tsv.gz'\n",
    "         ,'imdb.title.akas.csv.gz'\n",
    "         ,'rt.reviews.tsv.gz'\n",
    "         ,'imdb.title.basics.csv.gz'\n",
    "         ,'tmdb.movies.csv.gz'\n",
    "         ,'imdb.title.crew.csv.gz'\n",
    "         ,'tn.movie_budgets.csv.gz'\n",
    "         ,'imdb.title.principals.csv.gz']\n",
    "\n",
    "df_names = ['df_bom_gross'\n",
    "         ,'df_imdb_ratings'\n",
    "         ,'df_imdb_namebasics'\n",
    "         ,'df_rt_movie_info'\n",
    "         ,'df_imdb_akas'\n",
    "         ,'df_rt_reviews'\n",
    "         ,'df_imdb_basics'\n",
    "         ,'df_tmdb_movies'\n",
    "         ,'df_imdb_crew'\n",
    "         ,'df_tn_budgets'\n",
    "         ,'df_imdb_principals']"
   ]
  },
  {
   "cell_type": "markdown",
   "metadata": {},
   "source": [
    "### Initial preview of first 10 rows of each file\n",
    "\n",
    "First, I loaded only the first 10 rows of each file into a dataframe and displayed the `head()`. This function also counts the total lines in each file.\n",
    "\n",
    "I reviewed the results from each file to understand what information they contain. In terms of what I'm hoping for, I'm not sure whether I have sufficient data to calculate the actual profit. Ideally, I would like the profit calculation to be something like:\n",
    "\n",
    "sum(box office gross, streaming revenue, VOD revenue, merchandising revenue)\n",
    "\n",
    "minus\n",
    "\n",
    "\n",
    "sum(production actual costs, advertising spend, theaters' cut)"
   ]
  },
  {
   "cell_type": "code",
   "execution_count": 12,
   "metadata": {
    "scrolled": true
   },
   "outputs": [],
   "source": [
    "#[preview_csvtsv(file, 10) for file in files]"
   ]
  },
  {
   "cell_type": "markdown",
   "metadata": {},
   "source": [
    "### Import files into data frames and summarize columns\n",
    "\n",
    "Next, I ran a function that attempts to actually import the full files into data frames. It returns a dictionary with the keys being the df names I specified, and the values being the dataframes themselves.\n",
    "\n",
    "One of the 'tsv' files from Rotten Tomatoes encountered errors while importing, although there were no errors with the initial 10-row preview. I was able to run through another function that has more error handling, and adjust the encoding to get a good import.\n",
    "\n",
    "Finally, I ran the dictionary of dataframes through a function which summarizes the columns. I think this will help me see which columns I have."
   ]
  },
  {
   "cell_type": "code",
   "execution_count": 13,
   "metadata": {
    "scrolled": true
   },
   "outputs": [
    {
     "name": "stdout",
     "output_type": "stream",
     "text": [
      "Working on bom.movie_gross.csv.gz...\n",
      "Working on imdb.title.ratings.csv.gz...\n",
      "Working on imdb.name.basics.csv.gz...\n",
      "Working on rt.movie_info.tsv.gz...\n",
      "Working on imdb.title.akas.csv.gz...\n",
      "Working on rt.reviews.tsv.gz...\n",
      "Error encountered and rt.reviews.tsv.gz was skipped\n",
      "Working on imdb.title.basics.csv.gz...\n",
      "Working on tmdb.movies.csv.gz...\n",
      "Working on imdb.title.crew.csv.gz...\n",
      "Working on tn.movie_budgets.csv.gz...\n",
      "Working on imdb.title.principals.csv.gz...\n"
     ]
    },
    {
     "data": {
      "text/plain": [
       "dict_keys(['df_bom_gross', 'df_imdb_ratings', 'df_imdb_namebasics', 'df_rt_movie_info', 'df_imdb_akas', 'df_imdb_basics', 'df_tmdb_movies', 'df_imdb_crew', 'df_tn_budgets', 'df_imdb_principals'])"
      ]
     },
     "execution_count": 13,
     "metadata": {},
     "output_type": "execute_result"
    }
   ],
   "source": [
    "df_dict = filelist_to_dfs_prelim(files, df_names)\n",
    "df_dict.keys()"
   ]
  },
  {
   "cell_type": "code",
   "execution_count": 14,
   "metadata": {
    "scrolled": false
   },
   "outputs": [
    {
     "name": "stdout",
     "output_type": "stream",
     "text": [
      "Working on rt.reviews.tsv.gz...\n"
     ]
    },
    {
     "data": {
      "text/plain": [
       "dict_keys(['df_rt_reviews'])"
      ]
     },
     "execution_count": 14,
     "metadata": {},
     "output_type": "execute_result"
    }
   ],
   "source": [
    "df_dict2 = filelist_to_dfs_errorh(['rt.reviews.tsv.gz'], ['df_rt_reviews'])\n",
    "df_dict2.keys()"
   ]
  },
  {
   "cell_type": "code",
   "execution_count": 15,
   "metadata": {
    "scrolled": true
   },
   "outputs": [
    {
     "data": {
      "text/html": [
       "<div>\n",
       "<style scoped>\n",
       "    .dataframe tbody tr th:only-of-type {\n",
       "        vertical-align: middle;\n",
       "    }\n",
       "\n",
       "    .dataframe tbody tr th {\n",
       "        vertical-align: top;\n",
       "    }\n",
       "\n",
       "    .dataframe thead th {\n",
       "        text-align: right;\n",
       "    }\n",
       "</style>\n",
       "<table border=\"1\" class=\"dataframe\">\n",
       "  <thead>\n",
       "    <tr style=\"text-align: right;\">\n",
       "      <th></th>\n",
       "      <th>id</th>\n",
       "      <th>review</th>\n",
       "      <th>rating</th>\n",
       "      <th>fresh</th>\n",
       "      <th>critic</th>\n",
       "      <th>top_critic</th>\n",
       "      <th>publisher</th>\n",
       "      <th>date</th>\n",
       "    </tr>\n",
       "  </thead>\n",
       "  <tbody>\n",
       "    <tr>\n",
       "      <th>0</th>\n",
       "      <td>3</td>\n",
       "      <td>A distinctly gallows take on contemporary fina...</td>\n",
       "      <td>3/5</td>\n",
       "      <td>fresh</td>\n",
       "      <td>PJ Nabarro</td>\n",
       "      <td>0</td>\n",
       "      <td>Patrick Nabarro</td>\n",
       "      <td>November 10, 2018</td>\n",
       "    </tr>\n",
       "    <tr>\n",
       "      <th>1</th>\n",
       "      <td>3</td>\n",
       "      <td>It's an allegory in search of a meaning that n...</td>\n",
       "      <td>NaN</td>\n",
       "      <td>rotten</td>\n",
       "      <td>Annalee Newitz</td>\n",
       "      <td>0</td>\n",
       "      <td>io9.com</td>\n",
       "      <td>May 23, 2018</td>\n",
       "    </tr>\n",
       "    <tr>\n",
       "      <th>2</th>\n",
       "      <td>3</td>\n",
       "      <td>... life lived in a bubble in financial dealin...</td>\n",
       "      <td>NaN</td>\n",
       "      <td>fresh</td>\n",
       "      <td>Sean Axmaker</td>\n",
       "      <td>0</td>\n",
       "      <td>Stream on Demand</td>\n",
       "      <td>January 4, 2018</td>\n",
       "    </tr>\n",
       "    <tr>\n",
       "      <th>3</th>\n",
       "      <td>3</td>\n",
       "      <td>Continuing along a line introduced in last yea...</td>\n",
       "      <td>NaN</td>\n",
       "      <td>fresh</td>\n",
       "      <td>Daniel Kasman</td>\n",
       "      <td>0</td>\n",
       "      <td>MUBI</td>\n",
       "      <td>November 16, 2017</td>\n",
       "    </tr>\n",
       "    <tr>\n",
       "      <th>4</th>\n",
       "      <td>3</td>\n",
       "      <td>... a perverse twist on neorealism...</td>\n",
       "      <td>NaN</td>\n",
       "      <td>fresh</td>\n",
       "      <td>NaN</td>\n",
       "      <td>0</td>\n",
       "      <td>Cinema Scope</td>\n",
       "      <td>October 12, 2017</td>\n",
       "    </tr>\n",
       "    <tr>\n",
       "      <th>...</th>\n",
       "      <td>...</td>\n",
       "      <td>...</td>\n",
       "      <td>...</td>\n",
       "      <td>...</td>\n",
       "      <td>...</td>\n",
       "      <td>...</td>\n",
       "      <td>...</td>\n",
       "      <td>...</td>\n",
       "    </tr>\n",
       "    <tr>\n",
       "      <th>54427</th>\n",
       "      <td>2000</td>\n",
       "      <td>The real charm of this trifle is the deadpan c...</td>\n",
       "      <td>NaN</td>\n",
       "      <td>fresh</td>\n",
       "      <td>Laura Sinagra</td>\n",
       "      <td>1</td>\n",
       "      <td>Village Voice</td>\n",
       "      <td>September 24, 2002</td>\n",
       "    </tr>\n",
       "    <tr>\n",
       "      <th>54428</th>\n",
       "      <td>2000</td>\n",
       "      <td>NaN</td>\n",
       "      <td>1/5</td>\n",
       "      <td>rotten</td>\n",
       "      <td>Michael Szymanski</td>\n",
       "      <td>0</td>\n",
       "      <td>Zap2it.com</td>\n",
       "      <td>September 21, 2005</td>\n",
       "    </tr>\n",
       "    <tr>\n",
       "      <th>54429</th>\n",
       "      <td>2000</td>\n",
       "      <td>NaN</td>\n",
       "      <td>2/5</td>\n",
       "      <td>rotten</td>\n",
       "      <td>Emanuel Levy</td>\n",
       "      <td>0</td>\n",
       "      <td>EmanuelLevy.Com</td>\n",
       "      <td>July 17, 2005</td>\n",
       "    </tr>\n",
       "    <tr>\n",
       "      <th>54430</th>\n",
       "      <td>2000</td>\n",
       "      <td>NaN</td>\n",
       "      <td>2.5/5</td>\n",
       "      <td>rotten</td>\n",
       "      <td>Christopher Null</td>\n",
       "      <td>0</td>\n",
       "      <td>Filmcritic.com</td>\n",
       "      <td>September 7, 2003</td>\n",
       "    </tr>\n",
       "    <tr>\n",
       "      <th>54431</th>\n",
       "      <td>2000</td>\n",
       "      <td>NaN</td>\n",
       "      <td>3/5</td>\n",
       "      <td>fresh</td>\n",
       "      <td>Nicolas Lacroix</td>\n",
       "      <td>0</td>\n",
       "      <td>Showbizz.net</td>\n",
       "      <td>November 12, 2002</td>\n",
       "    </tr>\n",
       "  </tbody>\n",
       "</table>\n",
       "<p>54432 rows × 8 columns</p>\n",
       "</div>"
      ],
      "text/plain": [
       "         id                                             review rating   fresh  \\\n",
       "0         3  A distinctly gallows take on contemporary fina...    3/5   fresh   \n",
       "1         3  It's an allegory in search of a meaning that n...    NaN  rotten   \n",
       "2         3  ... life lived in a bubble in financial dealin...    NaN   fresh   \n",
       "3         3  Continuing along a line introduced in last yea...    NaN   fresh   \n",
       "4         3             ... a perverse twist on neorealism...     NaN   fresh   \n",
       "...     ...                                                ...    ...     ...   \n",
       "54427  2000  The real charm of this trifle is the deadpan c...    NaN   fresh   \n",
       "54428  2000                                                NaN    1/5  rotten   \n",
       "54429  2000                                                NaN    2/5  rotten   \n",
       "54430  2000                                                NaN  2.5/5  rotten   \n",
       "54431  2000                                                NaN    3/5   fresh   \n",
       "\n",
       "                  critic  top_critic         publisher                date  \n",
       "0             PJ Nabarro           0   Patrick Nabarro   November 10, 2018  \n",
       "1         Annalee Newitz           0           io9.com        May 23, 2018  \n",
       "2           Sean Axmaker           0  Stream on Demand     January 4, 2018  \n",
       "3          Daniel Kasman           0              MUBI   November 16, 2017  \n",
       "4                    NaN           0      Cinema Scope    October 12, 2017  \n",
       "...                  ...         ...               ...                 ...  \n",
       "54427      Laura Sinagra           1     Village Voice  September 24, 2002  \n",
       "54428  Michael Szymanski           0        Zap2it.com  September 21, 2005  \n",
       "54429       Emanuel Levy           0   EmanuelLevy.Com       July 17, 2005  \n",
       "54430   Christopher Null           0    Filmcritic.com   September 7, 2003  \n",
       "54431    Nicolas Lacroix           0      Showbizz.net   November 12, 2002  \n",
       "\n",
       "[54432 rows x 8 columns]"
      ]
     },
     "execution_count": 15,
     "metadata": {},
     "output_type": "execute_result"
    }
   ],
   "source": [
    "df_dict2['df_rt_reviews']"
   ]
  },
  {
   "cell_type": "code",
   "execution_count": 16,
   "metadata": {
    "scrolled": true
   },
   "outputs": [
    {
     "data": {
      "text/plain": [
       "dict_keys(['df_bom_gross', 'df_imdb_ratings', 'df_imdb_namebasics', 'df_rt_movie_info', 'df_imdb_akas', 'df_imdb_basics', 'df_tmdb_movies', 'df_imdb_crew', 'df_tn_budgets', 'df_imdb_principals', 'df_rt_reviews'])"
      ]
     },
     "execution_count": 16,
     "metadata": {},
     "output_type": "execute_result"
    }
   ],
   "source": [
    "# Merge dict of clean dfs with the dict of dfs that had errors\n",
    "df_dict.update(df_dict2)\n",
    "df_dict.keys()"
   ]
  },
  {
   "cell_type": "markdown",
   "metadata": {},
   "source": [
    "### Create a summary of the columns in each table\n",
    "\n",
    "Export this summary to a CSV file so I can make outside notes."
   ]
  },
  {
   "cell_type": "code",
   "execution_count": 17,
   "metadata": {},
   "outputs": [],
   "source": [
    "df_colsumm = summarize_cols(df_dict)\n",
    "#df_colsumm.to_csv('column_summary.csv',index=False)"
   ]
  },
  {
   "cell_type": "markdown",
   "metadata": {},
   "source": [
    "# SQL Ingestion for deeper analysis\n",
    "\n",
    "I will create a SQLlite database and import the files I intend to use in my analysis into tables. I think this will be the best way to clean the data and save my changes outside of the Jupyter Notebook without a lot of file import/export.\n",
    "\n",
    "I will be making notes for what I want to transform, date ranges, etc for each table and column outside of this notebook, and then will find a good way to get the information back in. This mostly saves me from scrolling up and down and makes it easier to take notes without worrying about formatting."
   ]
  },
  {
   "cell_type": "markdown",
   "metadata": {},
   "source": [
    "## Create New SQLLite database"
   ]
  },
  {
   "cell_type": "code",
   "execution_count": 23,
   "metadata": {
    "scrolled": true
   },
   "outputs": [
    {
     "name": "stdout",
     "output_type": "stream",
     "text": [
      "/Users/jessicamiles/Documents/Flatiron_Data_Science/git_labs_lessons/phase1/dsc-phase-1-project\n"
     ]
    }
   ],
   "source": [
    "cd .."
   ]
  },
  {
   "cell_type": "code",
   "execution_count": 24,
   "metadata": {
    "scrolled": true
   },
   "outputs": [
    {
     "name": "stdout",
     "output_type": "stream",
     "text": [
      "/Users/jessicamiles/Documents/Flatiron_Data_Science/git_labs_lessons/phase1/dsc-phase-1-project/analysis\n"
     ]
    }
   ],
   "source": [
    "cd analysis"
   ]
  },
  {
   "cell_type": "code",
   "execution_count": 26,
   "metadata": {},
   "outputs": [],
   "source": [
    "# Create new database (or conenct to it, later)\n",
    "conn = sqlite3.connect('movie_analysis.db')\n",
    "cur = conn.cursor()"
   ]
  },
  {
   "cell_type": "code",
   "execution_count": 30,
   "metadata": {
    "scrolled": false
   },
   "outputs": [
    {
     "data": {
      "text/html": [
       "<div>\n",
       "<style scoped>\n",
       "    .dataframe tbody tr th:only-of-type {\n",
       "        vertical-align: middle;\n",
       "    }\n",
       "\n",
       "    .dataframe tbody tr th {\n",
       "        vertical-align: top;\n",
       "    }\n",
       "\n",
       "    .dataframe thead th {\n",
       "        text-align: right;\n",
       "    }\n",
       "</style>\n",
       "<table border=\"1\" class=\"dataframe\">\n",
       "  <thead>\n",
       "    <tr style=\"text-align: right;\">\n",
       "      <th></th>\n",
       "      <th>id</th>\n",
       "      <th>release_date</th>\n",
       "      <th>movie</th>\n",
       "      <th>production_budget</th>\n",
       "      <th>domestic_gross</th>\n",
       "      <th>worldwide_gross</th>\n",
       "    </tr>\n",
       "  </thead>\n",
       "  <tbody>\n",
       "    <tr>\n",
       "      <th>0</th>\n",
       "      <td>1</td>\n",
       "      <td>Dec 18, 2009</td>\n",
       "      <td>Avatar</td>\n",
       "      <td>$425,000,000</td>\n",
       "      <td>$760,507,625</td>\n",
       "      <td>$2,776,345,279</td>\n",
       "    </tr>\n",
       "    <tr>\n",
       "      <th>1</th>\n",
       "      <td>2</td>\n",
       "      <td>May 20, 2011</td>\n",
       "      <td>Pirates of the Caribbean: On Stranger Tides</td>\n",
       "      <td>$410,600,000</td>\n",
       "      <td>$241,063,875</td>\n",
       "      <td>$1,045,663,875</td>\n",
       "    </tr>\n",
       "    <tr>\n",
       "      <th>2</th>\n",
       "      <td>3</td>\n",
       "      <td>Jun 7, 2019</td>\n",
       "      <td>Dark Phoenix</td>\n",
       "      <td>$350,000,000</td>\n",
       "      <td>$42,762,350</td>\n",
       "      <td>$149,762,350</td>\n",
       "    </tr>\n",
       "    <tr>\n",
       "      <th>3</th>\n",
       "      <td>4</td>\n",
       "      <td>May 1, 2015</td>\n",
       "      <td>Avengers: Age of Ultron</td>\n",
       "      <td>$330,600,000</td>\n",
       "      <td>$459,005,868</td>\n",
       "      <td>$1,403,013,963</td>\n",
       "    </tr>\n",
       "    <tr>\n",
       "      <th>4</th>\n",
       "      <td>5</td>\n",
       "      <td>Dec 15, 2017</td>\n",
       "      <td>Star Wars Ep. VIII: The Last Jedi</td>\n",
       "      <td>$317,000,000</td>\n",
       "      <td>$620,181,382</td>\n",
       "      <td>$1,316,721,747</td>\n",
       "    </tr>\n",
       "  </tbody>\n",
       "</table>\n",
       "</div>"
      ],
      "text/plain": [
       "   id  release_date                                        movie  \\\n",
       "0   1  Dec 18, 2009                                       Avatar   \n",
       "1   2  May 20, 2011  Pirates of the Caribbean: On Stranger Tides   \n",
       "2   3   Jun 7, 2019                                 Dark Phoenix   \n",
       "3   4   May 1, 2015                      Avengers: Age of Ultron   \n",
       "4   5  Dec 15, 2017            Star Wars Ep. VIII: The Last Jedi   \n",
       "\n",
       "  production_budget domestic_gross worldwide_gross  \n",
       "0      $425,000,000   $760,507,625  $2,776,345,279  \n",
       "1      $410,600,000   $241,063,875  $1,045,663,875  \n",
       "2      $350,000,000    $42,762,350    $149,762,350  \n",
       "3      $330,600,000   $459,005,868  $1,403,013,963  \n",
       "4      $317,000,000   $620,181,382  $1,316,721,747  "
      ]
     },
     "execution_count": 30,
     "metadata": {},
     "output_type": "execute_result"
    }
   ],
   "source": [
    "# Starting with the The Numbers data set, as profit is first analysis\n",
    "# I want to tackle\n",
    "\n",
    "# Get the column info\n",
    "df_dict['df_tn_budgets'].head()"
   ]
  },
  {
   "cell_type": "markdown",
   "metadata": {},
   "source": [
    "## Wait is this data any good??"
   ]
  },
  {
   "cell_type": "markdown",
   "metadata": {},
   "source": [
    "Trying to determine whether the budget will always be in US dollars, whether it is adjusted for inflation, et. Trying to confirm whether domestic gross and worldwide gross include more than box office?\n",
    "\n",
    "Interstingly, when I look up Avatar on The Numbers, the figures don't match what I see here.\n",
    "https://www.the-numbers.com/movie/Avatar#tab=summary\n",
    "\n",
    "Gross numbers more or less match what I see under box office, so I think those are box office only.\n",
    "\n",
    "But production budget is only 237 compared to $425 MM that I see in my table.\n",
    "\n",
    "I tried their movie comparison tool which lets you compare movies and adjust for inflation, and I'm not sure where the $425 MM is coming from, It's not just inflation. With inflation adjustment Avatar's budget is still only 289 million. https://www.the-numbers.com/movies/custom-comparisons/Avatar/Titanic-(1997)?mode=actuals#tab=day_by_day_comparison"
   ]
  },
  {
   "cell_type": "markdown",
   "metadata": {},
   "source": [
    "Looking deeper at source which have APIs, The Movie Database has a free API with NO rate limiting.\n",
    "\n",
    "I spot checked Avatar and Titanic across The Numbers and the revenue and budget are roughly equivalent (The Numbers had slightly higher revenue so may be more up to date than TMDb but pretty close.\n",
    "\n",
    "Going to try getting the data from TMDB. Bonus is that my Watchmode data has TMDB ID, so I can easily join them."
   ]
  },
  {
   "cell_type": "code",
   "execution_count": null,
   "metadata": {},
   "outputs": [],
   "source": []
  },
  {
   "cell_type": "markdown",
   "metadata": {},
   "source": [
    "# Initial Analysis Notes and thoughts:\n",
    "The question I am asked to investigate is: \"which movies are doing best at the box office?\" But if the business goal is successfully entering the movie-making market, this question is only one of many we should ask and answer to determine the best approach.\n",
    "\n",
    "Considering only the past earnings from box office sales is unlikely to be a good predictor of successful movies in the future. Even if we were to use only the past few years of data, the business model is rapidly changing. With the rise of streaming, many movies aren't released in theaters at all anymore, and the future of movie theaters has become especially uncertain due to the Covid-19 pandemic. \n",
    "\n",
    "The attributes of movies that are the most successful in the theaters may vary from the attributes of movies that are most successful when released only on streaming platforms. The reasons why people may choose to go and watch a movie in the theaters will be different from the reasons people choose to stream a movie: theaters offer an event-like experience with the very large screen and loud surround sound, whereas viewers streaming movies watch them in their homes. \n",
    "\n",
    "It's unclear whether the entire business model of creating movies for streaming services differs from the traditional model. "
   ]
  },
  {
   "cell_type": "markdown",
   "metadata": {},
   "source": [
    "## Look deeper into what we have in each data set\n",
    "\n",
    "Answer questions such as:\n",
    "- What information is in each data set? Does any single data set have everything you need, or do you need to figure out how to join data sets?\n",
    "- What is the range of release years in each data set? Which have the most data?\n",
    "- What data points do I want to focus on in each data set, and what can I discard/disregard? This will narrow down the data I intend to clean up.\n",
    "\n",
    "1. Monetary stuff in The Numbers data set - box office gross and budget. Look at changes over time to attempt to identify trends.\n",
    "    - Is there a sweet spot in terms of a  budget range to maximize profit? Are there diminishing returns?\n",
    "    - Do we see any trends in profits over time? Has the distribution of profits coming from domestic versus foreign changed over time?\n",
    "2. What are the attributes of the most profitable movies? Do they get higher critical ratings? Is there a certain sweet spot for runtime length? How about MPAA ratings? Genres? Release month?\n",
    "    - Should the studio focus on making movies that make critics happy to maximize profits?\n",
    "3. What can we learn about the contributors to movies? If we look at the writers, directors, producers on the most profitable movies, then look at other movies they were in, do we see any patterns? How about the actors and actresses? Do more experienced contributors (those who have worked on x amount of movies prior) create a more profitable product?\n",
    "    - Should Microsoft focus on hiring certain types of talent? Should they consider paying a premium for more famous actors or directors?\n"
   ]
  },
  {
   "cell_type": "markdown",
   "metadata": {},
   "source": [
    "## Measures of successful movies include:\n",
    "\n",
    "|Measure|Have it?|Where|Notes|\n",
    "|---|---|---|---|\n",
    "|Gross earnings (box office only)|Yes|bom.movie_gross.csv.gz, tn.movie_budgets.csv.gz, rt_movie_info|BOM splits into foreign and domestic. TN has the most records, AND prod budget. RT has only 1500.|\n",
    "|Net box office earnings after subtracting costs|Some|Can calculate from gross - production budget|Other data sets have gross box office earnings but not production budget|df_tn_budget|\n",
    "|Merchandising earnings|No|---|---|\n",
    "|Gross earnings from other sources, such as streaming, rentals|No|---|\n",
    "|High ratings from professional movie reviewers|Yes|rt.reviews.tsv.gz|RT is the only data set with critical reviews|\n",
    "|High ratings from viewers|Yes|imdb.title.ratings.csv.gz, tmdb.movies.csv.gz|I think the tmdb ratings are users not critics|\n",
    "|Being nominated for and winning awards|No|---|\n",
    "|---|---|---|\n",
    " \n",
    "Microsoft will need to decide which measures of success are most important. Given its primary business is profitable and in a totally different economic sector, it may decide to treat the foray into film as a way to keep the brand feeling \"cool\" to consumers. If that's the case, measures of success such as ratings and award nominations may be weighted more heavily than profit."
   ]
  },
  {
   "cell_type": "markdown",
   "metadata": {},
   "source": [
    "## Potential Independent Variables\n",
    "Reasons why certain movies may be more successful than others (independent variables) include:\n",
    "\n",
    "|Independent Variable|Have it?|Where|Notes|\n",
    "|---|---|---|---|\n",
    "|Budget - i.e. how much money they spent making it|Yes|tn.movie_budgets.csv.gz|\n",
    "|Genre (action, drama, comedy, etc)|Yes|imdb.title.basics.csv.gz|\n",
    "|Well-known and loved actors being in them|Yes, ish|imdb.name.basics.csv.gz, imdb.title.principals.csv.gz|Join tables to figure out who did what|\n",
    "|Well-known and loved writers, directors, and other creators|Yes|imdb.name.basics.csv.gz,imdb.title.crew.csv.gz||\n",
    "|Seasonality (combination of topic and release date)|No|---|\n",
    "|Whether the movie is part of a series or franchise|Can get|---|Perhaps if based on a book or comic book? https://www.the-numbers.com/movies/franchises|\n",
    "|Month of release|Yes|tmdb.movies.csv.gz|\n",
    "|Method of release (in theaters only, straight to streaming, etc)|No|---|\n",
    "|MPAA Rating|Yes|rt.movie_info.tsv.gz|\n",
    "|Runtime length|Yes|rt.movie_info.tsv.gz, imdb.title.basics.csv.gz|\n",
    "|Semantic characteristics of the title|Yes|imdb.title.akas.csv.gz|---|\n",
    "|Semantic characteristics of the official synopsis|Yes|rt.movie_info.tsv.gz|---|\n",
    "\n"
   ]
  },
  {
   "cell_type": "markdown",
   "metadata": {},
   "source": [
    "## Potential Trends to Consider\n",
    "- Has there been any change in the popularity of movies directed by different categories of people? For instance, are movies written or directed by women becoming more popular over time?\n",
    "- How is the method of release changing over time?\n",
    "- Are budgets changing over time? Is the change in line with inflation, or changing at a higher rate?\n",
    "- Is the general profitability changing over time? Should Microsoft rethink getting into movies if the profit margins are getting slimmer and slimmer?\n",
    "- How many very successful movies are made by smaller, independent studios? How long have the most successful studios been established?\n",
    "- Is there a really big gap between the highest earners / most popular and the average? Do the movies we consider successful stand way out from the pack? What's the standard deviation?"
   ]
  },
  {
   "cell_type": "markdown",
   "metadata": {},
   "source": [
    "## Sources used for research\n",
    "- In general, major studios don’t disclose the full budgets for their films (production, development, marketing, and advertising).[1]\n",
    "- In addition to the cost of production, the gross box office earnings don't factor in that the theaters keep a cut of the ticket sales. It's hard to know what the production company actually gets.[1]\n",
    "- The movie industry is rather famously difficult to predict accurately. Many have tried, but it's difficult to do. [2]\n",
    "- One hit can pay for a lot of flops [2]\n",
    "- Many of the existing production companies have been around for a long time [2]\n",
    "-\"Because it’s harder to get financing and audiences, companies are competing to make bigger, costlier films while eliminating risk, which is why ever-more movies are based on existing intellectual property. Eighteen of the all-time 100 top-grossing movies (adjusted for inflation) were sequels, and more than half of those were released since 2000.\" [2]\n",
    "\n",
    "\n",
    "[1]: Source = https://www.investopedia.com/articles/investing/093015/how-exactly-do-movies-make-money.asp#:~:text=VOD%20revenues%20tend%20to%20dry,audiences%20away%20from%20traditional%20movies Accessed on 3/12/2021.\n",
    "\n",
    "[2] Source = https://www.nytimes.com/2012/07/01/magazine/how-does-the-film-industry-actually-make-money.html Accessed 3/12/2021.\n",
    "\n",
    " "
   ]
  },
  {
   "cell_type": "code",
   "execution_count": null,
   "metadata": {},
   "outputs": [],
   "source": []
  }
 ],
 "metadata": {
  "kernelspec": {
   "display_name": "learn-env",
   "language": "python",
   "name": "learn-env"
  },
  "language_info": {
   "codemirror_mode": {
    "name": "ipython",
    "version": 3
   },
   "file_extension": ".py",
   "mimetype": "text/x-python",
   "name": "python",
   "nbconvert_exporter": "python",
   "pygments_lexer": "ipython3",
   "version": "3.8.5"
  },
  "toc": {
   "base_numbering": 1,
   "nav_menu": {},
   "number_sections": true,
   "sideBar": true,
   "skip_h1_title": false,
   "title_cell": "Table of Contents",
   "title_sidebar": "Contents",
   "toc_cell": false,
   "toc_position": {},
   "toc_section_display": true,
   "toc_window_display": true
  },
  "varInspector": {
   "cols": {
    "lenName": 16,
    "lenType": 16,
    "lenVar": 40
   },
   "kernels_config": {
    "python": {
     "delete_cmd_postfix": "",
     "delete_cmd_prefix": "del ",
     "library": "var_list.py",
     "varRefreshCmd": "print(var_dic_list())"
    },
    "r": {
     "delete_cmd_postfix": ") ",
     "delete_cmd_prefix": "rm(",
     "library": "var_list.r",
     "varRefreshCmd": "cat(var_dic_list()) "
    }
   },
   "types_to_exclude": [
    "module",
    "function",
    "builtin_function_or_method",
    "instance",
    "_Feature"
   ],
   "window_display": false
  }
 },
 "nbformat": 4,
 "nbformat_minor": 2
}
