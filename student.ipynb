{
 "cells": [
  {
   "cell_type": "markdown",
   "metadata": {},
   "source": [
    "## Final Project Submission\n",
    "\n",
    "Please fill out:\n",
    "* Student name: \n",
    "* Student pace: self paced / part time / full time\n",
    "* Scheduled project review date/time: \n",
    "* Instructor name: \n",
    "* Blog post URL:\n"
   ]
  },
  {
   "cell_type": "code",
   "execution_count": 153,
   "metadata": {},
   "outputs": [],
   "source": [
    "import pandas as pd\n",
    "import numpy as np\n",
    "import sqlite3\n",
    "import json\n",
    "import pickle"
   ]
  },
  {
   "cell_type": "markdown",
   "metadata": {},
   "source": [
    "# Initial data investigation"
   ]
  },
  {
   "cell_type": "code",
   "execution_count": 5,
   "metadata": {},
   "outputs": [
    {
     "name": "stdout",
     "output_type": "stream",
     "text": [
      "[Errno 2] No such file or directory: 'zippedData'\n",
      "/Users/jessicamiles/Documents/Flatiron_Data_Science/git_labs_lessons/phase1/dsc-phase-1-project/zippedData\n"
     ]
    }
   ],
   "source": [
    "cd zippedData"
   ]
  },
  {
   "cell_type": "code",
   "execution_count": 6,
   "metadata": {
    "scrolled": false
   },
   "outputs": [
    {
     "name": "stdout",
     "output_type": "stream",
     "text": [
      "bom.movie_gross.csv.gz        imdb.title.principals.csv.gz\r\n",
      "column_summary.csv            imdb.title.ratings.csv.gz\r\n",
      "imdb.name.basics.csv.gz       rt.movie_info.tsv.gz\r\n",
      "imdb.title.akas.csv.gz        rt.reviews.tsv.gz\r\n",
      "imdb.title.basics.csv.gz      tmdb.movies.csv.gz\r\n",
      "imdb.title.crew.csv.gz        tn.movie_budgets.csv.gz\r\n"
     ]
    }
   ],
   "source": [
    "ls"
   ]
  },
  {
   "cell_type": "code",
   "execution_count": 7,
   "metadata": {},
   "outputs": [],
   "source": [
    "def preview_csvtsv(filepath, row_count):\n",
    "    \"\"\"Create a dataframe of initial n rows from file as a preview.\n",
    "    Supports either csv or tsv file formats, and files compressed as gz.\n",
    "    File format and gz detected using file extensions.\n",
    "    Prints a preview dataframe of the file, the preview's head(), \n",
    "    and the total number of rows.\n",
    "    \"\"\"\n",
    "    import gzip\n",
    "    is_gz = False\n",
    "    \n",
    "    print(f\"\"\"--------------------------------------------------\n",
    "    File: {filepath}\n",
    "    --------------------------------------------------\"\"\")\n",
    "    \n",
    "    # determine file extension(s)\n",
    "    if filepath.split('.')[-1].lower() == 'csv':\n",
    "        filetype='csv'\n",
    "    elif filepath.split('.')[-1].lower() == 'tsv':\n",
    "        filetype='tsv'\n",
    "    elif filepath.split('.')[-1].lower() == 'gz':\n",
    "        # if we have a gz file, get second to last element\n",
    "        is_gz = True\n",
    "        if filepath.split('.')[-2].lower() == 'csv':\n",
    "            filetype='csv'\n",
    "        elif filepath.split('.')[-2].lower() == 'tsv':\n",
    "            filetype='tsv'\n",
    "    else:\n",
    "        # default to CSV if can't determine the file extention\n",
    "        filetype='csv'\n",
    "    \n",
    "    # Process file based on extension. \n",
    "    # Pandas doesn't care if the file is a gz compressed\n",
    "    if filetype == 'csv':\n",
    "        df_test = pd.read_csv(filepath, nrows=row_count)\n",
    "    elif filetype == 'tsv':\n",
    "        df_test = pd.read_table(filepath, nrows=row_count)\n",
    "\n",
    "    num_lines = 0\n",
    "    \n",
    "    # get line count. This differs based on if the file is gz or not\n",
    "    if is_gz:\n",
    "        for line in gzip.open(filepath):\n",
    "            num_lines += 1\n",
    "    else:\n",
    "        for line in open(filepath):\n",
    "            num_lines += 1\n",
    "    \n",
    "    display(df_test.head())\n",
    "    display(df_test.info())\n",
    "    print(f\"\\nFile contains {num_lines} total lines, including header.\")\n",
    "    print('\\n\\n\\n')\n",
    "    \n",
    "    pass"
   ]
  },
  {
   "cell_type": "code",
   "execution_count": 8,
   "metadata": {},
   "outputs": [],
   "source": [
    "def filelist_to_dfs_prelim(filepath_list, dfname_list):\n",
    "    \"\"\"Creates a dataframe for each file in the list.\n",
    "    Names each dataframe using the corresponding name list.\n",
    "    \"\"\"\n",
    "    df_dict = {}\n",
    "    filetype = ''\n",
    "\n",
    "    if len(filepath_list) != len(dfname_list):\n",
    "        return \"Error: lists must be of equivalent length.\"\n",
    "    \n",
    "    # loop through each file in the filepath_list\n",
    "    for i, file in enumerate(filepath_list):\n",
    "        \n",
    "        print(f\"Working on {file}...\")\n",
    "        \n",
    "        # figure out the file type to use the appropriate method\n",
    "        if file.split('.')[-1].lower() == 'csv':\n",
    "            filetype='csv'\n",
    "        elif file.split('.')[-1].lower() == 'tsv':\n",
    "            filetype='tsv'\n",
    "        elif file.split('.')[-2].lower() == 'csv':\n",
    "            filetype='csv'\n",
    "        elif file.split('.')[-2].lower() == 'tsv':\n",
    "            filetype='tsv'\n",
    "        else:\n",
    "            # default to CSV if can't determine the file extention\n",
    "            filetype='csv'\n",
    "        \n",
    "        try:\n",
    "            # determine file extension and apply appropriate method to load preview\n",
    "            if filetype == 'tsv':\n",
    "                df_dict[dfname_list[i]] = pd.read_table(file)\n",
    "            else:\n",
    "                # default to CSV if not tsv\n",
    "                df_dict[dfname_list[i]] = pd.read_csv(file) \n",
    "        except:\n",
    "            print(f\"Error encountered and {file} was skipped\")\n",
    "\n",
    "    return df_dict\n",
    "    "
   ]
  },
  {
   "cell_type": "code",
   "execution_count": 9,
   "metadata": {},
   "outputs": [],
   "source": [
    "def filelist_to_dfs_errorh(filepath_list, dfname_list):\n",
    "    \"\"\"Creates a dataframe for each file in the list.\n",
    "    Names each dataframe using the corresponding name list.\n",
    "    \"\"\"\n",
    "    df_dict = {}\n",
    "    filetype = ''\n",
    "    \n",
    "    if len(filepath_list) != len(dfname_list):\n",
    "        return \"Error: lists must be of equivalent length.\"\n",
    "    \n",
    "    # loop through each file in the filepath_list\n",
    "    for i, file in enumerate(filepath_list):\n",
    "        \n",
    "        print(f\"Working on {file}...\")\n",
    "\n",
    "        # figure out the file type to use the appropriate method\n",
    "        if file.split('.')[-1].lower() == 'csv':\n",
    "            filetype='csv'\n",
    "        elif file.split('.')[-1].lower() == 'tsv':\n",
    "            filetype='tsv'\n",
    "        elif file.split('.')[-2].lower() == 'csv':\n",
    "            filetype='csv'\n",
    "        elif file.split('.')[-2].lower() == 'tsv':\n",
    "            filetype='tsv'\n",
    "        else:\n",
    "            # default to CSV if can't determine the file extention\n",
    "            filetype='csv'\n",
    "        \n",
    "        # determine file extension and apply appropriate method to load df\n",
    "        # Credit to https://stackoverflow.com/questions/33440805\n",
    "        #     /pandas-dataframe-read-csv-on-bad-data for handling error rows\n",
    "        if filetype == 'tsv':\n",
    "            df_dict[dfname_list[i]] = pd.read_table(file\n",
    "                                        , error_bad_lines = False\n",
    "                                        , warn_bad_lines = True\n",
    "                                        , encoding='latin1') \n",
    "        else:\n",
    "            # default to CSV if not tsv\n",
    "            df_dict[dfname_list[i]] = pd.read_csv(file\n",
    "                                        , error_bad_lines = False\n",
    "                                        , warn_bad_lines = True\n",
    "                                        , encoding='latin1') \n",
    "\n",
    "    return df_dict\n",
    "    "
   ]
  },
  {
   "cell_type": "code",
   "execution_count": 10,
   "metadata": {},
   "outputs": [],
   "source": [
    "def summarize_cols(df_dict):\n",
    "    \"\"\"Creates a dataframe with df/column summary info.\n",
    "    Takes a dictionary as input, where the key is the name of the df,\n",
    "    and the value is the dataframe itself.\"\"\"\n",
    "    \n",
    "    arr_colsumm = np.array([['df_namekey', 'col_name'\n",
    "                                 , 'col_type', 'col_nan_count'\n",
    "                                 , 'total_rows']])\n",
    "    \n",
    "    for df_key in df_dict.keys():\n",
    "        # append each column's info to the array\n",
    "        for col in df_dict[df_key].columns:\n",
    "            arr_colsumm = np.append(arr_colsumm\n",
    "               , [[df_key\n",
    "                 , col\n",
    "                 , df_dict[df_key][col].dtype\n",
    "                 , df_dict[df_key][col].isna().sum()\n",
    "                 , len(df_dict[df_key])]], axis=0)\n",
    "\n",
    "    df_colsumm = pd.DataFrame(arr_colsumm[1:], columns=arr_colsumm[0])\n",
    "    \n",
    "    return df_colsumm"
   ]
  },
  {
   "cell_type": "code",
   "execution_count": 11,
   "metadata": {},
   "outputs": [],
   "source": [
    "files = ['bom.movie_gross.csv.gz'\n",
    "         ,'imdb.title.ratings.csv.gz'\n",
    "         ,'imdb.name.basics.csv.gz'\n",
    "         ,'rt.movie_info.tsv.gz'\n",
    "         ,'imdb.title.akas.csv.gz'\n",
    "         ,'rt.reviews.tsv.gz'\n",
    "         ,'imdb.title.basics.csv.gz'\n",
    "         ,'tmdb.movies.csv.gz'\n",
    "         ,'imdb.title.crew.csv.gz'\n",
    "         ,'tn.movie_budgets.csv.gz'\n",
    "         ,'imdb.title.principals.csv.gz']\n",
    "\n",
    "df_names = ['df_bom_gross'\n",
    "         ,'df_imdb_ratings'\n",
    "         ,'df_imdb_namebasics'\n",
    "         ,'df_rt_movie_info'\n",
    "         ,'df_imdb_akas'\n",
    "         ,'df_rt_reviews'\n",
    "         ,'df_imdb_basics'\n",
    "         ,'df_tmdb_movies'\n",
    "         ,'df_imdb_crew'\n",
    "         ,'df_tn_budgets'\n",
    "         ,'df_imdb_principals']"
   ]
  },
  {
   "cell_type": "markdown",
   "metadata": {},
   "source": [
    "### Initial preview of first 10 rows of each file\n",
    "\n",
    "First, I loaded only the first 10 rows of each file into a dataframe and displayed the `head()`. This function also counts the total lines in each file.\n",
    "\n",
    "I reviewed the results from each file to understand what information they contain. In terms of what I'm hoping for, I'm not sure whether I have sufficient data to calculate the actual profit. Ideally, I would like the profit calculation to be something like:\n",
    "\n",
    "sum(box office gross, streaming revenue, VOD revenue, merchandising revenue)\n",
    "\n",
    "minus\n",
    "\n",
    "\n",
    "sum(production actual costs, advertising spend, theaters' cut)"
   ]
  },
  {
   "cell_type": "code",
   "execution_count": 12,
   "metadata": {
    "scrolled": true
   },
   "outputs": [],
   "source": [
    "#[preview_csvtsv(file, 10) for file in files]"
   ]
  },
  {
   "cell_type": "markdown",
   "metadata": {},
   "source": [
    "### Import files into data frames and summarize columns\n",
    "\n",
    "Next, I ran a function that attempts to actually import the full files into data frames. It returns a dictionary with the keys being the df names I specified, and the values being the dataframes themselves.\n",
    "\n",
    "One of the 'tsv' files from Rotten Tomatoes encountered errors while importing, although there were no errors with the initial 10-row preview. I was able to run through another function that has more error handling, and adjust the encoding to get a good import.\n",
    "\n",
    "Finally, I ran the dictionary of dataframes through a function which summarizes the columns. I think this will help me see which columns I have."
   ]
  },
  {
   "cell_type": "code",
   "execution_count": 13,
   "metadata": {
    "scrolled": true
   },
   "outputs": [
    {
     "name": "stdout",
     "output_type": "stream",
     "text": [
      "Working on bom.movie_gross.csv.gz...\n",
      "Working on imdb.title.ratings.csv.gz...\n",
      "Working on imdb.name.basics.csv.gz...\n",
      "Working on rt.movie_info.tsv.gz...\n",
      "Working on imdb.title.akas.csv.gz...\n",
      "Working on rt.reviews.tsv.gz...\n",
      "Error encountered and rt.reviews.tsv.gz was skipped\n",
      "Working on imdb.title.basics.csv.gz...\n",
      "Working on tmdb.movies.csv.gz...\n",
      "Working on imdb.title.crew.csv.gz...\n",
      "Working on tn.movie_budgets.csv.gz...\n",
      "Working on imdb.title.principals.csv.gz...\n"
     ]
    },
    {
     "data": {
      "text/plain": [
       "dict_keys(['df_bom_gross', 'df_imdb_ratings', 'df_imdb_namebasics', 'df_rt_movie_info', 'df_imdb_akas', 'df_imdb_basics', 'df_tmdb_movies', 'df_imdb_crew', 'df_tn_budgets', 'df_imdb_principals'])"
      ]
     },
     "execution_count": 13,
     "metadata": {},
     "output_type": "execute_result"
    }
   ],
   "source": [
    "df_dict = filelist_to_dfs_prelim(files, df_names)\n",
    "df_dict.keys()"
   ]
  },
  {
   "cell_type": "code",
   "execution_count": 14,
   "metadata": {
    "scrolled": false
   },
   "outputs": [
    {
     "name": "stdout",
     "output_type": "stream",
     "text": [
      "Working on rt.reviews.tsv.gz...\n"
     ]
    },
    {
     "data": {
      "text/plain": [
       "dict_keys(['df_rt_reviews'])"
      ]
     },
     "execution_count": 14,
     "metadata": {},
     "output_type": "execute_result"
    }
   ],
   "source": [
    "df_dict2 = filelist_to_dfs_errorh(['rt.reviews.tsv.gz'], ['df_rt_reviews'])\n",
    "df_dict2.keys()"
   ]
  },
  {
   "cell_type": "code",
   "execution_count": 15,
   "metadata": {
    "scrolled": true
   },
   "outputs": [
    {
     "data": {
      "text/html": [
       "<div>\n",
       "<style scoped>\n",
       "    .dataframe tbody tr th:only-of-type {\n",
       "        vertical-align: middle;\n",
       "    }\n",
       "\n",
       "    .dataframe tbody tr th {\n",
       "        vertical-align: top;\n",
       "    }\n",
       "\n",
       "    .dataframe thead th {\n",
       "        text-align: right;\n",
       "    }\n",
       "</style>\n",
       "<table border=\"1\" class=\"dataframe\">\n",
       "  <thead>\n",
       "    <tr style=\"text-align: right;\">\n",
       "      <th></th>\n",
       "      <th>id</th>\n",
       "      <th>review</th>\n",
       "      <th>rating</th>\n",
       "      <th>fresh</th>\n",
       "      <th>critic</th>\n",
       "      <th>top_critic</th>\n",
       "      <th>publisher</th>\n",
       "      <th>date</th>\n",
       "    </tr>\n",
       "  </thead>\n",
       "  <tbody>\n",
       "    <tr>\n",
       "      <th>0</th>\n",
       "      <td>3</td>\n",
       "      <td>A distinctly gallows take on contemporary fina...</td>\n",
       "      <td>3/5</td>\n",
       "      <td>fresh</td>\n",
       "      <td>PJ Nabarro</td>\n",
       "      <td>0</td>\n",
       "      <td>Patrick Nabarro</td>\n",
       "      <td>November 10, 2018</td>\n",
       "    </tr>\n",
       "    <tr>\n",
       "      <th>1</th>\n",
       "      <td>3</td>\n",
       "      <td>It's an allegory in search of a meaning that n...</td>\n",
       "      <td>NaN</td>\n",
       "      <td>rotten</td>\n",
       "      <td>Annalee Newitz</td>\n",
       "      <td>0</td>\n",
       "      <td>io9.com</td>\n",
       "      <td>May 23, 2018</td>\n",
       "    </tr>\n",
       "    <tr>\n",
       "      <th>2</th>\n",
       "      <td>3</td>\n",
       "      <td>... life lived in a bubble in financial dealin...</td>\n",
       "      <td>NaN</td>\n",
       "      <td>fresh</td>\n",
       "      <td>Sean Axmaker</td>\n",
       "      <td>0</td>\n",
       "      <td>Stream on Demand</td>\n",
       "      <td>January 4, 2018</td>\n",
       "    </tr>\n",
       "    <tr>\n",
       "      <th>3</th>\n",
       "      <td>3</td>\n",
       "      <td>Continuing along a line introduced in last yea...</td>\n",
       "      <td>NaN</td>\n",
       "      <td>fresh</td>\n",
       "      <td>Daniel Kasman</td>\n",
       "      <td>0</td>\n",
       "      <td>MUBI</td>\n",
       "      <td>November 16, 2017</td>\n",
       "    </tr>\n",
       "    <tr>\n",
       "      <th>4</th>\n",
       "      <td>3</td>\n",
       "      <td>... a perverse twist on neorealism...</td>\n",
       "      <td>NaN</td>\n",
       "      <td>fresh</td>\n",
       "      <td>NaN</td>\n",
       "      <td>0</td>\n",
       "      <td>Cinema Scope</td>\n",
       "      <td>October 12, 2017</td>\n",
       "    </tr>\n",
       "    <tr>\n",
       "      <th>...</th>\n",
       "      <td>...</td>\n",
       "      <td>...</td>\n",
       "      <td>...</td>\n",
       "      <td>...</td>\n",
       "      <td>...</td>\n",
       "      <td>...</td>\n",
       "      <td>...</td>\n",
       "      <td>...</td>\n",
       "    </tr>\n",
       "    <tr>\n",
       "      <th>54427</th>\n",
       "      <td>2000</td>\n",
       "      <td>The real charm of this trifle is the deadpan c...</td>\n",
       "      <td>NaN</td>\n",
       "      <td>fresh</td>\n",
       "      <td>Laura Sinagra</td>\n",
       "      <td>1</td>\n",
       "      <td>Village Voice</td>\n",
       "      <td>September 24, 2002</td>\n",
       "    </tr>\n",
       "    <tr>\n",
       "      <th>54428</th>\n",
       "      <td>2000</td>\n",
       "      <td>NaN</td>\n",
       "      <td>1/5</td>\n",
       "      <td>rotten</td>\n",
       "      <td>Michael Szymanski</td>\n",
       "      <td>0</td>\n",
       "      <td>Zap2it.com</td>\n",
       "      <td>September 21, 2005</td>\n",
       "    </tr>\n",
       "    <tr>\n",
       "      <th>54429</th>\n",
       "      <td>2000</td>\n",
       "      <td>NaN</td>\n",
       "      <td>2/5</td>\n",
       "      <td>rotten</td>\n",
       "      <td>Emanuel Levy</td>\n",
       "      <td>0</td>\n",
       "      <td>EmanuelLevy.Com</td>\n",
       "      <td>July 17, 2005</td>\n",
       "    </tr>\n",
       "    <tr>\n",
       "      <th>54430</th>\n",
       "      <td>2000</td>\n",
       "      <td>NaN</td>\n",
       "      <td>2.5/5</td>\n",
       "      <td>rotten</td>\n",
       "      <td>Christopher Null</td>\n",
       "      <td>0</td>\n",
       "      <td>Filmcritic.com</td>\n",
       "      <td>September 7, 2003</td>\n",
       "    </tr>\n",
       "    <tr>\n",
       "      <th>54431</th>\n",
       "      <td>2000</td>\n",
       "      <td>NaN</td>\n",
       "      <td>3/5</td>\n",
       "      <td>fresh</td>\n",
       "      <td>Nicolas Lacroix</td>\n",
       "      <td>0</td>\n",
       "      <td>Showbizz.net</td>\n",
       "      <td>November 12, 2002</td>\n",
       "    </tr>\n",
       "  </tbody>\n",
       "</table>\n",
       "<p>54432 rows × 8 columns</p>\n",
       "</div>"
      ],
      "text/plain": [
       "         id                                             review rating   fresh  \\\n",
       "0         3  A distinctly gallows take on contemporary fina...    3/5   fresh   \n",
       "1         3  It's an allegory in search of a meaning that n...    NaN  rotten   \n",
       "2         3  ... life lived in a bubble in financial dealin...    NaN   fresh   \n",
       "3         3  Continuing along a line introduced in last yea...    NaN   fresh   \n",
       "4         3             ... a perverse twist on neorealism...     NaN   fresh   \n",
       "...     ...                                                ...    ...     ...   \n",
       "54427  2000  The real charm of this trifle is the deadpan c...    NaN   fresh   \n",
       "54428  2000                                                NaN    1/5  rotten   \n",
       "54429  2000                                                NaN    2/5  rotten   \n",
       "54430  2000                                                NaN  2.5/5  rotten   \n",
       "54431  2000                                                NaN    3/5   fresh   \n",
       "\n",
       "                  critic  top_critic         publisher                date  \n",
       "0             PJ Nabarro           0   Patrick Nabarro   November 10, 2018  \n",
       "1         Annalee Newitz           0           io9.com        May 23, 2018  \n",
       "2           Sean Axmaker           0  Stream on Demand     January 4, 2018  \n",
       "3          Daniel Kasman           0              MUBI   November 16, 2017  \n",
       "4                    NaN           0      Cinema Scope    October 12, 2017  \n",
       "...                  ...         ...               ...                 ...  \n",
       "54427      Laura Sinagra           1     Village Voice  September 24, 2002  \n",
       "54428  Michael Szymanski           0        Zap2it.com  September 21, 2005  \n",
       "54429       Emanuel Levy           0   EmanuelLevy.Com       July 17, 2005  \n",
       "54430   Christopher Null           0    Filmcritic.com   September 7, 2003  \n",
       "54431    Nicolas Lacroix           0      Showbizz.net   November 12, 2002  \n",
       "\n",
       "[54432 rows x 8 columns]"
      ]
     },
     "execution_count": 15,
     "metadata": {},
     "output_type": "execute_result"
    }
   ],
   "source": [
    "df_dict2['df_rt_reviews']"
   ]
  },
  {
   "cell_type": "code",
   "execution_count": 16,
   "metadata": {
    "scrolled": true
   },
   "outputs": [
    {
     "data": {
      "text/plain": [
       "dict_keys(['df_bom_gross', 'df_imdb_ratings', 'df_imdb_namebasics', 'df_rt_movie_info', 'df_imdb_akas', 'df_imdb_basics', 'df_tmdb_movies', 'df_imdb_crew', 'df_tn_budgets', 'df_imdb_principals', 'df_rt_reviews'])"
      ]
     },
     "execution_count": 16,
     "metadata": {},
     "output_type": "execute_result"
    }
   ],
   "source": [
    "# Merge dict of clean dfs with the dict of dfs that had errors\n",
    "df_dict.update(df_dict2)\n",
    "df_dict.keys()"
   ]
  },
  {
   "cell_type": "markdown",
   "metadata": {},
   "source": [
    "### Create a summary of the columns in each table\n",
    "\n",
    "Export this summary to a CSV file so I can make outside notes."
   ]
  },
  {
   "cell_type": "code",
   "execution_count": 17,
   "metadata": {},
   "outputs": [],
   "source": [
    "df_colsumm = summarize_cols(df_dict)\n",
    "#df_colsumm.to_csv('column_summary.csv',index=False)"
   ]
  },
  {
   "cell_type": "markdown",
   "metadata": {},
   "source": [
    "# SQL Ingestion for deeper analysis\n",
    "\n",
    "I will create a SQLlite database and import the files I intend to use in my analysis into tables. I think this will be the best way to clean the data and save my changes outside of the Jupyter Notebook without a lot of file import/export.\n",
    "\n",
    "I will be making notes for what I want to transform, date ranges, etc for each table and column outside of this notebook, and then will find a good way to get the information back in. This mostly saves me from scrolling up and down and makes it easier to take notes without worrying about formatting."
   ]
  },
  {
   "cell_type": "markdown",
   "metadata": {},
   "source": [
    "## Create New SQLLite database"
   ]
  },
  {
   "cell_type": "code",
   "execution_count": 23,
   "metadata": {
    "scrolled": true
   },
   "outputs": [
    {
     "name": "stdout",
     "output_type": "stream",
     "text": [
      "/Users/jessicamiles/Documents/Flatiron_Data_Science/git_labs_lessons/phase1/dsc-phase-1-project\n"
     ]
    }
   ],
   "source": [
    "cd .."
   ]
  },
  {
   "cell_type": "code",
   "execution_count": 24,
   "metadata": {
    "scrolled": true
   },
   "outputs": [
    {
     "name": "stdout",
     "output_type": "stream",
     "text": [
      "/Users/jessicamiles/Documents/Flatiron_Data_Science/git_labs_lessons/phase1/dsc-phase-1-project/analysis\n"
     ]
    }
   ],
   "source": [
    "cd analysis"
   ]
  },
  {
   "cell_type": "code",
   "execution_count": 26,
   "metadata": {},
   "outputs": [],
   "source": [
    "# Create new database (or conenct to it, later)\n",
    "conn = sqlite3.connect('movie_analysis.db')\n",
    "cur = conn.cursor()"
   ]
  },
  {
   "cell_type": "markdown",
   "metadata": {},
   "source": [
    "## Wait is this data any good??"
   ]
  },
  {
   "cell_type": "code",
   "execution_count": 30,
   "metadata": {
    "scrolled": false
   },
   "outputs": [
    {
     "data": {
      "text/html": [
       "<div>\n",
       "<style scoped>\n",
       "    .dataframe tbody tr th:only-of-type {\n",
       "        vertical-align: middle;\n",
       "    }\n",
       "\n",
       "    .dataframe tbody tr th {\n",
       "        vertical-align: top;\n",
       "    }\n",
       "\n",
       "    .dataframe thead th {\n",
       "        text-align: right;\n",
       "    }\n",
       "</style>\n",
       "<table border=\"1\" class=\"dataframe\">\n",
       "  <thead>\n",
       "    <tr style=\"text-align: right;\">\n",
       "      <th></th>\n",
       "      <th>id</th>\n",
       "      <th>release_date</th>\n",
       "      <th>movie</th>\n",
       "      <th>production_budget</th>\n",
       "      <th>domestic_gross</th>\n",
       "      <th>worldwide_gross</th>\n",
       "    </tr>\n",
       "  </thead>\n",
       "  <tbody>\n",
       "    <tr>\n",
       "      <th>0</th>\n",
       "      <td>1</td>\n",
       "      <td>Dec 18, 2009</td>\n",
       "      <td>Avatar</td>\n",
       "      <td>$425,000,000</td>\n",
       "      <td>$760,507,625</td>\n",
       "      <td>$2,776,345,279</td>\n",
       "    </tr>\n",
       "    <tr>\n",
       "      <th>1</th>\n",
       "      <td>2</td>\n",
       "      <td>May 20, 2011</td>\n",
       "      <td>Pirates of the Caribbean: On Stranger Tides</td>\n",
       "      <td>$410,600,000</td>\n",
       "      <td>$241,063,875</td>\n",
       "      <td>$1,045,663,875</td>\n",
       "    </tr>\n",
       "    <tr>\n",
       "      <th>2</th>\n",
       "      <td>3</td>\n",
       "      <td>Jun 7, 2019</td>\n",
       "      <td>Dark Phoenix</td>\n",
       "      <td>$350,000,000</td>\n",
       "      <td>$42,762,350</td>\n",
       "      <td>$149,762,350</td>\n",
       "    </tr>\n",
       "    <tr>\n",
       "      <th>3</th>\n",
       "      <td>4</td>\n",
       "      <td>May 1, 2015</td>\n",
       "      <td>Avengers: Age of Ultron</td>\n",
       "      <td>$330,600,000</td>\n",
       "      <td>$459,005,868</td>\n",
       "      <td>$1,403,013,963</td>\n",
       "    </tr>\n",
       "    <tr>\n",
       "      <th>4</th>\n",
       "      <td>5</td>\n",
       "      <td>Dec 15, 2017</td>\n",
       "      <td>Star Wars Ep. VIII: The Last Jedi</td>\n",
       "      <td>$317,000,000</td>\n",
       "      <td>$620,181,382</td>\n",
       "      <td>$1,316,721,747</td>\n",
       "    </tr>\n",
       "  </tbody>\n",
       "</table>\n",
       "</div>"
      ],
      "text/plain": [
       "   id  release_date                                        movie  \\\n",
       "0   1  Dec 18, 2009                                       Avatar   \n",
       "1   2  May 20, 2011  Pirates of the Caribbean: On Stranger Tides   \n",
       "2   3   Jun 7, 2019                                 Dark Phoenix   \n",
       "3   4   May 1, 2015                      Avengers: Age of Ultron   \n",
       "4   5  Dec 15, 2017            Star Wars Ep. VIII: The Last Jedi   \n",
       "\n",
       "  production_budget domestic_gross worldwide_gross  \n",
       "0      $425,000,000   $760,507,625  $2,776,345,279  \n",
       "1      $410,600,000   $241,063,875  $1,045,663,875  \n",
       "2      $350,000,000    $42,762,350    $149,762,350  \n",
       "3      $330,600,000   $459,005,868  $1,403,013,963  \n",
       "4      $317,000,000   $620,181,382  $1,316,721,747  "
      ]
     },
     "execution_count": 30,
     "metadata": {},
     "output_type": "execute_result"
    }
   ],
   "source": [
    "# Starting with the The Numbers data set, as profit is first analysis\n",
    "# I want to tackle\n",
    "\n",
    "# Get the column info\n",
    "df_dict['df_tn_budgets'].head()"
   ]
  },
  {
   "cell_type": "markdown",
   "metadata": {},
   "source": [
    "Trying to determine whether the budget will always be in US dollars, whether it is adjusted for inflation, et. Trying to confirm whether domestic gross and worldwide gross include more than box office?\n",
    "\n",
    "Interstingly, when I look up Avatar on The Numbers, the figures don't match what I see here.\n",
    "https://www.the-numbers.com/movie/Avatar#tab=summary\n",
    "\n",
    "Gross numbers more or less match what I see under box office, so I think those are box office only.\n",
    "\n",
    "But production budget is only 237 compared to $425 MM that I see in my table.\n",
    "\n",
    "I tried their movie comparison tool which lets you compare movies and adjust for inflation, and I'm not sure where the $425 MM is coming from, It's not just inflation. With inflation adjustment Avatar's budget is still only 289 million. https://www.the-numbers.com/movies/custom-comparisons/Avatar/Titanic-(1997)?mode=actuals#tab=day_by_day_comparison"
   ]
  },
  {
   "cell_type": "markdown",
   "metadata": {},
   "source": [
    "Looking deeper at source which have APIs, The Movie Database has a free API with NO rate limiting.\n",
    "\n",
    "I spot checked Avatar and Titanic across The Numbers and the revenue and budget are roughly equivalent (The Numbers had slightly higher revenue so may be more up to date than TMDb but pretty close.\n",
    "\n",
    "Going to try getting the data from TMDB. Bonus is that my Watchmode data has TMDB ID, so I can easily join them."
   ]
  },
  {
   "cell_type": "markdown",
   "metadata": {},
   "source": [
    "## Looking through the rest of the data sets"
   ]
  },
  {
   "cell_type": "markdown",
   "metadata": {},
   "source": [
    "### TMDB Movies\n",
    "\n",
    "I think I'm going to get much more than this includes (definitely more fields) but curious what date ranges, etc we have."
   ]
  },
  {
   "cell_type": "code",
   "execution_count": 27,
   "metadata": {
    "scrolled": true
   },
   "outputs": [
    {
     "data": {
      "text/html": [
       "<div>\n",
       "<style scoped>\n",
       "    .dataframe tbody tr th:only-of-type {\n",
       "        vertical-align: middle;\n",
       "    }\n",
       "\n",
       "    .dataframe tbody tr th {\n",
       "        vertical-align: top;\n",
       "    }\n",
       "\n",
       "    .dataframe thead th {\n",
       "        text-align: right;\n",
       "    }\n",
       "</style>\n",
       "<table border=\"1\" class=\"dataframe\">\n",
       "  <thead>\n",
       "    <tr style=\"text-align: right;\">\n",
       "      <th></th>\n",
       "      <th>Unnamed: 0</th>\n",
       "      <th>genre_ids</th>\n",
       "      <th>id</th>\n",
       "      <th>original_language</th>\n",
       "      <th>original_title</th>\n",
       "      <th>popularity</th>\n",
       "      <th>release_date</th>\n",
       "      <th>title</th>\n",
       "      <th>vote_average</th>\n",
       "      <th>vote_count</th>\n",
       "    </tr>\n",
       "  </thead>\n",
       "  <tbody>\n",
       "    <tr>\n",
       "      <th>0</th>\n",
       "      <td>0</td>\n",
       "      <td>[12, 14, 10751]</td>\n",
       "      <td>12444</td>\n",
       "      <td>en</td>\n",
       "      <td>Harry Potter and the Deathly Hallows: Part 1</td>\n",
       "      <td>33.533</td>\n",
       "      <td>2010-11-19</td>\n",
       "      <td>Harry Potter and the Deathly Hallows: Part 1</td>\n",
       "      <td>7.7</td>\n",
       "      <td>10788</td>\n",
       "    </tr>\n",
       "    <tr>\n",
       "      <th>1</th>\n",
       "      <td>1</td>\n",
       "      <td>[14, 12, 16, 10751]</td>\n",
       "      <td>10191</td>\n",
       "      <td>en</td>\n",
       "      <td>How to Train Your Dragon</td>\n",
       "      <td>28.734</td>\n",
       "      <td>2010-03-26</td>\n",
       "      <td>How to Train Your Dragon</td>\n",
       "      <td>7.7</td>\n",
       "      <td>7610</td>\n",
       "    </tr>\n",
       "    <tr>\n",
       "      <th>2</th>\n",
       "      <td>2</td>\n",
       "      <td>[12, 28, 878]</td>\n",
       "      <td>10138</td>\n",
       "      <td>en</td>\n",
       "      <td>Iron Man 2</td>\n",
       "      <td>28.515</td>\n",
       "      <td>2010-05-07</td>\n",
       "      <td>Iron Man 2</td>\n",
       "      <td>6.8</td>\n",
       "      <td>12368</td>\n",
       "    </tr>\n",
       "    <tr>\n",
       "      <th>3</th>\n",
       "      <td>3</td>\n",
       "      <td>[16, 35, 10751]</td>\n",
       "      <td>862</td>\n",
       "      <td>en</td>\n",
       "      <td>Toy Story</td>\n",
       "      <td>28.005</td>\n",
       "      <td>1995-11-22</td>\n",
       "      <td>Toy Story</td>\n",
       "      <td>7.9</td>\n",
       "      <td>10174</td>\n",
       "    </tr>\n",
       "    <tr>\n",
       "      <th>4</th>\n",
       "      <td>4</td>\n",
       "      <td>[28, 878, 12]</td>\n",
       "      <td>27205</td>\n",
       "      <td>en</td>\n",
       "      <td>Inception</td>\n",
       "      <td>27.920</td>\n",
       "      <td>2010-07-16</td>\n",
       "      <td>Inception</td>\n",
       "      <td>8.3</td>\n",
       "      <td>22186</td>\n",
       "    </tr>\n",
       "  </tbody>\n",
       "</table>\n",
       "</div>"
      ],
      "text/plain": [
       "   Unnamed: 0            genre_ids     id original_language  \\\n",
       "0           0      [12, 14, 10751]  12444                en   \n",
       "1           1  [14, 12, 16, 10751]  10191                en   \n",
       "2           2        [12, 28, 878]  10138                en   \n",
       "3           3      [16, 35, 10751]    862                en   \n",
       "4           4        [28, 878, 12]  27205                en   \n",
       "\n",
       "                                 original_title  popularity release_date  \\\n",
       "0  Harry Potter and the Deathly Hallows: Part 1      33.533   2010-11-19   \n",
       "1                      How to Train Your Dragon      28.734   2010-03-26   \n",
       "2                                    Iron Man 2      28.515   2010-05-07   \n",
       "3                                     Toy Story      28.005   1995-11-22   \n",
       "4                                     Inception      27.920   2010-07-16   \n",
       "\n",
       "                                          title  vote_average  vote_count  \n",
       "0  Harry Potter and the Deathly Hallows: Part 1           7.7       10788  \n",
       "1                      How to Train Your Dragon           7.7        7610  \n",
       "2                                    Iron Man 2           6.8       12368  \n",
       "3                                     Toy Story           7.9       10174  \n",
       "4                                     Inception           8.3       22186  "
      ]
     },
     "execution_count": 27,
     "metadata": {},
     "output_type": "execute_result"
    }
   ],
   "source": [
    "df_dict['df_tmdb_movies'].head()"
   ]
  },
  {
   "cell_type": "code",
   "execution_count": 28,
   "metadata": {
    "scrolled": false
   },
   "outputs": [
    {
     "data": {
      "text/html": [
       "<div>\n",
       "<style scoped>\n",
       "    .dataframe tbody tr th:only-of-type {\n",
       "        vertical-align: middle;\n",
       "    }\n",
       "\n",
       "    .dataframe tbody tr th {\n",
       "        vertical-align: top;\n",
       "    }\n",
       "\n",
       "    .dataframe thead th {\n",
       "        text-align: right;\n",
       "    }\n",
       "</style>\n",
       "<table border=\"1\" class=\"dataframe\">\n",
       "  <thead>\n",
       "    <tr style=\"text-align: right;\">\n",
       "      <th></th>\n",
       "      <th>Unnamed: 0</th>\n",
       "      <th>id</th>\n",
       "      <th>popularity</th>\n",
       "      <th>vote_average</th>\n",
       "      <th>vote_count</th>\n",
       "    </tr>\n",
       "  </thead>\n",
       "  <tbody>\n",
       "    <tr>\n",
       "      <th>count</th>\n",
       "      <td>26517.00000</td>\n",
       "      <td>26517.000000</td>\n",
       "      <td>26517.000000</td>\n",
       "      <td>26517.000000</td>\n",
       "      <td>26517.000000</td>\n",
       "    </tr>\n",
       "    <tr>\n",
       "      <th>mean</th>\n",
       "      <td>13258.00000</td>\n",
       "      <td>295050.153260</td>\n",
       "      <td>3.130912</td>\n",
       "      <td>5.991281</td>\n",
       "      <td>194.224837</td>\n",
       "    </tr>\n",
       "    <tr>\n",
       "      <th>std</th>\n",
       "      <td>7654.94288</td>\n",
       "      <td>153661.615648</td>\n",
       "      <td>4.355229</td>\n",
       "      <td>1.852946</td>\n",
       "      <td>960.961095</td>\n",
       "    </tr>\n",
       "    <tr>\n",
       "      <th>min</th>\n",
       "      <td>0.00000</td>\n",
       "      <td>27.000000</td>\n",
       "      <td>0.600000</td>\n",
       "      <td>0.000000</td>\n",
       "      <td>1.000000</td>\n",
       "    </tr>\n",
       "    <tr>\n",
       "      <th>25%</th>\n",
       "      <td>6629.00000</td>\n",
       "      <td>157851.000000</td>\n",
       "      <td>0.600000</td>\n",
       "      <td>5.000000</td>\n",
       "      <td>2.000000</td>\n",
       "    </tr>\n",
       "    <tr>\n",
       "      <th>50%</th>\n",
       "      <td>13258.00000</td>\n",
       "      <td>309581.000000</td>\n",
       "      <td>1.374000</td>\n",
       "      <td>6.000000</td>\n",
       "      <td>5.000000</td>\n",
       "    </tr>\n",
       "    <tr>\n",
       "      <th>75%</th>\n",
       "      <td>19887.00000</td>\n",
       "      <td>419542.000000</td>\n",
       "      <td>3.694000</td>\n",
       "      <td>7.000000</td>\n",
       "      <td>28.000000</td>\n",
       "    </tr>\n",
       "    <tr>\n",
       "      <th>max</th>\n",
       "      <td>26516.00000</td>\n",
       "      <td>608444.000000</td>\n",
       "      <td>80.773000</td>\n",
       "      <td>10.000000</td>\n",
       "      <td>22186.000000</td>\n",
       "    </tr>\n",
       "  </tbody>\n",
       "</table>\n",
       "</div>"
      ],
      "text/plain": [
       "        Unnamed: 0             id    popularity  vote_average    vote_count\n",
       "count  26517.00000   26517.000000  26517.000000  26517.000000  26517.000000\n",
       "mean   13258.00000  295050.153260      3.130912      5.991281    194.224837\n",
       "std     7654.94288  153661.615648      4.355229      1.852946    960.961095\n",
       "min        0.00000      27.000000      0.600000      0.000000      1.000000\n",
       "25%     6629.00000  157851.000000      0.600000      5.000000      2.000000\n",
       "50%    13258.00000  309581.000000      1.374000      6.000000      5.000000\n",
       "75%    19887.00000  419542.000000      3.694000      7.000000     28.000000\n",
       "max    26516.00000  608444.000000     80.773000     10.000000  22186.000000"
      ]
     },
     "execution_count": 28,
     "metadata": {},
     "output_type": "execute_result"
    }
   ],
   "source": [
    "df_dict['df_tmdb_movies'].describe()"
   ]
  },
  {
   "cell_type": "markdown",
   "metadata": {},
   "source": [
    "OK so this does go down to popularity = 0.6. Mean is 3.13, hmm.\n",
    "\n",
    "Minimum vote_count is 1 though, so maybe it's all movies with at least one vote."
   ]
  },
  {
   "cell_type": "code",
   "execution_count": 40,
   "metadata": {},
   "outputs": [],
   "source": [
    "df_dict['df_tmdb_movies']['year'] = df_dict['df_tmdb_movies']['release_date'].map(lambda date: int(date[:4]))"
   ]
  },
  {
   "cell_type": "code",
   "execution_count": 38,
   "metadata": {
    "scrolled": true
   },
   "outputs": [
    {
     "data": {
      "text/plain": [
       "0        2010\n",
       "1        2010\n",
       "2        2010\n",
       "3        1995\n",
       "4        2010\n",
       "         ... \n",
       "26512    2018\n",
       "26513    2018\n",
       "26514    2018\n",
       "26515    2018\n",
       "26516    2018\n",
       "Name: year, Length: 26517, dtype: object"
      ]
     },
     "execution_count": 38,
     "metadata": {},
     "output_type": "execute_result"
    }
   ],
   "source": [
    "df_dict['df_tmdb_movies']['year']"
   ]
  },
  {
   "cell_type": "code",
   "execution_count": 41,
   "metadata": {
    "scrolled": true
   },
   "outputs": [
    {
     "data": {
      "text/html": [
       "<div>\n",
       "<style scoped>\n",
       "    .dataframe tbody tr th:only-of-type {\n",
       "        vertical-align: middle;\n",
       "    }\n",
       "\n",
       "    .dataframe tbody tr th {\n",
       "        vertical-align: top;\n",
       "    }\n",
       "\n",
       "    .dataframe thead th {\n",
       "        text-align: right;\n",
       "    }\n",
       "</style>\n",
       "<table border=\"1\" class=\"dataframe\">\n",
       "  <thead>\n",
       "    <tr style=\"text-align: right;\">\n",
       "      <th></th>\n",
       "      <th>Unnamed: 0</th>\n",
       "      <th>id</th>\n",
       "      <th>popularity</th>\n",
       "      <th>vote_average</th>\n",
       "      <th>vote_count</th>\n",
       "      <th>year</th>\n",
       "    </tr>\n",
       "  </thead>\n",
       "  <tbody>\n",
       "    <tr>\n",
       "      <th>count</th>\n",
       "      <td>26517.00000</td>\n",
       "      <td>26517.000000</td>\n",
       "      <td>26517.000000</td>\n",
       "      <td>26517.000000</td>\n",
       "      <td>26517.000000</td>\n",
       "      <td>26517.000000</td>\n",
       "    </tr>\n",
       "    <tr>\n",
       "      <th>mean</th>\n",
       "      <td>13258.00000</td>\n",
       "      <td>295050.153260</td>\n",
       "      <td>3.130912</td>\n",
       "      <td>5.991281</td>\n",
       "      <td>194.224837</td>\n",
       "      <td>2013.953162</td>\n",
       "    </tr>\n",
       "    <tr>\n",
       "      <th>std</th>\n",
       "      <td>7654.94288</td>\n",
       "      <td>153661.615648</td>\n",
       "      <td>4.355229</td>\n",
       "      <td>1.852946</td>\n",
       "      <td>960.961095</td>\n",
       "      <td>3.544641</td>\n",
       "    </tr>\n",
       "    <tr>\n",
       "      <th>min</th>\n",
       "      <td>0.00000</td>\n",
       "      <td>27.000000</td>\n",
       "      <td>0.600000</td>\n",
       "      <td>0.000000</td>\n",
       "      <td>1.000000</td>\n",
       "      <td>1930.000000</td>\n",
       "    </tr>\n",
       "    <tr>\n",
       "      <th>25%</th>\n",
       "      <td>6629.00000</td>\n",
       "      <td>157851.000000</td>\n",
       "      <td>0.600000</td>\n",
       "      <td>5.000000</td>\n",
       "      <td>2.000000</td>\n",
       "      <td>2012.000000</td>\n",
       "    </tr>\n",
       "    <tr>\n",
       "      <th>50%</th>\n",
       "      <td>13258.00000</td>\n",
       "      <td>309581.000000</td>\n",
       "      <td>1.374000</td>\n",
       "      <td>6.000000</td>\n",
       "      <td>5.000000</td>\n",
       "      <td>2014.000000</td>\n",
       "    </tr>\n",
       "    <tr>\n",
       "      <th>75%</th>\n",
       "      <td>19887.00000</td>\n",
       "      <td>419542.000000</td>\n",
       "      <td>3.694000</td>\n",
       "      <td>7.000000</td>\n",
       "      <td>28.000000</td>\n",
       "      <td>2016.000000</td>\n",
       "    </tr>\n",
       "    <tr>\n",
       "      <th>max</th>\n",
       "      <td>26516.00000</td>\n",
       "      <td>608444.000000</td>\n",
       "      <td>80.773000</td>\n",
       "      <td>10.000000</td>\n",
       "      <td>22186.000000</td>\n",
       "      <td>2020.000000</td>\n",
       "    </tr>\n",
       "  </tbody>\n",
       "</table>\n",
       "</div>"
      ],
      "text/plain": [
       "        Unnamed: 0             id    popularity  vote_average    vote_count  \\\n",
       "count  26517.00000   26517.000000  26517.000000  26517.000000  26517.000000   \n",
       "mean   13258.00000  295050.153260      3.130912      5.991281    194.224837   \n",
       "std     7654.94288  153661.615648      4.355229      1.852946    960.961095   \n",
       "min        0.00000      27.000000      0.600000      0.000000      1.000000   \n",
       "25%     6629.00000  157851.000000      0.600000      5.000000      2.000000   \n",
       "50%    13258.00000  309581.000000      1.374000      6.000000      5.000000   \n",
       "75%    19887.00000  419542.000000      3.694000      7.000000     28.000000   \n",
       "max    26516.00000  608444.000000     80.773000     10.000000  22186.000000   \n",
       "\n",
       "               year  \n",
       "count  26517.000000  \n",
       "mean    2013.953162  \n",
       "std        3.544641  \n",
       "min     1930.000000  \n",
       "25%     2012.000000  \n",
       "50%     2014.000000  \n",
       "75%     2016.000000  \n",
       "max     2020.000000  "
      ]
     },
     "execution_count": 41,
     "metadata": {},
     "output_type": "execute_result"
    }
   ],
   "source": [
    "df_dict['df_tmdb_movies'].describe()"
   ]
  },
  {
   "cell_type": "markdown",
   "metadata": {},
   "source": [
    "### Rotten Tomatoes Tables\n",
    "\n",
    "Well this would have been nice to have, but there aren't titles listed and no other data set matches its ids."
   ]
  },
  {
   "cell_type": "code",
   "execution_count": 43,
   "metadata": {
    "scrolled": true
   },
   "outputs": [
    {
     "data": {
      "text/html": [
       "<div>\n",
       "<style scoped>\n",
       "    .dataframe tbody tr th:only-of-type {\n",
       "        vertical-align: middle;\n",
       "    }\n",
       "\n",
       "    .dataframe tbody tr th {\n",
       "        vertical-align: top;\n",
       "    }\n",
       "\n",
       "    .dataframe thead th {\n",
       "        text-align: right;\n",
       "    }\n",
       "</style>\n",
       "<table border=\"1\" class=\"dataframe\">\n",
       "  <thead>\n",
       "    <tr style=\"text-align: right;\">\n",
       "      <th></th>\n",
       "      <th>id</th>\n",
       "      <th>synopsis</th>\n",
       "      <th>rating</th>\n",
       "      <th>genre</th>\n",
       "      <th>director</th>\n",
       "      <th>writer</th>\n",
       "      <th>theater_date</th>\n",
       "      <th>dvd_date</th>\n",
       "      <th>currency</th>\n",
       "      <th>box_office</th>\n",
       "      <th>runtime</th>\n",
       "      <th>studio</th>\n",
       "    </tr>\n",
       "  </thead>\n",
       "  <tbody>\n",
       "    <tr>\n",
       "      <th>0</th>\n",
       "      <td>1</td>\n",
       "      <td>This gritty, fast-paced, and innovative police...</td>\n",
       "      <td>R</td>\n",
       "      <td>Action and Adventure|Classics|Drama</td>\n",
       "      <td>William Friedkin</td>\n",
       "      <td>Ernest Tidyman</td>\n",
       "      <td>Oct 9, 1971</td>\n",
       "      <td>Sep 25, 2001</td>\n",
       "      <td>NaN</td>\n",
       "      <td>NaN</td>\n",
       "      <td>104 minutes</td>\n",
       "      <td>NaN</td>\n",
       "    </tr>\n",
       "    <tr>\n",
       "      <th>1</th>\n",
       "      <td>3</td>\n",
       "      <td>New York City, not-too-distant-future: Eric Pa...</td>\n",
       "      <td>R</td>\n",
       "      <td>Drama|Science Fiction and Fantasy</td>\n",
       "      <td>David Cronenberg</td>\n",
       "      <td>David Cronenberg|Don DeLillo</td>\n",
       "      <td>Aug 17, 2012</td>\n",
       "      <td>Jan 1, 2013</td>\n",
       "      <td>$</td>\n",
       "      <td>600,000</td>\n",
       "      <td>108 minutes</td>\n",
       "      <td>Entertainment One</td>\n",
       "    </tr>\n",
       "    <tr>\n",
       "      <th>2</th>\n",
       "      <td>5</td>\n",
       "      <td>Illeana Douglas delivers a superb performance ...</td>\n",
       "      <td>R</td>\n",
       "      <td>Drama|Musical and Performing Arts</td>\n",
       "      <td>Allison Anders</td>\n",
       "      <td>Allison Anders</td>\n",
       "      <td>Sep 13, 1996</td>\n",
       "      <td>Apr 18, 2000</td>\n",
       "      <td>NaN</td>\n",
       "      <td>NaN</td>\n",
       "      <td>116 minutes</td>\n",
       "      <td>NaN</td>\n",
       "    </tr>\n",
       "    <tr>\n",
       "      <th>3</th>\n",
       "      <td>6</td>\n",
       "      <td>Michael Douglas runs afoul of a treacherous su...</td>\n",
       "      <td>R</td>\n",
       "      <td>Drama|Mystery and Suspense</td>\n",
       "      <td>Barry Levinson</td>\n",
       "      <td>Paul Attanasio|Michael Crichton</td>\n",
       "      <td>Dec 9, 1994</td>\n",
       "      <td>Aug 27, 1997</td>\n",
       "      <td>NaN</td>\n",
       "      <td>NaN</td>\n",
       "      <td>128 minutes</td>\n",
       "      <td>NaN</td>\n",
       "    </tr>\n",
       "    <tr>\n",
       "      <th>4</th>\n",
       "      <td>7</td>\n",
       "      <td>NaN</td>\n",
       "      <td>NR</td>\n",
       "      <td>Drama|Romance</td>\n",
       "      <td>Rodney Bennett</td>\n",
       "      <td>Giles Cooper</td>\n",
       "      <td>NaN</td>\n",
       "      <td>NaN</td>\n",
       "      <td>NaN</td>\n",
       "      <td>NaN</td>\n",
       "      <td>200 minutes</td>\n",
       "      <td>NaN</td>\n",
       "    </tr>\n",
       "  </tbody>\n",
       "</table>\n",
       "</div>"
      ],
      "text/plain": [
       "   id                                           synopsis rating  \\\n",
       "0   1  This gritty, fast-paced, and innovative police...      R   \n",
       "1   3  New York City, not-too-distant-future: Eric Pa...      R   \n",
       "2   5  Illeana Douglas delivers a superb performance ...      R   \n",
       "3   6  Michael Douglas runs afoul of a treacherous su...      R   \n",
       "4   7                                                NaN     NR   \n",
       "\n",
       "                                 genre          director  \\\n",
       "0  Action and Adventure|Classics|Drama  William Friedkin   \n",
       "1    Drama|Science Fiction and Fantasy  David Cronenberg   \n",
       "2    Drama|Musical and Performing Arts    Allison Anders   \n",
       "3           Drama|Mystery and Suspense    Barry Levinson   \n",
       "4                        Drama|Romance    Rodney Bennett   \n",
       "\n",
       "                            writer  theater_date      dvd_date currency  \\\n",
       "0                   Ernest Tidyman   Oct 9, 1971  Sep 25, 2001      NaN   \n",
       "1     David Cronenberg|Don DeLillo  Aug 17, 2012   Jan 1, 2013        $   \n",
       "2                   Allison Anders  Sep 13, 1996  Apr 18, 2000      NaN   \n",
       "3  Paul Attanasio|Michael Crichton   Dec 9, 1994  Aug 27, 1997      NaN   \n",
       "4                     Giles Cooper           NaN           NaN      NaN   \n",
       "\n",
       "  box_office      runtime             studio  \n",
       "0        NaN  104 minutes                NaN  \n",
       "1    600,000  108 minutes  Entertainment One  \n",
       "2        NaN  116 minutes                NaN  \n",
       "3        NaN  128 minutes                NaN  \n",
       "4        NaN  200 minutes                NaN  "
      ]
     },
     "execution_count": 43,
     "metadata": {},
     "output_type": "execute_result"
    }
   ],
   "source": [
    "df_dict['df_rt_movie_info'].head()"
   ]
  },
  {
   "cell_type": "code",
   "execution_count": 44,
   "metadata": {
    "scrolled": true
   },
   "outputs": [
    {
     "data": {
      "text/html": [
       "<div>\n",
       "<style scoped>\n",
       "    .dataframe tbody tr th:only-of-type {\n",
       "        vertical-align: middle;\n",
       "    }\n",
       "\n",
       "    .dataframe tbody tr th {\n",
       "        vertical-align: top;\n",
       "    }\n",
       "\n",
       "    .dataframe thead th {\n",
       "        text-align: right;\n",
       "    }\n",
       "</style>\n",
       "<table border=\"1\" class=\"dataframe\">\n",
       "  <thead>\n",
       "    <tr style=\"text-align: right;\">\n",
       "      <th></th>\n",
       "      <th>id</th>\n",
       "      <th>review</th>\n",
       "      <th>rating</th>\n",
       "      <th>fresh</th>\n",
       "      <th>critic</th>\n",
       "      <th>top_critic</th>\n",
       "      <th>publisher</th>\n",
       "      <th>date</th>\n",
       "    </tr>\n",
       "  </thead>\n",
       "  <tbody>\n",
       "    <tr>\n",
       "      <th>0</th>\n",
       "      <td>3</td>\n",
       "      <td>A distinctly gallows take on contemporary fina...</td>\n",
       "      <td>3/5</td>\n",
       "      <td>fresh</td>\n",
       "      <td>PJ Nabarro</td>\n",
       "      <td>0</td>\n",
       "      <td>Patrick Nabarro</td>\n",
       "      <td>November 10, 2018</td>\n",
       "    </tr>\n",
       "    <tr>\n",
       "      <th>1</th>\n",
       "      <td>3</td>\n",
       "      <td>It's an allegory in search of a meaning that n...</td>\n",
       "      <td>NaN</td>\n",
       "      <td>rotten</td>\n",
       "      <td>Annalee Newitz</td>\n",
       "      <td>0</td>\n",
       "      <td>io9.com</td>\n",
       "      <td>May 23, 2018</td>\n",
       "    </tr>\n",
       "    <tr>\n",
       "      <th>2</th>\n",
       "      <td>3</td>\n",
       "      <td>... life lived in a bubble in financial dealin...</td>\n",
       "      <td>NaN</td>\n",
       "      <td>fresh</td>\n",
       "      <td>Sean Axmaker</td>\n",
       "      <td>0</td>\n",
       "      <td>Stream on Demand</td>\n",
       "      <td>January 4, 2018</td>\n",
       "    </tr>\n",
       "    <tr>\n",
       "      <th>3</th>\n",
       "      <td>3</td>\n",
       "      <td>Continuing along a line introduced in last yea...</td>\n",
       "      <td>NaN</td>\n",
       "      <td>fresh</td>\n",
       "      <td>Daniel Kasman</td>\n",
       "      <td>0</td>\n",
       "      <td>MUBI</td>\n",
       "      <td>November 16, 2017</td>\n",
       "    </tr>\n",
       "    <tr>\n",
       "      <th>4</th>\n",
       "      <td>3</td>\n",
       "      <td>... a perverse twist on neorealism...</td>\n",
       "      <td>NaN</td>\n",
       "      <td>fresh</td>\n",
       "      <td>NaN</td>\n",
       "      <td>0</td>\n",
       "      <td>Cinema Scope</td>\n",
       "      <td>October 12, 2017</td>\n",
       "    </tr>\n",
       "  </tbody>\n",
       "</table>\n",
       "</div>"
      ],
      "text/plain": [
       "   id                                             review rating   fresh  \\\n",
       "0   3  A distinctly gallows take on contemporary fina...    3/5   fresh   \n",
       "1   3  It's an allegory in search of a meaning that n...    NaN  rotten   \n",
       "2   3  ... life lived in a bubble in financial dealin...    NaN   fresh   \n",
       "3   3  Continuing along a line introduced in last yea...    NaN   fresh   \n",
       "4   3             ... a perverse twist on neorealism...     NaN   fresh   \n",
       "\n",
       "           critic  top_critic         publisher               date  \n",
       "0      PJ Nabarro           0   Patrick Nabarro  November 10, 2018  \n",
       "1  Annalee Newitz           0           io9.com       May 23, 2018  \n",
       "2    Sean Axmaker           0  Stream on Demand    January 4, 2018  \n",
       "3   Daniel Kasman           0              MUBI  November 16, 2017  \n",
       "4             NaN           0      Cinema Scope   October 12, 2017  "
      ]
     },
     "execution_count": 44,
     "metadata": {},
     "output_type": "execute_result"
    }
   ],
   "source": [
    "df_dict['df_rt_reviews'].head()"
   ]
  },
  {
   "cell_type": "markdown",
   "metadata": {},
   "source": [
    "### IMDB Datasets - Basics"
   ]
  },
  {
   "cell_type": "code",
   "execution_count": 45,
   "metadata": {
    "scrolled": true
   },
   "outputs": [
    {
     "data": {
      "text/html": [
       "<div>\n",
       "<style scoped>\n",
       "    .dataframe tbody tr th:only-of-type {\n",
       "        vertical-align: middle;\n",
       "    }\n",
       "\n",
       "    .dataframe tbody tr th {\n",
       "        vertical-align: top;\n",
       "    }\n",
       "\n",
       "    .dataframe thead th {\n",
       "        text-align: right;\n",
       "    }\n",
       "</style>\n",
       "<table border=\"1\" class=\"dataframe\">\n",
       "  <thead>\n",
       "    <tr style=\"text-align: right;\">\n",
       "      <th></th>\n",
       "      <th>tconst</th>\n",
       "      <th>primary_title</th>\n",
       "      <th>original_title</th>\n",
       "      <th>start_year</th>\n",
       "      <th>runtime_minutes</th>\n",
       "      <th>genres</th>\n",
       "    </tr>\n",
       "  </thead>\n",
       "  <tbody>\n",
       "    <tr>\n",
       "      <th>0</th>\n",
       "      <td>tt0063540</td>\n",
       "      <td>Sunghursh</td>\n",
       "      <td>Sunghursh</td>\n",
       "      <td>2013</td>\n",
       "      <td>175.0</td>\n",
       "      <td>Action,Crime,Drama</td>\n",
       "    </tr>\n",
       "    <tr>\n",
       "      <th>1</th>\n",
       "      <td>tt0066787</td>\n",
       "      <td>One Day Before the Rainy Season</td>\n",
       "      <td>Ashad Ka Ek Din</td>\n",
       "      <td>2019</td>\n",
       "      <td>114.0</td>\n",
       "      <td>Biography,Drama</td>\n",
       "    </tr>\n",
       "    <tr>\n",
       "      <th>2</th>\n",
       "      <td>tt0069049</td>\n",
       "      <td>The Other Side of the Wind</td>\n",
       "      <td>The Other Side of the Wind</td>\n",
       "      <td>2018</td>\n",
       "      <td>122.0</td>\n",
       "      <td>Drama</td>\n",
       "    </tr>\n",
       "    <tr>\n",
       "      <th>3</th>\n",
       "      <td>tt0069204</td>\n",
       "      <td>Sabse Bada Sukh</td>\n",
       "      <td>Sabse Bada Sukh</td>\n",
       "      <td>2018</td>\n",
       "      <td>NaN</td>\n",
       "      <td>Comedy,Drama</td>\n",
       "    </tr>\n",
       "    <tr>\n",
       "      <th>4</th>\n",
       "      <td>tt0100275</td>\n",
       "      <td>The Wandering Soap Opera</td>\n",
       "      <td>La Telenovela Errante</td>\n",
       "      <td>2017</td>\n",
       "      <td>80.0</td>\n",
       "      <td>Comedy,Drama,Fantasy</td>\n",
       "    </tr>\n",
       "  </tbody>\n",
       "</table>\n",
       "</div>"
      ],
      "text/plain": [
       "      tconst                    primary_title              original_title  \\\n",
       "0  tt0063540                        Sunghursh                   Sunghursh   \n",
       "1  tt0066787  One Day Before the Rainy Season             Ashad Ka Ek Din   \n",
       "2  tt0069049       The Other Side of the Wind  The Other Side of the Wind   \n",
       "3  tt0069204                  Sabse Bada Sukh             Sabse Bada Sukh   \n",
       "4  tt0100275         The Wandering Soap Opera       La Telenovela Errante   \n",
       "\n",
       "   start_year  runtime_minutes                genres  \n",
       "0        2013            175.0    Action,Crime,Drama  \n",
       "1        2019            114.0       Biography,Drama  \n",
       "2        2018            122.0                 Drama  \n",
       "3        2018              NaN          Comedy,Drama  \n",
       "4        2017             80.0  Comedy,Drama,Fantasy  "
      ]
     },
     "execution_count": 45,
     "metadata": {},
     "output_type": "execute_result"
    }
   ],
   "source": [
    "df_dict['df_imdb_basics'].head()"
   ]
  },
  {
   "cell_type": "code",
   "execution_count": 175,
   "metadata": {},
   "outputs": [
    {
     "data": {
      "text/html": [
       "<div>\n",
       "<style scoped>\n",
       "    .dataframe tbody tr th:only-of-type {\n",
       "        vertical-align: middle;\n",
       "    }\n",
       "\n",
       "    .dataframe tbody tr th {\n",
       "        vertical-align: top;\n",
       "    }\n",
       "\n",
       "    .dataframe thead th {\n",
       "        text-align: right;\n",
       "    }\n",
       "</style>\n",
       "<table border=\"1\" class=\"dataframe\">\n",
       "  <thead>\n",
       "    <tr style=\"text-align: right;\">\n",
       "      <th></th>\n",
       "      <th>start_year</th>\n",
       "      <th>runtime_minutes</th>\n",
       "    </tr>\n",
       "  </thead>\n",
       "  <tbody>\n",
       "    <tr>\n",
       "      <th>count</th>\n",
       "      <td>146144.000000</td>\n",
       "      <td>114405.000000</td>\n",
       "    </tr>\n",
       "    <tr>\n",
       "      <th>mean</th>\n",
       "      <td>2014.621798</td>\n",
       "      <td>86.187247</td>\n",
       "    </tr>\n",
       "    <tr>\n",
       "      <th>std</th>\n",
       "      <td>2.733583</td>\n",
       "      <td>166.360590</td>\n",
       "    </tr>\n",
       "    <tr>\n",
       "      <th>min</th>\n",
       "      <td>2010.000000</td>\n",
       "      <td>1.000000</td>\n",
       "    </tr>\n",
       "    <tr>\n",
       "      <th>25%</th>\n",
       "      <td>2012.000000</td>\n",
       "      <td>70.000000</td>\n",
       "    </tr>\n",
       "    <tr>\n",
       "      <th>50%</th>\n",
       "      <td>2015.000000</td>\n",
       "      <td>87.000000</td>\n",
       "    </tr>\n",
       "    <tr>\n",
       "      <th>75%</th>\n",
       "      <td>2017.000000</td>\n",
       "      <td>99.000000</td>\n",
       "    </tr>\n",
       "    <tr>\n",
       "      <th>max</th>\n",
       "      <td>2115.000000</td>\n",
       "      <td>51420.000000</td>\n",
       "    </tr>\n",
       "  </tbody>\n",
       "</table>\n",
       "</div>"
      ],
      "text/plain": [
       "          start_year  runtime_minutes\n",
       "count  146144.000000    114405.000000\n",
       "mean     2014.621798        86.187247\n",
       "std         2.733583       166.360590\n",
       "min      2010.000000         1.000000\n",
       "25%      2012.000000        70.000000\n",
       "50%      2015.000000        87.000000\n",
       "75%      2017.000000        99.000000\n",
       "max      2115.000000     51420.000000"
      ]
     },
     "execution_count": 175,
     "metadata": {},
     "output_type": "execute_result"
    }
   ],
   "source": [
    "df_dict['df_imdb_basics'].describe()"
   ]
  },
  {
   "cell_type": "code",
   "execution_count": 46,
   "metadata": {},
   "outputs": [],
   "source": [
    "# Try importing entire dataframe into SQLLite\n",
    "df_dict['df_imdb_basics'].to_sql('imdb_basics', conn,index=False)"
   ]
  },
  {
   "cell_type": "code",
   "execution_count": 47,
   "metadata": {},
   "outputs": [],
   "source": [
    "conn.commit()"
   ]
  },
  {
   "cell_type": "code",
   "execution_count": 53,
   "metadata": {
    "scrolled": false
   },
   "outputs": [
    {
     "name": "stdout",
     "output_type": "stream",
     "text": [
      "<class 'pandas.core.frame.DataFrame'>\n",
      "RangeIndex: 5 entries, 0 to 4\n",
      "Data columns (total 6 columns):\n",
      " #   Column           Non-Null Count  Dtype  \n",
      "---  ------           --------------  -----  \n",
      " 0   tconst           5 non-null      object \n",
      " 1   primary_title    5 non-null      object \n",
      " 2   original_title   5 non-null      object \n",
      " 3   start_year       5 non-null      int64  \n",
      " 4   runtime_minutes  4 non-null      float64\n",
      " 5   genres           5 non-null      object \n",
      "dtypes: float64(1), int64(1), object(4)\n",
      "memory usage: 368.0+ bytes\n"
     ]
    }
   ],
   "source": [
    "sql = \"\"\"SELECT * FROM imdb_basics LIMIT 5\"\"\"\n",
    "\n",
    "df = pd.DataFrame(cur.execute(sql).fetchall(),columns=[x[0] for x in cur.description])\n",
    "df.info()"
   ]
  },
  {
   "cell_type": "markdown",
   "metadata": {},
   "source": [
    "### IMDB Datasets - Crew"
   ]
  },
  {
   "cell_type": "code",
   "execution_count": 57,
   "metadata": {
    "scrolled": false
   },
   "outputs": [
    {
     "data": {
      "text/html": [
       "<div>\n",
       "<style scoped>\n",
       "    .dataframe tbody tr th:only-of-type {\n",
       "        vertical-align: middle;\n",
       "    }\n",
       "\n",
       "    .dataframe tbody tr th {\n",
       "        vertical-align: top;\n",
       "    }\n",
       "\n",
       "    .dataframe thead th {\n",
       "        text-align: right;\n",
       "    }\n",
       "</style>\n",
       "<table border=\"1\" class=\"dataframe\">\n",
       "  <thead>\n",
       "    <tr style=\"text-align: right;\">\n",
       "      <th></th>\n",
       "      <th>tconst</th>\n",
       "      <th>directors</th>\n",
       "      <th>writers</th>\n",
       "    </tr>\n",
       "  </thead>\n",
       "  <tbody>\n",
       "    <tr>\n",
       "      <th>0</th>\n",
       "      <td>tt0285252</td>\n",
       "      <td>nm0899854</td>\n",
       "      <td>nm0899854</td>\n",
       "    </tr>\n",
       "    <tr>\n",
       "      <th>1</th>\n",
       "      <td>tt0438973</td>\n",
       "      <td>NaN</td>\n",
       "      <td>nm0175726,nm1802864</td>\n",
       "    </tr>\n",
       "    <tr>\n",
       "      <th>2</th>\n",
       "      <td>tt0462036</td>\n",
       "      <td>nm1940585</td>\n",
       "      <td>nm1940585</td>\n",
       "    </tr>\n",
       "    <tr>\n",
       "      <th>3</th>\n",
       "      <td>tt0835418</td>\n",
       "      <td>nm0151540</td>\n",
       "      <td>nm0310087,nm0841532</td>\n",
       "    </tr>\n",
       "    <tr>\n",
       "      <th>4</th>\n",
       "      <td>tt0878654</td>\n",
       "      <td>nm0089502,nm2291498,nm2292011</td>\n",
       "      <td>nm0284943</td>\n",
       "    </tr>\n",
       "  </tbody>\n",
       "</table>\n",
       "</div>"
      ],
      "text/plain": [
       "      tconst                      directors              writers\n",
       "0  tt0285252                      nm0899854            nm0899854\n",
       "1  tt0438973                            NaN  nm0175726,nm1802864\n",
       "2  tt0462036                      nm1940585            nm1940585\n",
       "3  tt0835418                      nm0151540  nm0310087,nm0841532\n",
       "4  tt0878654  nm0089502,nm2291498,nm2292011            nm0284943"
      ]
     },
     "execution_count": 57,
     "metadata": {},
     "output_type": "execute_result"
    }
   ],
   "source": [
    "df_dict['df_imdb_crew'].head()"
   ]
  },
  {
   "cell_type": "code",
   "execution_count": 61,
   "metadata": {},
   "outputs": [
    {
     "name": "stdout",
     "output_type": "stream",
     "text": [
      "146144\n",
      "146144\n"
     ]
    }
   ],
   "source": [
    "print(len(df_dict['df_imdb_crew']['tconst'].unique()))\n",
    "print(len(df_dict['df_imdb_crew']))"
   ]
  },
  {
   "cell_type": "markdown",
   "metadata": {},
   "source": [
    "The imdb_crew table matches up `tconst` (movie IDs) with `nconst` (name IDs). However, although each movie is listed once (`tconst` is unique, the people are comma-separated lists. Need to split this into separate lookup tables where they're flattened, so I can join one-to-many and select individual writers and directors independent of specific movies."
   ]
  },
  {
   "cell_type": "code",
   "execution_count": 62,
   "metadata": {},
   "outputs": [],
   "source": [
    "# Make a new working dataframe\n",
    "df_crew = df_dict['df_imdb_crew']"
   ]
  },
  {
   "cell_type": "code",
   "execution_count": 72,
   "metadata": {
    "scrolled": true
   },
   "outputs": [
    {
     "data": {
      "text/html": [
       "<div>\n",
       "<style scoped>\n",
       "    .dataframe tbody tr th:only-of-type {\n",
       "        vertical-align: middle;\n",
       "    }\n",
       "\n",
       "    .dataframe tbody tr th {\n",
       "        vertical-align: top;\n",
       "    }\n",
       "\n",
       "    .dataframe thead th {\n",
       "        text-align: right;\n",
       "    }\n",
       "</style>\n",
       "<table border=\"1\" class=\"dataframe\">\n",
       "  <thead>\n",
       "    <tr style=\"text-align: right;\">\n",
       "      <th></th>\n",
       "      <th>tconst</th>\n",
       "      <th>directors</th>\n",
       "      <th>writers</th>\n",
       "      <th>directors_list</th>\n",
       "    </tr>\n",
       "  </thead>\n",
       "  <tbody>\n",
       "    <tr>\n",
       "      <th>0</th>\n",
       "      <td>tt0285252</td>\n",
       "      <td>nm0899854</td>\n",
       "      <td>nm0899854</td>\n",
       "      <td>[nm0899854]</td>\n",
       "    </tr>\n",
       "    <tr>\n",
       "      <th>1</th>\n",
       "      <td>tt0438973</td>\n",
       "      <td>NaN</td>\n",
       "      <td>nm0175726,nm1802864</td>\n",
       "      <td>NaN</td>\n",
       "    </tr>\n",
       "    <tr>\n",
       "      <th>2</th>\n",
       "      <td>tt0462036</td>\n",
       "      <td>nm1940585</td>\n",
       "      <td>nm1940585</td>\n",
       "      <td>[nm1940585]</td>\n",
       "    </tr>\n",
       "    <tr>\n",
       "      <th>3</th>\n",
       "      <td>tt0835418</td>\n",
       "      <td>nm0151540</td>\n",
       "      <td>nm0310087,nm0841532</td>\n",
       "      <td>[nm0151540]</td>\n",
       "    </tr>\n",
       "    <tr>\n",
       "      <th>4</th>\n",
       "      <td>tt0878654</td>\n",
       "      <td>nm0089502,nm2291498,nm2292011</td>\n",
       "      <td>nm0284943</td>\n",
       "      <td>[nm0089502, nm2291498, nm2292011]</td>\n",
       "    </tr>\n",
       "  </tbody>\n",
       "</table>\n",
       "</div>"
      ],
      "text/plain": [
       "      tconst                      directors              writers  \\\n",
       "0  tt0285252                      nm0899854            nm0899854   \n",
       "1  tt0438973                            NaN  nm0175726,nm1802864   \n",
       "2  tt0462036                      nm1940585            nm1940585   \n",
       "3  tt0835418                      nm0151540  nm0310087,nm0841532   \n",
       "4  tt0878654  nm0089502,nm2291498,nm2292011            nm0284943   \n",
       "\n",
       "                      directors_list  \n",
       "0                        [nm0899854]  \n",
       "1                                NaN  \n",
       "2                        [nm1940585]  \n",
       "3                        [nm0151540]  \n",
       "4  [nm0089502, nm2291498, nm2292011]  "
      ]
     },
     "execution_count": 72,
     "metadata": {},
     "output_type": "execute_result"
    }
   ],
   "source": [
    "# Create a new column with the directors converted to a list\n",
    "df_crew['directors_list'] = df_crew[\n",
    "    df_crew['directors'].isna() == False]['directors'].map(\n",
    "    lambda x: list(x.split(',')))\n",
    "df_crew.head()"
   ]
  },
  {
   "cell_type": "code",
   "execution_count": 73,
   "metadata": {
    "scrolled": false
   },
   "outputs": [
    {
     "data": {
      "text/html": [
       "<div>\n",
       "<style scoped>\n",
       "    .dataframe tbody tr th:only-of-type {\n",
       "        vertical-align: middle;\n",
       "    }\n",
       "\n",
       "    .dataframe tbody tr th {\n",
       "        vertical-align: top;\n",
       "    }\n",
       "\n",
       "    .dataframe thead th {\n",
       "        text-align: right;\n",
       "    }\n",
       "</style>\n",
       "<table border=\"1\" class=\"dataframe\">\n",
       "  <thead>\n",
       "    <tr style=\"text-align: right;\">\n",
       "      <th></th>\n",
       "      <th>tconst</th>\n",
       "      <th>directors</th>\n",
       "      <th>writers</th>\n",
       "      <th>directors_list</th>\n",
       "      <th>writers_list</th>\n",
       "    </tr>\n",
       "  </thead>\n",
       "  <tbody>\n",
       "    <tr>\n",
       "      <th>0</th>\n",
       "      <td>tt0285252</td>\n",
       "      <td>nm0899854</td>\n",
       "      <td>nm0899854</td>\n",
       "      <td>[nm0899854]</td>\n",
       "      <td>[nm0899854]</td>\n",
       "    </tr>\n",
       "    <tr>\n",
       "      <th>1</th>\n",
       "      <td>tt0438973</td>\n",
       "      <td>NaN</td>\n",
       "      <td>nm0175726,nm1802864</td>\n",
       "      <td>NaN</td>\n",
       "      <td>[nm0175726, nm1802864]</td>\n",
       "    </tr>\n",
       "    <tr>\n",
       "      <th>2</th>\n",
       "      <td>tt0462036</td>\n",
       "      <td>nm1940585</td>\n",
       "      <td>nm1940585</td>\n",
       "      <td>[nm1940585]</td>\n",
       "      <td>[nm1940585]</td>\n",
       "    </tr>\n",
       "    <tr>\n",
       "      <th>3</th>\n",
       "      <td>tt0835418</td>\n",
       "      <td>nm0151540</td>\n",
       "      <td>nm0310087,nm0841532</td>\n",
       "      <td>[nm0151540]</td>\n",
       "      <td>[nm0310087, nm0841532]</td>\n",
       "    </tr>\n",
       "    <tr>\n",
       "      <th>4</th>\n",
       "      <td>tt0878654</td>\n",
       "      <td>nm0089502,nm2291498,nm2292011</td>\n",
       "      <td>nm0284943</td>\n",
       "      <td>[nm0089502, nm2291498, nm2292011]</td>\n",
       "      <td>[nm0284943]</td>\n",
       "    </tr>\n",
       "  </tbody>\n",
       "</table>\n",
       "</div>"
      ],
      "text/plain": [
       "      tconst                      directors              writers  \\\n",
       "0  tt0285252                      nm0899854            nm0899854   \n",
       "1  tt0438973                            NaN  nm0175726,nm1802864   \n",
       "2  tt0462036                      nm1940585            nm1940585   \n",
       "3  tt0835418                      nm0151540  nm0310087,nm0841532   \n",
       "4  tt0878654  nm0089502,nm2291498,nm2292011            nm0284943   \n",
       "\n",
       "                      directors_list            writers_list  \n",
       "0                        [nm0899854]             [nm0899854]  \n",
       "1                                NaN  [nm0175726, nm1802864]  \n",
       "2                        [nm1940585]             [nm1940585]  \n",
       "3                        [nm0151540]  [nm0310087, nm0841532]  \n",
       "4  [nm0089502, nm2291498, nm2292011]             [nm0284943]  "
      ]
     },
     "execution_count": 73,
     "metadata": {},
     "output_type": "execute_result"
    }
   ],
   "source": [
    "# Create a new column with the writers converted to a list\n",
    "df_crew['writers_list'] = df_crew[\n",
    "    df_crew['writers'].isna() == False]['writers'].map(\n",
    "    lambda x: list(x.split(',')))\n",
    "df_crew.head()"
   ]
  },
  {
   "cell_type": "code",
   "execution_count": 77,
   "metadata": {},
   "outputs": [
    {
     "data": {
      "text/plain": [
       "0"
      ]
     },
     "execution_count": 77,
     "metadata": {},
     "output_type": "execute_result"
    }
   ],
   "source": [
    "# Create yet another dataframe with just the directors and remove NaNs\n",
    "df_directors = df_crew.loc[df_crew['directors_list'].isna() == False, ['tconst'\n",
    "                                                        ,'directors_list']]\n",
    "df_directors.isna().any().sum()"
   ]
  },
  {
   "cell_type": "code",
   "execution_count": 81,
   "metadata": {
    "scrolled": true
   },
   "outputs": [
    {
     "name": "stdout",
     "output_type": "stream",
     "text": [
      "Unique: 140417\n",
      "Total Rows: 163535\n"
     ]
    },
    {
     "data": {
      "text/html": [
       "<div>\n",
       "<style scoped>\n",
       "    .dataframe tbody tr th:only-of-type {\n",
       "        vertical-align: middle;\n",
       "    }\n",
       "\n",
       "    .dataframe tbody tr th {\n",
       "        vertical-align: top;\n",
       "    }\n",
       "\n",
       "    .dataframe thead th {\n",
       "        text-align: right;\n",
       "    }\n",
       "</style>\n",
       "<table border=\"1\" class=\"dataframe\">\n",
       "  <thead>\n",
       "    <tr style=\"text-align: right;\">\n",
       "      <th></th>\n",
       "      <th>tconst</th>\n",
       "      <th>directors_list</th>\n",
       "    </tr>\n",
       "  </thead>\n",
       "  <tbody>\n",
       "    <tr>\n",
       "      <th>0</th>\n",
       "      <td>tt0285252</td>\n",
       "      <td>nm0899854</td>\n",
       "    </tr>\n",
       "    <tr>\n",
       "      <th>1</th>\n",
       "      <td>tt0462036</td>\n",
       "      <td>nm1940585</td>\n",
       "    </tr>\n",
       "    <tr>\n",
       "      <th>2</th>\n",
       "      <td>tt0835418</td>\n",
       "      <td>nm0151540</td>\n",
       "    </tr>\n",
       "    <tr>\n",
       "      <th>3</th>\n",
       "      <td>tt0878654</td>\n",
       "      <td>nm0089502</td>\n",
       "    </tr>\n",
       "    <tr>\n",
       "      <th>4</th>\n",
       "      <td>tt0878654</td>\n",
       "      <td>nm2291498</td>\n",
       "    </tr>\n",
       "  </tbody>\n",
       "</table>\n",
       "</div>"
      ],
      "text/plain": [
       "      tconst directors_list\n",
       "0  tt0285252      nm0899854\n",
       "1  tt0462036      nm1940585\n",
       "2  tt0835418      nm0151540\n",
       "3  tt0878654      nm0089502\n",
       "4  tt0878654      nm2291498"
      ]
     },
     "execution_count": 81,
     "metadata": {},
     "output_type": "execute_result"
    }
   ],
   "source": [
    "# Use explode to create a row for each director, with tconst duplicated\n",
    "df_directors = df_directors.explode('directors_list', ignore_index=True)\n",
    "\n",
    "print(f\"Unique: {df_directors['tconst'].nunique()}\")\n",
    "print(f\"Total Rows: {len(df_directors)}\")\n",
    "df_directors.head()"
   ]
  },
  {
   "cell_type": "code",
   "execution_count": 95,
   "metadata": {
    "scrolled": true
   },
   "outputs": [],
   "source": [
    "df_directors.rename(columns={'directors_list':'nconst'}, inplace=True)"
   ]
  },
  {
   "cell_type": "code",
   "execution_count": 96,
   "metadata": {},
   "outputs": [
    {
     "name": "stdout",
     "output_type": "stream",
     "text": [
      "<class 'pandas.core.frame.DataFrame'>\n",
      "RangeIndex: 5 entries, 0 to 4\n",
      "Data columns (total 2 columns):\n",
      " #   Column  Non-Null Count  Dtype \n",
      "---  ------  --------------  ----- \n",
      " 0   tconst  5 non-null      object\n",
      " 1   nconst  5 non-null      object\n",
      "dtypes: object(2)\n",
      "memory usage: 208.0+ bytes\n"
     ]
    }
   ],
   "source": [
    "# Import our squeaky clean dataframe into SQL\n",
    "\n",
    "df_directors.to_sql('imdb_directors', conn ,index=False)\n",
    "\n",
    "sql = \"\"\"SELECT * FROM imdb_directors LIMIT 5\"\"\"\n",
    "\n",
    "df = pd.DataFrame(cur.execute(sql).fetchall(),columns=[x[0] for x in cur.description])\n",
    "df.info()"
   ]
  },
  {
   "cell_type": "code",
   "execution_count": 97,
   "metadata": {},
   "outputs": [],
   "source": [
    "conn.commit()"
   ]
  },
  {
   "cell_type": "code",
   "execution_count": 89,
   "metadata": {},
   "outputs": [
    {
     "name": "stdout",
     "output_type": "stream",
     "text": [
      "Unique: 110261\n",
      "Total Rows: 178352\n"
     ]
    }
   ],
   "source": [
    "# Same deal with writers\n",
    "\n",
    "# Create yet another dataframe with just the writers and remove NaNs\n",
    "df_writers = df_crew.loc[df_crew['writers_list'].isna() == False, ['tconst'\n",
    "                                                        ,'writers_list']]\n",
    "\n",
    "# Use explode to create a row for each writers, with tconst duplicated\n",
    "df_writers = df_writers.explode('writers_list', ignore_index=True)\n",
    "\n",
    "print(f\"Unique: {df_writers['tconst'].nunique()}\")\n",
    "print(f\"Total Rows: {len(df_writers)}\")"
   ]
  },
  {
   "cell_type": "code",
   "execution_count": 98,
   "metadata": {},
   "outputs": [],
   "source": [
    "df_writers.rename(columns={'writers_list':'nconst'},inplace=True)"
   ]
  },
  {
   "cell_type": "code",
   "execution_count": 99,
   "metadata": {},
   "outputs": [
    {
     "name": "stdout",
     "output_type": "stream",
     "text": [
      "<class 'pandas.core.frame.DataFrame'>\n",
      "RangeIndex: 5 entries, 0 to 4\n",
      "Data columns (total 2 columns):\n",
      " #   Column  Non-Null Count  Dtype \n",
      "---  ------  --------------  ----- \n",
      " 0   tconst  5 non-null      object\n",
      " 1   nconst  5 non-null      object\n",
      "dtypes: object(2)\n",
      "memory usage: 208.0+ bytes\n"
     ]
    }
   ],
   "source": [
    "df_writers.to_sql('imdb_writers', conn ,index=False)\n",
    "\n",
    "sql = \"\"\"SELECT * FROM imdb_writers LIMIT 5\"\"\"\n",
    "\n",
    "df = pd.DataFrame(cur.execute(sql).fetchall(),columns=[x[0] for x in cur.description])\n",
    "df.info()"
   ]
  },
  {
   "cell_type": "code",
   "execution_count": 100,
   "metadata": {},
   "outputs": [],
   "source": [
    "conn.commit()"
   ]
  },
  {
   "cell_type": "markdown",
   "metadata": {},
   "source": [
    "### IMDB Datasets - Name Basics"
   ]
  },
  {
   "cell_type": "code",
   "execution_count": 101,
   "metadata": {
    "scrolled": true
   },
   "outputs": [
    {
     "data": {
      "text/html": [
       "<div>\n",
       "<style scoped>\n",
       "    .dataframe tbody tr th:only-of-type {\n",
       "        vertical-align: middle;\n",
       "    }\n",
       "\n",
       "    .dataframe tbody tr th {\n",
       "        vertical-align: top;\n",
       "    }\n",
       "\n",
       "    .dataframe thead th {\n",
       "        text-align: right;\n",
       "    }\n",
       "</style>\n",
       "<table border=\"1\" class=\"dataframe\">\n",
       "  <thead>\n",
       "    <tr style=\"text-align: right;\">\n",
       "      <th></th>\n",
       "      <th>nconst</th>\n",
       "      <th>primary_name</th>\n",
       "      <th>birth_year</th>\n",
       "      <th>death_year</th>\n",
       "      <th>primary_profession</th>\n",
       "      <th>known_for_titles</th>\n",
       "    </tr>\n",
       "  </thead>\n",
       "  <tbody>\n",
       "    <tr>\n",
       "      <th>0</th>\n",
       "      <td>nm0061671</td>\n",
       "      <td>Mary Ellen Bauder</td>\n",
       "      <td>NaN</td>\n",
       "      <td>NaN</td>\n",
       "      <td>miscellaneous,production_manager,producer</td>\n",
       "      <td>tt0837562,tt2398241,tt0844471,tt0118553</td>\n",
       "    </tr>\n",
       "    <tr>\n",
       "      <th>1</th>\n",
       "      <td>nm0061865</td>\n",
       "      <td>Joseph Bauer</td>\n",
       "      <td>NaN</td>\n",
       "      <td>NaN</td>\n",
       "      <td>composer,music_department,sound_department</td>\n",
       "      <td>tt0896534,tt6791238,tt0287072,tt1682940</td>\n",
       "    </tr>\n",
       "    <tr>\n",
       "      <th>2</th>\n",
       "      <td>nm0062070</td>\n",
       "      <td>Bruce Baum</td>\n",
       "      <td>NaN</td>\n",
       "      <td>NaN</td>\n",
       "      <td>miscellaneous,actor,writer</td>\n",
       "      <td>tt1470654,tt0363631,tt0104030,tt0102898</td>\n",
       "    </tr>\n",
       "    <tr>\n",
       "      <th>3</th>\n",
       "      <td>nm0062195</td>\n",
       "      <td>Axel Baumann</td>\n",
       "      <td>NaN</td>\n",
       "      <td>NaN</td>\n",
       "      <td>camera_department,cinematographer,art_department</td>\n",
       "      <td>tt0114371,tt2004304,tt1618448,tt1224387</td>\n",
       "    </tr>\n",
       "    <tr>\n",
       "      <th>4</th>\n",
       "      <td>nm0062798</td>\n",
       "      <td>Pete Baxter</td>\n",
       "      <td>NaN</td>\n",
       "      <td>NaN</td>\n",
       "      <td>production_designer,art_department,set_decorator</td>\n",
       "      <td>tt0452644,tt0452692,tt3458030,tt2178256</td>\n",
       "    </tr>\n",
       "  </tbody>\n",
       "</table>\n",
       "</div>"
      ],
      "text/plain": [
       "      nconst       primary_name  birth_year  death_year  \\\n",
       "0  nm0061671  Mary Ellen Bauder         NaN         NaN   \n",
       "1  nm0061865       Joseph Bauer         NaN         NaN   \n",
       "2  nm0062070         Bruce Baum         NaN         NaN   \n",
       "3  nm0062195       Axel Baumann         NaN         NaN   \n",
       "4  nm0062798        Pete Baxter         NaN         NaN   \n",
       "\n",
       "                                 primary_profession  \\\n",
       "0         miscellaneous,production_manager,producer   \n",
       "1        composer,music_department,sound_department   \n",
       "2                        miscellaneous,actor,writer   \n",
       "3  camera_department,cinematographer,art_department   \n",
       "4  production_designer,art_department,set_decorator   \n",
       "\n",
       "                          known_for_titles  \n",
       "0  tt0837562,tt2398241,tt0844471,tt0118553  \n",
       "1  tt0896534,tt6791238,tt0287072,tt1682940  \n",
       "2  tt1470654,tt0363631,tt0104030,tt0102898  \n",
       "3  tt0114371,tt2004304,tt1618448,tt1224387  \n",
       "4  tt0452644,tt0452692,tt3458030,tt2178256  "
      ]
     },
     "execution_count": 101,
     "metadata": {},
     "output_type": "execute_result"
    }
   ],
   "source": [
    "df_dict['df_imdb_namebasics'].head()"
   ]
  },
  {
   "cell_type": "code",
   "execution_count": 104,
   "metadata": {
    "scrolled": true
   },
   "outputs": [
    {
     "name": "stdout",
     "output_type": "stream",
     "text": [
      "<class 'pandas.core.frame.DataFrame'>\n",
      "RangeIndex: 606648 entries, 0 to 606647\n",
      "Data columns (total 3 columns):\n",
      " #   Column        Non-Null Count   Dtype  \n",
      "---  ------        --------------   -----  \n",
      " 0   nconst        606648 non-null  object \n",
      " 1   primary_name  606648 non-null  object \n",
      " 2   birth_year    82736 non-null   float64\n",
      "dtypes: float64(1), object(2)\n",
      "memory usage: 13.9+ MB\n"
     ]
    }
   ],
   "source": [
    "df_name = df_dict['df_imdb_namebasics'][['nconst', 'primary_name', 'birth_year']]\n",
    "df_name.info()"
   ]
  },
  {
   "cell_type": "code",
   "execution_count": null,
   "metadata": {},
   "outputs": [],
   "source": [
    "column_types = {'nconst':'TEXT', 'primary_name': 'TEXT', 'birth_year': 'INTEGER'}\n",
    "df_name.to_sql('imdb_names', conn ,index=False, dtype=column_types)"
   ]
  },
  {
   "cell_type": "code",
   "execution_count": 111,
   "metadata": {
    "scrolled": true
   },
   "outputs": [
    {
     "data": {
      "text/html": [
       "<div>\n",
       "<style scoped>\n",
       "    .dataframe tbody tr th:only-of-type {\n",
       "        vertical-align: middle;\n",
       "    }\n",
       "\n",
       "    .dataframe tbody tr th {\n",
       "        vertical-align: top;\n",
       "    }\n",
       "\n",
       "    .dataframe thead th {\n",
       "        text-align: right;\n",
       "    }\n",
       "</style>\n",
       "<table border=\"1\" class=\"dataframe\">\n",
       "  <thead>\n",
       "    <tr style=\"text-align: right;\">\n",
       "      <th></th>\n",
       "      <th>nconst</th>\n",
       "      <th>primary_name</th>\n",
       "      <th>birth_year</th>\n",
       "    </tr>\n",
       "  </thead>\n",
       "  <tbody>\n",
       "    <tr>\n",
       "      <th>0</th>\n",
       "      <td>nm0063618</td>\n",
       "      <td>Jeff Beal</td>\n",
       "      <td>1963</td>\n",
       "    </tr>\n",
       "    <tr>\n",
       "      <th>1</th>\n",
       "      <td>nm0065847</td>\n",
       "      <td>Michael Frost Beckner</td>\n",
       "      <td>1963</td>\n",
       "    </tr>\n",
       "    <tr>\n",
       "      <th>2</th>\n",
       "      <td>nm0066093</td>\n",
       "      <td>Ahmad Bedair</td>\n",
       "      <td>1945</td>\n",
       "    </tr>\n",
       "    <tr>\n",
       "      <th>3</th>\n",
       "      <td>nm0066897</td>\n",
       "      <td>Mohammad-Ali Behboudi</td>\n",
       "      <td>1956</td>\n",
       "    </tr>\n",
       "    <tr>\n",
       "      <th>4</th>\n",
       "      <td>nm0067983</td>\n",
       "      <td>Krunoslav Belko</td>\n",
       "      <td>1971</td>\n",
       "    </tr>\n",
       "  </tbody>\n",
       "</table>\n",
       "</div>"
      ],
      "text/plain": [
       "      nconst           primary_name  birth_year\n",
       "0  nm0063618              Jeff Beal        1963\n",
       "1  nm0065847  Michael Frost Beckner        1963\n",
       "2  nm0066093           Ahmad Bedair        1945\n",
       "3  nm0066897  Mohammad-Ali Behboudi        1956\n",
       "4  nm0067983        Krunoslav Belko        1971"
      ]
     },
     "execution_count": 111,
     "metadata": {},
     "output_type": "execute_result"
    }
   ],
   "source": [
    "sql = \"\"\"SELECT * \n",
    "         FROM imdb_names \n",
    "         WHERE birth_year IS NOT NULL\n",
    "         LIMIT 5\"\"\"\n",
    "\n",
    "df = pd.DataFrame(cur.execute(sql).fetchall(),columns=[x[0] for x in cur.description])\n",
    "df"
   ]
  },
  {
   "cell_type": "code",
   "execution_count": 114,
   "metadata": {},
   "outputs": [],
   "source": [
    "conn.commit()"
   ]
  },
  {
   "cell_type": "markdown",
   "metadata": {},
   "source": [
    "### IMDB Datasets - Principals"
   ]
  },
  {
   "cell_type": "code",
   "execution_count": 112,
   "metadata": {
    "scrolled": false
   },
   "outputs": [
    {
     "data": {
      "text/html": [
       "<div>\n",
       "<style scoped>\n",
       "    .dataframe tbody tr th:only-of-type {\n",
       "        vertical-align: middle;\n",
       "    }\n",
       "\n",
       "    .dataframe tbody tr th {\n",
       "        vertical-align: top;\n",
       "    }\n",
       "\n",
       "    .dataframe thead th {\n",
       "        text-align: right;\n",
       "    }\n",
       "</style>\n",
       "<table border=\"1\" class=\"dataframe\">\n",
       "  <thead>\n",
       "    <tr style=\"text-align: right;\">\n",
       "      <th></th>\n",
       "      <th>tconst</th>\n",
       "      <th>ordering</th>\n",
       "      <th>nconst</th>\n",
       "      <th>category</th>\n",
       "      <th>job</th>\n",
       "      <th>characters</th>\n",
       "    </tr>\n",
       "  </thead>\n",
       "  <tbody>\n",
       "    <tr>\n",
       "      <th>0</th>\n",
       "      <td>tt0111414</td>\n",
       "      <td>1</td>\n",
       "      <td>nm0246005</td>\n",
       "      <td>actor</td>\n",
       "      <td>NaN</td>\n",
       "      <td>[\"The Man\"]</td>\n",
       "    </tr>\n",
       "    <tr>\n",
       "      <th>1</th>\n",
       "      <td>tt0111414</td>\n",
       "      <td>2</td>\n",
       "      <td>nm0398271</td>\n",
       "      <td>director</td>\n",
       "      <td>NaN</td>\n",
       "      <td>NaN</td>\n",
       "    </tr>\n",
       "    <tr>\n",
       "      <th>2</th>\n",
       "      <td>tt0111414</td>\n",
       "      <td>3</td>\n",
       "      <td>nm3739909</td>\n",
       "      <td>producer</td>\n",
       "      <td>producer</td>\n",
       "      <td>NaN</td>\n",
       "    </tr>\n",
       "    <tr>\n",
       "      <th>3</th>\n",
       "      <td>tt0323808</td>\n",
       "      <td>10</td>\n",
       "      <td>nm0059247</td>\n",
       "      <td>editor</td>\n",
       "      <td>NaN</td>\n",
       "      <td>NaN</td>\n",
       "    </tr>\n",
       "    <tr>\n",
       "      <th>4</th>\n",
       "      <td>tt0323808</td>\n",
       "      <td>1</td>\n",
       "      <td>nm3579312</td>\n",
       "      <td>actress</td>\n",
       "      <td>NaN</td>\n",
       "      <td>[\"Beth Boothby\"]</td>\n",
       "    </tr>\n",
       "  </tbody>\n",
       "</table>\n",
       "</div>"
      ],
      "text/plain": [
       "      tconst  ordering     nconst  category       job        characters\n",
       "0  tt0111414         1  nm0246005     actor       NaN       [\"The Man\"]\n",
       "1  tt0111414         2  nm0398271  director       NaN               NaN\n",
       "2  tt0111414         3  nm3739909  producer  producer               NaN\n",
       "3  tt0323808        10  nm0059247    editor       NaN               NaN\n",
       "4  tt0323808         1  nm3579312   actress       NaN  [\"Beth Boothby\"]"
      ]
     },
     "execution_count": 112,
     "metadata": {},
     "output_type": "execute_result"
    }
   ],
   "source": [
    "df_dict['df_imdb_principals'].head()"
   ]
  },
  {
   "cell_type": "code",
   "execution_count": 132,
   "metadata": {},
   "outputs": [
    {
     "name": "stdout",
     "output_type": "stream",
     "text": [
      "604546\n",
      "1028151\n"
     ]
    }
   ],
   "source": [
    "print(len(df_dict['df_imdb_principals']['nconst'].unique()))\n",
    "print(len(df_dict['df_imdb_principals']))"
   ]
  },
  {
   "cell_type": "markdown",
   "metadata": {},
   "source": [
    "Hmm, so `tconst` definitely isn't unique, and `nconst` isn't unique either. I'm thinking maybe this is already exploded, and the duplicates are cases where a given person was both an actor and director, or held multiple roles. Let's check."
   ]
  },
  {
   "cell_type": "code",
   "execution_count": 130,
   "metadata": {},
   "outputs": [],
   "source": [
    "df_ppals = df_dict['df_imdb_principals']"
   ]
  },
  {
   "cell_type": "code",
   "execution_count": 131,
   "metadata": {
    "scrolled": false
   },
   "outputs": [
    {
     "data": {
      "text/html": [
       "<div>\n",
       "<style scoped>\n",
       "    .dataframe tbody tr th:only-of-type {\n",
       "        vertical-align: middle;\n",
       "    }\n",
       "\n",
       "    .dataframe tbody tr th {\n",
       "        vertical-align: top;\n",
       "    }\n",
       "\n",
       "    .dataframe thead th {\n",
       "        text-align: right;\n",
       "    }\n",
       "</style>\n",
       "<table border=\"1\" class=\"dataframe\">\n",
       "  <thead>\n",
       "    <tr style=\"text-align: right;\">\n",
       "      <th></th>\n",
       "      <th>tconst</th>\n",
       "      <th>ordering</th>\n",
       "      <th>nconst</th>\n",
       "      <th>category</th>\n",
       "      <th>job</th>\n",
       "      <th>characters</th>\n",
       "    </tr>\n",
       "  </thead>\n",
       "  <tbody>\n",
       "  </tbody>\n",
       "</table>\n",
       "</div>"
      ],
      "text/plain": [
       "Empty DataFrame\n",
       "Columns: [tconst, ordering, nconst, category, job, characters]\n",
       "Index: []"
      ]
     },
     "execution_count": 131,
     "metadata": {},
     "output_type": "execute_result"
    }
   ],
   "source": [
    "# Let's preview some of the rows where nconst and tconst and category are the same\n",
    "\n",
    "df_ppals[df_ppals.duplicated(subset=['nconst', 'tconst','category'], keep=False) == True]"
   ]
  },
  {
   "cell_type": "code",
   "execution_count": 125,
   "metadata": {},
   "outputs": [],
   "source": [
    "# I don't want to import duplicate data, so will drop duplicates for the \n",
    "# columns I will be using\n",
    "\n",
    "df_ppals.drop_duplicates(subset=['nconst', 'tconst','category']\n",
    "                         , keep='first', inplace=True)"
   ]
  },
  {
   "cell_type": "code",
   "execution_count": 133,
   "metadata": {
    "scrolled": true
   },
   "outputs": [
    {
     "data": {
      "text/html": [
       "<div>\n",
       "<style scoped>\n",
       "    .dataframe tbody tr th:only-of-type {\n",
       "        vertical-align: middle;\n",
       "    }\n",
       "\n",
       "    .dataframe tbody tr th {\n",
       "        vertical-align: top;\n",
       "    }\n",
       "\n",
       "    .dataframe thead th {\n",
       "        text-align: right;\n",
       "    }\n",
       "</style>\n",
       "<table border=\"1\" class=\"dataframe\">\n",
       "  <thead>\n",
       "    <tr style=\"text-align: right;\">\n",
       "      <th></th>\n",
       "      <th>tconst</th>\n",
       "      <th>nconst</th>\n",
       "      <th>category</th>\n",
       "    </tr>\n",
       "  </thead>\n",
       "  <tbody>\n",
       "    <tr>\n",
       "      <th>0</th>\n",
       "      <td>tt0111414</td>\n",
       "      <td>nm0246005</td>\n",
       "      <td>actor</td>\n",
       "    </tr>\n",
       "    <tr>\n",
       "      <th>1</th>\n",
       "      <td>tt0111414</td>\n",
       "      <td>nm0398271</td>\n",
       "      <td>director</td>\n",
       "    </tr>\n",
       "    <tr>\n",
       "      <th>2</th>\n",
       "      <td>tt0111414</td>\n",
       "      <td>nm3739909</td>\n",
       "      <td>producer</td>\n",
       "    </tr>\n",
       "    <tr>\n",
       "      <th>3</th>\n",
       "      <td>tt0323808</td>\n",
       "      <td>nm0059247</td>\n",
       "      <td>editor</td>\n",
       "    </tr>\n",
       "    <tr>\n",
       "      <th>4</th>\n",
       "      <td>tt0323808</td>\n",
       "      <td>nm3579312</td>\n",
       "      <td>actress</td>\n",
       "    </tr>\n",
       "    <tr>\n",
       "      <th>...</th>\n",
       "      <td>...</td>\n",
       "      <td>...</td>\n",
       "      <td>...</td>\n",
       "    </tr>\n",
       "    <tr>\n",
       "      <th>1028181</th>\n",
       "      <td>tt9692684</td>\n",
       "      <td>nm0186469</td>\n",
       "      <td>actor</td>\n",
       "    </tr>\n",
       "    <tr>\n",
       "      <th>1028182</th>\n",
       "      <td>tt9692684</td>\n",
       "      <td>nm4929530</td>\n",
       "      <td>self</td>\n",
       "    </tr>\n",
       "    <tr>\n",
       "      <th>1028183</th>\n",
       "      <td>tt9692684</td>\n",
       "      <td>nm10441594</td>\n",
       "      <td>director</td>\n",
       "    </tr>\n",
       "    <tr>\n",
       "      <th>1028184</th>\n",
       "      <td>tt9692684</td>\n",
       "      <td>nm6009913</td>\n",
       "      <td>writer</td>\n",
       "    </tr>\n",
       "    <tr>\n",
       "      <th>1028185</th>\n",
       "      <td>tt9692684</td>\n",
       "      <td>nm10441595</td>\n",
       "      <td>producer</td>\n",
       "    </tr>\n",
       "  </tbody>\n",
       "</table>\n",
       "<p>1028151 rows × 3 columns</p>\n",
       "</div>"
      ],
      "text/plain": [
       "            tconst      nconst  category\n",
       "0        tt0111414   nm0246005     actor\n",
       "1        tt0111414   nm0398271  director\n",
       "2        tt0111414   nm3739909  producer\n",
       "3        tt0323808   nm0059247    editor\n",
       "4        tt0323808   nm3579312   actress\n",
       "...            ...         ...       ...\n",
       "1028181  tt9692684   nm0186469     actor\n",
       "1028182  tt9692684   nm4929530      self\n",
       "1028183  tt9692684  nm10441594  director\n",
       "1028184  tt9692684   nm6009913    writer\n",
       "1028185  tt9692684  nm10441595  producer\n",
       "\n",
       "[1028151 rows x 3 columns]"
      ]
     },
     "execution_count": 133,
     "metadata": {},
     "output_type": "execute_result"
    }
   ],
   "source": [
    "df_ppals[['tconst','nconst', 'category']]"
   ]
  },
  {
   "cell_type": "code",
   "execution_count": 138,
   "metadata": {
    "scrolled": true
   },
   "outputs": [
    {
     "data": {
      "text/plain": [
       "'actor                  256700\\ndirector               146393\\nactress                146193\\nproducer               113723\\ncinematographer         80091\\ncomposer                77063\\nwriter                  74357\\nself                    65424\\neditor                  55511\\nproduction_designer      9373\\narchive_footage          3307\\narchive_sound              16\\nName: category, dtype: int64'"
      ]
     },
     "execution_count": 138,
     "metadata": {},
     "output_type": "execute_result"
    }
   ],
   "source": [
    "df_ppals['category'].value_counts()\n",
    "\n",
    "\"\"\"\n",
    "actor                  256700\n",
    "director               146393\n",
    "actress                146193\n",
    "producer               113723\n",
    "cinematographer         80091\n",
    "composer                77063\n",
    "writer                  74357\n",
    "self                    65424\n",
    "editor                  55511\n",
    "production_designer      9373\n",
    "archive_footage          3307\n",
    "archive_sound              16\n",
    "\"\"\""
   ]
  },
  {
   "cell_type": "code",
   "execution_count": 141,
   "metadata": {
    "scrolled": false
   },
   "outputs": [
    {
     "data": {
      "text/html": [
       "<div>\n",
       "<style scoped>\n",
       "    .dataframe tbody tr th:only-of-type {\n",
       "        vertical-align: middle;\n",
       "    }\n",
       "\n",
       "    .dataframe tbody tr th {\n",
       "        vertical-align: top;\n",
       "    }\n",
       "\n",
       "    .dataframe thead th {\n",
       "        text-align: right;\n",
       "    }\n",
       "</style>\n",
       "<table border=\"1\" class=\"dataframe\">\n",
       "  <thead>\n",
       "    <tr style=\"text-align: right;\">\n",
       "      <th></th>\n",
       "      <th>tconst</th>\n",
       "      <th>nconst</th>\n",
       "      <th>category</th>\n",
       "    </tr>\n",
       "  </thead>\n",
       "  <tbody>\n",
       "    <tr>\n",
       "      <th>0</th>\n",
       "      <td>tt0111414</td>\n",
       "      <td>nm0246005</td>\n",
       "      <td>actor</td>\n",
       "    </tr>\n",
       "    <tr>\n",
       "      <th>1</th>\n",
       "      <td>tt0111414</td>\n",
       "      <td>nm0398271</td>\n",
       "      <td>director</td>\n",
       "    </tr>\n",
       "    <tr>\n",
       "      <th>2</th>\n",
       "      <td>tt0111414</td>\n",
       "      <td>nm3739909</td>\n",
       "      <td>producer</td>\n",
       "    </tr>\n",
       "    <tr>\n",
       "      <th>3</th>\n",
       "      <td>tt0323808</td>\n",
       "      <td>nm0059247</td>\n",
       "      <td>editor</td>\n",
       "    </tr>\n",
       "    <tr>\n",
       "      <th>4</th>\n",
       "      <td>tt0323808</td>\n",
       "      <td>nm3579312</td>\n",
       "      <td>actress</td>\n",
       "    </tr>\n",
       "  </tbody>\n",
       "</table>\n",
       "</div>"
      ],
      "text/plain": [
       "      tconst     nconst  category\n",
       "0  tt0111414  nm0246005     actor\n",
       "1  tt0111414  nm0398271  director\n",
       "2  tt0111414  nm3739909  producer\n",
       "3  tt0323808  nm0059247    editor\n",
       "4  tt0323808  nm3579312   actress"
      ]
     },
     "execution_count": 141,
     "metadata": {},
     "output_type": "execute_result"
    }
   ],
   "source": [
    "df_ppals[['tconst','nconst', 'category']].to_sql('imdb_principals', conn ,index=False)\n",
    "\n",
    "sql = \"\"\"SELECT * \n",
    "         FROM imdb_principals\n",
    "         LIMIT 5\"\"\"\n",
    "\n",
    "df = pd.DataFrame(cur.execute(sql).fetchall(),columns=[x[0] for x in cur.description])\n",
    "df"
   ]
  },
  {
   "cell_type": "code",
   "execution_count": 142,
   "metadata": {},
   "outputs": [],
   "source": [
    "conn.commit()"
   ]
  },
  {
   "cell_type": "markdown",
   "metadata": {},
   "source": [
    "### IMDB Datasets - Ratings"
   ]
  },
  {
   "cell_type": "code",
   "execution_count": 145,
   "metadata": {
    "scrolled": false
   },
   "outputs": [
    {
     "data": {
      "text/html": [
       "<div>\n",
       "<style scoped>\n",
       "    .dataframe tbody tr th:only-of-type {\n",
       "        vertical-align: middle;\n",
       "    }\n",
       "\n",
       "    .dataframe tbody tr th {\n",
       "        vertical-align: top;\n",
       "    }\n",
       "\n",
       "    .dataframe thead th {\n",
       "        text-align: right;\n",
       "    }\n",
       "</style>\n",
       "<table border=\"1\" class=\"dataframe\">\n",
       "  <thead>\n",
       "    <tr style=\"text-align: right;\">\n",
       "      <th></th>\n",
       "      <th>tconst</th>\n",
       "      <th>averagerating</th>\n",
       "      <th>numvotes</th>\n",
       "    </tr>\n",
       "  </thead>\n",
       "  <tbody>\n",
       "    <tr>\n",
       "      <th>0</th>\n",
       "      <td>tt10356526</td>\n",
       "      <td>8.3</td>\n",
       "      <td>31</td>\n",
       "    </tr>\n",
       "    <tr>\n",
       "      <th>1</th>\n",
       "      <td>tt10384606</td>\n",
       "      <td>8.9</td>\n",
       "      <td>559</td>\n",
       "    </tr>\n",
       "    <tr>\n",
       "      <th>2</th>\n",
       "      <td>tt1042974</td>\n",
       "      <td>6.4</td>\n",
       "      <td>20</td>\n",
       "    </tr>\n",
       "    <tr>\n",
       "      <th>3</th>\n",
       "      <td>tt1043726</td>\n",
       "      <td>4.2</td>\n",
       "      <td>50352</td>\n",
       "    </tr>\n",
       "    <tr>\n",
       "      <th>4</th>\n",
       "      <td>tt1060240</td>\n",
       "      <td>6.5</td>\n",
       "      <td>21</td>\n",
       "    </tr>\n",
       "  </tbody>\n",
       "</table>\n",
       "</div>"
      ],
      "text/plain": [
       "       tconst  averagerating  numvotes\n",
       "0  tt10356526            8.3        31\n",
       "1  tt10384606            8.9       559\n",
       "2   tt1042974            6.4        20\n",
       "3   tt1043726            4.2     50352\n",
       "4   tt1060240            6.5        21"
      ]
     },
     "execution_count": 145,
     "metadata": {},
     "output_type": "execute_result"
    }
   ],
   "source": [
    "df_dict['df_imdb_ratings'].head()"
   ]
  },
  {
   "cell_type": "code",
   "execution_count": 152,
   "metadata": {},
   "outputs": [
    {
     "data": {
      "text/html": [
       "<div>\n",
       "<style scoped>\n",
       "    .dataframe tbody tr th:only-of-type {\n",
       "        vertical-align: middle;\n",
       "    }\n",
       "\n",
       "    .dataframe tbody tr th {\n",
       "        vertical-align: top;\n",
       "    }\n",
       "\n",
       "    .dataframe thead th {\n",
       "        text-align: right;\n",
       "    }\n",
       "</style>\n",
       "<table border=\"1\" class=\"dataframe\">\n",
       "  <thead>\n",
       "    <tr style=\"text-align: right;\">\n",
       "      <th></th>\n",
       "      <th>averagerating</th>\n",
       "      <th>numvotes</th>\n",
       "    </tr>\n",
       "  </thead>\n",
       "  <tbody>\n",
       "    <tr>\n",
       "      <th>count</th>\n",
       "      <td>73856.000000</td>\n",
       "      <td>7.385600e+04</td>\n",
       "    </tr>\n",
       "    <tr>\n",
       "      <th>mean</th>\n",
       "      <td>6.332729</td>\n",
       "      <td>3.523662e+03</td>\n",
       "    </tr>\n",
       "    <tr>\n",
       "      <th>std</th>\n",
       "      <td>1.474978</td>\n",
       "      <td>3.029402e+04</td>\n",
       "    </tr>\n",
       "    <tr>\n",
       "      <th>min</th>\n",
       "      <td>1.000000</td>\n",
       "      <td>5.000000e+00</td>\n",
       "    </tr>\n",
       "    <tr>\n",
       "      <th>25%</th>\n",
       "      <td>5.500000</td>\n",
       "      <td>1.400000e+01</td>\n",
       "    </tr>\n",
       "    <tr>\n",
       "      <th>50%</th>\n",
       "      <td>6.500000</td>\n",
       "      <td>4.900000e+01</td>\n",
       "    </tr>\n",
       "    <tr>\n",
       "      <th>75%</th>\n",
       "      <td>7.400000</td>\n",
       "      <td>2.820000e+02</td>\n",
       "    </tr>\n",
       "    <tr>\n",
       "      <th>max</th>\n",
       "      <td>10.000000</td>\n",
       "      <td>1.841066e+06</td>\n",
       "    </tr>\n",
       "  </tbody>\n",
       "</table>\n",
       "</div>"
      ],
      "text/plain": [
       "       averagerating      numvotes\n",
       "count   73856.000000  7.385600e+04\n",
       "mean        6.332729  3.523662e+03\n",
       "std         1.474978  3.029402e+04\n",
       "min         1.000000  5.000000e+00\n",
       "25%         5.500000  1.400000e+01\n",
       "50%         6.500000  4.900000e+01\n",
       "75%         7.400000  2.820000e+02\n",
       "max        10.000000  1.841066e+06"
      ]
     },
     "execution_count": 152,
     "metadata": {},
     "output_type": "execute_result"
    }
   ],
   "source": [
    "df_dict['df_imdb_ratings'].describe()"
   ]
  },
  {
   "cell_type": "code",
   "execution_count": 149,
   "metadata": {
    "scrolled": false
   },
   "outputs": [
    {
     "data": {
      "text/html": [
       "<div>\n",
       "<style scoped>\n",
       "    .dataframe tbody tr th:only-of-type {\n",
       "        vertical-align: middle;\n",
       "    }\n",
       "\n",
       "    .dataframe tbody tr th {\n",
       "        vertical-align: top;\n",
       "    }\n",
       "\n",
       "    .dataframe thead th {\n",
       "        text-align: right;\n",
       "    }\n",
       "</style>\n",
       "<table border=\"1\" class=\"dataframe\">\n",
       "  <thead>\n",
       "    <tr style=\"text-align: right;\">\n",
       "      <th></th>\n",
       "      <th>tconst</th>\n",
       "      <th>averagerating</th>\n",
       "      <th>numvotes</th>\n",
       "    </tr>\n",
       "  </thead>\n",
       "  <tbody>\n",
       "    <tr>\n",
       "      <th>0</th>\n",
       "      <td>tt10356526</td>\n",
       "      <td>8.3</td>\n",
       "      <td>31</td>\n",
       "    </tr>\n",
       "    <tr>\n",
       "      <th>1</th>\n",
       "      <td>tt10384606</td>\n",
       "      <td>8.9</td>\n",
       "      <td>559</td>\n",
       "    </tr>\n",
       "    <tr>\n",
       "      <th>2</th>\n",
       "      <td>tt1042974</td>\n",
       "      <td>6.4</td>\n",
       "      <td>20</td>\n",
       "    </tr>\n",
       "    <tr>\n",
       "      <th>3</th>\n",
       "      <td>tt1043726</td>\n",
       "      <td>4.2</td>\n",
       "      <td>50352</td>\n",
       "    </tr>\n",
       "    <tr>\n",
       "      <th>4</th>\n",
       "      <td>tt1060240</td>\n",
       "      <td>6.5</td>\n",
       "      <td>21</td>\n",
       "    </tr>\n",
       "  </tbody>\n",
       "</table>\n",
       "</div>"
      ],
      "text/plain": [
       "       tconst  averagerating  numvotes\n",
       "0  tt10356526            8.3        31\n",
       "1  tt10384606            8.9       559\n",
       "2   tt1042974            6.4        20\n",
       "3   tt1043726            4.2     50352\n",
       "4   tt1060240            6.5        21"
      ]
     },
     "execution_count": 149,
     "metadata": {},
     "output_type": "execute_result"
    }
   ],
   "source": [
    "df_dict['df_imdb_ratings'].to_sql('imdb_ratings', conn ,index=False)\n",
    "\n",
    "sql = \"\"\"SELECT * \n",
    "         FROM imdb_ratings\n",
    "         LIMIT 5\"\"\"\n",
    "\n",
    "df = pd.DataFrame(cur.execute(sql).fetchall(),columns=[x[0] for x in cur.description])\n",
    "df"
   ]
  },
  {
   "cell_type": "code",
   "execution_count": 150,
   "metadata": {},
   "outputs": [],
   "source": [
    "conn.commit()"
   ]
  },
  {
   "cell_type": "markdown",
   "metadata": {},
   "source": [
    "## Importing API-retrieved TMDB data"
   ]
  },
  {
   "cell_type": "code",
   "execution_count": 222,
   "metadata": {},
   "outputs": [],
   "source": [
    "def df_str_to_iterable(df, trans_col, new_col, function):\n",
    "    temp_s = df[df[trans_col].isna() == False][trans_col].map(function)\n",
    "    df.insert(loc=len(df.columns), column=new_col, value=temp_s)\n",
    "    return None"
   ]
  },
  {
   "cell_type": "code",
   "execution_count": 156,
   "metadata": {},
   "outputs": [
    {
     "name": "stdout",
     "output_type": "stream",
     "text": [
      "/Users/jessicamiles/Documents/Flatiron_Data_Science/git_labs_lessons/phase1/dsc-phase-1-project/data\n"
     ]
    }
   ],
   "source": [
    "cd data"
   ]
  },
  {
   "cell_type": "code",
   "execution_count": 157,
   "metadata": {
    "scrolled": true
   },
   "outputs": [
    {
     "name": "stdout",
     "output_type": "stream",
     "text": [
      "<class 'pandas.core.frame.DataFrame'>\n",
      "RangeIndex: 10106 entries, 0 to 10105\n",
      "Data columns (total 21 columns):\n",
      " #   Column                Non-Null Count  Dtype  \n",
      "---  ------                --------------  -----  \n",
      " 0   adult                 10106 non-null  bool   \n",
      " 1   id                    10106 non-null  int64  \n",
      " 2   original_title        10106 non-null  object \n",
      " 3   popularity            10106 non-null  float64\n",
      " 4   video                 10106 non-null  bool   \n",
      " 5   budget                10106 non-null  int64  \n",
      " 6   genres                10106 non-null  object \n",
      " 7   homepage              5 non-null      object \n",
      " 8   imdb_id               10106 non-null  object \n",
      " 9   original_language     10106 non-null  object \n",
      " 10  overview              10106 non-null  object \n",
      " 11  production_companies  10106 non-null  object \n",
      " 12  production_countries  10106 non-null  object \n",
      " 13  release_date          10106 non-null  object \n",
      " 14  revenue               10106 non-null  int64  \n",
      " 15  runtime               10103 non-null  float64\n",
      " 16  status                10106 non-null  object \n",
      " 17  tagline               10106 non-null  object \n",
      " 18  title                 10106 non-null  object \n",
      " 19  vote_average          10106 non-null  float64\n",
      " 20  vote_count            10106 non-null  int64  \n",
      "dtypes: bool(2), float64(3), int64(4), object(12)\n",
      "memory usage: 1.5+ MB\n"
     ]
    }
   ],
   "source": [
    "batch1 = pickle.Unpickler(open('tmdb_moviedetails_batch1.pickle', 'rb')).load()\n",
    "\n",
    "df_batch1 = pd.DataFrame(batch1)\n",
    "df_batch1.info()"
   ]
  },
  {
   "cell_type": "code",
   "execution_count": 170,
   "metadata": {
    "scrolled": true
   },
   "outputs": [
    {
     "data": {
      "text/html": [
       "<div>\n",
       "<style scoped>\n",
       "    .dataframe tbody tr th:only-of-type {\n",
       "        vertical-align: middle;\n",
       "    }\n",
       "\n",
       "    .dataframe tbody tr th {\n",
       "        vertical-align: top;\n",
       "    }\n",
       "\n",
       "    .dataframe thead th {\n",
       "        text-align: right;\n",
       "    }\n",
       "</style>\n",
       "<table border=\"1\" class=\"dataframe\">\n",
       "  <thead>\n",
       "    <tr style=\"text-align: right;\">\n",
       "      <th></th>\n",
       "      <th>id</th>\n",
       "      <th>original_title</th>\n",
       "      <th>popularity</th>\n",
       "      <th>video</th>\n",
       "      <th>budget</th>\n",
       "      <th>genres</th>\n",
       "      <th>imdb_id</th>\n",
       "      <th>original_language</th>\n",
       "      <th>overview</th>\n",
       "      <th>production_companies</th>\n",
       "      <th>production_countries</th>\n",
       "      <th>release_date</th>\n",
       "      <th>revenue</th>\n",
       "      <th>runtime</th>\n",
       "      <th>status</th>\n",
       "      <th>tagline</th>\n",
       "      <th>title</th>\n",
       "      <th>vote_average</th>\n",
       "      <th>vote_count</th>\n",
       "    </tr>\n",
       "  </thead>\n",
       "  <tbody>\n",
       "    <tr>\n",
       "      <th>0</th>\n",
       "      <td>2</td>\n",
       "      <td>Ariel</td>\n",
       "      <td>8.455</td>\n",
       "      <td>False</td>\n",
       "      <td>0</td>\n",
       "      <td>[{'id': 18, 'name': 'Drama'}, {'id': 80, 'name...</td>\n",
       "      <td>tt0094675</td>\n",
       "      <td>fi</td>\n",
       "      <td>Taisto Kasurinen is a Finnish coal miner whose...</td>\n",
       "      <td>[{'id': 2303, 'logo_path': None, 'name': 'Vill...</td>\n",
       "      <td>[{'iso_3166_1': 'FI', 'name': 'Finland'}]</td>\n",
       "      <td>1988-10-21</td>\n",
       "      <td>0</td>\n",
       "      <td>73.0</td>\n",
       "      <td>Released</td>\n",
       "      <td></td>\n",
       "      <td>Ariel</td>\n",
       "      <td>6.8</td>\n",
       "      <td>128</td>\n",
       "    </tr>\n",
       "    <tr>\n",
       "      <th>1</th>\n",
       "      <td>3</td>\n",
       "      <td>Varjoja paratiisissa</td>\n",
       "      <td>6.696</td>\n",
       "      <td>False</td>\n",
       "      <td>0</td>\n",
       "      <td>[{'id': 18, 'name': 'Drama'}, {'id': 35, 'name...</td>\n",
       "      <td>tt0092149</td>\n",
       "      <td>fi</td>\n",
       "      <td>An episode in the life of Nikander, a garbage ...</td>\n",
       "      <td>[{'id': 2303, 'logo_path': None, 'name': 'Vill...</td>\n",
       "      <td>[{'iso_3166_1': 'FI', 'name': 'Finland'}]</td>\n",
       "      <td>1986-10-17</td>\n",
       "      <td>0</td>\n",
       "      <td>74.0</td>\n",
       "      <td>Released</td>\n",
       "      <td></td>\n",
       "      <td>Shadows in Paradise</td>\n",
       "      <td>7.2</td>\n",
       "      <td>125</td>\n",
       "    </tr>\n",
       "    <tr>\n",
       "      <th>2</th>\n",
       "      <td>5</td>\n",
       "      <td>Four Rooms</td>\n",
       "      <td>13.794</td>\n",
       "      <td>False</td>\n",
       "      <td>4000000</td>\n",
       "      <td>[{'id': 80, 'name': 'Crime'}, {'id': 35, 'name...</td>\n",
       "      <td>tt0113101</td>\n",
       "      <td>en</td>\n",
       "      <td>It's Ted the Bellhop's first night on the job....</td>\n",
       "      <td>[{'id': 14, 'logo_path': '/m6AHu84oZQxvq7n1rsv...</td>\n",
       "      <td>[{'iso_3166_1': 'US', 'name': 'United States o...</td>\n",
       "      <td>1995-12-09</td>\n",
       "      <td>4257354</td>\n",
       "      <td>98.0</td>\n",
       "      <td>Released</td>\n",
       "      <td>Twelve outrageous guests. Four scandalous requ...</td>\n",
       "      <td>Four Rooms</td>\n",
       "      <td>5.7</td>\n",
       "      <td>1901</td>\n",
       "    </tr>\n",
       "    <tr>\n",
       "      <th>3</th>\n",
       "      <td>6</td>\n",
       "      <td>Judgment Night</td>\n",
       "      <td>12.455</td>\n",
       "      <td>False</td>\n",
       "      <td>21000000</td>\n",
       "      <td>[{'id': 28, 'name': 'Action'}, {'id': 53, 'nam...</td>\n",
       "      <td>tt0107286</td>\n",
       "      <td>en</td>\n",
       "      <td>While racing to a boxing match, Frank, Mike, J...</td>\n",
       "      <td>[{'id': 33, 'logo_path': '/8lvHyhjr8oUKOOy2dKX...</td>\n",
       "      <td>[{'iso_3166_1': 'JP', 'name': 'Japan'}, {'iso_...</td>\n",
       "      <td>1993-10-15</td>\n",
       "      <td>12136938</td>\n",
       "      <td>110.0</td>\n",
       "      <td>Released</td>\n",
       "      <td>Don't move. Don't whisper. Don't even breathe.</td>\n",
       "      <td>Judgment Night</td>\n",
       "      <td>6.5</td>\n",
       "      <td>184</td>\n",
       "    </tr>\n",
       "    <tr>\n",
       "      <th>4</th>\n",
       "      <td>11</td>\n",
       "      <td>Star Wars</td>\n",
       "      <td>84.275</td>\n",
       "      <td>False</td>\n",
       "      <td>11000000</td>\n",
       "      <td>[{'id': 12, 'name': 'Adventure'}, {'id': 28, '...</td>\n",
       "      <td>tt0076759</td>\n",
       "      <td>en</td>\n",
       "      <td>Princess Leia is captured and held hostage by ...</td>\n",
       "      <td>[{'id': 1, 'logo_path': '/o86DbpburjxrqAzEDhXZ...</td>\n",
       "      <td>[{'iso_3166_1': 'US', 'name': 'United States o...</td>\n",
       "      <td>1977-05-25</td>\n",
       "      <td>775398007</td>\n",
       "      <td>121.0</td>\n",
       "      <td>Released</td>\n",
       "      <td>A long time ago in a galaxy far, far away...</td>\n",
       "      <td>Star Wars</td>\n",
       "      <td>8.2</td>\n",
       "      <td>15257</td>\n",
       "    </tr>\n",
       "  </tbody>\n",
       "</table>\n",
       "</div>"
      ],
      "text/plain": [
       "   id        original_title  popularity  video    budget  \\\n",
       "0   2                 Ariel       8.455  False         0   \n",
       "1   3  Varjoja paratiisissa       6.696  False         0   \n",
       "2   5            Four Rooms      13.794  False   4000000   \n",
       "3   6        Judgment Night      12.455  False  21000000   \n",
       "4  11             Star Wars      84.275  False  11000000   \n",
       "\n",
       "                                              genres    imdb_id  \\\n",
       "0  [{'id': 18, 'name': 'Drama'}, {'id': 80, 'name...  tt0094675   \n",
       "1  [{'id': 18, 'name': 'Drama'}, {'id': 35, 'name...  tt0092149   \n",
       "2  [{'id': 80, 'name': 'Crime'}, {'id': 35, 'name...  tt0113101   \n",
       "3  [{'id': 28, 'name': 'Action'}, {'id': 53, 'nam...  tt0107286   \n",
       "4  [{'id': 12, 'name': 'Adventure'}, {'id': 28, '...  tt0076759   \n",
       "\n",
       "  original_language                                           overview  \\\n",
       "0                fi  Taisto Kasurinen is a Finnish coal miner whose...   \n",
       "1                fi  An episode in the life of Nikander, a garbage ...   \n",
       "2                en  It's Ted the Bellhop's first night on the job....   \n",
       "3                en  While racing to a boxing match, Frank, Mike, J...   \n",
       "4                en  Princess Leia is captured and held hostage by ...   \n",
       "\n",
       "                                production_companies  \\\n",
       "0  [{'id': 2303, 'logo_path': None, 'name': 'Vill...   \n",
       "1  [{'id': 2303, 'logo_path': None, 'name': 'Vill...   \n",
       "2  [{'id': 14, 'logo_path': '/m6AHu84oZQxvq7n1rsv...   \n",
       "3  [{'id': 33, 'logo_path': '/8lvHyhjr8oUKOOy2dKX...   \n",
       "4  [{'id': 1, 'logo_path': '/o86DbpburjxrqAzEDhXZ...   \n",
       "\n",
       "                                production_countries release_date    revenue  \\\n",
       "0          [{'iso_3166_1': 'FI', 'name': 'Finland'}]   1988-10-21          0   \n",
       "1          [{'iso_3166_1': 'FI', 'name': 'Finland'}]   1986-10-17          0   \n",
       "2  [{'iso_3166_1': 'US', 'name': 'United States o...   1995-12-09    4257354   \n",
       "3  [{'iso_3166_1': 'JP', 'name': 'Japan'}, {'iso_...   1993-10-15   12136938   \n",
       "4  [{'iso_3166_1': 'US', 'name': 'United States o...   1977-05-25  775398007   \n",
       "\n",
       "   runtime    status                                            tagline  \\\n",
       "0     73.0  Released                                                      \n",
       "1     74.0  Released                                                      \n",
       "2     98.0  Released  Twelve outrageous guests. Four scandalous requ...   \n",
       "3    110.0  Released     Don't move. Don't whisper. Don't even breathe.   \n",
       "4    121.0  Released       A long time ago in a galaxy far, far away...   \n",
       "\n",
       "                 title  vote_average  vote_count  \n",
       "0                Ariel           6.8         128  \n",
       "1  Shadows in Paradise           7.2         125  \n",
       "2           Four Rooms           5.7        1901  \n",
       "3       Judgment Night           6.5         184  \n",
       "4            Star Wars           8.2       15257  "
      ]
     },
     "execution_count": 170,
     "metadata": {},
     "output_type": "execute_result"
    }
   ],
   "source": [
    "df_batch1.head()"
   ]
  },
  {
   "cell_type": "code",
   "execution_count": null,
   "metadata": {},
   "outputs": [],
   "source": [
    "df_batch1[df_batch1['adult']==True]"
   ]
  },
  {
   "cell_type": "code",
   "execution_count": 169,
   "metadata": {},
   "outputs": [],
   "source": [
    "df_batch1.drop(columns=['adult', 'homepage'], inplace=True)"
   ]
  },
  {
   "cell_type": "code",
   "execution_count": 188,
   "metadata": {},
   "outputs": [
    {
     "data": {
      "text/plain": [
       "list"
      ]
     },
     "execution_count": 188,
     "metadata": {},
     "output_type": "execute_result"
    }
   ],
   "source": [
    "# Need to parse the genres, production_companies, and production_countries columns\n",
    "# these are all dictionaries and I probably only want parts of them into lists\n",
    "# , which I can then explode\n",
    "# Also need to convert the release_date to a date\n",
    "\n",
    "type(df_batch1.at[2, 'genres'])"
   ]
  },
  {
   "cell_type": "code",
   "execution_count": 219,
   "metadata": {},
   "outputs": [
    {
     "data": {
      "text/html": [
       "<div>\n",
       "<style scoped>\n",
       "    .dataframe tbody tr th:only-of-type {\n",
       "        vertical-align: middle;\n",
       "    }\n",
       "\n",
       "    .dataframe tbody tr th {\n",
       "        vertical-align: top;\n",
       "    }\n",
       "\n",
       "    .dataframe thead th {\n",
       "        text-align: right;\n",
       "    }\n",
       "</style>\n",
       "<table border=\"1\" class=\"dataframe\">\n",
       "  <thead>\n",
       "    <tr style=\"text-align: right;\">\n",
       "      <th></th>\n",
       "      <th>id</th>\n",
       "      <th>genres</th>\n",
       "    </tr>\n",
       "  </thead>\n",
       "  <tbody>\n",
       "    <tr>\n",
       "      <th>0</th>\n",
       "      <td>2</td>\n",
       "      <td>[{'id': 18, 'name': 'Drama'}, {'id': 80, 'name...</td>\n",
       "    </tr>\n",
       "    <tr>\n",
       "      <th>1</th>\n",
       "      <td>3</td>\n",
       "      <td>[{'id': 18, 'name': 'Drama'}, {'id': 35, 'name...</td>\n",
       "    </tr>\n",
       "    <tr>\n",
       "      <th>2</th>\n",
       "      <td>5</td>\n",
       "      <td>[{'id': 80, 'name': 'Crime'}, {'id': 35, 'name...</td>\n",
       "    </tr>\n",
       "    <tr>\n",
       "      <th>3</th>\n",
       "      <td>6</td>\n",
       "      <td>[{'id': 28, 'name': 'Action'}, {'id': 53, 'nam...</td>\n",
       "    </tr>\n",
       "    <tr>\n",
       "      <th>4</th>\n",
       "      <td>11</td>\n",
       "      <td>[{'id': 12, 'name': 'Adventure'}, {'id': 28, '...</td>\n",
       "    </tr>\n",
       "  </tbody>\n",
       "</table>\n",
       "</div>"
      ],
      "text/plain": [
       "   id                                             genres\n",
       "0   2  [{'id': 18, 'name': 'Drama'}, {'id': 80, 'name...\n",
       "1   3  [{'id': 18, 'name': 'Drama'}, {'id': 35, 'name...\n",
       "2   5  [{'id': 80, 'name': 'Crime'}, {'id': 35, 'name...\n",
       "3   6  [{'id': 28, 'name': 'Action'}, {'id': 53, 'nam...\n",
       "4  11  [{'id': 12, 'name': 'Adventure'}, {'id': 28, '..."
      ]
     },
     "execution_count": 219,
     "metadata": {},
     "output_type": "execute_result"
    }
   ],
   "source": [
    "# initial view of genres column. Separated out for working\n",
    "df_batch1g = df_batch1[['id', 'genres']]\n",
    "df_batch1g.head()"
   ]
  },
  {
   "cell_type": "code",
   "execution_count": 223,
   "metadata": {},
   "outputs": [],
   "source": [
    "# Add new column with genre IDs as a list\n",
    "myfunc = lambda x: [i['id'] for i in x]\n",
    "df_str_to_iterable(df_batch1g, 'genres', 'genreids_list', myfunc)"
   ]
  },
  {
   "cell_type": "code",
   "execution_count": 235,
   "metadata": {},
   "outputs": [],
   "source": [
    "# Create a dictionary and start collecting all the ids and names for the genres\n",
    "# eventually will write this to the table\n",
    "#genres_dict = {}"
   ]
  },
  {
   "cell_type": "code",
   "execution_count": 237,
   "metadata": {
    "scrolled": false
   },
   "outputs": [
    {
     "data": {
      "text/plain": [
       "dict_values(['Drama', 'Crime', 'Comedy', 'Action', 'Thriller', 'Adventure', 'Science Fiction', 'Animation', 'Family', 'Romance', 'Mystery', 'Horror', 'Fantasy', 'Documentary', 'War', 'Music', 'History', 'Western', 'TV Movie'])"
      ]
     },
     "execution_count": 237,
     "metadata": {},
     "output_type": "execute_result"
    }
   ],
   "source": [
    "for value in df_batch1g['genres'].values:\n",
    "    for x in value:\n",
    "        genres_dict[x['id']] = x['name']\n",
    "\n",
    "genres_dict.values()"
   ]
  },
  {
   "cell_type": "code",
   "execution_count": 240,
   "metadata": {
    "scrolled": true
   },
   "outputs": [
    {
     "data": {
      "text/html": [
       "<div>\n",
       "<style scoped>\n",
       "    .dataframe tbody tr th:only-of-type {\n",
       "        vertical-align: middle;\n",
       "    }\n",
       "\n",
       "    .dataframe tbody tr th {\n",
       "        vertical-align: top;\n",
       "    }\n",
       "\n",
       "    .dataframe thead th {\n",
       "        text-align: right;\n",
       "    }\n",
       "</style>\n",
       "<table border=\"1\" class=\"dataframe\">\n",
       "  <thead>\n",
       "    <tr style=\"text-align: right;\">\n",
       "      <th></th>\n",
       "      <th>id</th>\n",
       "      <th>genreids_list</th>\n",
       "    </tr>\n",
       "  </thead>\n",
       "  <tbody>\n",
       "    <tr>\n",
       "      <th>0</th>\n",
       "      <td>2</td>\n",
       "      <td>18</td>\n",
       "    </tr>\n",
       "    <tr>\n",
       "      <th>1</th>\n",
       "      <td>2</td>\n",
       "      <td>80</td>\n",
       "    </tr>\n",
       "    <tr>\n",
       "      <th>2</th>\n",
       "      <td>2</td>\n",
       "      <td>35</td>\n",
       "    </tr>\n",
       "    <tr>\n",
       "      <th>3</th>\n",
       "      <td>3</td>\n",
       "      <td>18</td>\n",
       "    </tr>\n",
       "    <tr>\n",
       "      <th>4</th>\n",
       "      <td>3</td>\n",
       "      <td>35</td>\n",
       "    </tr>\n",
       "    <tr>\n",
       "      <th>...</th>\n",
       "      <td>...</td>\n",
       "      <td>...</td>\n",
       "    </tr>\n",
       "    <tr>\n",
       "      <th>24570</th>\n",
       "      <td>20859</td>\n",
       "      <td>53</td>\n",
       "    </tr>\n",
       "    <tr>\n",
       "      <th>24571</th>\n",
       "      <td>20860</td>\n",
       "      <td>35</td>\n",
       "    </tr>\n",
       "    <tr>\n",
       "      <th>24572</th>\n",
       "      <td>20861</td>\n",
       "      <td>18</td>\n",
       "    </tr>\n",
       "    <tr>\n",
       "      <th>24573</th>\n",
       "      <td>20862</td>\n",
       "      <td>18</td>\n",
       "    </tr>\n",
       "    <tr>\n",
       "      <th>24574</th>\n",
       "      <td>20862</td>\n",
       "      <td>35</td>\n",
       "    </tr>\n",
       "  </tbody>\n",
       "</table>\n",
       "<p>24575 rows × 2 columns</p>\n",
       "</div>"
      ],
      "text/plain": [
       "          id genreids_list\n",
       "0          2            18\n",
       "1          2            80\n",
       "2          2            35\n",
       "3          3            18\n",
       "4          3            35\n",
       "...      ...           ...\n",
       "24570  20859            53\n",
       "24571  20860            35\n",
       "24572  20861            18\n",
       "24573  20862            18\n",
       "24574  20862            35\n",
       "\n",
       "[24575 rows x 2 columns]"
      ]
     },
     "execution_count": 240,
     "metadata": {},
     "output_type": "execute_result"
    }
   ],
   "source": [
    "df_batch1g_ex = df_batch1g[['id', 'genreids_list']].explode('genreids_list'\n",
    "                                                           , ignore_index=True)\n",
    "\n",
    "df_batch1g_ex"
   ]
  },
  {
   "cell_type": "code",
   "execution_count": 178,
   "metadata": {
    "scrolled": false
   },
   "outputs": [
    {
     "data": {
      "text/plain": [
       "[{'id': 14,\n",
       "  'logo_path': '/m6AHu84oZQxvq7n1rsvMNJIAsMu.png',\n",
       "  'name': 'Miramax',\n",
       "  'origin_country': 'US'},\n",
       " {'id': 59,\n",
       "  'logo_path': '/yH7OMeSxhfP0AVM6iT0rsF3F4ZC.png',\n",
       "  'name': 'A Band Apart',\n",
       "  'origin_country': 'US'}]"
      ]
     },
     "execution_count": 178,
     "metadata": {},
     "output_type": "execute_result"
    }
   ],
   "source": [
    "df_batch1.at[2, 'production_companies']"
   ]
  },
  {
   "cell_type": "code",
   "execution_count": 244,
   "metadata": {},
   "outputs": [
    {
     "data": {
      "text/html": [
       "<div>\n",
       "<style scoped>\n",
       "    .dataframe tbody tr th:only-of-type {\n",
       "        vertical-align: middle;\n",
       "    }\n",
       "\n",
       "    .dataframe tbody tr th {\n",
       "        vertical-align: top;\n",
       "    }\n",
       "\n",
       "    .dataframe thead th {\n",
       "        text-align: right;\n",
       "    }\n",
       "</style>\n",
       "<table border=\"1\" class=\"dataframe\">\n",
       "  <thead>\n",
       "    <tr style=\"text-align: right;\">\n",
       "      <th></th>\n",
       "      <th>id</th>\n",
       "      <th>prodcomp_list</th>\n",
       "    </tr>\n",
       "  </thead>\n",
       "  <tbody>\n",
       "    <tr>\n",
       "      <th>0</th>\n",
       "      <td>2</td>\n",
       "      <td>2303</td>\n",
       "    </tr>\n",
       "    <tr>\n",
       "      <th>1</th>\n",
       "      <td>3</td>\n",
       "      <td>2303</td>\n",
       "    </tr>\n",
       "    <tr>\n",
       "      <th>2</th>\n",
       "      <td>5</td>\n",
       "      <td>14</td>\n",
       "    </tr>\n",
       "    <tr>\n",
       "      <th>3</th>\n",
       "      <td>5</td>\n",
       "      <td>59</td>\n",
       "    </tr>\n",
       "    <tr>\n",
       "      <th>4</th>\n",
       "      <td>6</td>\n",
       "      <td>33</td>\n",
       "    </tr>\n",
       "    <tr>\n",
       "      <th>...</th>\n",
       "      <td>...</td>\n",
       "      <td>...</td>\n",
       "    </tr>\n",
       "    <tr>\n",
       "      <th>24447</th>\n",
       "      <td>20859</td>\n",
       "      <td>16953</td>\n",
       "    </tr>\n",
       "    <tr>\n",
       "      <th>24448</th>\n",
       "      <td>20860</td>\n",
       "      <td>NaN</td>\n",
       "    </tr>\n",
       "    <tr>\n",
       "      <th>24449</th>\n",
       "      <td>20861</td>\n",
       "      <td>NaN</td>\n",
       "    </tr>\n",
       "    <tr>\n",
       "      <th>24450</th>\n",
       "      <td>20862</td>\n",
       "      <td>12269</td>\n",
       "    </tr>\n",
       "    <tr>\n",
       "      <th>24451</th>\n",
       "      <td>20862</td>\n",
       "      <td>14</td>\n",
       "    </tr>\n",
       "  </tbody>\n",
       "</table>\n",
       "<p>24452 rows × 2 columns</p>\n",
       "</div>"
      ],
      "text/plain": [
       "          id prodcomp_list\n",
       "0          2          2303\n",
       "1          3          2303\n",
       "2          5            14\n",
       "3          5            59\n",
       "4          6            33\n",
       "...      ...           ...\n",
       "24447  20859         16953\n",
       "24448  20860           NaN\n",
       "24449  20861           NaN\n",
       "24450  20862         12269\n",
       "24451  20862            14\n",
       "\n",
       "[24452 rows x 2 columns]"
      ]
     },
     "execution_count": 244,
     "metadata": {},
     "output_type": "execute_result"
    }
   ],
   "source": [
    "# initial view of prodcomp column. Separated out for working\n",
    "df_batch1pcomp = df_batch1[['id', 'production_companies']]\n",
    "df_batch1pcomp.head()\n",
    "\n",
    "# Add new column with prodcomp IDs as a list\n",
    "myfunc = lambda x: [i['id'] for i in x]\n",
    "df_str_to_iterable(df_batch1pcomp, 'production_companies', 'prodcomp_list', myfunc)\n",
    "\n",
    "# Create a dictionary and start collecting all the ids and names for the prodcoms\n",
    "# eventually will write this to the table\n",
    "prodcomps_dict = {}\n",
    "\n",
    "for value in df_batch1pcomp['production_companies'].values:\n",
    "    for x in value:\n",
    "        prodcomps_dict[x['id']] = [x['name'], x['origin_country']]\n",
    "\n",
    "df_batch1pcomp_ex = df_batch1pcomp[['id', 'prodcomp_list']].explode('prodcomp_list'\n",
    "                                                           , ignore_index=True)\n",
    "\n",
    "df_batch1pcomp_ex"
   ]
  },
  {
   "cell_type": "code",
   "execution_count": 180,
   "metadata": {
    "scrolled": true
   },
   "outputs": [
    {
     "data": {
      "text/plain": [
       "[{'iso_3166_1': 'JP', 'name': 'Japan'},\n",
       " {'iso_3166_1': 'US', 'name': 'United States of America'}]"
      ]
     },
     "execution_count": 180,
     "metadata": {},
     "output_type": "execute_result"
    }
   ],
   "source": [
    "df_batch1.at[3, 'production_countries']"
   ]
  },
  {
   "cell_type": "code",
   "execution_count": 246,
   "metadata": {
    "scrolled": true
   },
   "outputs": [
    {
     "data": {
      "text/html": [
       "<div>\n",
       "<style scoped>\n",
       "    .dataframe tbody tr th:only-of-type {\n",
       "        vertical-align: middle;\n",
       "    }\n",
       "\n",
       "    .dataframe tbody tr th {\n",
       "        vertical-align: top;\n",
       "    }\n",
       "\n",
       "    .dataframe thead th {\n",
       "        text-align: right;\n",
       "    }\n",
       "</style>\n",
       "<table border=\"1\" class=\"dataframe\">\n",
       "  <thead>\n",
       "    <tr style=\"text-align: right;\">\n",
       "      <th></th>\n",
       "      <th>id</th>\n",
       "      <th>prodcouns_list</th>\n",
       "    </tr>\n",
       "  </thead>\n",
       "  <tbody>\n",
       "    <tr>\n",
       "      <th>0</th>\n",
       "      <td>2</td>\n",
       "      <td>FI</td>\n",
       "    </tr>\n",
       "    <tr>\n",
       "      <th>1</th>\n",
       "      <td>3</td>\n",
       "      <td>FI</td>\n",
       "    </tr>\n",
       "    <tr>\n",
       "      <th>2</th>\n",
       "      <td>5</td>\n",
       "      <td>US</td>\n",
       "    </tr>\n",
       "    <tr>\n",
       "      <th>3</th>\n",
       "      <td>6</td>\n",
       "      <td>JP</td>\n",
       "    </tr>\n",
       "    <tr>\n",
       "      <th>4</th>\n",
       "      <td>6</td>\n",
       "      <td>US</td>\n",
       "    </tr>\n",
       "    <tr>\n",
       "      <th>...</th>\n",
       "      <td>...</td>\n",
       "      <td>...</td>\n",
       "    </tr>\n",
       "    <tr>\n",
       "      <th>13563</th>\n",
       "      <td>20859</td>\n",
       "      <td>CA</td>\n",
       "    </tr>\n",
       "    <tr>\n",
       "      <th>13564</th>\n",
       "      <td>20860</td>\n",
       "      <td>NaN</td>\n",
       "    </tr>\n",
       "    <tr>\n",
       "      <th>13565</th>\n",
       "      <td>20861</td>\n",
       "      <td>NaN</td>\n",
       "    </tr>\n",
       "    <tr>\n",
       "      <th>13566</th>\n",
       "      <td>20862</td>\n",
       "      <td>CA</td>\n",
       "    </tr>\n",
       "    <tr>\n",
       "      <th>13567</th>\n",
       "      <td>20862</td>\n",
       "      <td>US</td>\n",
       "    </tr>\n",
       "  </tbody>\n",
       "</table>\n",
       "<p>13568 rows × 2 columns</p>\n",
       "</div>"
      ],
      "text/plain": [
       "          id prodcouns_list\n",
       "0          2             FI\n",
       "1          3             FI\n",
       "2          5             US\n",
       "3          6             JP\n",
       "4          6             US\n",
       "...      ...            ...\n",
       "13563  20859             CA\n",
       "13564  20860            NaN\n",
       "13565  20861            NaN\n",
       "13566  20862             CA\n",
       "13567  20862             US\n",
       "\n",
       "[13568 rows x 2 columns]"
      ]
     },
     "execution_count": 246,
     "metadata": {},
     "output_type": "execute_result"
    }
   ],
   "source": [
    "# initial view of prodcoun column. Separated out for working\n",
    "df_batch1pcoun = df_batch1[['id', 'production_countries']]\n",
    "df_batch1pcoun.head()\n",
    "\n",
    "# Add new column with prodcoun IDs as a list\n",
    "myfunc = lambda x: [i['iso_3166_1'] for i in x]\n",
    "df_str_to_iterable(df_batch1pcoun, 'production_countries', 'prodcouns_list', myfunc)\n",
    "\n",
    "# Create a dictionary and start collecting all the ids and names for the prodcouns\n",
    "# eventually will write this to the table\n",
    "prodcouns_dict = {}\n",
    "\n",
    "for value in df_batch1pcoun['production_countries'].values:\n",
    "    for x in value:\n",
    "        prodcouns_dict[x['iso_3166_1']] = x['name']\n",
    "\n",
    "df_batch1pcoun_ex = df_batch1pcoun[['id', 'prodcouns_list']].explode('prodcouns_list'\n",
    "                                                           , ignore_index=True)\n",
    "\n",
    "df_batch1pcoun_ex"
   ]
  },
  {
   "cell_type": "code",
   "execution_count": 248,
   "metadata": {
    "scrolled": true
   },
   "outputs": [
    {
     "data": {
      "text/html": [
       "<div>\n",
       "<style scoped>\n",
       "    .dataframe tbody tr th:only-of-type {\n",
       "        vertical-align: middle;\n",
       "    }\n",
       "\n",
       "    .dataframe tbody tr th {\n",
       "        vertical-align: top;\n",
       "    }\n",
       "\n",
       "    .dataframe thead th {\n",
       "        text-align: right;\n",
       "    }\n",
       "</style>\n",
       "<table border=\"1\" class=\"dataframe\">\n",
       "  <thead>\n",
       "    <tr style=\"text-align: right;\">\n",
       "      <th></th>\n",
       "      <th>id</th>\n",
       "      <th>original_title</th>\n",
       "      <th>popularity</th>\n",
       "      <th>video</th>\n",
       "      <th>budget</th>\n",
       "      <th>genres</th>\n",
       "      <th>imdb_id</th>\n",
       "      <th>original_language</th>\n",
       "      <th>overview</th>\n",
       "      <th>production_companies</th>\n",
       "      <th>production_countries</th>\n",
       "      <th>release_date</th>\n",
       "      <th>revenue</th>\n",
       "      <th>runtime</th>\n",
       "      <th>status</th>\n",
       "      <th>tagline</th>\n",
       "      <th>title</th>\n",
       "      <th>vote_average</th>\n",
       "      <th>vote_count</th>\n",
       "    </tr>\n",
       "  </thead>\n",
       "  <tbody>\n",
       "    <tr>\n",
       "      <th>0</th>\n",
       "      <td>2</td>\n",
       "      <td>Ariel</td>\n",
       "      <td>8.455</td>\n",
       "      <td>False</td>\n",
       "      <td>0</td>\n",
       "      <td>[{'id': 18, 'name': 'Drama'}, {'id': 80, 'name...</td>\n",
       "      <td>tt0094675</td>\n",
       "      <td>fi</td>\n",
       "      <td>Taisto Kasurinen is a Finnish coal miner whose...</td>\n",
       "      <td>[{'id': 2303, 'logo_path': None, 'name': 'Vill...</td>\n",
       "      <td>[{'iso_3166_1': 'FI', 'name': 'Finland'}]</td>\n",
       "      <td>1988-10-21</td>\n",
       "      <td>0</td>\n",
       "      <td>73.0</td>\n",
       "      <td>Released</td>\n",
       "      <td></td>\n",
       "      <td>Ariel</td>\n",
       "      <td>6.8</td>\n",
       "      <td>128</td>\n",
       "    </tr>\n",
       "  </tbody>\n",
       "</table>\n",
       "</div>"
      ],
      "text/plain": [
       "   id original_title  popularity  video  budget  \\\n",
       "0   2          Ariel       8.455  False       0   \n",
       "\n",
       "                                              genres    imdb_id  \\\n",
       "0  [{'id': 18, 'name': 'Drama'}, {'id': 80, 'name...  tt0094675   \n",
       "\n",
       "  original_language                                           overview  \\\n",
       "0                fi  Taisto Kasurinen is a Finnish coal miner whose...   \n",
       "\n",
       "                                production_companies  \\\n",
       "0  [{'id': 2303, 'logo_path': None, 'name': 'Vill...   \n",
       "\n",
       "                        production_countries release_date  revenue  runtime  \\\n",
       "0  [{'iso_3166_1': 'FI', 'name': 'Finland'}]   1988-10-21        0     73.0   \n",
       "\n",
       "     status tagline  title  vote_average  vote_count  \n",
       "0  Released          Ariel           6.8         128  "
      ]
     },
     "execution_count": 248,
     "metadata": {},
     "output_type": "execute_result"
    }
   ],
   "source": [
    "df_batch1.head(1)"
   ]
  },
  {
   "cell_type": "code",
   "execution_count": 251,
   "metadata": {
    "scrolled": true
   },
   "outputs": [
    {
     "data": {
      "text/html": [
       "<div>\n",
       "<style scoped>\n",
       "    .dataframe tbody tr th:only-of-type {\n",
       "        vertical-align: middle;\n",
       "    }\n",
       "\n",
       "    .dataframe tbody tr th {\n",
       "        vertical-align: top;\n",
       "    }\n",
       "\n",
       "    .dataframe thead th {\n",
       "        text-align: right;\n",
       "    }\n",
       "</style>\n",
       "<table border=\"1\" class=\"dataframe\">\n",
       "  <thead>\n",
       "    <tr style=\"text-align: right;\">\n",
       "      <th></th>\n",
       "      <th>id</th>\n",
       "      <th>original_title</th>\n",
       "      <th>popularity</th>\n",
       "      <th>video</th>\n",
       "      <th>budget</th>\n",
       "      <th>imdb_id</th>\n",
       "      <th>original_language</th>\n",
       "      <th>overview</th>\n",
       "      <th>release_date</th>\n",
       "      <th>revenue</th>\n",
       "      <th>runtime</th>\n",
       "      <th>status</th>\n",
       "      <th>tagline</th>\n",
       "      <th>title</th>\n",
       "      <th>vote_average</th>\n",
       "      <th>vote_count</th>\n",
       "    </tr>\n",
       "  </thead>\n",
       "  <tbody>\n",
       "    <tr>\n",
       "      <th>0</th>\n",
       "      <td>2</td>\n",
       "      <td>Ariel</td>\n",
       "      <td>8.455</td>\n",
       "      <td>0</td>\n",
       "      <td>0</td>\n",
       "      <td>tt0094675</td>\n",
       "      <td>fi</td>\n",
       "      <td>Taisto Kasurinen is a Finnish coal miner whose...</td>\n",
       "      <td>1988-10-21</td>\n",
       "      <td>0</td>\n",
       "      <td>73.0</td>\n",
       "      <td>Released</td>\n",
       "      <td></td>\n",
       "      <td>Ariel</td>\n",
       "      <td>6.8</td>\n",
       "      <td>128</td>\n",
       "    </tr>\n",
       "    <tr>\n",
       "      <th>1</th>\n",
       "      <td>3</td>\n",
       "      <td>Varjoja paratiisissa</td>\n",
       "      <td>6.696</td>\n",
       "      <td>0</td>\n",
       "      <td>0</td>\n",
       "      <td>tt0092149</td>\n",
       "      <td>fi</td>\n",
       "      <td>An episode in the life of Nikander, a garbage ...</td>\n",
       "      <td>1986-10-17</td>\n",
       "      <td>0</td>\n",
       "      <td>74.0</td>\n",
       "      <td>Released</td>\n",
       "      <td></td>\n",
       "      <td>Shadows in Paradise</td>\n",
       "      <td>7.2</td>\n",
       "      <td>125</td>\n",
       "    </tr>\n",
       "    <tr>\n",
       "      <th>2</th>\n",
       "      <td>5</td>\n",
       "      <td>Four Rooms</td>\n",
       "      <td>13.794</td>\n",
       "      <td>0</td>\n",
       "      <td>4000000</td>\n",
       "      <td>tt0113101</td>\n",
       "      <td>en</td>\n",
       "      <td>It's Ted the Bellhop's first night on the job....</td>\n",
       "      <td>1995-12-09</td>\n",
       "      <td>4257354</td>\n",
       "      <td>98.0</td>\n",
       "      <td>Released</td>\n",
       "      <td>Twelve outrageous guests. Four scandalous requ...</td>\n",
       "      <td>Four Rooms</td>\n",
       "      <td>5.7</td>\n",
       "      <td>1901</td>\n",
       "    </tr>\n",
       "    <tr>\n",
       "      <th>3</th>\n",
       "      <td>6</td>\n",
       "      <td>Judgment Night</td>\n",
       "      <td>12.455</td>\n",
       "      <td>0</td>\n",
       "      <td>21000000</td>\n",
       "      <td>tt0107286</td>\n",
       "      <td>en</td>\n",
       "      <td>While racing to a boxing match, Frank, Mike, J...</td>\n",
       "      <td>1993-10-15</td>\n",
       "      <td>12136938</td>\n",
       "      <td>110.0</td>\n",
       "      <td>Released</td>\n",
       "      <td>Don't move. Don't whisper. Don't even breathe.</td>\n",
       "      <td>Judgment Night</td>\n",
       "      <td>6.5</td>\n",
       "      <td>184</td>\n",
       "    </tr>\n",
       "    <tr>\n",
       "      <th>4</th>\n",
       "      <td>11</td>\n",
       "      <td>Star Wars</td>\n",
       "      <td>84.275</td>\n",
       "      <td>0</td>\n",
       "      <td>11000000</td>\n",
       "      <td>tt0076759</td>\n",
       "      <td>en</td>\n",
       "      <td>Princess Leia is captured and held hostage by ...</td>\n",
       "      <td>1977-05-25</td>\n",
       "      <td>775398007</td>\n",
       "      <td>121.0</td>\n",
       "      <td>Released</td>\n",
       "      <td>A long time ago in a galaxy far, far away...</td>\n",
       "      <td>Star Wars</td>\n",
       "      <td>8.2</td>\n",
       "      <td>15257</td>\n",
       "    </tr>\n",
       "  </tbody>\n",
       "</table>\n",
       "</div>"
      ],
      "text/plain": [
       "   id        original_title  popularity  video    budget    imdb_id  \\\n",
       "0   2                 Ariel       8.455      0         0  tt0094675   \n",
       "1   3  Varjoja paratiisissa       6.696      0         0  tt0092149   \n",
       "2   5            Four Rooms      13.794      0   4000000  tt0113101   \n",
       "3   6        Judgment Night      12.455      0  21000000  tt0107286   \n",
       "4  11             Star Wars      84.275      0  11000000  tt0076759   \n",
       "\n",
       "  original_language                                           overview  \\\n",
       "0                fi  Taisto Kasurinen is a Finnish coal miner whose...   \n",
       "1                fi  An episode in the life of Nikander, a garbage ...   \n",
       "2                en  It's Ted the Bellhop's first night on the job....   \n",
       "3                en  While racing to a boxing match, Frank, Mike, J...   \n",
       "4                en  Princess Leia is captured and held hostage by ...   \n",
       "\n",
       "  release_date    revenue  runtime    status  \\\n",
       "0   1988-10-21          0     73.0  Released   \n",
       "1   1986-10-17          0     74.0  Released   \n",
       "2   1995-12-09    4257354     98.0  Released   \n",
       "3   1993-10-15   12136938    110.0  Released   \n",
       "4   1977-05-25  775398007    121.0  Released   \n",
       "\n",
       "                                             tagline                title  \\\n",
       "0                                                                   Ariel   \n",
       "1                                                     Shadows in Paradise   \n",
       "2  Twelve outrageous guests. Four scandalous requ...           Four Rooms   \n",
       "3     Don't move. Don't whisper. Don't even breathe.       Judgment Night   \n",
       "4       A long time ago in a galaxy far, far away...            Star Wars   \n",
       "\n",
       "   vote_average  vote_count  \n",
       "0           6.8         128  \n",
       "1           7.2         125  \n",
       "2           5.7        1901  \n",
       "3           6.5         184  \n",
       "4           8.2       15257  "
      ]
     },
     "execution_count": 251,
     "metadata": {},
     "output_type": "execute_result"
    }
   ],
   "source": [
    "cols_list = ['id', 'original_title', 'popularity', 'video', 'budget',\n",
    "        'imdb_id', 'original_language', 'overview','release_date', 'revenue', \n",
    "        'runtime', 'status', 'tagline', 'title', 'vote_average', 'vote_count']\n",
    "df_batch1[cols_list].to_sql('tmdb_movies', conn ,index=False)\n",
    "\n",
    "sql = \"\"\"SELECT * \n",
    "         FROM tmdb_movies\n",
    "         LIMIT 5\"\"\"\n",
    "\n",
    "df = pd.DataFrame(cur.execute(sql).fetchall(),columns=[x[0] for x in cur.description])\n",
    "df"
   ]
  },
  {
   "cell_type": "code",
   "execution_count": 252,
   "metadata": {
    "scrolled": true
   },
   "outputs": [
    {
     "data": {
      "text/html": [
       "<div>\n",
       "<style scoped>\n",
       "    .dataframe tbody tr th:only-of-type {\n",
       "        vertical-align: middle;\n",
       "    }\n",
       "\n",
       "    .dataframe tbody tr th {\n",
       "        vertical-align: top;\n",
       "    }\n",
       "\n",
       "    .dataframe thead th {\n",
       "        text-align: right;\n",
       "    }\n",
       "</style>\n",
       "<table border=\"1\" class=\"dataframe\">\n",
       "  <thead>\n",
       "    <tr style=\"text-align: right;\">\n",
       "      <th></th>\n",
       "      <th>id</th>\n",
       "      <th>genreids_list</th>\n",
       "    </tr>\n",
       "  </thead>\n",
       "  <tbody>\n",
       "    <tr>\n",
       "      <th>0</th>\n",
       "      <td>2</td>\n",
       "      <td>18</td>\n",
       "    </tr>\n",
       "    <tr>\n",
       "      <th>1</th>\n",
       "      <td>2</td>\n",
       "      <td>80</td>\n",
       "    </tr>\n",
       "    <tr>\n",
       "      <th>2</th>\n",
       "      <td>2</td>\n",
       "      <td>35</td>\n",
       "    </tr>\n",
       "    <tr>\n",
       "      <th>3</th>\n",
       "      <td>3</td>\n",
       "      <td>18</td>\n",
       "    </tr>\n",
       "    <tr>\n",
       "      <th>4</th>\n",
       "      <td>3</td>\n",
       "      <td>35</td>\n",
       "    </tr>\n",
       "  </tbody>\n",
       "</table>\n",
       "</div>"
      ],
      "text/plain": [
       "   id  genreids_list\n",
       "0   2             18\n",
       "1   2             80\n",
       "2   2             35\n",
       "3   3             18\n",
       "4   3             35"
      ]
     },
     "execution_count": 252,
     "metadata": {},
     "output_type": "execute_result"
    }
   ],
   "source": [
    "df_batch1g_ex.to_sql('tmdb_movie_genres', conn ,index=False)\n",
    "\n",
    "sql = \"\"\"SELECT * \n",
    "         FROM tmdb_movie_genres\n",
    "         LIMIT 5\"\"\"\n",
    "\n",
    "df = pd.DataFrame(cur.execute(sql).fetchall(),columns=[x[0] for x in cur.description])\n",
    "df"
   ]
  },
  {
   "cell_type": "code",
   "execution_count": 255,
   "metadata": {
    "scrolled": true
   },
   "outputs": [
    {
     "data": {
      "text/html": [
       "<div>\n",
       "<style scoped>\n",
       "    .dataframe tbody tr th:only-of-type {\n",
       "        vertical-align: middle;\n",
       "    }\n",
       "\n",
       "    .dataframe tbody tr th {\n",
       "        vertical-align: top;\n",
       "    }\n",
       "\n",
       "    .dataframe thead th {\n",
       "        text-align: right;\n",
       "    }\n",
       "</style>\n",
       "<table border=\"1\" class=\"dataframe\">\n",
       "  <thead>\n",
       "    <tr style=\"text-align: right;\">\n",
       "      <th></th>\n",
       "      <th>id</th>\n",
       "      <th>prodcomp_list</th>\n",
       "    </tr>\n",
       "  </thead>\n",
       "  <tbody>\n",
       "    <tr>\n",
       "      <th>0</th>\n",
       "      <td>2</td>\n",
       "      <td>2303</td>\n",
       "    </tr>\n",
       "    <tr>\n",
       "      <th>1</th>\n",
       "      <td>3</td>\n",
       "      <td>2303</td>\n",
       "    </tr>\n",
       "    <tr>\n",
       "      <th>2</th>\n",
       "      <td>5</td>\n",
       "      <td>14</td>\n",
       "    </tr>\n",
       "    <tr>\n",
       "      <th>3</th>\n",
       "      <td>5</td>\n",
       "      <td>59</td>\n",
       "    </tr>\n",
       "    <tr>\n",
       "      <th>4</th>\n",
       "      <td>6</td>\n",
       "      <td>33</td>\n",
       "    </tr>\n",
       "  </tbody>\n",
       "</table>\n",
       "</div>"
      ],
      "text/plain": [
       "   id  prodcomp_list\n",
       "0   2           2303\n",
       "1   3           2303\n",
       "2   5             14\n",
       "3   5             59\n",
       "4   6             33"
      ]
     },
     "execution_count": 255,
     "metadata": {},
     "output_type": "execute_result"
    }
   ],
   "source": [
    "df_batch1pcomp_ex.to_sql('tmdb_movie_companies', conn ,index=False)\n",
    "\n",
    "sql = \"\"\"SELECT * \n",
    "         FROM tmdb_movie_companies\n",
    "         LIMIT 5\"\"\"\n",
    "\n",
    "df = pd.DataFrame(cur.execute(sql).fetchall(),columns=[x[0] for x in cur.description])\n",
    "df"
   ]
  },
  {
   "cell_type": "code",
   "execution_count": 256,
   "metadata": {
    "scrolled": true
   },
   "outputs": [
    {
     "data": {
      "text/html": [
       "<div>\n",
       "<style scoped>\n",
       "    .dataframe tbody tr th:only-of-type {\n",
       "        vertical-align: middle;\n",
       "    }\n",
       "\n",
       "    .dataframe tbody tr th {\n",
       "        vertical-align: top;\n",
       "    }\n",
       "\n",
       "    .dataframe thead th {\n",
       "        text-align: right;\n",
       "    }\n",
       "</style>\n",
       "<table border=\"1\" class=\"dataframe\">\n",
       "  <thead>\n",
       "    <tr style=\"text-align: right;\">\n",
       "      <th></th>\n",
       "      <th>id</th>\n",
       "      <th>prodcouns_list</th>\n",
       "    </tr>\n",
       "  </thead>\n",
       "  <tbody>\n",
       "    <tr>\n",
       "      <th>0</th>\n",
       "      <td>2</td>\n",
       "      <td>FI</td>\n",
       "    </tr>\n",
       "    <tr>\n",
       "      <th>1</th>\n",
       "      <td>3</td>\n",
       "      <td>FI</td>\n",
       "    </tr>\n",
       "    <tr>\n",
       "      <th>2</th>\n",
       "      <td>5</td>\n",
       "      <td>US</td>\n",
       "    </tr>\n",
       "    <tr>\n",
       "      <th>3</th>\n",
       "      <td>6</td>\n",
       "      <td>JP</td>\n",
       "    </tr>\n",
       "    <tr>\n",
       "      <th>4</th>\n",
       "      <td>6</td>\n",
       "      <td>US</td>\n",
       "    </tr>\n",
       "  </tbody>\n",
       "</table>\n",
       "</div>"
      ],
      "text/plain": [
       "   id prodcouns_list\n",
       "0   2             FI\n",
       "1   3             FI\n",
       "2   5             US\n",
       "3   6             JP\n",
       "4   6             US"
      ]
     },
     "execution_count": 256,
     "metadata": {},
     "output_type": "execute_result"
    }
   ],
   "source": [
    "df_batch1pcoun_ex.to_sql('tmdb_movie_countries', conn ,index=False)\n",
    "\n",
    "sql = \"\"\"SELECT * \n",
    "         FROM tmdb_movie_countries\n",
    "         LIMIT 5\"\"\"\n",
    "\n",
    "df = pd.DataFrame(cur.execute(sql).fetchall(),columns=[x[0] for x in cur.description])\n",
    "df"
   ]
  },
  {
   "cell_type": "code",
   "execution_count": 257,
   "metadata": {},
   "outputs": [],
   "source": [
    "conn.commit()"
   ]
  },
  {
   "cell_type": "markdown",
   "metadata": {},
   "source": [
    "#### One-off Fix for batch 8 with the error"
   ]
  },
  {
   "cell_type": "code",
   "execution_count": 299,
   "metadata": {},
   "outputs": [],
   "source": [
    "batch = pickle.Unpickler(open('tmdb_moviedetails_batch8.pickle', 'rb')).load()\n",
    "\n",
    "df_batch = pd.DataFrame(batch)"
   ]
  },
  {
   "cell_type": "code",
   "execution_count": 302,
   "metadata": {},
   "outputs": [
    {
     "name": "stdout",
     "output_type": "stream",
     "text": [
      "<class 'pandas.core.frame.DataFrame'>\n",
      "RangeIndex: 10130 entries, 0 to 10129\n",
      "Data columns (total 20 columns):\n",
      " #   Column                Non-Null Count  Dtype  \n",
      "---  ------                --------------  -----  \n",
      " 0   adult                 10130 non-null  bool   \n",
      " 1   id                    10130 non-null  int64  \n",
      " 2   original_title        10130 non-null  object \n",
      " 3   popularity            10130 non-null  float64\n",
      " 4   video                 10130 non-null  bool   \n",
      " 5   budget                10130 non-null  object \n",
      " 6   genres                10130 non-null  object \n",
      " 7   imdb_id               8690 non-null   object \n",
      " 8   original_language     10130 non-null  object \n",
      " 9   overview              10130 non-null  object \n",
      " 10  production_companies  10130 non-null  object \n",
      " 11  production_countries  10130 non-null  object \n",
      " 12  release_date          10130 non-null  object \n",
      " 13  revenue               10130 non-null  object \n",
      " 14  runtime               10006 non-null  object \n",
      " 15  status                10130 non-null  object \n",
      " 16  tagline               10130 non-null  object \n",
      " 17  title                 10130 non-null  object \n",
      " 18  vote_average          10130 non-null  object \n",
      " 19  vote_count            10130 non-null  object \n",
      "dtypes: bool(2), float64(1), int64(1), object(16)\n",
      "memory usage: 1.4+ MB\n"
     ]
    }
   ],
   "source": [
    "df_batch.info()"
   ]
  },
  {
   "cell_type": "code",
   "execution_count": 303,
   "metadata": {
    "scrolled": true
   },
   "outputs": [
    {
     "data": {
      "text/html": [
       "<div>\n",
       "<style scoped>\n",
       "    .dataframe tbody tr th:only-of-type {\n",
       "        vertical-align: middle;\n",
       "    }\n",
       "\n",
       "    .dataframe tbody tr th {\n",
       "        vertical-align: top;\n",
       "    }\n",
       "\n",
       "    .dataframe thead th {\n",
       "        text-align: right;\n",
       "    }\n",
       "</style>\n",
       "<table border=\"1\" class=\"dataframe\">\n",
       "  <thead>\n",
       "    <tr style=\"text-align: right;\">\n",
       "      <th></th>\n",
       "      <th>adult</th>\n",
       "      <th>id</th>\n",
       "      <th>original_title</th>\n",
       "      <th>popularity</th>\n",
       "      <th>video</th>\n",
       "      <th>budget</th>\n",
       "      <th>genres</th>\n",
       "      <th>imdb_id</th>\n",
       "      <th>original_language</th>\n",
       "      <th>overview</th>\n",
       "      <th>production_companies</th>\n",
       "      <th>production_countries</th>\n",
       "      <th>release_date</th>\n",
       "      <th>revenue</th>\n",
       "      <th>runtime</th>\n",
       "      <th>status</th>\n",
       "      <th>tagline</th>\n",
       "      <th>title</th>\n",
       "      <th>vote_average</th>\n",
       "      <th>vote_count</th>\n",
       "    </tr>\n",
       "  </thead>\n",
       "  <tbody>\n",
       "    <tr>\n",
       "      <th>5432</th>\n",
       "      <td>False</td>\n",
       "      <td>644910</td>\n",
       "      <td>Saturday Morning Cartoons: 1970s — Volume 1</td>\n",
       "      <td>6.65</td>\n",
       "      <td>False</td>\n",
       "      <td>Exception encountered</td>\n",
       "      <td>Exception encountered</td>\n",
       "      <td>Exception encountered</td>\n",
       "      <td>Exception encountered</td>\n",
       "      <td>Exception encountered</td>\n",
       "      <td>Exception encountered</td>\n",
       "      <td>Exception encountered</td>\n",
       "      <td>Exception encountered</td>\n",
       "      <td>Exception encountered</td>\n",
       "      <td>Exception encountered</td>\n",
       "      <td>Exception encountered</td>\n",
       "      <td>Exception encountered</td>\n",
       "      <td>Exception encountered</td>\n",
       "      <td>Exception encountered</td>\n",
       "      <td>Exception encountered</td>\n",
       "    </tr>\n",
       "  </tbody>\n",
       "</table>\n",
       "</div>"
      ],
      "text/plain": [
       "      adult      id                               original_title  popularity  \\\n",
       "5432  False  644910  Saturday Morning Cartoons: 1970s — Volume 1        6.65   \n",
       "\n",
       "      video                 budget                 genres  \\\n",
       "5432  False  Exception encountered  Exception encountered   \n",
       "\n",
       "                    imdb_id      original_language               overview  \\\n",
       "5432  Exception encountered  Exception encountered  Exception encountered   \n",
       "\n",
       "       production_companies   production_countries           release_date  \\\n",
       "5432  Exception encountered  Exception encountered  Exception encountered   \n",
       "\n",
       "                    revenue                runtime                 status  \\\n",
       "5432  Exception encountered  Exception encountered  Exception encountered   \n",
       "\n",
       "                    tagline                  title           vote_average  \\\n",
       "5432  Exception encountered  Exception encountered  Exception encountered   \n",
       "\n",
       "                 vote_count  \n",
       "5432  Exception encountered  "
      ]
     },
     "execution_count": 303,
     "metadata": {},
     "output_type": "execute_result"
    }
   ],
   "source": [
    "df_batch.loc[df_batch['id'] == 644910]"
   ]
  },
  {
   "cell_type": "code",
   "execution_count": 305,
   "metadata": {},
   "outputs": [],
   "source": [
    "df_batch.drop(index=5432, axis=0, inplace=True)"
   ]
  },
  {
   "cell_type": "code",
   "execution_count": 309,
   "metadata": {},
   "outputs": [],
   "source": [
    "fixed_batch8 = df_batch.to_dict(orient='records')\n",
    "\n",
    "pickle.Pickler(open(f'tmdb_moviedetails_batch8_fixed.pickle', 'wb')).dump(fixed_batch8)"
   ]
  },
  {
   "cell_type": "markdown",
   "metadata": {},
   "source": [
    "### The Batch Import and Clean"
   ]
  },
  {
   "cell_type": "code",
   "execution_count": 310,
   "metadata": {
    "scrolled": false
   },
   "outputs": [],
   "source": [
    "# all together now!\n",
    "batch = pickle.Unpickler(open('tmdb_moviedetails_batch8_fixed.pickle', 'rb')).load()\n",
    "\n",
    "df_batch = pd.DataFrame(batch)\n",
    "\n",
    "df_batchg = df_batch[['id', 'genres']]\n",
    "\n",
    "# Add new column with genre IDs as a list\n",
    "myfunc = lambda x: [i['id'] for i in x]\n",
    "df_str_to_iterable(df_batchg, 'genres', 'genreids_list', myfunc)\n",
    "\n",
    "for value in df_batchg['genres'].values:\n",
    "    for x in value:\n",
    "        genres_dict[x['id']] = x['name']\n",
    "\n",
    "df_batchg_ex = df_batchg[['id', 'genreids_list']].explode('genreids_list'\n",
    "                                                           , ignore_index=True)\n",
    "\n",
    "df_batchpcomp = df_batch[['id', 'production_companies']]\n",
    "\n",
    "# Add new column with prodcomp IDs as a list\n",
    "myfunc = lambda x: [i['id'] for i in x]\n",
    "df_str_to_iterable(df_batchpcomp, 'production_companies', 'prodcomp_list', myfunc)\n",
    "\n",
    "for value in df_batchpcomp['production_companies'].values:\n",
    "    for x in value:\n",
    "        prodcomps_dict[x['id']] = [x['name'], x['origin_country']]\n",
    "\n",
    "df_batchpcomp_ex = df_batchpcomp[['id', 'prodcomp_list']].explode('prodcomp_list'\n",
    "                                                           , ignore_index=True)\n",
    "\n",
    "df_batchpcoun = df_batch[['id', 'production_countries']]\n",
    "\n",
    "# Add new column with prodcoun IDs as a list\n",
    "myfunc = lambda x: [i['iso_3166_1'] for i in x]\n",
    "df_str_to_iterable(df_batchpcoun, 'production_countries', 'prodcouns_list', myfunc)\n",
    "\n",
    "for value in df_batchpcoun['production_countries'].values:\n",
    "    for x in value:\n",
    "        prodcouns_dict[x['iso_3166_1']] = x['name']\n",
    "\n",
    "df_batchpcoun_ex = df_batchpcoun[['id', 'prodcouns_list']].explode('prodcouns_list'\n",
    "                                                           , ignore_index=True)\n"
   ]
  },
  {
   "cell_type": "code",
   "execution_count": 314,
   "metadata": {},
   "outputs": [
    {
     "name": "stdout",
     "output_type": "stream",
     "text": [
      "       id genreids_list\n",
      "0  531208            28\n",
      "1  531208            27\n",
      "2  531208           878\n",
      "3  531210            16\n",
      "4  531219         10751\n",
      "       id prodcomp_list\n",
      "0  531208          1311\n",
      "1  531210           NaN\n",
      "2  531219         11395\n",
      "3  531219           174\n",
      "4  531219        101082\n",
      "       id prodcouns_list\n",
      "0  531208             US\n",
      "1  531210            NaN\n",
      "2  531219             MX\n",
      "3  531219             US\n",
      "4  531239             US\n"
     ]
    }
   ],
   "source": [
    "print(df_batchg_ex.head())\n",
    "print(df_batchpcomp_ex.head())\n",
    "print(df_batchpcoun_ex.head())"
   ]
  },
  {
   "cell_type": "code",
   "execution_count": 315,
   "metadata": {},
   "outputs": [],
   "source": [
    "df_batchg_ex.to_sql('tmdb_movie_genres', conn ,index=False, if_exists='append')\n",
    "\n",
    "df_batchpcomp_ex.to_sql('tmdb_movie_companies', conn ,index=False, if_exists='append')\n",
    "\n",
    "df_batchpcoun_ex.to_sql('tmdb_movie_countries', conn ,index=False, if_exists='append')"
   ]
  },
  {
   "cell_type": "code",
   "execution_count": 317,
   "metadata": {},
   "outputs": [
    {
     "data": {
      "text/html": [
       "<div>\n",
       "<style scoped>\n",
       "    .dataframe tbody tr th:only-of-type {\n",
       "        vertical-align: middle;\n",
       "    }\n",
       "\n",
       "    .dataframe tbody tr th {\n",
       "        vertical-align: top;\n",
       "    }\n",
       "\n",
       "    .dataframe thead th {\n",
       "        text-align: right;\n",
       "    }\n",
       "</style>\n",
       "<table border=\"1\" class=\"dataframe\">\n",
       "  <thead>\n",
       "    <tr style=\"text-align: right;\">\n",
       "      <th></th>\n",
       "      <th>COUNT()</th>\n",
       "    </tr>\n",
       "  </thead>\n",
       "  <tbody>\n",
       "    <tr>\n",
       "      <th>0</th>\n",
       "      <td>10106</td>\n",
       "    </tr>\n",
       "  </tbody>\n",
       "</table>\n",
       "</div>"
      ],
      "text/plain": [
       "   COUNT()\n",
       "0    10106"
      ]
     },
     "execution_count": 317,
     "metadata": {},
     "output_type": "execute_result"
    }
   ],
   "source": [
    "sql = \"\"\"SELECT COUNT() \n",
    "         FROM tmdb_movies\"\"\"\n",
    "\n",
    "df = pd.DataFrame(cur.execute(sql).fetchall(),columns=[x[0] for x in cur.description])\n",
    "df"
   ]
  },
  {
   "cell_type": "code",
   "execution_count": 319,
   "metadata": {},
   "outputs": [],
   "source": [
    "conn.commit()"
   ]
  },
  {
   "cell_type": "code",
   "execution_count": 148,
   "metadata": {},
   "outputs": [
    {
     "data": {
      "text/plain": [
       "<sqlite3.Cursor at 0x7fe14d54cea0>"
      ]
     },
     "execution_count": 148,
     "metadata": {},
     "output_type": "execute_result"
    }
   ],
   "source": [
    "#sql = \"\"\"DROP TABLE imdb_ratings\"\"\"\n",
    "\n",
    "cur.execute(sql)"
   ]
  },
  {
   "cell_type": "code",
   "execution_count": 258,
   "metadata": {
    "scrolled": false
   },
   "outputs": [
    {
     "name": "stdout",
     "output_type": "stream",
     "text": [
      "[('imdb_basics',), ('imdb_directors',), ('imdb_writers',), ('imdb_names',), ('imdb_principals',), ('imdb_ratings',), ('tmdb_movies',), ('tmdb_movie_genres',), ('tmdb_movie_companies',), ('tmdb_movie_countries',)]\n"
     ]
    }
   ],
   "source": [
    "sql = \"\"\"SELECT name FROM sqlite_master WHERE type = 'table'\"\"\"\n",
    "\n",
    "print(cur.execute(sql).fetchall())"
   ]
  },
  {
   "cell_type": "markdown",
   "metadata": {},
   "source": [
    "# Initial Analysis Notes and thoughts:\n",
    "The question I am asked to investigate is: \"which movies are doing best at the box office?\" But if the business goal is successfully entering the movie-making market, this question is only one of many we should ask and answer to determine the best approach.\n",
    "\n",
    "Considering only the past earnings from box office sales is unlikely to be a good predictor of successful movies in the future. Even if we were to use only the past few years of data, the business model is rapidly changing. With the rise of streaming, many movies aren't released in theaters at all anymore, and the future of movie theaters has become especially uncertain due to the Covid-19 pandemic. \n",
    "\n",
    "The attributes of movies that are the most successful in the theaters may vary from the attributes of movies that are most successful when released only on streaming platforms. The reasons why people may choose to go and watch a movie in the theaters will be different from the reasons people choose to stream a movie: theaters offer an event-like experience with the very large screen and loud surround sound, whereas viewers streaming movies watch them in their homes. \n",
    "\n",
    "It's unclear whether the entire business model of creating movies for streaming services differs from the traditional model. "
   ]
  },
  {
   "cell_type": "markdown",
   "metadata": {},
   "source": [
    "## Look deeper into what we have in each data set\n",
    "\n",
    "Answer questions such as:\n",
    "- What information is in each data set? Does any single data set have everything you need, or do you need to figure out how to join data sets?\n",
    "- What is the range of release years in each data set? Which have the most data?\n",
    "- What data points do I want to focus on in each data set, and what can I discard/disregard? This will narrow down the data I intend to clean up.\n",
    "\n",
    "1. Monetary stuff in The Numbers data set - box office gross and budget. Look at changes over time to attempt to identify trends.\n",
    "    - Is there a sweet spot in terms of a  budget range to maximize profit? Are there diminishing returns?\n",
    "    - Do we see any trends in profits over time? Has the distribution of profits coming from domestic versus foreign changed over time?\n",
    "2. What are the attributes of the most profitable movies? Do they get higher critical ratings? Is there a certain sweet spot for runtime length? How about MPAA ratings? Genres? Release month? <-- not sure we'll have MPAA ratings, but we'll have runtime, genres, and release date.\n",
    "    - Should the studio focus on making movies that make critics happy to maximize profits? <-- not sure we'll be able to get this. but we can get public voter ratings.\n",
    "3. What can we learn about the contributors to movies? If we look at the writers, directors, producers on the most profitable movies, then look at other movies they were in, do we see any patterns? How about the actors and actresses? Do more experienced contributors (those who have worked on x amount of movies prior) create a more profitable product?\n",
    "    - Should Microsoft focus on hiring certain types of talent? Should they consider paying a premium for more famous actors or directors?\n"
   ]
  },
  {
   "cell_type": "markdown",
   "metadata": {},
   "source": [
    "## Measures of successful movies include:\n",
    "\n",
    "|Measure|Have it?|Where|Notes|\n",
    "|---|---|---|---|\n",
    "|Gross earnings (box office only)|Yes|bom.movie_gross.csv.gz, tn.movie_budgets.csv.gz, rt_movie_info|BOM splits into foreign and domestic. TN has the most records, AND prod budget. RT has only 1500.|\n",
    "|Net box office earnings after subtracting costs|Some|Can calculate from gross - production budget|Other data sets have gross box office earnings but not production budget|df_tn_budget|\n",
    "|Merchandising earnings|No|---|---|\n",
    "|Gross earnings from other sources, such as streaming, rentals|No|---|\n",
    "|High ratings from professional movie reviewers|Yes|rt.reviews.tsv.gz|RT is the only data set with critical reviews|\n",
    "|High ratings from viewers|Yes|imdb.title.ratings.csv.gz, tmdb.movies.csv.gz|I think the tmdb ratings are users not critics|\n",
    "|Being nominated for and winning awards|No|---|\n",
    "|---|---|---|\n",
    " \n",
    "Microsoft will need to decide which measures of success are most important. Given its primary business is profitable and in a totally different economic sector, it may decide to treat the foray into film as a way to keep the brand feeling \"cool\" to consumers. If that's the case, measures of success such as ratings and award nominations may be weighted more heavily than profit."
   ]
  },
  {
   "cell_type": "markdown",
   "metadata": {},
   "source": [
    "## What measures of success would a film STUDIO care about?\n",
    "\n",
    "https://www.entrepreneur.com/article/288819 accessed march 15, 2021\n",
    "\n",
    "\"In short, the studio approach to filmmaking is a far cry from the ragtag process many independent films follow. Movie studios invest in scripts and concepts, then hire production companies to use their resources to create those films. They handle logistics like financing, production and distribution to make things easier on the creative minds behind the films.\"\n",
    "\n",
    "In addition to profitability, **which production companies have been behind the most profitable films?**\n",
    "\n",
    "The **specific writers and directors associated with profitable movies** may also be a factor studios would care about."
   ]
  },
  {
   "cell_type": "markdown",
   "metadata": {},
   "source": [
    "## Potential Independent Variables\n",
    "Reasons why certain movies may be more successful than others (independent variables) include:\n",
    "\n",
    "|Independent Variable|Have it?|Where|Notes|\n",
    "|---|---|---|---|\n",
    "|Budget - i.e. how much money they spent making it|Yes|tn.movie_budgets.csv.gz|\n",
    "|Genre (action, drama, comedy, etc)|Yes|imdb.title.basics.csv.gz|\n",
    "|Well-known and loved actors being in them|Yes, ish|imdb.name.basics.csv.gz, imdb.title.principals.csv.gz|Join tables to figure out who did what|\n",
    "|Well-known and loved writers, directors, and other creators|Yes|imdb.name.basics.csv.gz,imdb.title.crew.csv.gz||\n",
    "|Seasonality (combination of topic and release date)|No|---|\n",
    "|Whether the movie is part of a series or franchise|Can get|---|Perhaps if based on a book or comic book? https://www.the-numbers.com/movies/franchises|\n",
    "|Month of release|Yes|tmdb.movies.csv.gz|\n",
    "|Method of release (in theaters only, straight to streaming, etc)|No|---|\n",
    "|MPAA Rating|Yes|rt.movie_info.tsv.gz|\n",
    "|Runtime length|Yes|rt.movie_info.tsv.gz, imdb.title.basics.csv.gz|\n",
    "|Semantic characteristics of the title|Yes|imdb.title.akas.csv.gz|---|\n",
    "|Semantic characteristics of the official synopsis|Yes|rt.movie_info.tsv.gz|---|\n",
    "\n"
   ]
  },
  {
   "cell_type": "markdown",
   "metadata": {},
   "source": [
    "## Potential Trends to Consider\n",
    "- Has there been any change in the popularity of movies directed by different categories of people? For instance, are movies written or directed by women becoming more popular over time?\n",
    "- How is the method of release changing over time?\n",
    "- Are budgets changing over time? Is the change in line with inflation, or changing at a higher rate?\n",
    "- Is the general profitability changing over time? Should Microsoft rethink getting into movies if the profit margins are getting slimmer and slimmer?\n",
    "- How many very successful movies are made by smaller, independent studios? How long have the most successful studios been established?\n",
    "- Is there a really big gap between the highest earners / most popular and the average? Do the movies we consider successful stand way out from the pack? What's the standard deviation?"
   ]
  },
  {
   "cell_type": "markdown",
   "metadata": {},
   "source": [
    "## Sources used for research\n",
    "- In general, major studios don’t disclose the full budgets for their films (production, development, marketing, and advertising).[1]\n",
    "- In addition to the cost of production, the gross box office earnings don't factor in that the theaters keep a cut of the ticket sales. It's hard to know what the production company actually gets.[1]\n",
    "- \"Traditionally, a larger chunk went to the studio during the opening weekend of a film. As the weeks went on, the theater operator's percentage rose. A studio might make about 60% of a film's ticket sales in the United States, and around 20% to 40% of that on overseas ticket sales.\" [1]\n",
    "- \"Studios and distributors generally make more from domestic revenue than from overseas sales because they get a larger percentage. Despite this arrangement, foreign ticket sales became more important in the early 21st century.6﻿ That is part of the reason why you see more sci-fi, adventure, fantasy, and superhero movies. Action and special effects require no translations. They’re easy to understand, whether you’re in Malaysia or Montana. It is much harder to build a foreign audience for an indie comedy.\" [1]\n",
    "- The movie industry is rather famously difficult to predict accurately. Many have tried, but it's difficult to do. [2]\n",
    "- One hit can pay for a lot of flops [2]\n",
    "- Many of the existing production companies have been around for a long time [2]\n",
    "-\"Because it’s harder to get financing and audiences, companies are competing to make bigger, costlier films while eliminating risk, which is why ever-more movies are based on existing intellectual property. Eighteen of the all-time 100 top-grossing movies (adjusted for inflation) were sequels, and more than half of those were released since 2000.\" [2]\n",
    "\n",
    "\n",
    "[1]: Source = https://www.investopedia.com/articles/investing/093015/how-exactly-do-movies-make-money.asp#:~:text=VOD%20revenues%20tend%20to%20dry,audiences%20away%20from%20traditional%20movies Accessed on 3/12/2021, 3/15/2021.\n",
    "\n",
    "[2] Source = https://www.nytimes.com/2012/07/01/magazine/how-does-the-film-industry-actually-make-money.html Accessed 3/12/2021.\n",
    "\n",
    " "
   ]
  },
  {
   "cell_type": "code",
   "execution_count": null,
   "metadata": {},
   "outputs": [],
   "source": []
  }
 ],
 "metadata": {
  "kernelspec": {
   "display_name": "learn-env",
   "language": "python",
   "name": "learn-env"
  },
  "language_info": {
   "codemirror_mode": {
    "name": "ipython",
    "version": 3
   },
   "file_extension": ".py",
   "mimetype": "text/x-python",
   "name": "python",
   "nbconvert_exporter": "python",
   "pygments_lexer": "ipython3",
   "version": "3.8.5"
  },
  "toc": {
   "base_numbering": 1,
   "nav_menu": {},
   "number_sections": true,
   "sideBar": true,
   "skip_h1_title": false,
   "title_cell": "Table of Contents",
   "title_sidebar": "Contents",
   "toc_cell": false,
   "toc_position": {},
   "toc_section_display": true,
   "toc_window_display": true
  },
  "varInspector": {
   "cols": {
    "lenName": 16,
    "lenType": 16,
    "lenVar": 40
   },
   "kernels_config": {
    "python": {
     "delete_cmd_postfix": "",
     "delete_cmd_prefix": "del ",
     "library": "var_list.py",
     "varRefreshCmd": "print(var_dic_list())"
    },
    "r": {
     "delete_cmd_postfix": ") ",
     "delete_cmd_prefix": "rm(",
     "library": "var_list.r",
     "varRefreshCmd": "cat(var_dic_list()) "
    }
   },
   "types_to_exclude": [
    "module",
    "function",
    "builtin_function_or_method",
    "instance",
    "_Feature"
   ],
   "window_display": false
  }
 },
 "nbformat": 4,
 "nbformat_minor": 2
}
