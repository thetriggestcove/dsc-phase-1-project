{
 "cells": [
  {
   "cell_type": "code",
   "execution_count": null,
   "metadata": {},
   "outputs": [],
   "source": [
    "import pandas as pd\n",
    "import numpy as np\n",
    "import sqlite3\n",
    "import json\n",
    "import pickle\n",
    "import matplotlib.pyplot as plt\n",
    "%matplotlib inline\n",
    "import seaborn as sns\n",
    "from statistics import mode\n",
    "\n",
    "# Thanks StackOverflow!\n",
    "# https://stackoverflow.com/questions/21137150/format-suppress-scientific-\n",
    "#         notation-from-python-pandas-aggregation-results\n",
    "pd.options.display.float_format = '{:.2f}'.format"
   ]
  },
  {
   "cell_type": "code",
   "execution_count": null,
   "metadata": {},
   "outputs": [],
   "source": [
    "cd '/Users/jessicamiles/Documents/Flatiron_Data_Science/git_labs_lessons/phase1/dsc-phase-1-project/analysis'"
   ]
  },
  {
   "cell_type": "code",
   "execution_count": null,
   "metadata": {},
   "outputs": [],
   "source": [
    "conn = sqlite3.connect('movie_analysis2.db')\n",
    "cur = conn.cursor()"
   ]
  },
  {
   "cell_type": "code",
   "execution_count": null,
   "metadata": {},
   "outputs": [],
   "source": [
    "# Source: https://pbpython.com/effective-matplotlib.html\n",
    "\n",
    "# {:1.1f} in this case means: apply format to the first 1 instance\n",
    "# that value should be presented with .1f = as a float with 1 point precision\n",
    "# change the second number to increase or decrease precision\n",
    "\n",
    "def currency(x, pos=None):\n",
    "    'The two args are the value and tick position'\n",
    "    # over 1 billion\n",
    "    if abs(x) >= 1000000000:\n",
    "        return '${:1.2f} B'.format(x*1e-9)\n",
    "    # over 10 million\n",
    "    elif abs(x) >= 10000000:\n",
    "        return '${:1.1f} M'.format(x*1e-6)\n",
    "    # over 1 million\n",
    "    elif abs(x) >= 1000000:\n",
    "        return '${:1.2f} M'.format(x*1e-6)\n",
    "    elif x == 0:\n",
    "        return '${:0}'.format(x)\n",
    "    else:\n",
    "        return '${:1.0f} K'.format(x*1e-3)\n",
    "    "
   ]
  },
  {
   "cell_type": "markdown",
   "metadata": {},
   "source": [
    "# Topic 1: Profitability Trends"
   ]
  },
  {
   "cell_type": "markdown",
   "metadata": {},
   "source": [
    "## Create dataframe with relevant films for financial analysis"
   ]
  },
  {
   "cell_type": "code",
   "execution_count": null,
   "metadata": {
    "scrolled": true
   },
   "outputs": [],
   "source": [
    "# Updated query with already-filtered movies\n",
    "\n",
    "sql = \"\"\"SELECT DISTINCT m.id\n",
    "                        , m.budget\n",
    "                        , m.revenue\n",
    "                        , m.release_date\n",
    "                        , m.original_language\n",
    "                        , m.imdb_id\n",
    "                        , m.runtime\n",
    "                        , m.vote_average\n",
    "                        , m.vote_count\n",
    "         FROM tmdb_movies m\n",
    "         \"\"\"\n",
    "\n",
    "df = pd.DataFrame(cur.execute(sql).fetchall(),columns=[x[0] for x in cur.description])"
   ]
  },
  {
   "cell_type": "code",
   "execution_count": null,
   "metadata": {
    "scrolled": false
   },
   "outputs": [],
   "source": [
    "# check column types and counts\n",
    "df.info()"
   ]
  },
  {
   "cell_type": "code",
   "execution_count": null,
   "metadata": {
    "scrolled": true
   },
   "outputs": [],
   "source": [
    "# check the min, max values for numerical columns\n",
    "df.describe()"
   ]
  },
  {
   "cell_type": "markdown",
   "metadata": {},
   "source": [
    "We definitely have some movies where budget or revenue is missing, or one or the other are really low and probably not accurate.\n",
    "Let's drop rows from the table where the budget and revenue data doesn't look usable.\n",
    "\n",
    "Will use a cut off limit of \\\\$10,000; both budget and revenue must be over \\\\$10,000\n",
    "\n",
    "\n",
    "- https://www.themoviedb.org/movie/599290-wwr-tournament-for-tomorrow is a good example\n",
    "- https://www.themoviedb.org/movie/254191-honeymoon another example"
   ]
  },
  {
   "cell_type": "code",
   "execution_count": null,
   "metadata": {},
   "outputs": [],
   "source": [
    "# Export to CSV to review before dropping. Everything here looks wonky.\n",
    "df.loc[(df['budget'] < 10000) | (df['revenue'] < 10000),['budget','revenue']\n",
    "      ].to_csv('budget_revenue_double-check.csv')"
   ]
  },
  {
   "cell_type": "code",
   "execution_count": null,
   "metadata": {},
   "outputs": [],
   "source": [
    "# Drop the rows where either budget or revennue is less than 10k\n",
    "to_drop = df[(df['budget'] < 10000) | (df['revenue'] < 10000)].index\n",
    "df.drop(labels=to_drop, axis=0, inplace=True)\n"
   ]
  },
  {
   "cell_type": "code",
   "execution_count": null,
   "metadata": {},
   "outputs": [],
   "source": [
    "# 4708 records dropped, and 1787 remain\n",
    "df.info()"
   ]
  },
  {
   "cell_type": "code",
   "execution_count": null,
   "metadata": {
    "scrolled": true
   },
   "outputs": [],
   "source": [
    "# min budget and revenues look better\n",
    "df.describe()"
   ]
  },
  {
   "cell_type": "code",
   "execution_count": null,
   "metadata": {},
   "outputs": [],
   "source": [
    "# But runtime has a min of 0. Let's replace with NaN so they won't be calculated\n",
    "df.loc[df['runtime'] == 0, 'runtime'] = np.nan"
   ]
  },
  {
   "cell_type": "code",
   "execution_count": null,
   "metadata": {},
   "outputs": [],
   "source": [
    "# Now there should be no 0 min for runtime\n",
    "df.describe()"
   ]
  },
  {
   "cell_type": "code",
   "execution_count": null,
   "metadata": {},
   "outputs": [],
   "source": [
    "# Looks like all of our films have release dates (string len 10)\n",
    "# This makes sense, since we filtered the original set of movie ids\n",
    "# based on release dates 2010 and on\n",
    "df['release_date'].map(lambda x: len(x)).value_counts()"
   ]
  },
  {
   "cell_type": "code",
   "execution_count": null,
   "metadata": {},
   "outputs": [],
   "source": [
    "# Split out year and month into new df columns\n",
    "month_map = {1:'January',2:'February',3:'March',4:'April',5:'May',6:'June',\n",
    "             7:'July',8:'August',9:'September',10:'October',11:'November',\n",
    "             12:'December'}\n",
    "\n",
    "df['release_year'] = df[df['release_date'].isna()==False]['release_date'].map(lambda x: int(x[:4]))\n",
    "df['release_month'] = df[df['release_date'].isna()==False]['release_date'].map(lambda x: month_map[int(x[5:7])])\n",
    "\n",
    "# Would need to use the below if there were null release dates, but there aren't\n",
    "#df.loc[df['release_year'].isna()==True, 'release_year'] = 0\n",
    "#df['release_year'] = df['release_year'].astype(int)"
   ]
  },
  {
   "cell_type": "code",
   "execution_count": null,
   "metadata": {},
   "outputs": [],
   "source": [
    "# add a numerical month column, to make sorting easier\n",
    "rev_month_map = {}\n",
    "for k, v in month_map.items():\n",
    "    rev_month_map[v] = k\n",
    "    \n",
    "rev_month_map\n",
    "\n",
    "df['release_month_num'] = df['release_month'].map(lambda x: rev_month_map[x])\n"
   ]
  },
  {
   "cell_type": "code",
   "execution_count": null,
   "metadata": {
    "scrolled": false
   },
   "outputs": [],
   "source": [
    "df.head()"
   ]
  },
  {
   "cell_type": "markdown",
   "metadata": {},
   "source": [
    "Looks like I have movies that were released this year, in 2021. These results are incomplete since we're still in 2021, so I will drop those years from this dataset for now. "
   ]
  },
  {
   "cell_type": "code",
   "execution_count": null,
   "metadata": {},
   "outputs": [],
   "source": [
    "# Drop the rows where either budget or revennue is less than 10k\n",
    "to_drop = df[df['release_year'] == 2021].index\n",
    "df.drop(labels=to_drop, axis=0, inplace=True)"
   ]
  },
  {
   "cell_type": "code",
   "execution_count": null,
   "metadata": {},
   "outputs": [],
   "source": [
    "# Check to see they were all dropped out, this should return nothing\n",
    "df[df['release_year'] == 2021]"
   ]
  },
  {
   "cell_type": "markdown",
   "metadata": {},
   "source": [
    "Before calculating profitability, want to adjust the numbers for inflation. Retrieved the Consumer Price Index from http://www.bls.gov/ using the instructions here: https://www.maa.org/press/periodicals/loci/joma/the-consumer-price-index-and-inflation-get-cpi-data-from-the-web-and-into-a-spreadsheet\n",
    "\n",
    "Will make the assumption that the vast majority of the revenue happened in the release year. This assumption is based on the revenue being box office only, and typically most movies only play in theaters for a few months. The one caveat is that revenue is worlwide, and releases in other countries may have been somewhat later."
   ]
  },
  {
   "cell_type": "code",
   "execution_count": null,
   "metadata": {
    "scrolled": false
   },
   "outputs": [],
   "source": [
    "cd '/Users/jessicamiles/Documents/Flatiron_Data_Science/git_labs_lessons/phase1/dsc-phase-1-project/data'"
   ]
  },
  {
   "cell_type": "code",
   "execution_count": null,
   "metadata": {},
   "outputs": [],
   "source": [
    "# Read in Consumer Price Index info from CSV\n",
    "df_cpi = pd.read_csv('Consumer Price Index.csv')\n",
    "\n",
    "cpi_dict = pd.Series(df_cpi['Annual'].values,index=df_cpi['Year']).to_dict()"
   ]
  },
  {
   "cell_type": "code",
   "execution_count": null,
   "metadata": {
    "scrolled": true
   },
   "outputs": [],
   "source": [
    "# Adjust budget for inflation\n",
    "df['budget_2020adj'] = df[(df['budget'].isna()==False) & (df['budget'] > 0)\n",
    "       ][['budget', 'release_year']].apply(\n",
    "        lambda x : (x[0] * cpi_dict[2020]) / cpi_dict[x[1]], axis=1)\n"
   ]
  },
  {
   "cell_type": "code",
   "execution_count": null,
   "metadata": {
    "scrolled": true
   },
   "outputs": [],
   "source": [
    "# Adjust revenue for inflation\n",
    "df['revenue_2020adj'] = df[(df['revenue'].isna()==False) & (df['revenue'] > 0)\n",
    "       ][['revenue', 'release_year']].apply(\n",
    "        lambda x : (x[0] * cpi_dict[2020]) / cpi_dict[x[1]]\n",
    "                                           , axis=1)"
   ]
  },
  {
   "cell_type": "code",
   "execution_count": null,
   "metadata": {},
   "outputs": [],
   "source": [
    "# Calculate profit with inflation-adjusted values\n",
    "# Only calculate where have both sets of values\n",
    "df['profit_2020adj'] = df[(df['revenue_2020adj'].isna()==False) \n",
    "                      & (df['budget_2020adj'].isna()==False)\n",
    "       ][['revenue_2020adj', 'budget_2020adj']].apply(lambda x : (x[0] - x[1]), axis=1)"
   ]
  },
  {
   "cell_type": "code",
   "execution_count": null,
   "metadata": {},
   "outputs": [],
   "source": [
    "# Calculate % profit with inflation-adjusted values\n",
    "df['profitpercent_2020adj'] = df[(df['revenue_2020adj'].isna()==False) \n",
    "                      & (df['budget_2020adj'].isna()==False)\n",
    "       ][['revenue_2020adj', 'budget_2020adj']].apply(\n",
    "    lambda x : ((x[0] - x[1]) / x[1]) * 100, axis=1)"
   ]
  },
  {
   "cell_type": "code",
   "execution_count": null,
   "metadata": {
    "scrolled": true
   },
   "outputs": [],
   "source": [
    "# Hmm, so we have instances of profit being negative almost 100%, but not \n",
    "# quite -100%. This is important, since a profit of -100% would mean made $0\n",
    "# or very little in revenue, and we were supposed to have removed the small values.\n",
    "\n",
    "# Mean profit percentage is 327%\n",
    "df['profitpercent_2020adj'].describe()"
   ]
  },
  {
   "cell_type": "code",
   "execution_count": null,
   "metadata": {},
   "outputs": [],
   "source": [
    "# And median profit percentage is 121%, which means doubled money + 20%\n",
    "df['profitpercent_2020adj'].median()"
   ]
  },
  {
   "cell_type": "code",
   "execution_count": null,
   "metadata": {
    "scrolled": false
   },
   "outputs": [],
   "source": [
    "df[df['profitpercent_2020adj'] < 0]['profitpercent_2020adj'].sort_values()"
   ]
  },
  {
   "cell_type": "markdown",
   "metadata": {},
   "source": [
    "Looks like we have a pretty good size sample of movies for each year. 2019 is smaller and 2020 even smaller than that. It could be there were truly fewer movies released to theaters in 2020 due to COVID-19, and could also be that it takes a while for users to enter revenues and budgets, and that "
   ]
  },
  {
   "cell_type": "code",
   "execution_count": null,
   "metadata": {
    "scrolled": true
   },
   "outputs": [],
   "source": [
    "# How many movies do we have in our sample for each year?\n",
    "df['release_year'].value_counts(sort=False)"
   ]
  },
  {
   "cell_type": "code",
   "execution_count": null,
   "metadata": {},
   "outputs": [],
   "source": [
    "# OK so we don't have any outliers on the lower end, but we definitely do on the upper end.\n",
    "# I'm going to separate into\n",
    "# less than 0 (lost money)\n",
    "# 0-200% profit\n",
    "# 200-400% profit\n",
    "# 400-600% profit\n",
    "# 600-817% profit\n",
    "# everything above 817%, which are outliers\n",
    "\n",
    "q1 = df['profitpercent_2020adj'].quantile(.25)\n",
    "q3 = df['profitpercent_2020adj'].quantile(.75)\n",
    "iqr = q3-q1\n",
    "\n",
    "lower_outlier_bound = q1-(iqr*1.5)\n",
    "upper_outlier_bound = q3+(iqr*1.5)\n",
    "\n",
    "display(lower_outlier_bound, upper_outlier_bound)"
   ]
  },
  {
   "cell_type": "code",
   "execution_count": null,
   "metadata": {},
   "outputs": [],
   "source": [
    "q10_labels = ['Percentile 0-10','Percentile 10-20','Percentile 20-30', \n",
    "              'Percentile 30-40', 'Percentile 40-50', 'Percentile 50-60', \n",
    "              'Percentile 60-70', 'Percentile 70-80', 'Percentile 80-90', \n",
    "              'Percentile 90-100']\n",
    "\n",
    "q4_labels = ['Bottom 25%', '25 to 50 Percentiles', '50 to 75 Percentiles', 'Top 25%']"
   ]
  },
  {
   "cell_type": "code",
   "execution_count": null,
   "metadata": {},
   "outputs": [],
   "source": [
    "df['roi_quantile'] = pd.qcut(df['profitpercent_2020adj'], 10, labels=q10_labels)"
   ]
  },
  {
   "cell_type": "code",
   "execution_count": null,
   "metadata": {},
   "outputs": [],
   "source": [
    "df['roi_quantile'].value_counts()"
   ]
  },
  {
   "cell_type": "code",
   "execution_count": null,
   "metadata": {
    "scrolled": true
   },
   "outputs": [],
   "source": [
    "qdict_roi = df['profitpercent_2020adj'].quantile(\n",
    "    [0, .1, .2, .3, .4, .5, .6, .7, .8, .9, 1]).to_dict()\n",
    "\n",
    "qdict_roi"
   ]
  },
  {
   "cell_type": "code",
   "execution_count": null,
   "metadata": {},
   "outputs": [],
   "source": [
    "df['profit_quantile'] = pd.qcut(df['profit_2020adj'], 10, labels=q10_labels)\n",
    "df['profit_quantile'].value_counts()"
   ]
  },
  {
   "cell_type": "code",
   "execution_count": null,
   "metadata": {
    "scrolled": true
   },
   "outputs": [],
   "source": [
    "qdict_profit = df['profit_2020adj'].quantile(\n",
    "    [0, .1, .2, .3, .4, .5, .6, .7, .8, .9, 1]).to_dict()\n",
    "\n",
    "qdict_profit"
   ]
  },
  {
   "cell_type": "code",
   "execution_count": null,
   "metadata": {
    "scrolled": true
   },
   "outputs": [],
   "source": [
    "df['budget_quantile'] = pd.qcut(df['budget_2020adj'], 10, labels=q10_labels)\n",
    "df['budget_quantile'].value_counts()"
   ]
  },
  {
   "cell_type": "code",
   "execution_count": null,
   "metadata": {},
   "outputs": [],
   "source": [
    "df['budget_top25'] = pd.qcut(df['budget_2020adj'], q=[0, .75, 1], \n",
    "                                labels=['Bottom 75%', 'Top 25%'])\n",
    "df['budget_top25'].value_counts()"
   ]
  },
  {
   "cell_type": "code",
   "execution_count": null,
   "metadata": {},
   "outputs": [],
   "source": [
    "df['budget_bottom25'] = pd.qcut(df['budget_2020adj'], q=[0, .25, 1], \n",
    "                                labels=['Bottom 25%', 'Top 75%'])\n",
    "df['budget_bottom25'].value_counts()"
   ]
  },
  {
   "cell_type": "code",
   "execution_count": null,
   "metadata": {},
   "outputs": [],
   "source": [
    "qdict_budget = df['budget_2020adj'].quantile(\n",
    "    [0, .1, .2, .3, .4, .5, .6, .7, .8, .9, 1]).to_dict()\n",
    "\n",
    "qdict_budget"
   ]
  },
  {
   "cell_type": "code",
   "execution_count": null,
   "metadata": {},
   "outputs": [],
   "source": [
    "# Where do the profits for 50% of movies fall?\n",
    "q_dict2 = df['profit_2020adj'].quantile(\n",
    "    [.25, .75]).to_dict()\n",
    "\n",
    "q_dict2"
   ]
  },
  {
   "cell_type": "code",
   "execution_count": null,
   "metadata": {
    "scrolled": true
   },
   "outputs": [],
   "source": [
    "df['profit_2020adj'].describe()"
   ]
  },
  {
   "cell_type": "code",
   "execution_count": null,
   "metadata": {
    "scrolled": true
   },
   "outputs": [],
   "source": [
    "df['budget_2020adj'].describe()"
   ]
  },
  {
   "cell_type": "markdown",
   "metadata": {},
   "source": [
    "## How much profit can you expect to make per movie?"
   ]
  },
  {
   "cell_type": "markdown",
   "metadata": {},
   "source": [
    "### 2020 not withstanding, people DO still go to the movies.\n",
    "\n",
    "The graph below shows median profit (box office revenue less production budget) for the last 10 years. Amounts are in 2020 US dollars, after adjustment for inflation.\n",
    "\n",
    "The median profit for films released in 2020 is actually negative. We calculated profit using only box office revenue, and movie theaters were closed for most of 2020 due to the COVID-19 pandemic.\n",
    "\n",
    "The 2020 results have been left as strong evidence that the data we're using to perform this analysis is representative enough to show trends. While the median profit certainly hasn't increased steadily (2013, 2016, and 2018 had some dips),  profits are generally increasing over time. \n",
    "\n",
    "Before the COVID-19 pandemic, box office revenues were healthy, even as original titles produced by companies--such as Amazon, Netflix and Hulu--were released directly to subscribers, bypassing theaters entirely.  \n",
    "\n"
   ]
  },
  {
   "cell_type": "code",
   "execution_count": null,
   "metadata": {},
   "outputs": [],
   "source": [
    "jcm_qualpalette1=sns.color_palette(palette=['springgreen','dodgerblue',\n",
    "                                           'violet','gold','coral',\n",
    "                                           'slateblue'])\n",
    "\n",
    "jcm_qualpalette2=sns.color_palette(palette=['darkgoldenrod','olive','sienna'\n",
    "                                           , 'slategrey', 'silver'])\n",
    "\n",
    "\n",
    "ms_qualpalette=sns.color_palette(palette=['#00A1F1','#7CBB00','#FFBB00'\n",
    "                                         , '#F65314','#747474'])"
   ]
  },
  {
   "cell_type": "code",
   "execution_count": null,
   "metadata": {
    "scrolled": false
   },
   "outputs": [],
   "source": [
    "with plt.style.context('seaborn-poster'):\n",
    "#    sns.set_palette(jcm_qualpalette)\n",
    "    fig, ax = plt.subplots()\n",
    "\n",
    "    sns.barplot(x=df['release_year'], y=df['profit_2020adj']\n",
    "                , estimator=np.median, ax=ax, ci=68, palette=ms_qualpalette)\n",
    "\n",
    "    ax.set_title('Average Box Office Profit since 2010');\n",
    "    ax.set_xlabel('Release Year');\n",
    "    ax.set_ylabel('Median Profit');\n",
    "\n",
    "    ax.annotate(\"Amazon Studios\\n and Netflix\\nrelease first\\noriginal films[1][2]\", \n",
    "                xy=(5, 4.5*1e7),  xytext=(5, 6*1e7),\n",
    "                arrowprops=dict(color='black', lw=2, arrowstyle='-[', ),\n",
    "                horizontalalignment='center', size=14)\n",
    "    \n",
    "    #Source: https://stackoverflow.com/questions/53747298/how-to-format-seaborn-\n",
    "    #                matplotlib-axis-tick-labels-from-number-to-thousands-or-mi\n",
    "    ax.yaxis.set_major_formatter(plt.FuncFormatter(currency))"
   ]
  },
  {
   "cell_type": "markdown",
   "metadata": {},
   "source": [
    "### Many of the most profitable movies are outliers\n",
    "\n",
    "Per the previous chart and below, median profit fell within a range of \\\\$20 MM to \\\\$35 MM 2020 US dollars for the past 10 years. Even the average was only around \\\\$100 MM.\n",
    "\n",
    "But when we look at the distributions within each year, we see that there are many values well above that, in the many hundreds of millions, or billions of dollars. However, these are statistical outliers.\n",
    "\n",
    "This means that while it's certainly possible to make hundreds of millions or billions of dollars at the box office on a film, that isn't a common outcome."
   ]
  },
  {
   "cell_type": "code",
   "execution_count": null,
   "metadata": {},
   "outputs": [],
   "source": [
    "# Median across across all years in millions\n",
    "df['profit_2020adj'].quantile(0.5)/1000000"
   ]
  },
  {
   "cell_type": "code",
   "execution_count": null,
   "metadata": {
    "scrolled": false
   },
   "outputs": [],
   "source": [
    "# median profits per year\n",
    "df_yr_medprofit = df.groupby('release_year')['profit_2020adj'].median().reset_index()\n",
    "df_yr_medprofit['profit_2020adj'] = df_yr_medprofit['profit_2020adj'\n",
    "                                                   ].map(lambda x : currency_num(x))\n",
    "\n",
    "df_yr_medprofit.rename(columns={'profit_2020adj': 'Median Profit', \n",
    "                                'release_year': 'Year Released'})"
   ]
  },
  {
   "cell_type": "code",
   "execution_count": null,
   "metadata": {},
   "outputs": [],
   "source": [
    "# overall mean profit in millions\n",
    "df['profit_2020adj'].mean()/1000000"
   ]
  },
  {
   "cell_type": "code",
   "execution_count": null,
   "metadata": {
    "scrolled": false
   },
   "outputs": [],
   "source": [
    "# mean profit per year\n",
    "df_yr_meanprofit = df.groupby('release_year')['profit_2020adj'].mean().reset_index()\n",
    "df_yr_meanprofit['profit_2020adj'] = df_yr_meanprofit['profit_2020adj'\n",
    "                                                   ].map(lambda x : currency_num(x))\n",
    "\n",
    "df_yr_meanprofit.rename(columns={'profit_2020adj': 'Mean Profit', \n",
    "                                'release_year': 'Year Released'}, inplace=True)"
   ]
  },
  {
   "cell_type": "code",
   "execution_count": null,
   "metadata": {},
   "outputs": [],
   "source": [
    "df.groupby('release_year')['profit_2020adj'].median().reset_index()['profit_2020adj']"
   ]
  },
  {
   "cell_type": "code",
   "execution_count": null,
   "metadata": {},
   "outputs": [],
   "source": [
    "# Variance in median profits over the 10 years\n",
    "np.std(df.groupby('release_year')['profit_2020adj'].median().reset_index(\n",
    "     )['profit_2020adj'])"
   ]
  },
  {
   "cell_type": "code",
   "execution_count": null,
   "metadata": {
    "scrolled": true
   },
   "outputs": [],
   "source": [
    "# Other stats for median profits over the 10 years\n",
    "df.groupby('release_year')['profit_2020adj'].median().reset_index(\n",
    "     )['profit_2020adj'].describe()"
   ]
  },
  {
   "cell_type": "code",
   "execution_count": null,
   "metadata": {},
   "outputs": [],
   "source": [
    "df['profit_2020adj'].describe()"
   ]
  },
  {
   "cell_type": "code",
   "execution_count": null,
   "metadata": {
    "scrolled": false
   },
   "outputs": [],
   "source": [
    "with plt.style.context('seaborn-poster'):\n",
    "    fig, ax = plt.subplots()\n",
    "    \n",
    "    # Source: https://seaborn.pydata.org/generated/seaborn.boxplot.html\n",
    "    sns.boxplot(x=df['release_year'], y=df['profit_2020adj']\n",
    "                , ax=ax, palette=ms_qualpalette)\n",
    "\n",
    "    ax.set_title('Worldwide Box Office Profit Distribution by Year');\n",
    "    ax.set_xlabel('Release Year');\n",
    "    ax.set_ylabel('Profit');\n",
    "\n",
    "    #Source: https://stackoverflow.com/questions/53747298/how-to-format-seaborn-\n",
    "    #                matplotlib-axis-tick-labels-from-number-to-thousands-or-mi\n",
    "    ax.yaxis.set_major_formatter(plt.FuncFormatter(currency))\n",
    "    \n",
    "    #ax.set_yticks(np.arange(-500000000, 3000000000, 250000000));\n",
    "    ax.set_yticks(np.arange(-250000000, 3000000000, 250000000))"
   ]
  },
  {
   "cell_type": "code",
   "execution_count": null,
   "metadata": {
    "scrolled": false
   },
   "outputs": [],
   "source": [
    "with plt.style.context('seaborn-poster'):\n",
    "    fig, ax = plt.subplots()\n",
    "    \n",
    "    avg = df['profit_2020adj'].mean()\n",
    "    \n",
    "    # Source: https://seaborn.pydata.org/generated/seaborn.boxplot.html\n",
    "    sns.boxplot(x=df['release_year'], y=df['profit_2020adj']\n",
    "                , ax=ax, showfliers=False, palette=ms_qualpalette)\n",
    "\n",
    "    ax.set_title('Worldwide Box Office Profit Distribution by Year (No Outliers)');\n",
    "    ax.set_xlabel('Release Year');\n",
    "    ax.set_ylabel('Profit');\n",
    "\n",
    "    #Source: https://stackoverflow.com/questions/53747298/how-to-format-seaborn-\n",
    "    #                matplotlib-axis-tick-labels-from-number-to-thousands-or-mi\n",
    "    ax.yaxis.set_major_formatter(plt.FuncFormatter(currency))\n",
    "    \n",
    "    ax.set_yticks(np.arange(-150000000, 450000000, 50000000))\n"
   ]
  },
  {
   "cell_type": "markdown",
   "metadata": {},
   "source": [
    "# Topic 2: Characteristics of Profitable Movies"
   ]
  },
  {
   "cell_type": "markdown",
   "metadata": {},
   "source": [
    "Are the more profitable movies released in a certain month?\n",
    "\n",
    "December has the highest median profit for movies released in that month. This isn't surprising, given many movies seem to be released in December to catch the holiday season in the US. \n",
    "\n",
    "It would be a good idea to plan for movies to be released in December to maximize profitability, and November, May, June, and July are also good choices.\n",
    "\n",
    "Interestingly, September is the month with the most number of movies released, and it also has the lowest median profit. I would not recommend releasing movies in September, if you can avoid it.\n",
    "\n"
   ]
  },
  {
   "cell_type": "code",
   "execution_count": null,
   "metadata": {
    "scrolled": true
   },
   "outputs": [],
   "source": [
    "with plt.style.context('seaborn-poster'):\n",
    "    g = sns.lmplot(x=\"budget_2020adj\", y=\"profit_2020adj\", \n",
    "                   height=8, \n",
    "                   data=df, scatter_kws = {'s': 25}\n",
    "                  )\n",
    "\n",
    "    for ax in g.axes.flat:\n",
    "\n",
    "        ax.set_title('Production Budget versus Profit');\n",
    "        ax.set_xlabel('Production Budget');\n",
    "        ax.set_ylabel('Profit');\n",
    "\n",
    "        #Source: https://stackoverflow.com/questions/53747298/how-to-format-seaborn-\n",
    "        #                matplotlib-axis-tick-labels-from-number-to-thousands-or-mi\n",
    "        ax.set_xticklabels(ax.get_xticklabels(), rotation=90)\n",
    "        ax.xaxis.set_major_formatter(plt.FuncFormatter(currency))\n",
    "        ax.yaxis.set_major_formatter(plt.FuncFormatter(currency))"
   ]
  },
  {
   "cell_type": "code",
   "execution_count": null,
   "metadata": {},
   "outputs": [],
   "source": [
    "df['budget_2020adj'].describe()"
   ]
  },
  {
   "cell_type": "code",
   "execution_count": null,
   "metadata": {
    "scrolled": true
   },
   "outputs": [],
   "source": [
    "with plt.style.context('seaborn-poster'):\n",
    "    g = sns.lmplot(x=\"budget_2020adj\", y=\"profit_2020adj\", \n",
    "                   # col_wrap=1, col='budget_top25', \n",
    "                   height=8,\n",
    "                   data=df, scatter_kws = {'s': 25}\n",
    "                  )\n",
    "\n",
    "    for ax in g.axes.flat:\n",
    "\n",
    "        ax.set_title('Production Budget versus Profit');\n",
    "        ax.set_xlabel('Production Budget');\n",
    "        ax.set_ylabel('Profit');\n",
    "\n",
    "        #Source: https://stackoverflow.com/questions/53747298/how-to-format-seaborn-\n",
    "        #                matplotlib-axis-tick-labels-from-number-to-thousands-or-mi\n",
    "        ax.set_xticklabels(ax.get_xticklabels(), rotation=90)\n",
    "        ax.xaxis.set_major_formatter(plt.FuncFormatter(currency))\n",
    "        ax.yaxis.set_major_formatter(plt.FuncFormatter(currency))\n",
    "        ax.vlines(df['budget_2020adj'].quantile(.75), colors='red', \n",
    "                  ymin=-2*1e8, ymax=1.8*1e9, linestyles='dashed')\n",
    "        ax.annotate(\"75% of budgets are\\nunder $62.73 M\", color='red', \n",
    "                    xy=(df['budget_2020adj'].quantile(.75), 1.9*1e9),  \n",
    "                    xytext=(df['budget_2020adj'].quantile(.75), 2.05*1e9),\n",
    "                    arrowprops=dict(color='red', lw=2, arrowstyle='->', ),\n",
    "                    horizontalalignment='center', size=16)"
   ]
  },
  {
   "cell_type": "code",
   "execution_count": null,
   "metadata": {},
   "outputs": [],
   "source": [
    "df['budget_2020adj'].describe()"
   ]
  },
  {
   "cell_type": "code",
   "execution_count": null,
   "metadata": {
    "scrolled": false
   },
   "outputs": [],
   "source": [
    "with plt.style.context('seaborn-poster'):\n",
    "    g = sns.lmplot(x=\"budget_2020adj\", y=\"profitpercent_2020adj\", \n",
    "                   #col='budget_bottom25', \n",
    "                   height=8,# col_wrap=1,\n",
    "                   data=df, scatter_kws = {'s': 50}\n",
    "                  )\n",
    "\n",
    "    for ax in g.axes.flat:\n",
    "\n",
    "        ax.set_title('Production Budget versus ROI');\n",
    "        ax.set_xlabel('Production Budget');\n",
    "        ax.set_ylabel('ROI %');\n",
    "\n",
    "        #Source: https://stackoverflow.com/questions/53747298/how-to-format-seaborn-\n",
    "        #                matplotlib-axis-tick-labels-from-number-to-thousands-or-mi\n",
    "        ax.set_xticklabels(ax.get_xticklabels(), rotation=90)\n",
    "        ax.xaxis.set_major_formatter(plt.FuncFormatter(currency))\n",
    "        ax.vlines(df['budget_2020adj'].quantile(.25), colors='red', \n",
    "                  ymin=-100, ymax=40000, linestyles='dashed')\n",
    "        ax.annotate(\"25% of budgets are\\nunder $10.9 M\", color='red', \n",
    "                    xy=(1e7, 40000),  \n",
    "                    xytext=(1e8, 40000),\n",
    "                    arrowprops=dict(color='red', lw=2, arrowstyle='->', ),\n",
    "                    horizontalalignment='center', size=16)"
   ]
  },
  {
   "cell_type": "code",
   "execution_count": null,
   "metadata": {},
   "outputs": [],
   "source": [
    "genres_topprofit = ['Adventure', 'Animation', 'Science Fiction', \n",
    "                    'Fantasy']\n",
    "genres_toproi = ['Documentary', 'Horror', 'Animation', 'Comedy']"
   ]
  },
  {
   "cell_type": "code",
   "execution_count": null,
   "metadata": {
    "scrolled": true
   },
   "outputs": [],
   "source": [
    "with plt.style.context('seaborn-poster'):\n",
    "    g = sns.lmplot(x=\"budget_2020adj\", y=\"profit_2020adj\", \n",
    "                   hue=\"genre\", palette=ms_qualpalette,\n",
    "                   height=10, #col_wrap=2,\n",
    "                   data=df_genres[df_genres['genre'].isin(genres_topprofit)])\n",
    "\n",
    "    for ax in g.axes.flat:\n",
    "\n",
    "        ax.set_title('Production Budget versus Profit - Top 4 Genres');\n",
    "        ax.set_xlabel('Production Budget');\n",
    "        ax.set_ylabel('Profit');\n",
    "\n",
    "        #Source: https://stackoverflow.com/questions/53747298/how-to-format-seaborn-\n",
    "        #                matplotlib-axis-tick-labels-from-number-to-thousands-or-mi\n",
    "        ax.set_xticklabels(ax.get_xticklabels(), rotation=90)\n",
    "        ax.xaxis.set_major_formatter(plt.FuncFormatter(currency))\n",
    "        ax.yaxis.set_major_formatter(plt.FuncFormatter(currency))"
   ]
  },
  {
   "cell_type": "code",
   "execution_count": null,
   "metadata": {
    "scrolled": false
   },
   "outputs": [],
   "source": [
    "month_order = ['January','February','March','April','May','June',\n",
    "             'July','August','September','October','November',\n",
    "             'December']\n",
    "\n",
    "with plt.style.context('seaborn-poster'):\n",
    "    # Source: https://stackoverflow.com/questions/12589481/multiple-aggregations-\n",
    "    # of-the-same-column-using-pandas-groupby-agg\n",
    "    profit_by_month = df.groupby('release_month_num').agg(\n",
    "        Median=('profit_2020adj', 'median'), \n",
    "        Count=('profit_2020adj', 'count'))\n",
    "\n",
    "    fig, ([ax2, ax]) = plt.subplots(nrows=2, ncols=1, figsize=(10, 10))\n",
    "    plt.tight_layout(pad=5)\n",
    "    \n",
    "    # Source: James Irving\n",
    "    ax.plot(profit_by_month.index, profit_by_month.Count, marker='o', c='#00A1F1')\n",
    "    ax2.plot(profit_by_month.index, profit_by_month.Median, marker='o', c='#F65314')\n",
    "    \n",
    "    # Specify we want to use seaborn to style the plot even though we're using\n",
    "    # default matplotlib syntax\n",
    "    # Source: https://www.codecademy.com/articles/seaborn-design-ii\n",
    "    sns.set()\n",
    "\n",
    "    # set and format labels\n",
    "    ax.set_ylabel('Number of Movies');\n",
    "    ax2.set_ylabel('Median Profit');\n",
    "    ax.set_title('Movie Count per Release Month', \n",
    "                 fontdict={'fontsize':20})\n",
    "    ax2.set_title('Median Profit per Release Month', \n",
    "                fontdict={'fontsize':20})\n",
    "\n",
    "    ax.set_xticks(list(month_map.keys()));\n",
    "    ax.set_xticklabels(list(month_map.values()), rotation=90);\n",
    "    ax2.set_xticks(list(month_map.keys()));\n",
    "    ax2.set_xticklabels(list(month_map.values()), rotation=90);\n",
    "    ax2.yaxis.set_major_formatter(plt.FuncFormatter(currency));\n",
    "\n",
    "    "
   ]
  },
  {
   "cell_type": "markdown",
   "metadata": {},
   "source": [
    "Let's look at genres, what are the most popular genres?"
   ]
  },
  {
   "cell_type": "code",
   "execution_count": null,
   "metadata": {},
   "outputs": [],
   "source": [
    "sql2 = \"\"\"SELECT mg.genre_id, g.genre, \n",
    "                 m.id, m.title\n",
    "          FROM tmdb_movies m\n",
    "          INNER JOIN tmdb_movie_genres mg ON mg.id = m.id\n",
    "          INNER JOIN tmdb_genres g ON mg.genre_id = g.genre_id\n",
    "         \"\"\"\n",
    "\n",
    "dfg = pd.DataFrame(cur.execute(sql2).fetchall(),columns=[x[0] for x in cur.description])"
   ]
  },
  {
   "cell_type": "code",
   "execution_count": null,
   "metadata": {},
   "outputs": [],
   "source": [
    "dfg.info()"
   ]
  },
  {
   "cell_type": "code",
   "execution_count": null,
   "metadata": {},
   "outputs": [],
   "source": [
    "df.info()"
   ]
  },
  {
   "cell_type": "code",
   "execution_count": null,
   "metadata": {
    "scrolled": true
   },
   "outputs": [],
   "source": [
    "# Merge the calculated values from our movies dataframe into the genres one\n",
    "df_genres= dfg.merge(df[['id','profit_2020adj', \n",
    "                         'profitpercent_2020adj','budget_2020adj', \n",
    "                         'release_month_num']], on='id')\n",
    "\n",
    "df_genres.head()"
   ]
  },
  {
   "cell_type": "code",
   "execution_count": null,
   "metadata": {},
   "outputs": [],
   "source": [
    "# Create a pivot table showing aggregate profits, grouped by genre\n",
    "df_gp = pd.pivot_table(data=df_genres, index='genre', \n",
    "                       aggfunc={'id': 'count',\n",
    "                                'profit_2020adj': [np.sum, np.mean],\n",
    "                                'profitpercent_2020adj': np.median} )"
   ]
  },
  {
   "cell_type": "code",
   "execution_count": null,
   "metadata": {},
   "outputs": [],
   "source": []
  },
  {
   "cell_type": "code",
   "execution_count": null,
   "metadata": {
    "scrolled": false
   },
   "outputs": [],
   "source": [
    "# Movies with an Adventure genre win for mean profit per movie.\n",
    "# SciFi comes next, with Animation, Fantasy, and Family next.\n",
    "# Action is 6th.\n",
    "\n",
    "g_meanprofit = df_gp['profit_2020adj', 'mean'].sort_values(ascending=False)[:10]\n",
    "    \n",
    "sns.set_context('talk')\n",
    "\n",
    "fig, ax = plt.subplots(figsize=(5, 3));\n",
    "\n",
    "sns.barplot(y=g_meanprofit.index, x=g_meanprofit, ax=ax, orient='h', \n",
    "            palette=ms_qualpalette);\n",
    "\n",
    "ax.set_title('Top 10 Genres by Profit per Movie');\n",
    "ax.set_xlabel('Mean Profit per Movie');\n",
    "ax.set_ylabel('Genre');\n",
    "\n",
    "#Source: https://stackoverflow.com/questions/53747298/how-to-format-seaborn-\n",
    "#                matplotlib-axis-tick-labels-from-number-to-thousands-or-mi\n",
    "ax.xaxis.set_major_formatter(plt.FuncFormatter(currency));\n",
    "ax.tick_params(axis='x', labelsize=14, labelrotation=90, pad=0)"
   ]
  },
  {
   "cell_type": "code",
   "execution_count": null,
   "metadata": {},
   "outputs": [],
   "source": [
    "# Documentaries have the highest ROI, followed by Horror and Animation.\n",
    "# This kinda makes sense because documentaries will tend to have lower budgets \n",
    "# than big action or even animation films, so the ROI on a modest investment\n",
    "# multiples more quickly.\n",
    "# note that the genres that made the most profits hover around 125% to 144% ROI\n",
    "# range. This is likely because they have higher budgets.\n",
    "\n",
    "g_roi = df_gp['profitpercent_2020adj', 'median'].sort_values(ascending=False)[:10]\n",
    "\n",
    "sns.set_context('talk')\n",
    "\n",
    "fig, ax = plt.subplots(figsize=(5, 3));\n",
    "\n",
    "sns.barplot(y=g_roi.index, x=g_roi, ax=ax, orient='h', \n",
    "            palette=ms_qualpalette);\n",
    "\n",
    "ax.set_title('Top 10 Genres by ROI');\n",
    "ax.set_xlabel('Median ROI per Movie');\n",
    "ax.set_ylabel('Genre');\n",
    "\n",
    "#Source: https://stackoverflow.com/questions/53747298/how-to-format-seaborn-\n",
    "#                matplotlib-axis-tick-labels-from-number-to-thousands-or-mi\n",
    "ax.xaxis.set_major_formatter(plt.FuncFormatter(lambda x, p : '{:1.0f}%'.format(x)));\n",
    "ax.tick_params(axis='x', labelsize=14, labelrotation=90, pad=0)"
   ]
  },
  {
   "cell_type": "markdown",
   "metadata": {},
   "source": [
    "# Topic 3: Impact of Contributors on Profitability"
   ]
  },
  {
   "cell_type": "markdown",
   "metadata": {},
   "source": [
    "## Get the data from SQL"
   ]
  },
  {
   "cell_type": "code",
   "execution_count": null,
   "metadata": {
    "scrolled": true
   },
   "outputs": [],
   "source": [
    "sql3 = \"\"\"SELECT w.tconst, n.primary_name, n.birth_year, 'Writer' AS role\n",
    "          FROM imdb_writers w\n",
    "          LEFT JOIN imdb_names n ON w.nconst = n.nconst\n",
    "\"\"\"\n",
    "\n",
    "\n",
    "df_writers = pd.DataFrame(cur.execute(sql3).fetchall(),columns=[x[0] for x in cur.description])\n",
    "df_writers.head()"
   ]
  },
  {
   "cell_type": "code",
   "execution_count": null,
   "metadata": {},
   "outputs": [],
   "source": [
    "sql4 = \"\"\"SELECT d.tconst, n.primary_name, n.birth_year, 'Director' AS role\n",
    "          FROM imdb_directors d\n",
    "          LEFT JOIN imdb_names n ON d.nconst = n.nconst\n",
    "\"\"\"\n",
    "\n",
    "\n",
    "df_dirs = pd.DataFrame(cur.execute(sql4).fetchall(),columns=[x[0] for x in cur.description])\n",
    "df_dirs.head()"
   ]
  },
  {
   "cell_type": "code",
   "execution_count": null,
   "metadata": {
    "scrolled": true
   },
   "outputs": [],
   "source": [
    "sql5 = \"\"\"SELECT p.tconst, n.primary_name, n.birth_year, p.category AS role\n",
    "          FROM imdb_principals p\n",
    "          LEFT JOIN imdb_names n ON n.nconst = p.nconst\n",
    "          WHERE p.category IN ('actor', 'actress')\n",
    "\"\"\"\n",
    "\n",
    "\n",
    "df_prins = pd.DataFrame(cur.execute(sql5).fetchall(),columns=[x[0] for x in cur.description])\n",
    "df_prins.head()"
   ]
  },
  {
   "cell_type": "code",
   "execution_count": null,
   "metadata": {},
   "outputs": [],
   "source": [
    "sql6 = \"\"\"SELECT r.tconst, r.averagerating, r.numvotes\n",
    "          FROM imdb_ratings r\n",
    "\"\"\"\n",
    "\n",
    "\n",
    "df_imdbratings = pd.DataFrame(cur.execute(sql6).fetchall(),columns=[x[0] for x in cur.description])\n",
    "df_imdbratings.head()"
   ]
  },
  {
   "cell_type": "code",
   "execution_count": null,
   "metadata": {},
   "outputs": [],
   "source": [
    "display(len(df_writers), len(df_dirs), len(df_prins))"
   ]
  },
  {
   "cell_type": "code",
   "execution_count": null,
   "metadata": {},
   "outputs": [],
   "source": [
    "df_roles = pd.concat([df_writers, df_dirs, df_prins])\n",
    "\n",
    "len(df_roles)"
   ]
  },
  {
   "cell_type": "code",
   "execution_count": null,
   "metadata": {},
   "outputs": [],
   "source": [
    "# Normalize roles to title case\n",
    "df_roles['role'] = df_roles['role'].map(lambda x: x.title())"
   ]
  },
  {
   "cell_type": "code",
   "execution_count": null,
   "metadata": {
    "scrolled": false
   },
   "outputs": [],
   "source": [
    "df_roles['role'].unique()"
   ]
  },
  {
   "cell_type": "code",
   "execution_count": null,
   "metadata": {
    "scrolled": true
   },
   "outputs": [],
   "source": [
    "df_roles.rename(columns={'tconst': 'imdb_id'}, inplace=True)\n",
    "df_imdbratings.rename(columns={'tconst': 'imdb_id'}, inplace=True)"
   ]
  },
  {
   "cell_type": "code",
   "execution_count": null,
   "metadata": {
    "scrolled": false
   },
   "outputs": [],
   "source": [
    "df.info()"
   ]
  },
  {
   "cell_type": "code",
   "execution_count": null,
   "metadata": {
    "scrolled": false
   },
   "outputs": [],
   "source": [
    "# Merge the imdb ratings and numvotes into tmdb movie working dataframe\n",
    "df = df.merge(df_imdbratings[['imdb_id','averagerating', 'numvotes']], \n",
    "              how='left', on='imdb_id')"
   ]
  },
  {
   "cell_type": "code",
   "execution_count": null,
   "metadata": {},
   "outputs": [],
   "source": [
    "# and rename to reflect the provenance\n",
    "df.rename(columns={'averagerating': 'imdb_averagerating', \n",
    "                   'numvotes': 'imdb_numvotes'}, inplace=True)"
   ]
  },
  {
   "cell_type": "code",
   "execution_count": null,
   "metadata": {},
   "outputs": [],
   "source": [
    "df.info()"
   ]
  },
  {
   "cell_type": "code",
   "execution_count": null,
   "metadata": {},
   "outputs": [],
   "source": [
    "df_roles.info()"
   ]
  },
  {
   "cell_type": "code",
   "execution_count": null,
   "metadata": {
    "scrolled": false
   },
   "outputs": [],
   "source": [
    "# Merge the values from our movies dataframe into the roles one\n",
    "df_credits = df_roles.merge(df[['imdb_id', 'id','profit_2020adj', 'profitpercent_2020adj',\n",
    "                                'imdb_averagerating', 'imdb_numvotes', 'vote_average',\n",
    "                                'vote_count']], \n",
    "                            on='imdb_id')\n",
    "\n",
    "df_credits.info()"
   ]
  },
  {
   "cell_type": "markdown",
   "metadata": {},
   "source": [
    "## Pivot data for analysis"
   ]
  },
  {
   "cell_type": "code",
   "execution_count": null,
   "metadata": {},
   "outputs": [],
   "source": [
    "df_cred_pvt = pd.pivot_table(data=df_credits, index=['role', 'primary_name'], \n",
    "                       aggfunc={'id': 'count',\n",
    "                                'profit_2020adj': [np.sum, np.mean],\n",
    "                                'profitpercent_2020adj': np.mean,\n",
    "                                'imdb_averagerating': np.mean,\n",
    "                                'imdb_numvotes': np.min,\n",
    "                                'vote_average': np.mean,\n",
    "                                'vote_count': np.min\n",
    "                               } )"
   ]
  },
  {
   "cell_type": "code",
   "execution_count": null,
   "metadata": {
    "scrolled": true
   },
   "outputs": [],
   "source": [
    "df_cred_pvt"
   ]
  },
  {
   "cell_type": "code",
   "execution_count": null,
   "metadata": {
    "scrolled": true
   },
   "outputs": [],
   "source": [
    "# Calculate 99th percentile cutoffs to find contributors to the truly top movies\n",
    "profit_99cutoff = df['profit_2020adj'].quantile(.99)\n",
    "print(profit_99cutoff)\n",
    "\n",
    "roi_99cutoff = df['profitpercent_2020adj'].quantile(.99)\n",
    "print(roi_99cutoff)\n",
    "\n",
    "rate_99cutoff = df['imdb_averagerating'].quantile(.99)\n",
    "print(rate_99cutoff)"
   ]
  },
  {
   "cell_type": "markdown",
   "metadata": {},
   "source": [
    "## Formatting functions"
   ]
  },
  {
   "cell_type": "code",
   "execution_count": null,
   "metadata": {},
   "outputs": [],
   "source": [
    "# function to apply a blue font color to cells where the value is over a threshold\n",
    "def overcurrlimit_blue(val, limit):\n",
    "    # Source: https://pandas.pydata.org/pandas-docs/stable/user_guide/style.html\n",
    "    \n",
    "    val_list= str.split(val, ' ')\n",
    "    \n",
    "    # Convert rounded abbreviated amount back to full value\n",
    "    if val_list[1] == \"B\":\n",
    "        val_float = float(val_list[0][1:])*1e9\n",
    "    elif val_list[1] == \"M\":\n",
    "        val_float = float(val_list[0][1:])*1e6\n",
    "        \n",
    "    color='blue' if val_float > limit else 'black'\n",
    "    return 'color: %s' % color"
   ]
  },
  {
   "cell_type": "code",
   "execution_count": null,
   "metadata": {},
   "outputs": [],
   "source": [
    "# function to apply a blue font color to cells where the value is over a threshold\n",
    "def overperlimit_blue(val, limit):\n",
    "    # Source: https://pandas.pydata.org/pandas-docs/stable/user_guide/style.html\n",
    "        \n",
    "    color='blue' if float(val[0:-1]) > limit else 'black'\n",
    "    return 'color: %s' % color"
   ]
  },
  {
   "cell_type": "code",
   "execution_count": null,
   "metadata": {},
   "outputs": [],
   "source": [
    "# function to apply a blue font color to cells where the value is over a threshold\n",
    "def overratelimit_blue(val, limit):\n",
    "    # Source: https://pandas.pydata.org/pandas-docs/stable/user_guide/style.html\n",
    "        \n",
    "    color='blue' if val > limit else 'black'\n",
    "    return 'color: %s' % color"
   ]
  },
  {
   "cell_type": "markdown",
   "metadata": {},
   "source": [
    "## Functions for top ten"
   ]
  },
  {
   "cell_type": "code",
   "execution_count": null,
   "metadata": {},
   "outputs": [],
   "source": [
    "# Top 10 directors based on average profit per movie from the past 10 years\n",
    "def gettopten_bymeanprofit(df_pivot, roles):\n",
    "    \n",
    "    dfs=[]\n",
    "    \n",
    "    for role in roles:\n",
    "\n",
    "        # Create subdf from pivot listing only the top 10 in specified role\n",
    "        # by mean profit\n",
    "        top_df = df_pivot.loc[(role)][[('profit_2020adj', 'mean'),\n",
    "                                                ('id','count')]].sort_values(\n",
    "            by=[('profit_2020adj', 'mean')], ascending=False)[:10]\n",
    "\n",
    "        # remove the top level of the hierarchical index\n",
    "        top_df.columns = top_df.columns.get_level_values(1)\n",
    "\n",
    "        # Make primary_name a column instead of the index\n",
    "        top_df.reset_index(inplace=True)\n",
    "\n",
    "        # rename the columns for presentation\n",
    "        top_df.rename(columns={'mean':'Mean Movie Profit', 'count': 'Movie Count',\n",
    "                             'primary_name': role + ' Name'}, inplace=True)\n",
    "\n",
    "        # redo the index to start at 1 for presentation\n",
    "        top_df.index = (range(1, len(top_df)+1))\n",
    "\n",
    "        # Apply currency format to mean profit column\n",
    "        top_df['Mean Movie Profit'] = top_df['Mean Movie Profit'].apply(currency)\n",
    "        \n",
    "        dfs.append(top_df)\n",
    "\n",
    "    return dfs\n"
   ]
  },
  {
   "cell_type": "code",
   "execution_count": null,
   "metadata": {
    "scrolled": true
   },
   "outputs": [],
   "source": [
    "# Top 10 directors based on mean ROI from the past 10 years\n",
    "def gettopten_bymeanroi(df_pivot, roles):\n",
    "    \n",
    "    dfs=[]\n",
    "    \n",
    "    for role in roles:\n",
    "\n",
    "        # Create subdf from pivot listing only the top 10 in specified role\n",
    "        # by mean roi\n",
    "        top_df = df_pivot.loc[(role)][[('profitpercent_2020adj', 'mean'),\n",
    "            ('id','count')]].sort_values(by=[('profitpercent_2020adj', 'mean')\n",
    "                                            ], ascending=False)[:10]\n",
    "\n",
    "        # remove the top level of the hierarchical index\n",
    "        top_df.columns = top_df.columns.get_level_values(1)\n",
    "\n",
    "        # Make primary_name a column instead of the index\n",
    "        top_df.reset_index(inplace=True)\n",
    "\n",
    "        # rename the columns for presentation\n",
    "        top_df.rename(columns={'mean':'Mean Movie ROI', 'count': 'Movie Count',\n",
    "                             'primary_name': role + ' Name'}, inplace=True)\n",
    "\n",
    "        # redo the index to start at 1 for presentation\n",
    "        top_df.index = (range(1, len(top_df)+1))\n",
    "\n",
    "        # Apply percent format to mean ROI column\n",
    "        top_df['Mean Movie ROI'] = top_df['Mean Movie ROI'].apply(lambda x : f'{np.round(x,1)}%')\n",
    "\n",
    "        dfs.append(top_df)\n",
    "\n",
    "    return dfs\n"
   ]
  },
  {
   "cell_type": "code",
   "execution_count": null,
   "metadata": {
    "scrolled": true
   },
   "outputs": [],
   "source": [
    "# Top 10 directors based on average user rating on all movies from the past 10 years\n",
    "def gettopten_bymeanrate(df_pivot, roles):\n",
    "\n",
    "    dfs=[]\n",
    "    \n",
    "    for role in roles:\n",
    "        # Create subdf from pivot listing only the top 10 in specified role\n",
    "        # by mean rating\n",
    "        top_df = df_pivot.loc[(role)][[('imdb_averagerating', 'mean'),('id','count'\n",
    "              )]].sort_values(by=[('imdb_averagerating', 'mean')], ascending=False)[:10]\n",
    "\n",
    "        # remove the top level of the hierarchical index\n",
    "        top_df.columns = top_df.columns.get_level_values(1)\n",
    "\n",
    "        # Make primary_name a column instead of the index\n",
    "        top_df.reset_index(inplace=True)\n",
    "\n",
    "        # rename the columns for presentation\n",
    "        top_df.rename(columns={'mean':'Mean Movie Rating', 'count': 'Movie Count',\n",
    "                             'primary_name':role + ' Name'}, inplace=True)\n",
    "\n",
    "        # redo the index to start at 1 for presentation\n",
    "        top_df.index = (range(1, len(top_df)+1))\n",
    "\n",
    "        dfs.append(top_df)\n",
    "\n",
    "    return dfs"
   ]
  },
  {
   "cell_type": "markdown",
   "metadata": {},
   "source": [
    "## Functions for in top 1% with count greater than 1"
   ]
  },
  {
   "cell_type": "code",
   "execution_count": null,
   "metadata": {},
   "outputs": [],
   "source": [
    "# Top 10 directors based on average profit per movie from the past 10 years\n",
    "def gettoppercent_bymeanprofit(df_pivot, roles):\n",
    "    \n",
    "    dfs=[]\n",
    "    \n",
    "    for role in roles:\n",
    "\n",
    "        # Create subdf from pivot listing only ones who worked on multiple\n",
    "        # movies, where the mean profit for those movies is more than 99% of\n",
    "        # all the movies we analyzed\n",
    "        top_df = df_pivot.loc[(role)][[(\n",
    "            'profit_2020adj', 'mean'),(\n",
    "            'id','count')]]\n",
    "        top_df = top_df.loc[(\n",
    "            top_df[('profit_2020adj', 'mean')] > profit_99cutoff) & (\n",
    "            top_df[('id','count')] > 1)]\n",
    "\n",
    "        # remove the top level of the hierarchical index\n",
    "        top_df.columns = top_df.columns.get_level_values(1)\n",
    "\n",
    "        # Make primary_name a column instead of the index\n",
    "        top_df.reset_index(inplace=True)\n",
    "\n",
    "        # rename the columns for presentation\n",
    "        top_df.rename(columns={'mean':'Mean Movie Profit', 'count': 'Movie Count',\n",
    "                             'primary_name': role + ' Name'}, inplace=True)\n",
    "\n",
    "        # redo the index to start at 1 for presentation\n",
    "        top_df.index = (range(1, len(top_df)+1))\n",
    "\n",
    "        # Apply currency format to mean profit column\n",
    "        top_df['Mean Movie Profit'] = top_df['Mean Movie Profit'].apply(currency)\n",
    "        \n",
    "        dfs.append(top_df)\n",
    "\n",
    "    return dfs\n"
   ]
  },
  {
   "cell_type": "code",
   "execution_count": null,
   "metadata": {
    "scrolled": true
   },
   "outputs": [],
   "source": [
    "# Top 10 directors based on mean ROI from the past 10 years\n",
    "def gettoppercent_bymeanroi(df_pivot, roles):\n",
    "    \n",
    "    dfs=[]\n",
    "    \n",
    "    for role in roles:\n",
    "\n",
    "        # Create subdf from pivot listing only ones who worked on multiple\n",
    "        # movies, where the mean roi for those movies is more than 99% of\n",
    "        # all the movies we analyzed\n",
    "        top_df = df_pivot.loc[(role)][[(\n",
    "            'profitpercent_2020adj', 'mean'),(\n",
    "            'id','count')]]\n",
    "        top_df = top_df.loc[(\n",
    "            top_df[('profitpercent_2020adj', 'mean')] > roi_99cutoff) & (\n",
    "            top_df[('id','count')] > 1)]\n",
    "\n",
    "        # remove the top level of the hierarchical index\n",
    "        top_df.columns = top_df.columns.get_level_values(1)\n",
    "\n",
    "        # Make primary_name a column instead of the index\n",
    "        top_df.reset_index(inplace=True)\n",
    "\n",
    "        # rename the columns for presentation\n",
    "        top_df.rename(columns={'mean':'Mean Movie ROI', 'count': 'Movie Count',\n",
    "                             'primary_name': role + ' Name'}, inplace=True)\n",
    "\n",
    "        # redo the index to start at 1 for presentation\n",
    "        top_df.index = (range(1, len(top_df)+1))\n",
    "\n",
    "        # Apply percent format to mean ROI column\n",
    "        top_df['Mean Movie ROI'] = top_df['Mean Movie ROI'].apply(lambda x : f'{np.round(x,1)}%')\n",
    "\n",
    "        dfs.append(top_df)\n",
    "\n",
    "    return dfs\n"
   ]
  },
  {
   "cell_type": "code",
   "execution_count": null,
   "metadata": {
    "scrolled": true
   },
   "outputs": [],
   "source": [
    "# Top 10 directors based on average user rating on all movies from the past 10 years\n",
    "def gettoppercent_bymeanrate(df_pivot, roles):\n",
    "\n",
    "    dfs=[]\n",
    "    \n",
    "    for role in roles:\n",
    "        # Create subdf from pivot listing only ones who worked on multiple\n",
    "        # movies, where the mean rating for those movies is more than 99% of\n",
    "        # all the movies we analyzed\n",
    "        top_df = df_pivot.loc[(role)][[(\n",
    "            'imdb_averagerating', 'mean'),(\n",
    "            'id','count')]]\n",
    "        top_df = top_df.loc[(\n",
    "            top_df[('imdb_averagerating', 'mean')] > rate_99cutoff) & (\n",
    "            top_df[('id','count')] > 1)]\n",
    "\n",
    "\n",
    "        # remove the top level of the hierarchical index\n",
    "        top_df.columns = top_df.columns.get_level_values(1)\n",
    "\n",
    "        # Make primary_name a column instead of the index\n",
    "        top_df.reset_index(inplace=True)\n",
    "\n",
    "        # rename the columns for presentation\n",
    "        top_df.rename(columns={'mean':'Mean Movie Rating', 'count': 'Movie Count',\n",
    "                             'primary_name':role + ' Name'}, inplace=True)\n",
    "\n",
    "        # redo the index to start at 1 for presentation\n",
    "        top_df.index = (range(1, len(top_df)+1))\n",
    "\n",
    "        dfs.append(top_df)\n",
    "\n",
    "    return dfs"
   ]
  },
  {
   "cell_type": "markdown",
   "metadata": {},
   "source": [
    "## Get tables"
   ]
  },
  {
   "cell_type": "code",
   "execution_count": null,
   "metadata": {},
   "outputs": [],
   "source": [
    "# Get contributors who worked on multiple movies in the past ten years,\n",
    "# and the average profit of their movies is higher than 99% of movies we analyzed\n",
    "dfs_pres = gettoppercent_bymeanprofit(df_cred_pvt, [\n",
    "    'Director', 'Writer', 'Actor', 'Actress'])\n"
   ]
  },
  {
   "cell_type": "code",
   "execution_count": null,
   "metadata": {
    "scrolled": true
   },
   "outputs": [],
   "source": [
    "# Top directors by mean movie profit\n",
    "dfs_pres[0]"
   ]
  },
  {
   "cell_type": "code",
   "execution_count": null,
   "metadata": {
    "scrolled": true
   },
   "outputs": [],
   "source": [
    "# Top writers by mean movie profit\n",
    "dfs_pres[1]"
   ]
  },
  {
   "cell_type": "code",
   "execution_count": null,
   "metadata": {},
   "outputs": [],
   "source": [
    "# Top actors by mean movie profit\n",
    "dfs_pres[2]"
   ]
  },
  {
   "cell_type": "code",
   "execution_count": null,
   "metadata": {
    "scrolled": false
   },
   "outputs": [],
   "source": [
    "# Top actresses by mean movie profit\n",
    "dfs_pres[3]"
   ]
  },
  {
   "cell_type": "code",
   "execution_count": null,
   "metadata": {},
   "outputs": [],
   "source": [
    "# Get contributors who worked on multiple movies in the past ten years,\n",
    "# and the average profit of their movies is higher than 99% of movies we analyzed\n",
    "dfs_pres2 = gettoppercent_bymeanroi(df_cred_pvt, [\n",
    "    'Director', 'Writer', 'Actor', 'Actress'])"
   ]
  },
  {
   "cell_type": "code",
   "execution_count": null,
   "metadata": {},
   "outputs": [],
   "source": [
    "# Top directors by mean movie roi\n",
    "dfs_pres2[0]"
   ]
  },
  {
   "cell_type": "code",
   "execution_count": null,
   "metadata": {},
   "outputs": [],
   "source": [
    "# Top writers by mean movie roi\n",
    "dfs_pres2[1]"
   ]
  },
  {
   "cell_type": "code",
   "execution_count": null,
   "metadata": {},
   "outputs": [],
   "source": [
    "# Top actors by mean movie roi\n",
    "dfs_pres2[2]"
   ]
  },
  {
   "cell_type": "code",
   "execution_count": null,
   "metadata": {},
   "outputs": [],
   "source": [
    "# Top actresses by mean movie roi\n",
    "dfs_pres2[3]"
   ]
  },
  {
   "cell_type": "code",
   "execution_count": null,
   "metadata": {},
   "outputs": [],
   "source": [
    "# Get contributors who worked on multiple movies in the past ten years,\n",
    "# and the average profit of their movies is higher than 99% of movies we analyzed\n",
    "dfs_pres3 = gettoppercent_bymeanrate(df_cred_pvt, [\n",
    "    'Director', 'Writer', 'Actor', 'Actress'])"
   ]
  },
  {
   "cell_type": "code",
   "execution_count": null,
   "metadata": {},
   "outputs": [],
   "source": [
    "# Top directors by mean movie rating\n",
    "dfs_pres3[0]"
   ]
  },
  {
   "cell_type": "code",
   "execution_count": null,
   "metadata": {},
   "outputs": [],
   "source": [
    "# Top writers by mean movie rating\n",
    "dfs_pres3[1]"
   ]
  },
  {
   "cell_type": "code",
   "execution_count": null,
   "metadata": {},
   "outputs": [],
   "source": [
    "# Top actors by mean movie rating\n",
    "dfs_pres3[2]"
   ]
  },
  {
   "cell_type": "code",
   "execution_count": null,
   "metadata": {},
   "outputs": [],
   "source": [
    "# Top actresses by mean movie rating\n",
    "dfs_pres3[3]"
   ]
  },
  {
   "cell_type": "markdown",
   "metadata": {},
   "source": [
    "# Extra stuff"
   ]
  },
  {
   "cell_type": "code",
   "execution_count": null,
   "metadata": {
    "scrolled": true
   },
   "outputs": [],
   "source": [
    "# I think this the most accurate representation of movies created by American\n",
    "# production studios, using films associated with US production studios.\n",
    "# After further analysis, also added movies that had English as original_language,\n",
    "# which means this includes some english films produced by studios outside the US.\n",
    "# Finally, limited to films with runtime over 60 mins, as was pulling in shorter\n",
    "# films that may have a different audience.\n",
    "\n",
    "sql2 = \"\"\"SELECT DISTINCT m.id\n",
    "                        , m.budget\n",
    "                        , m.revenue\n",
    "                        , m.release_date\n",
    "                        , m.original_language\n",
    "                        , m.imdb_id\n",
    "                        , m.runtime\n",
    "                        , m.vote_average\n",
    "                        , m.vote_count\n",
    "         FROM tmdb_movies m\n",
    "         WHERE ((\n",
    "                (m.id IN (SELECT DISTINCT pc.id \n",
    "                          FROM tmdb_movie_companies pc\n",
    "                          INNER JOIN tmdb_prodco c ON c.prodco_id = pc.prodco_id\n",
    "                          WHERE c.origin_country = 'US'))\n",
    "            OR  (m.original_language = 'en')\n",
    "               )\n",
    "            AND (m.runtime > 60))\n",
    "               \n",
    "         \"\"\"\n",
    "\n",
    "df = pd.DataFrame(cur.execute(sql2).fetchall(),columns=[x[0] for x in cur.description])"
   ]
  },
  {
   "cell_type": "code",
   "execution_count": null,
   "metadata": {
    "scrolled": true
   },
   "outputs": [],
   "source": [
    "# Replace 0 with NULL values for budget, revenue, and runtime columns\n",
    "# Do in SQL so don't have to redo each time unless added new data\n",
    "\n",
    "sql4 = \"\"\"UPDATE tmdb_movies\n",
    "          SET budget = NULL WHERE budget = 0\"\"\"\n",
    "sql5 = \"\"\"UPDATE tmdb_movies\n",
    "          SET revenue = NULL WHERE revenue = 0\"\"\"\n",
    "sql6 = \"\"\"UPDATE tmdb_movies\n",
    "          SET runtime = NULL WHERE runtime = 0\"\"\"\n",
    "sql7 = \"\"\"UPDATE tmdb_movies\n",
    "          SET release_date = NULL WHERE release_date = ''\"\"\"\n",
    "\n",
    "#cur.execute(sql4)\n",
    "#cur.execute(sql5)\n",
    "#cur.execute(sql6)\n",
    "#cur.execute(sql7)\n",
    "\n",
    "conn.commit()"
   ]
  },
  {
   "cell_type": "code",
   "execution_count": null,
   "metadata": {},
   "outputs": [],
   "source": [
    "# Take a look at just the non-nulls\n",
    "df[df['release_date'].isna()==False]['release_date'].map(lambda x: len(x)).value_counts()"
   ]
  },
  {
   "cell_type": "code",
   "execution_count": null,
   "metadata": {},
   "outputs": [],
   "source": [
    "# So these are mostly english-language films. What production companies \n",
    "# are we talking about for english-language films that aren't associated\n",
    "# with a US production company?\n",
    "\n",
    "# These are the production companies associated with films that NO US-based\n",
    "# production company worked on, and where the original_language was English\n",
    "\n",
    "sql3 = \"\"\"SELECT DISTINCT pc.id, c.name AS prodco_name, c.origin_country\n",
    "          FROM tmdb_movie_companies pc\n",
    "          INNER JOIN tmdb_prodco c ON c.prodco_id = pc.prodco_id\n",
    "          WHERE (\n",
    "                 (pc.id NOT IN (SELECT DISTINCT pc.id \n",
    "                                FROM tmdb_movie_companies pc\n",
    "                                INNER JOIN tmdb_prodco c ON c.prodco_id = pc.prodco_id\n",
    "                                WHERE c.origin_country = 'US'))\n",
    "             AND (pc.id IN (SELECT id FROM tmdb_movies \n",
    "                            WHERE original_language='en'))\n",
    "                )\n",
    "              \"\"\"\n",
    "\n",
    "df3 = pd.DataFrame(cur.execute(sql3).fetchall(),columns=[x[0] for x in cur.description])"
   ]
  },
  {
   "cell_type": "code",
   "execution_count": null,
   "metadata": {},
   "outputs": [],
   "source": [
    "df3['prodco_name'].value_counts()"
   ]
  },
  {
   "cell_type": "code",
   "execution_count": null,
   "metadata": {
    "scrolled": false
   },
   "outputs": [],
   "source": [
    "df2['original_language'].value_counts()"
   ]
  },
  {
   "cell_type": "code",
   "execution_count": null,
   "metadata": {},
   "outputs": [],
   "source": [
    "#Ultimately, I think I want the deduplicated union of both these sets.\n",
    "# This represents all movies which were either "
   ]
  },
  {
   "cell_type": "code",
   "execution_count": null,
   "metadata": {},
   "outputs": [],
   "source": [
    "# release_decade\n",
    "df['release_decade'] = df[df['release_year'] > 0]['release_year'].map(\n",
    "    lambda x : int(str(x)[:3] + '0'))\n",
    "\n",
    "df.loc[df['release_decade'].isna()==True, 'release_decade'] = 0\n",
    "\n",
    "df['release_decade'] = df['release_decade'].astype(int)"
   ]
  },
  {
   "cell_type": "code",
   "execution_count": null,
   "metadata": {
    "scrolled": false
   },
   "outputs": [],
   "source": [
    "# Using only the data\n",
    "# - release date in range 1960 to 2020\n",
    "# - where we have a budget and it's greater than $10,000\n",
    "# - where we have revenue\n",
    "\n",
    "df_finance = df[(df['budget'] > 10000) & (df['revenue'].isna() == False)\n",
    "   & (df['release_year'] >= 1960) & (df['release_year'] <= 2020)].copy()"
   ]
  },
  {
   "cell_type": "code",
   "execution_count": null,
   "metadata": {
    "scrolled": false
   },
   "outputs": [],
   "source": [
    "# Using only the data\n",
    "# - release date in range 1960 to 2020\n",
    "# - where we have a budget and it's greater than $10,000\n",
    "# - where we have revenue\n",
    "\n",
    "df_finance = df[(df['budget'] > 10000) & (df['revenue'].isna() == False)\n",
    "   & (df['release_year'] >= 1960) & (df['release_year'] <= 2020)].copy()"
   ]
  },
  {
   "cell_type": "code",
   "execution_count": null,
   "metadata": {},
   "outputs": [],
   "source": [
    "#df_recent = df_finance[(df_finance['release_year'] >= 2010) & (\n",
    "#    df_finance['release_year'] < 2020)]\n",
    "\n",
    "df_recent = df_finance[(df_finance['release_year'] >= 2010) & (\n",
    "    df_finance['release_year'] <= 2020)]"
   ]
  },
  {
   "cell_type": "code",
   "execution_count": null,
   "metadata": {},
   "outputs": [],
   "source": [
    "# Create % profit categories, my initial version\n",
    "df.loc[df['profitpercent_2020adj'] <= -10, 'profit_category'] = 'Lost Money'\n",
    "df.loc[(df['profitpercent_2020adj'] > -10) & (df['profitpercent_2020adj']\n",
    "                                    <= 10), 'profit_category'] = '~ Broke Even'\n",
    "df.loc[(df['profitpercent_2020adj'] > 10) & (df['profitpercent_2020adj']\n",
    "                                    <= 50), 'profit_category'] = 'ROI 10-50%'\n",
    "df.loc[(df['profitpercent_2020adj'] > 50) & (df['profitpercent_2020adj']\n",
    "                                    <= 100), 'profit_category'] = 'ROI 50-100%'\n",
    "df.loc[(df['profitpercent_2020adj'] > 100) & (df['profitpercent_2020adj']\n",
    "                                    <= 500), 'profit_category'] = 'ROI 100-500%'\n",
    "df.loc[(df['profitpercent_2020adj'] > 500) & (df['profitpercent_2020adj']\n",
    "                                    <= 1000), 'profit_category'] = 'ROI 500-1000%'\n",
    "df.loc[df['profitpercent_2020adj'] > 1000, 'profit_category'] = 'ROI Over 1000%'"
   ]
  },
  {
   "cell_type": "code",
   "execution_count": null,
   "metadata": {},
   "outputs": [],
   "source": [
    "# Create % profit categories, updated version\n",
    "# over 817% would be considered outliers\n",
    "# everything below 0 is a loww\n",
    "# amounts between 0 and outlier territory are split about equally into 4 bins\n",
    "df.loc[df['profitpercent_2020adj'] < 0, 'profit_category'] = 'Loss'\n",
    "df.loc[(df['profitpercent_2020adj'] >= 0) & (\n",
    "    df['profitpercent_2020adj'] <= 200), 'profit_category'] = '0 - 200% ROI'\n",
    "df.loc[(df['profitpercent_2020adj'] > 200) & (\n",
    "    df['profitpercent_2020adj'] <= 400), 'profit_category'] = '200 - 400% ROI'\n",
    "df.loc[(df['profitpercent_2020adj'] > 400) & (\n",
    "    df['profitpercent_2020adj'] <= 600), 'profit_category'] = '400 - 600% ROI'\n",
    "df.loc[(df['profitpercent_2020adj'] > 600) & (\n",
    "    df['profitpercent_2020adj'] <= 800), 'profit_category'] = '600 - 800% ROI'\n",
    "df.loc[df['profitpercent_2020adj'] > 800, 'profit_category'] = 'Over 800% ROI'\n"
   ]
  },
  {
   "cell_type": "code",
   "execution_count": null,
   "metadata": {
    "scrolled": true
   },
   "outputs": [],
   "source": [
    "month_order = ['January','February','March','April','May','June',\n",
    "             'July','August','September','October','November',\n",
    "             'December']\n",
    "\n",
    "with plt.style.context('seaborn-poster'):\n",
    "    fig, ax = plt.subplots()\n",
    "    # source: https://stackoverflow.com/questions/57207245/\n",
    "    #how-do-you-use-count-plot-and-line-plot-with-the-same-y-axis-in-seaborn\n",
    "    ax2=ax.twinx()\n",
    "\n",
    "    sns.countplot(x=df['release_month_num'], ax=ax)\n",
    "    sns.lineplot(x=df['release_month_num'], y=df['profit_2020adj'], sort=True,\n",
    "                 estimator=np.median, ax=ax2)\n",
    "    \n",
    "    #ax.plot(df.groupby('release_month')['profit_2020adj'].median());\n",
    "    #ax.set_title('Count of Movies Released in each Calendar Month');\n",
    "    #ax.set_xlabel('Release Month');\n",
    "    #ax.set_ylabel('Number of Movies Released');"
   ]
  },
  {
   "cell_type": "code",
   "execution_count": null,
   "metadata": {
    "scrolled": false
   },
   "outputs": [],
   "source": [
    "month_order = ['January','February','March','April','May','June',\n",
    "             'July','August','September','October','November',\n",
    "             'December']\n",
    "\n",
    "with plt.style.context('seaborn-poster'):\n",
    "    fig, ([ax1, ax2]) = plt.subplots(ncols=1, nrows=2)\n",
    "\n",
    "    sns.countplot(x=df['release_month_num'], ax=ax1)\n",
    "    sns.lineplot(x=df['release_month_num'], y=df['profit_2020adj'], sort=True,\n",
    "                 estimator=np.median, ax=ax2)\n",
    "    \n",
    "    #ax.plot(df.groupby('release_month')['profit_2020adj'].median());\n",
    "    #ax.set_title('Count of Movies Released in each Calendar Month');\n",
    "    #ax.set_xlabel('Release Month');\n",
    "    #ax.set_ylabel('Number of Movies Released');"
   ]
  },
  {
   "cell_type": "code",
   "execution_count": null,
   "metadata": {
    "scrolled": true
   },
   "outputs": [],
   "source": [
    "month_order = ['January','February','March','April','May','June',\n",
    "             'July','August','September','October','November',\n",
    "             'December']\n",
    "\n",
    "with plt.style.context('seaborn-poster'):\n",
    "    fig, ax = plt.subplots()\n",
    "\n",
    "    sns.countplot(x=df['release_month'], order=month_order)\n",
    "\n",
    "    ax.set_title('Count of Movies Released in each Calendar Month');\n",
    "    ax.set_xlabel('Release Month');\n",
    "    ax.set_ylabel('Number of Movies Released');\n"
   ]
  },
  {
   "cell_type": "code",
   "execution_count": null,
   "metadata": {
    "scrolled": false
   },
   "outputs": [],
   "source": [
    "# Top 10 directors based on sum of the profits their movies made in the last 10 years\n",
    "df_cred_pvt.loc[('Director')][[('profit_2020adj', 'sum'),('id','count'\n",
    "      )]].sort_values(by=[('profit_2020adj', 'sum')], ascending=False)[:10]"
   ]
  },
  {
   "cell_type": "code",
   "execution_count": null,
   "metadata": {
    "scrolled": false
   },
   "outputs": [],
   "source": [
    "# Top 10 writers based on sum of the profits their movies made in the last 10 years\n",
    "df_cred_pvt.loc[('Writer')]['profit_2020adj', 'sum'].sort_values(ascending=False)[:10]"
   ]
  },
  {
   "cell_type": "code",
   "execution_count": null,
   "metadata": {
    "scrolled": false
   },
   "outputs": [],
   "source": [
    "# Top 10 male actors based on sum of the profits their movies made in the last 10 years\n",
    "df_cred_pvt.loc[('Actor')]['profit_2020adj', 'sum'].sort_values(ascending=False)[:10]"
   ]
  },
  {
   "cell_type": "code",
   "execution_count": null,
   "metadata": {
    "scrolled": true
   },
   "outputs": [],
   "source": [
    "# Top 10 actresses based on sum of the profits their movies made in the last 10 years\n",
    "df_cred_pvt.loc[('Actress')]['profit_2020adj', 'sum'].sort_values(ascending=False)[:10]"
   ]
  },
  {
   "cell_type": "code",
   "execution_count": null,
   "metadata": {
    "scrolled": true
   },
   "outputs": [],
   "source": [
    "with plt.style.context('seaborn-poster'):\n",
    "    sns.set()\n",
    "    fig, ax = plt.subplots(figsize=(8, 8))\n",
    "\n",
    "    sns.histplot(df['profit_2020adj'], ax=ax, bins=30, palette=ms_qualpalette)\n",
    "    ax.set_title('Box Office Profit Distribution');\n",
    "    ax.set_xlabel('Profit');\n",
    "\n",
    "    #Source: https://stackoverflow.com/questions/53747298/how-to-format-seaborn-\n",
    "    #                matplotlib-axis-tick-labels-from-number-to-thousands-or-mi\n",
    "    ax.xaxis.set_major_formatter(plt.FuncFormatter(currency))"
   ]
  },
  {
   "cell_type": "code",
   "execution_count": null,
   "metadata": {
    "scrolled": false
   },
   "outputs": [],
   "source": [
    "profit_category_order = ['Loss', '0 - 200% ROI', '200 - 400% ROI', \n",
    "        '400 - 600% ROI', '600 - 800% ROI', 'Over 800% ROI']\n",
    "\n",
    "with plt.style.context('seaborn-notebook'):\n",
    "    plt.tight_layout();\n",
    "    fig, ([ax1, ax2]) = plt.subplots(figsize=(8, 10), ncols=1, nrows=2);\n",
    "\n",
    "    sns.scatterplot(x=df['budget_2020adj'], y=df['profit_2020adj']\n",
    "                    , ax=ax1, hue=df['profit_category'],\n",
    "                   hue_order=profit_category_order);\n",
    "          \n",
    "    sns.scatterplot(x=df['budget_2020adj'], y=df['profit_2020adj']\n",
    "                    , ax=ax2, hue=df['profit_category'],\n",
    "                   hue_order=profit_category_order,\n",
    "                   palette='coolwarm');\n",
    "    \n",
    "    #ax1.set_title('Production Budget versus Box Office Profit (2020 US Dollars)');\n",
    "    ax1.set_xlabel('Production Budget');\n",
    "    ax1.set_ylabel('Box Office Profit');\n",
    "\n",
    "    #Source: https://stackoverflow.com/questions/53747298/how-to-format-seaborn-\n",
    "    #                matplotlib-axis-tick-labels-from-number-to-thousands-or-mi\n",
    "    ax1.yaxis.set_major_formatter(plt.FuncFormatter(currency));\n",
    "    ax1.xaxis.set_major_formatter(plt.FuncFormatter(currency));"
   ]
  },
  {
   "cell_type": "code",
   "execution_count": null,
   "metadata": {
    "scrolled": true
   },
   "outputs": [],
   "source": [
    "profit_category_order = q10_labels\n",
    "quantile_palette=sns.color_palette(palette=['red', 'orange', 'yellow', 'greenyellow',\n",
    "                                       'limegreen','forestgreen', 'darkolivegreen',\n",
    "                                       'royalblue', 'indigo', 'fuchsia'])\n",
    "# Let's slice out chunks of the percentiles and look at them separately\n",
    "\n",
    "with plt.style.context('seaborn-notebook'):\n",
    "\n",
    "    g = sns.lmplot(data=df, x='budget_2020adj', y='profit_2020adj', \n",
    "                   hue='profit_quantile', palette=quantile_palette,\n",
    "                  height=8)\n"
   ]
  },
  {
   "cell_type": "code",
   "execution_count": null,
   "metadata": {
    "scrolled": true
   },
   "outputs": [],
   "source": [
    "g = sns.FacetGrid(df, row='profit_quantile')\n",
    "g.map(sns.scatterplot, 'budget_2020adj', 'profit_2020adj')\n"
   ]
  },
  {
   "cell_type": "code",
   "execution_count": null,
   "metadata": {
    "scrolled": false
   },
   "outputs": [],
   "source": [
    "g = sns.FacetGrid(df, row='roi_quantile')\n",
    "g.map(sns.scatterplot, 'budget_2020adj', 'profitpercent_2020adj')\n"
   ]
  },
  {
   "cell_type": "code",
   "execution_count": null,
   "metadata": {
    "scrolled": false
   },
   "outputs": [],
   "source": [
    "g = sns.FacetGrid(df, row='budget_quantile')\n",
    "g.map(sns.scatterplot, 'budget_2020adj', 'profit_2020adj')\n"
   ]
  },
  {
   "cell_type": "code",
   "execution_count": null,
   "metadata": {
    "scrolled": false
   },
   "outputs": [],
   "source": [
    "profit_category_order = q10_labels\n",
    "quantile_palette=sns.color_palette(palette=['red', 'orange', 'yellow', 'greenyellow',\n",
    "                                       'limegreen','forestgreen', 'darkolivegreen',\n",
    "                                       'royalblue', 'indigo', 'fuchsia'])\n",
    "# Let's slice out chunks of the percentiles and look at them separately\n",
    "\n",
    "with plt.style.context('seaborn-notebook'):\n",
    "\n",
    "    g = sns.lmplot(data=df, x='budget_2020adj', y='profit_2020adj', \n",
    "                   hue='budget_quantile', palette=quantile_palette,\n",
    "                  height=6)\n"
   ]
  },
  {
   "cell_type": "code",
   "execution_count": null,
   "metadata": {},
   "outputs": [],
   "source": [
    "q10_labels"
   ]
  },
  {
   "cell_type": "code",
   "execution_count": null,
   "metadata": {
    "scrolled": false
   },
   "outputs": [],
   "source": [
    "size_dict={\n",
    " 'Percentile 0-10': 10,\n",
    " 'Percentile 10-20': 20,\n",
    " 'Percentile 20-30': 30,\n",
    " 'Percentile 30-40': 40,\n",
    " 'Percentile 40-50': 50,\n",
    " 'Percentile 50-60': 60,\n",
    " 'Percentile 60-70': 70,\n",
    " 'Percentile 70-80': 80,\n",
    " 'Percentile 80-90': 90,\n",
    " 'Percentile 90-100': 100}\n",
    "quantile_palette=sns.color_palette(palette=['red', 'orange', 'yellow', 'greenyellow',\n",
    "                                       'limegreen','forestgreen', 'darkolivegreen',\n",
    "                                       'royalblue', 'indigo', 'fuchsia'])\n",
    "# Let's slice out chunks of the percentiles and look at them separately\n",
    "\n",
    "with plt.style.context('seaborn-poster'):\n",
    "\n",
    "    sns.scatterplot(x=df['budget_2020adj'], y=df['profit_2020adj'], \n",
    "                    hue=df['budget_quantile'], size=df['budget_quantile'],\n",
    "                    sizes=size_dict,\n",
    "                    palette=quantile_palette )\n"
   ]
  },
  {
   "cell_type": "code",
   "execution_count": null,
   "metadata": {
    "scrolled": false
   },
   "outputs": [],
   "source": [
    "month_order = ['January','February','March','April','May','June',\n",
    "             'July','August','September','October','November',\n",
    "             'December']\n",
    "\n",
    "with plt.style.context('seaborn-poster'):\n",
    "    # Source: https://stackoverflow.com/questions/12589481/multiple-aggregations-\n",
    "    # of-the-same-column-using-pandas-groupby-agg\n",
    "    profit_by_month = df.groupby('release_month_num').agg(\n",
    "        Median=('profit_2020adj', 'median'), \n",
    "        Count=('profit_2020adj', 'count'))\n",
    "\n",
    "    profit_by_month\n",
    "\n",
    "    # Specify we want to use seaborn to style the plot even though we're using\n",
    "    # default matplotlib syntax\n",
    "    # Source: https://www.codecademy.com/articles/seaborn-design-ii\n",
    "    sns.set()\n",
    "\n",
    "    fig, ax = plt.subplots(figsize=(8, 6))\n",
    "    ax2=ax.twinx()\n",
    "    # Source: James Irving\n",
    "    ax.bar(profit_by_month.index, profit_by_month.Count)\n",
    "    ax2.plot(profit_by_month.index,profit_by_month.Median,marker='o',c='r')\n",
    "\n",
    "\n",
    "    # set and format labels\n",
    "    ax.set_ylabel('Number of Movies Released');\n",
    "    ax2.set_ylabel('Median Profit per Month');\n",
    "    ax.set_title('Monthly')\n",
    "\n",
    "    ax.set_xticks(list(month_map.keys()));\n",
    "    ax.set_xticklabels(list(month_map.values()), rotation=90);\n",
    "    ax2.yaxis.set_major_formatter(plt.FuncFormatter(currency));"
   ]
  },
  {
   "cell_type": "code",
   "execution_count": null,
   "metadata": {
    "scrolled": false
   },
   "outputs": [],
   "source": [
    "# Movies with an Adventure genre have generated the most profit in the\n",
    "# last 10 years, with Action, Comedy, and Science Fiction coming next.\n",
    "\n",
    "g_sumprofit = df_gp['profit_2020adj', 'sum'].sort_values(ascending=False)[:10]\n",
    "\n",
    "sns.set_context('talk')\n",
    "\n",
    "fig, ax = plt.subplots(figsize=(5, 5));\n",
    "\n",
    "sns.barplot(y=g_sumprofit.index, x=g_sumprofit, ax=ax, orient='h', \n",
    "            palette=ms_qualpalette);\n",
    "\n",
    "ax.set_title('Top 10 Genres by Sum of Profit');\n",
    "ax.set_xlabel('Sum of Profit (2010 through 2020)');\n",
    "ax.set_ylabel('Genre');\n",
    "\n",
    "#Source: https://stackoverflow.com/questions/53747298/how-to-format-seaborn-\n",
    "#                matplotlib-axis-tick-labels-from-number-to-thousands-or-mi\n",
    "ax.xaxis.set_major_formatter(plt.FuncFormatter(currency));\n",
    "ax.tick_params(axis='x', labelsize=14, labelrotation=90, pad=0)"
   ]
  },
  {
   "cell_type": "code",
   "execution_count": null,
   "metadata": {
    "scrolled": false
   },
   "outputs": [],
   "source": [
    "month_order = ['January','February','March','April','May','June',\n",
    "             'July','August','September','October','November',\n",
    "             'December']\n",
    "\n",
    "with plt.style.context('seaborn-poster'):\n",
    "    # Source: https://stackoverflow.com/questions/12589481/multiple-aggregations-\n",
    "    # of-the-same-column-using-pandas-groupby-agg\n",
    "    profit_by_month = df.groupby('release_month_num').agg(\n",
    "        Median=('profit_2020adj', 'median'), \n",
    "        Count=('profit_2020adj', 'count'))\n",
    "\n",
    "    fig, ax = plt.subplots(figsize=(10, 4))\n",
    "    ax2=ax.twinx()\n",
    "    \n",
    "    # Source: James Irving\n",
    "    ax.bar(profit_by_month.index, profit_by_month.Count, \n",
    "           color=['#F65314'])#,'#7CBB00','#FFBB00', '#F65314','#747474'])\n",
    "           #edgecolor='k', linewidth='1.5')\n",
    "    ax2.plot(profit_by_month.index,profit_by_month.Median,marker='o',c='k')\n",
    "    \n",
    "    # Specify we want to use seaborn to style the plot even though we're using\n",
    "    # default matplotlib syntax\n",
    "    # Source: https://www.codecademy.com/articles/seaborn-design-ii\n",
    "    sns.set()\n",
    "    \n",
    "    # Source: https://intellipaat.com/community/34074/how-to-get-rid-of-grid\n",
    "    # -lines-when-plotting-with-seaborn-pandas-with-secondaryy\n",
    "    ax2.grid(False)\n",
    "\n",
    "    # set and format labels\n",
    "    ax.set_ylabel('Number of Movies Released');\n",
    "    ax2.set_ylabel('Median Profit');\n",
    "    ax.set_title('Count and Median Profit of Movies per Release Month', \n",
    "                 fontdict={'fontsize':20})\n",
    "\n",
    "    ax.set_xticks(list(month_map.keys()));\n",
    "    ax.set_xticklabels(list(month_map.values()), rotation=90);\n",
    "    ax2.yaxis.set_major_formatter(plt.FuncFormatter(currency));\n",
    "    ax2\n",
    "    \n",
    "    "
   ]
  },
  {
   "cell_type": "code",
   "execution_count": null,
   "metadata": {
    "scrolled": false
   },
   "outputs": [],
   "source": [
    "month_order = ['January','February','March','April','May','June',\n",
    "             'July','August','September','October','November',\n",
    "             'December']\n",
    "\n",
    "with plt.style.context('seaborn-poster'):\n",
    "    # Source: https://stackoverflow.com/questions/12589481/multiple-aggregations-\n",
    "    # of-the-same-column-using-pandas-groupby-agg\n",
    "    profit_by_month = df.groupby('release_month_num').agg(\n",
    "        Median=('profit_2020adj', 'median'), \n",
    "        Count=('profit_2020adj', 'count'))\n",
    "\n",
    "    fig, ax2 = plt.subplots(figsize=(10, 6))\n",
    "    ax=ax2.twinx()\n",
    "    \n",
    "    # Source: James Irving\n",
    "    ax.plot(profit_by_month.index, profit_by_month.Count, marker='o', c='#747474')\n",
    "    ax2.plot(profit_by_month.index, profit_by_month.Median, marker='o', c='#F65314')\n",
    "    \n",
    "    # Specify we want to use seaborn to style the plot even though we're using\n",
    "    # default matplotlib syntax\n",
    "    # Source: https://www.codecademy.com/articles/seaborn-design-ii\n",
    "    sns.set()\n",
    "    \n",
    "    # Source: https://intellipaat.com/community/34074/how-to-get-rid-of-grid\n",
    "    # -lines-when-plotting-with-seaborn-pandas-with-secondaryy\n",
    "    ax.grid(False)\n",
    "\n",
    "    # set and format labels\n",
    "    ax.set_ylabel('Number of Movies Released');\n",
    "    ax2.set_ylabel('Median Profit');\n",
    "    #ax.set_title('Count and Median Profit of Movies per Release Month', \n",
    "    #             fontdict={'fontsize':20})\n",
    "\n",
    "    ax2.set_xticks(list(month_map.keys()));\n",
    "    ax2.set_xticklabels(list(month_map.values()), rotation=90);\n",
    "    ax2.yaxis.set_major_formatter(plt.FuncFormatter(currency));\n",
    "    ax.legend(['Number of\\nMovies Released'], loc=(0, 1), fontsize=14)\n",
    "    ax2.legend(['Median \\nProfit'], loc=(.82, 1), fontsize=14)\n",
    "    \n",
    "    "
   ]
  },
  {
   "cell_type": "code",
   "execution_count": null,
   "metadata": {
    "scrolled": true
   },
   "outputs": [],
   "source": [
    "month_order = ['January','February','March','April','May','June',\n",
    "             'July','August','September','October','November',\n",
    "             'December']\n",
    "\n",
    "with plt.style.context('seaborn-poster'):\n",
    "    # Source: https://stackoverflow.com/questions/12589481/multiple-aggregations-\n",
    "    # of-the-same-column-using-pandas-groupby-agg\n",
    "    profit_by_month = df.groupby('release_month_num').agg(\n",
    "        Median=('profit_2020adj', 'median'), \n",
    "        Count=('profit_2020adj', 'count'))\n",
    "\n",
    "    fig, ([ax1, ax2]) = plt.subplots(nrows=2, ncols=1, figsize=(10, 10))\n",
    "    \n",
    "    ax1.bar(profit_by_month.index, profit_by_month.Count, \n",
    "           color=['#F65314'])\n",
    "    ax2.plot(profit_by_month.index,profit_by_month.Median,marker='o',c='k')\n",
    "    \n",
    "    # Specify we want to use seaborn to style the plot even though we're using\n",
    "    # default matplotlib syntax\n",
    "    # Source: https://www.codecademy.com/articles/seaborn-design-ii\n",
    "    sns.set()\n",
    "\n",
    "    # set and format labels\n",
    "    ax1.set_ylabel('Number of Movies Released');\n",
    "    ax2.set_ylabel('Median Profit');\n",
    "    ax1.set_title('Count of Movies per Release Month', \n",
    "                 fontdict={'fontsize':14})\n",
    "    ax2.set_title('Median Profit per Release Month', \n",
    "                 fontdict={'fontsize':14})\n",
    "\n",
    "    ax1.set_xticks(list(month_map.keys()));\n",
    "    ax1.set_xticklabels(list(month_map.values()), rotation=90\n",
    "                       , fontdict={'fontsize':14});\n",
    "    \n",
    "    ax2.set_xticks(list(month_map.keys()));\n",
    "    ax2.set_xticklabels(list(month_map.values()), rotation=90\n",
    "                        , fontdict={'fontsize':14});\n",
    "    ax2.yaxis.set_major_formatter(plt.FuncFormatter(currency));\n",
    "    \n",
    "    "
   ]
  },
  {
   "cell_type": "code",
   "execution_count": null,
   "metadata": {
    "scrolled": true
   },
   "outputs": [],
   "source": [
    "df['budget_2020adj'].quantile(q=[.125, .875])"
   ]
  },
  {
   "cell_type": "code",
   "execution_count": null,
   "metadata": {},
   "outputs": [],
   "source": [
    "df['profit_2020adj'].quantile(q=[.125, .875])"
   ]
  },
  {
   "cell_type": "code",
   "execution_count": null,
   "metadata": {
    "scrolled": false
   },
   "outputs": [],
   "source": [
    "profit_category_order = q10_labels\n",
    "roi_palette=sns.color_palette(palette=['red', 'orange', 'yellow', 'greenyellow',\n",
    "                                       'limegreen','forestgreen', 'darkolivegreen',\n",
    "                                       'royalblue', 'indigo', 'fuchsia'])\n",
    "\n",
    "with plt.style.context('seaborn-poster'):\n",
    "    plt.tight_layout();\n",
    "    fig, ax1 = plt.subplots();\n",
    "\n",
    "    sns.scatterplot(x=df['budget_2020adj'], y=df['profit_2020adj']\n",
    "                    , ax=ax1, hue=df['roi_quantile'], palette=roi_palette,\n",
    "                   hue_order=profit_category_order);\n",
    "\n",
    "    ax1.set_title('Production Budget versus Box Office Profit');\n",
    "    ax1.set_xlabel('Production Budget');\n",
    "    ax1.set_ylabel('Box Office Profit');\n",
    "    ax1.legend(title='ROI Percentiles', fontsize=16, title_fontsize=16, \n",
    "              edgecolor='black');\n",
    "    ax1.hlines(0, colors='grey', xmin=0, xmax=3.5*1e8, linestyles='dashed')\n",
    "    ax1.annotate(\"Broke Even\", color='grey', xy=(3.75*1e8, 0),  xytext=(3.9*1e8, 0),\n",
    "                 arrowprops=dict(color='grey', lw=2, arrowstyle='->', ),\n",
    "                 verticalalignment='center', size=16)\n",
    "\n",
    "    #Source: https://stackoverflow.com/questions/53747298/how-to-format-seaborn-\n",
    "    #                matplotlib-axis-tick-labels-from-number-to-thousands-or-mi\n",
    "    ax1.yaxis.set_major_formatter(plt.FuncFormatter(currency));\n",
    "    ax1.xaxis.set_major_formatter(plt.FuncFormatter(currency));"
   ]
  },
  {
   "cell_type": "code",
   "execution_count": null,
   "metadata": {
    "scrolled": true
   },
   "outputs": [],
   "source": [
    "qdict_budget"
   ]
  },
  {
   "cell_type": "code",
   "execution_count": null,
   "metadata": {
    "scrolled": true
   },
   "outputs": [],
   "source": [
    "budget_percentiles=[]\n",
    "min_v = currency(qdict_budget[0.0])\n",
    "\n",
    "for i, x in enumerate(qdict_budget.items()):\n",
    "    \n",
    "    if i > 0:\n",
    "        # new min is previous max unless first item\n",
    "        min_v = max_v if i > 1 else min_v\n",
    "        # new max is value\n",
    "        max_v = currency(x[1])\n",
    "                 \n",
    "        budget_percentiles.append({q10_labels[i-1]: {'min':min_v, 'max':max_v}})\n",
    "                 \n",
    "    elif i == 10:\n",
    "        min_v = max_v\n",
    "        max_v = currency(qdict_budget[1.0])\n",
    "\n",
    "        budget_percentiles.append({q10_labels[i-1]: {'min':min_v, 'max':max_v}})\n",
    "        \n",
    "budget_percentiles"
   ]
  },
  {
   "cell_type": "code",
   "execution_count": null,
   "metadata": {},
   "outputs": [],
   "source": [
    "qdict_budget"
   ]
  },
  {
   "cell_type": "code",
   "execution_count": null,
   "metadata": {
    "scrolled": true
   },
   "outputs": [],
   "source": [
    "#with plt.style.context('seaborn-notebook'):\n",
    "    \n",
    "fig, ([ax1, ax2, ax3, ax4, ax5],  \n",
    "      [ax6, ax7, ax8, ax9, ax10]\n",
    "     ) = plt.subplots(figsize=(20, 8),\n",
    "                      ncols=5, nrows=2, );\n",
    "plt.tight_layout(h_pad=2, w_pad=2);\n",
    "\n",
    "plots=[ax1, ax2, ax3, ax4, ax5, ax6, ax7, ax8, ax9, ax10]\n",
    "\n",
    "for i, plot in enumerate(plots):\n",
    "\n",
    "    percentile_text = list(budget_percentiles[i].keys())[0]\n",
    "\n",
    "    sns.scatterplot(x=df.loc[df['budget_quantile']==percentile_text,'budget_2020adj'], \n",
    "        y=df['profit_2020adj'], ax=plot)\n",
    "    title=f\"Budget {percentile_text}\\n{budget_percentiles[i][percentile_text]['min']} to {budget_percentiles[i][percentile_text]['max']}\"\n",
    "    plot.set_title(title, fontdict={'fontsize':18});\n",
    "    plot.set_xlabel('Budget', fontdict={'fontsize':18});\n",
    "    plot.set_ylabel('Profit', fontdict={'fontsize':18});\n",
    "\n",
    "    #Source: https://www.delftstack.com/howto/matplotlib/how-to-hide-axis-\n",
    "    #text-ticks-and-or-tick-labels-in-matplotlib/#xaxis.set_visiblefalse\n",
    "    #%2fyaxis.set_visiblefalse-to-hide-matplotlib-axis-including-axis-label\n",
    "    plot.xaxis.set_ticks([])\n",
    "    plot.yaxis.set_ticks([])"
   ]
  },
  {
   "cell_type": "code",
   "execution_count": null,
   "metadata": {
    "scrolled": false
   },
   "outputs": [],
   "source": [
    "df_genres.info()"
   ]
  },
  {
   "cell_type": "code",
   "execution_count": null,
   "metadata": {
    "scrolled": false
   },
   "outputs": [],
   "source": [
    "#with plt.style.context('seaborn-notebook'):\n",
    "    \n",
    "fig, ([ax1, ax2, ax3],  \n",
    "      [ax4, ax5, ax6], \n",
    "      [ax7, ax8, ax9]\n",
    "     ) = plt.subplots(figsize=(12, 10),\n",
    "                      ncols=3, nrows=3, );\n",
    "plt.tight_layout(h_pad=2, w_pad=1);\n",
    "\n",
    "plots=[ax1, ax2, ax3, ax4, ax5, ax6, ax7, ax8, ax9]\n",
    "\n",
    "for i, plot in enumerate(plots):\n",
    "    \n",
    "    percentile_text = list(budget_percentiles[i].keys())[0]\n",
    "\n",
    "    sns.scatterplot(x=df.loc[df['budget_quantile']==percentile_text,'budget_2020adj'], \n",
    "        y=df['profit_2020adj'], ax=plot)\n",
    "    title=f\"Budget {percentile_text}\\n{budget_percentiles[i][percentile_text]['min']} to {budget_percentiles[i][percentile_text]['max']}\"\n",
    "    plot.set_title(title, fontdict={'fontsize':14});\n",
    "    plot.set_xlabel('Budget', fontdict={'fontsize':14});\n",
    "    plot.set_ylabel('Profit', fontdict={'fontsize':14});\n",
    "\n",
    "    #Source: https://www.delftstack.com/howto/matplotlib/how-to-hide-axis-\n",
    "    #text-ticks-and-or-tick-labels-in-matplotlib/#xaxis.set_visiblefalse\n",
    "    #%2fyaxis.set_visiblefalse-to-hide-matplotlib-axis-including-axis-label\n",
    "    plot.xaxis.set_ticks([])\n",
    "    plot.yaxis.set_ticks([])"
   ]
  },
  {
   "cell_type": "markdown",
   "metadata": {},
   "source": [
    "## Top ten by role"
   ]
  },
  {
   "cell_type": "code",
   "execution_count": null,
   "metadata": {
    "scrolled": false
   },
   "outputs": [],
   "source": [
    "# Top 10 directors based on sum of profit from the past 10 years\n",
    "df_cred_pvt.loc[('Director')][[('profit_2020adj', 'sum'),('id','count'\n",
    "      )]].sort_values(by=[('profit_2020adj', 'sum')], ascending=False)[:10]"
   ]
  },
  {
   "cell_type": "code",
   "execution_count": null,
   "metadata": {},
   "outputs": [],
   "source": [
    "# Create top 10 dataframes by mean profit for the specified roles\n",
    "dfs_pres = gettopten_bymeanprofit(df_cred_pvt, \n",
    "                                 ['Director', 'Writer', 'Actor', 'Actress'])\n"
   ]
  },
  {
   "cell_type": "code",
   "execution_count": null,
   "metadata": {},
   "outputs": [],
   "source": [
    "# top ten directors by mean profit\n",
    "dfs_pres[0].style.applymap(lambda x: overcurrlimit_blue(x, profit_99cutoff)\n",
    "                          , subset='Mean Movie Profit')"
   ]
  },
  {
   "cell_type": "code",
   "execution_count": null,
   "metadata": {},
   "outputs": [],
   "source": [
    "# top ten writers by mean profit\n",
    "dfs_pres[1].style.applymap(lambda x: overcurrlimit_blue(x, profit_99cutoff)\n",
    "                          , subset='Mean Movie Profit')"
   ]
  },
  {
   "cell_type": "code",
   "execution_count": null,
   "metadata": {},
   "outputs": [],
   "source": [
    "# top ten actors by mean profit\n",
    "dfs_pres[2].style.applymap(lambda x: overcurrlimit_blue(x, profit_99cutoff)\n",
    "                          , subset='Mean Movie Profit')"
   ]
  },
  {
   "cell_type": "code",
   "execution_count": null,
   "metadata": {},
   "outputs": [],
   "source": [
    "# top ten actresses by mean profit\n",
    "dfs_pres[3].style.applymap(lambda x: overcurrlimit_blue(x, profit_99cutoff)\n",
    "                          , subset='Mean Movie Profit')"
   ]
  },
  {
   "cell_type": "code",
   "execution_count": null,
   "metadata": {},
   "outputs": [],
   "source": [
    "# Create top 10 dataframes by mean roi for the specified roles\n",
    "dfs_pres = gettopten_bymeanroi(df_cred_pvt, \n",
    "                                 ['Director', 'Writer', 'Actor', 'Actress'])"
   ]
  },
  {
   "cell_type": "code",
   "execution_count": null,
   "metadata": {
    "scrolled": false
   },
   "outputs": [],
   "source": [
    "# Top ten directors based on mean roi\n",
    "dfs_pres[0].style.applymap(lambda x: overperlimit_blue(x, roi_99cutoff)\n",
    "                          , subset='Mean Movie ROI')"
   ]
  },
  {
   "cell_type": "code",
   "execution_count": null,
   "metadata": {
    "scrolled": true
   },
   "outputs": [],
   "source": [
    "# Top ten writers based on mean roi\n",
    "dfs_pres[1].style.applymap(lambda x: overperlimit_blue(x, roi_99cutoff)\n",
    "                          , subset='Mean Movie ROI')"
   ]
  },
  {
   "cell_type": "code",
   "execution_count": null,
   "metadata": {},
   "outputs": [],
   "source": [
    "# Top ten actors based on mean roi\n",
    "dfs_pres[2].style.applymap(lambda x: overperlimit_blue(x, roi_99cutoff)\n",
    "                          , subset='Mean Movie ROI')"
   ]
  },
  {
   "cell_type": "code",
   "execution_count": null,
   "metadata": {},
   "outputs": [],
   "source": [
    "# Top ten actresses based on mean roi\n",
    "dfs_pres[3].style.applymap(lambda x: overperlimit_blue(x, roi_99cutoff)\n",
    "                          , subset='Mean Movie ROI')"
   ]
  },
  {
   "cell_type": "code",
   "execution_count": null,
   "metadata": {},
   "outputs": [],
   "source": [
    "# Create top 10 dataframes by mean rating for the specified roles\n",
    "dfs_pres = gettopten_bymeanrate(df_cred_pvt, \n",
    "                                 ['Director', 'Writer', 'Actor', 'Actress'])"
   ]
  },
  {
   "cell_type": "code",
   "execution_count": null,
   "metadata": {
    "scrolled": true
   },
   "outputs": [],
   "source": [
    "# Top ten directors based on mean rating\n",
    "dfs_pres[0].style.applymap(lambda x: overratelimit_blue(x, rate_99cutoff)\n",
    "                      , subset='Mean Movie Rating')"
   ]
  },
  {
   "cell_type": "code",
   "execution_count": null,
   "metadata": {},
   "outputs": [],
   "source": [
    "# Top ten writers based on mean rating\n",
    "dfs_pres[1].style.applymap(lambda x: overratelimit_blue(x, rate_99cutoff)\n",
    "                      , subset='Mean Movie Rating')"
   ]
  },
  {
   "cell_type": "code",
   "execution_count": null,
   "metadata": {},
   "outputs": [],
   "source": [
    "# Top ten actors based on mean rating\n",
    "dfs_pres[2].style.applymap(lambda x: overratelimit_blue(x, rate_99cutoff)\n",
    "                      , subset='Mean Movie Rating')"
   ]
  },
  {
   "cell_type": "code",
   "execution_count": null,
   "metadata": {
    "scrolled": false
   },
   "outputs": [],
   "source": [
    "# Top ten actresses based on mean rating\n",
    "dfs_pres[3].style.applymap(lambda x: overratelimit_blue(x, rate_99cutoff)\n",
    "                      , subset='Mean Movie Rating')"
   ]
  },
  {
   "cell_type": "code",
   "execution_count": null,
   "metadata": {},
   "outputs": [],
   "source": [
    "250000000"
   ]
  }
 ],
 "metadata": {
  "kernelspec": {
   "display_name": "learn-env",
   "language": "python",
   "name": "learn-env"
  },
  "language_info": {
   "codemirror_mode": {
    "name": "ipython",
    "version": 3
   },
   "file_extension": ".py",
   "mimetype": "text/x-python",
   "name": "python",
   "nbconvert_exporter": "python",
   "pygments_lexer": "ipython3",
   "version": "3.8.5"
  },
  "toc": {
   "base_numbering": 1,
   "nav_menu": {},
   "number_sections": true,
   "sideBar": true,
   "skip_h1_title": false,
   "title_cell": "Table of Contents",
   "title_sidebar": "Contents",
   "toc_cell": false,
   "toc_position": {
    "height": "calc(100% - 180px)",
    "left": "10px",
    "top": "150px",
    "width": "251px"
   },
   "toc_section_display": true,
   "toc_window_display": true
  },
  "varInspector": {
   "cols": {
    "lenName": 16,
    "lenType": 16,
    "lenVar": 40
   },
   "kernels_config": {
    "python": {
     "delete_cmd_postfix": "",
     "delete_cmd_prefix": "del ",
     "library": "var_list.py",
     "varRefreshCmd": "print(var_dic_list())"
    },
    "r": {
     "delete_cmd_postfix": ") ",
     "delete_cmd_prefix": "rm(",
     "library": "var_list.r",
     "varRefreshCmd": "cat(var_dic_list()) "
    }
   },
   "types_to_exclude": [
    "module",
    "function",
    "builtin_function_or_method",
    "instance",
    "_Feature"
   ],
   "window_display": false
  }
 },
 "nbformat": 4,
 "nbformat_minor": 4
}
