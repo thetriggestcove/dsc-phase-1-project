{
 "cells": [
  {
   "cell_type": "code",
   "execution_count": 247,
   "metadata": {},
   "outputs": [],
   "source": [
    "import pandas as pd\n",
    "import numpy as np\n",
    "import sqlite3\n",
    "import json\n",
    "import pickle\n",
    "import matplotlib.pyplot as plt\n",
    "%matplotlib inline\n",
    "import seaborn as sns\n",
    "from statistics import mode\n",
    "\n",
    "# Thanks StackOverflow!\n",
    "# https://stackoverflow.com/questions/21137150/format-suppress-scientific-\n",
    "#         notation-from-python-pandas-aggregation-results\n",
    "pd.options.display.float_format = '{:.2f}'.format"
   ]
  },
  {
   "cell_type": "code",
   "execution_count": 248,
   "metadata": {},
   "outputs": [
    {
     "name": "stdout",
     "output_type": "stream",
     "text": [
      "/Users/jessicamiles/Documents/Flatiron_Data_Science/git_labs_lessons/phase1/dsc-phase-1-project/analysis\n"
     ]
    }
   ],
   "source": [
    "cd '/Users/jessicamiles/Documents/Flatiron_Data_Science/git_labs_lessons/phase1/dsc-phase-1-project/analysis'"
   ]
  },
  {
   "cell_type": "code",
   "execution_count": 249,
   "metadata": {},
   "outputs": [],
   "source": [
    "conn = sqlite3.connect('movie_analysis2.db')\n",
    "cur = conn.cursor()"
   ]
  },
  {
   "cell_type": "code",
   "execution_count": 250,
   "metadata": {},
   "outputs": [],
   "source": [
    "# Source: https://pbpython.com/effective-matplotlib.html\n",
    "\n",
    "# {:1.1f} in this case means: apply format to the first 1 instance\n",
    "# that value should be presented with .1f = as a float with 1 point precision\n",
    "# change the second number to increase or decrease precision\n",
    "\n",
    "def currency(x, pos):\n",
    "    'The two args are the value and tick position'\n",
    "    if abs(x) >= 1000000000:\n",
    "        return '${:1.1f} B'.format(x*1e-9)\n",
    "        return '${:1.1f} B'.format(x*1e-9)\n",
    "    elif abs(x) >= 1000000:\n",
    "        return '${:1.1f} M'.format(x*1e-6)\n",
    "    elif x == 0:\n",
    "        return '${:0}'.format(x)\n",
    "    else:\n",
    "        return '${:1.0f} K'.format(x*1e-3)\n",
    "    \n",
    "def currency_num(x):\n",
    "    if abs(x) >= 1000000000:\n",
    "        return '${:1.1f} B'.format(x*1e-9)\n",
    "        return '${:1.1f} B'.format(x*1e-9)\n",
    "    elif abs(x) >= 1000000:\n",
    "        return '${:1.1f} M'.format(x*1e-6)\n",
    "    elif x == 0:\n",
    "        return '${:0}'.format(x)\n",
    "    else:\n",
    "        return '${:1.0f} K'.format(x*1e-3)"
   ]
  },
  {
   "cell_type": "markdown",
   "metadata": {},
   "source": [
    "# Topic 1: Profitability Trends"
   ]
  },
  {
   "cell_type": "markdown",
   "metadata": {},
   "source": [
    "## Create dataframe with relevant films for financial analysis"
   ]
  },
  {
   "cell_type": "code",
   "execution_count": 251,
   "metadata": {
    "scrolled": true
   },
   "outputs": [],
   "source": [
    "# Updated query with already-filtered movies\n",
    "\n",
    "sql = \"\"\"SELECT DISTINCT m.id\n",
    "                        , m.budget\n",
    "                        , m.revenue\n",
    "                        , m.release_date\n",
    "                        , m.original_language\n",
    "                        , m.imdb_id\n",
    "                        , m.runtime\n",
    "                        , m.vote_average\n",
    "                        , m.vote_count\n",
    "         FROM tmdb_movies m\n",
    "         \"\"\"\n",
    "\n",
    "df = pd.DataFrame(cur.execute(sql).fetchall(),columns=[x[0] for x in cur.description])"
   ]
  },
  {
   "cell_type": "code",
   "execution_count": 252,
   "metadata": {
    "scrolled": false
   },
   "outputs": [
    {
     "name": "stdout",
     "output_type": "stream",
     "text": [
      "<class 'pandas.core.frame.DataFrame'>\n",
      "RangeIndex: 6495 entries, 0 to 6494\n",
      "Data columns (total 9 columns):\n",
      " #   Column             Non-Null Count  Dtype  \n",
      "---  ------             --------------  -----  \n",
      " 0   id                 6495 non-null   int64  \n",
      " 1   budget             6495 non-null   int64  \n",
      " 2   revenue            6495 non-null   int64  \n",
      " 3   release_date       6495 non-null   object \n",
      " 4   original_language  6495 non-null   object \n",
      " 5   imdb_id            6339 non-null   object \n",
      " 6   runtime            6466 non-null   float64\n",
      " 7   vote_average       6495 non-null   float64\n",
      " 8   vote_count         6495 non-null   int64  \n",
      "dtypes: float64(2), int64(4), object(3)\n",
      "memory usage: 456.8+ KB\n"
     ]
    }
   ],
   "source": [
    "# check column types and counts\n",
    "df.info()"
   ]
  },
  {
   "cell_type": "code",
   "execution_count": 253,
   "metadata": {
    "scrolled": true
   },
   "outputs": [
    {
     "data": {
      "text/html": [
       "<div>\n",
       "<style scoped>\n",
       "    .dataframe tbody tr th:only-of-type {\n",
       "        vertical-align: middle;\n",
       "    }\n",
       "\n",
       "    .dataframe tbody tr th {\n",
       "        vertical-align: top;\n",
       "    }\n",
       "\n",
       "    .dataframe thead th {\n",
       "        text-align: right;\n",
       "    }\n",
       "</style>\n",
       "<table border=\"1\" class=\"dataframe\">\n",
       "  <thead>\n",
       "    <tr style=\"text-align: right;\">\n",
       "      <th></th>\n",
       "      <th>id</th>\n",
       "      <th>budget</th>\n",
       "      <th>revenue</th>\n",
       "      <th>runtime</th>\n",
       "      <th>vote_average</th>\n",
       "      <th>vote_count</th>\n",
       "    </tr>\n",
       "  </thead>\n",
       "  <tbody>\n",
       "    <tr>\n",
       "      <th>count</th>\n",
       "      <td>6495.00</td>\n",
       "      <td>6495.00</td>\n",
       "      <td>6495.00</td>\n",
       "      <td>6466.00</td>\n",
       "      <td>6495.00</td>\n",
       "      <td>6495.00</td>\n",
       "    </tr>\n",
       "    <tr>\n",
       "      <th>mean</th>\n",
       "      <td>258486.24</td>\n",
       "      <td>13276910.31</td>\n",
       "      <td>40985169.36</td>\n",
       "      <td>90.76</td>\n",
       "      <td>5.38</td>\n",
       "      <td>853.54</td>\n",
       "    </tr>\n",
       "    <tr>\n",
       "      <th>std</th>\n",
       "      <td>181000.75</td>\n",
       "      <td>35218833.96</td>\n",
       "      <td>145958457.22</td>\n",
       "      <td>37.24</td>\n",
       "      <td>2.29</td>\n",
       "      <td>2253.10</td>\n",
       "    </tr>\n",
       "    <tr>\n",
       "      <th>min</th>\n",
       "      <td>189.00</td>\n",
       "      <td>0.00</td>\n",
       "      <td>0.00</td>\n",
       "      <td>0.00</td>\n",
       "      <td>0.00</td>\n",
       "      <td>0.00</td>\n",
       "    </tr>\n",
       "    <tr>\n",
       "      <th>25%</th>\n",
       "      <td>95784.50</td>\n",
       "      <td>0.00</td>\n",
       "      <td>0.00</td>\n",
       "      <td>84.00</td>\n",
       "      <td>4.90</td>\n",
       "      <td>4.00</td>\n",
       "    </tr>\n",
       "    <tr>\n",
       "      <th>50%</th>\n",
       "      <td>234200.00</td>\n",
       "      <td>0.00</td>\n",
       "      <td>0.00</td>\n",
       "      <td>94.00</td>\n",
       "      <td>6.00</td>\n",
       "      <td>52.00</td>\n",
       "    </tr>\n",
       "    <tr>\n",
       "      <th>75%</th>\n",
       "      <td>366652.50</td>\n",
       "      <td>7000000.00</td>\n",
       "      <td>5221955.50</td>\n",
       "      <td>107.00</td>\n",
       "      <td>6.80</td>\n",
       "      <td>494.00</td>\n",
       "    </tr>\n",
       "    <tr>\n",
       "      <th>max</th>\n",
       "      <td>806779.00</td>\n",
       "      <td>380000000.00</td>\n",
       "      <td>2797800564.00</td>\n",
       "      <td>1200.00</td>\n",
       "      <td>10.00</td>\n",
       "      <td>28633.00</td>\n",
       "    </tr>\n",
       "  </tbody>\n",
       "</table>\n",
       "</div>"
      ],
      "text/plain": [
       "             id       budget       revenue  runtime  vote_average  vote_count\n",
       "count   6495.00      6495.00       6495.00  6466.00       6495.00     6495.00\n",
       "mean  258486.24  13276910.31   40985169.36    90.76          5.38      853.54\n",
       "std   181000.75  35218833.96  145958457.22    37.24          2.29     2253.10\n",
       "min      189.00         0.00          0.00     0.00          0.00        0.00\n",
       "25%    95784.50         0.00          0.00    84.00          4.90        4.00\n",
       "50%   234200.00         0.00          0.00    94.00          6.00       52.00\n",
       "75%   366652.50   7000000.00    5221955.50   107.00          6.80      494.00\n",
       "max   806779.00 380000000.00 2797800564.00  1200.00         10.00    28633.00"
      ]
     },
     "execution_count": 253,
     "metadata": {},
     "output_type": "execute_result"
    }
   ],
   "source": [
    "# check the min, max values for numerical columns\n",
    "df.describe()"
   ]
  },
  {
   "cell_type": "markdown",
   "metadata": {},
   "source": [
    "We definitely have some movies where budget or revenue is missing, or one or the other are really low and probably not accurate.\n",
    "Let's drop rows from the table where the budget and revenue data doesn't look usable.\n",
    "\n",
    "Will use a cut off limit of \\\\$10,000; both budget and revenue must be over \\\\$10,000\n",
    "\n",
    "\n",
    "- https://www.themoviedb.org/movie/599290-wwr-tournament-for-tomorrow is a good example\n",
    "- https://www.themoviedb.org/movie/254191-honeymoon another example"
   ]
  },
  {
   "cell_type": "code",
   "execution_count": 254,
   "metadata": {},
   "outputs": [],
   "source": [
    "# Export to CSV to review before dropping. Everything here looks wonky.\n",
    "df.loc[(df['budget'] < 10000) | (df['revenue'] < 10000),['budget','revenue']\n",
    "      ].to_csv('budget_revenue_double-check.csv')"
   ]
  },
  {
   "cell_type": "code",
   "execution_count": 255,
   "metadata": {},
   "outputs": [],
   "source": [
    "# Drop the rows where either budget or revennue is less than 10k\n",
    "to_drop = df[(df['budget'] < 10000) | (df['revenue'] < 10000)].index\n",
    "df.drop(labels=to_drop, axis=0, inplace=True)\n"
   ]
  },
  {
   "cell_type": "code",
   "execution_count": 256,
   "metadata": {},
   "outputs": [
    {
     "name": "stdout",
     "output_type": "stream",
     "text": [
      "<class 'pandas.core.frame.DataFrame'>\n",
      "Int64Index: 1787 entries, 1 to 6352\n",
      "Data columns (total 9 columns):\n",
      " #   Column             Non-Null Count  Dtype  \n",
      "---  ------             --------------  -----  \n",
      " 0   id                 1787 non-null   int64  \n",
      " 1   budget             1787 non-null   int64  \n",
      " 2   revenue            1787 non-null   int64  \n",
      " 3   release_date       1787 non-null   object \n",
      " 4   original_language  1787 non-null   object \n",
      " 5   imdb_id            1787 non-null   object \n",
      " 6   runtime            1787 non-null   float64\n",
      " 7   vote_average       1787 non-null   float64\n",
      " 8   vote_count         1787 non-null   int64  \n",
      "dtypes: float64(2), int64(4), object(3)\n",
      "memory usage: 139.6+ KB\n"
     ]
    }
   ],
   "source": [
    "# 4708 records dropped, and 1787 remain\n",
    "df.info()"
   ]
  },
  {
   "cell_type": "code",
   "execution_count": 257,
   "metadata": {
    "scrolled": true
   },
   "outputs": [
    {
     "data": {
      "text/html": [
       "<div>\n",
       "<style scoped>\n",
       "    .dataframe tbody tr th:only-of-type {\n",
       "        vertical-align: middle;\n",
       "    }\n",
       "\n",
       "    .dataframe tbody tr th {\n",
       "        vertical-align: top;\n",
       "    }\n",
       "\n",
       "    .dataframe thead th {\n",
       "        text-align: right;\n",
       "    }\n",
       "</style>\n",
       "<table border=\"1\" class=\"dataframe\">\n",
       "  <thead>\n",
       "    <tr style=\"text-align: right;\">\n",
       "      <th></th>\n",
       "      <th>id</th>\n",
       "      <th>budget</th>\n",
       "      <th>revenue</th>\n",
       "      <th>runtime</th>\n",
       "      <th>vote_average</th>\n",
       "      <th>vote_count</th>\n",
       "    </tr>\n",
       "  </thead>\n",
       "  <tbody>\n",
       "    <tr>\n",
       "      <th>count</th>\n",
       "      <td>1787.00</td>\n",
       "      <td>1787.00</td>\n",
       "      <td>1787.00</td>\n",
       "      <td>1787.00</td>\n",
       "      <td>1787.00</td>\n",
       "      <td>1787.00</td>\n",
       "    </tr>\n",
       "    <tr>\n",
       "      <th>mean</th>\n",
       "      <td>215170.33</td>\n",
       "      <td>45439992.95</td>\n",
       "      <td>146682340.17</td>\n",
       "      <td>109.65</td>\n",
       "      <td>6.43</td>\n",
       "      <td>2820.37</td>\n",
       "    </tr>\n",
       "    <tr>\n",
       "      <th>std</th>\n",
       "      <td>153536.11</td>\n",
       "      <td>54139850.31</td>\n",
       "      <td>248665399.57</td>\n",
       "      <td>18.02</td>\n",
       "      <td>0.87</td>\n",
       "      <td>3592.97</td>\n",
       "    </tr>\n",
       "    <tr>\n",
       "      <th>min</th>\n",
       "      <td>189.00</td>\n",
       "      <td>17000.00</td>\n",
       "      <td>11400.00</td>\n",
       "      <td>0.00</td>\n",
       "      <td>0.00</td>\n",
       "      <td>0.00</td>\n",
       "    </tr>\n",
       "    <tr>\n",
       "      <th>25%</th>\n",
       "      <td>70781.50</td>\n",
       "      <td>10000000.00</td>\n",
       "      <td>12638911.50</td>\n",
       "      <td>97.00</td>\n",
       "      <td>5.90</td>\n",
       "      <td>542.50</td>\n",
       "    </tr>\n",
       "    <tr>\n",
       "      <th>50%</th>\n",
       "      <td>195589.00</td>\n",
       "      <td>25000000.00</td>\n",
       "      <td>52545707.00</td>\n",
       "      <td>107.00</td>\n",
       "      <td>6.40</td>\n",
       "      <td>1488.00</td>\n",
       "    </tr>\n",
       "    <tr>\n",
       "      <th>75%</th>\n",
       "      <td>334528.50</td>\n",
       "      <td>57500000.00</td>\n",
       "      <td>160367082.50</td>\n",
       "      <td>120.00</td>\n",
       "      <td>7.00</td>\n",
       "      <td>3595.50</td>\n",
       "    </tr>\n",
       "    <tr>\n",
       "      <th>max</th>\n",
       "      <td>768710.00</td>\n",
       "      <td>380000000.00</td>\n",
       "      <td>2797800564.00</td>\n",
       "      <td>188.00</td>\n",
       "      <td>8.50</td>\n",
       "      <td>28633.00</td>\n",
       "    </tr>\n",
       "  </tbody>\n",
       "</table>\n",
       "</div>"
      ],
      "text/plain": [
       "             id       budget       revenue  runtime  vote_average  vote_count\n",
       "count   1787.00      1787.00       1787.00  1787.00       1787.00     1787.00\n",
       "mean  215170.33  45439992.95  146682340.17   109.65          6.43     2820.37\n",
       "std   153536.11  54139850.31  248665399.57    18.02          0.87     3592.97\n",
       "min      189.00     17000.00      11400.00     0.00          0.00        0.00\n",
       "25%    70781.50  10000000.00   12638911.50    97.00          5.90      542.50\n",
       "50%   195589.00  25000000.00   52545707.00   107.00          6.40     1488.00\n",
       "75%   334528.50  57500000.00  160367082.50   120.00          7.00     3595.50\n",
       "max   768710.00 380000000.00 2797800564.00   188.00          8.50    28633.00"
      ]
     },
     "execution_count": 257,
     "metadata": {},
     "output_type": "execute_result"
    }
   ],
   "source": [
    "# min budget and revenues look better\n",
    "df.describe()"
   ]
  },
  {
   "cell_type": "code",
   "execution_count": 258,
   "metadata": {},
   "outputs": [],
   "source": [
    "# But runtime has a min of 0. Let's replace with NaN so they won't be calculated\n",
    "df.loc[df['runtime'] == 0, 'runtime'] = np.nan"
   ]
  },
  {
   "cell_type": "code",
   "execution_count": 259,
   "metadata": {},
   "outputs": [
    {
     "data": {
      "text/html": [
       "<div>\n",
       "<style scoped>\n",
       "    .dataframe tbody tr th:only-of-type {\n",
       "        vertical-align: middle;\n",
       "    }\n",
       "\n",
       "    .dataframe tbody tr th {\n",
       "        vertical-align: top;\n",
       "    }\n",
       "\n",
       "    .dataframe thead th {\n",
       "        text-align: right;\n",
       "    }\n",
       "</style>\n",
       "<table border=\"1\" class=\"dataframe\">\n",
       "  <thead>\n",
       "    <tr style=\"text-align: right;\">\n",
       "      <th></th>\n",
       "      <th>id</th>\n",
       "      <th>budget</th>\n",
       "      <th>revenue</th>\n",
       "      <th>runtime</th>\n",
       "      <th>vote_average</th>\n",
       "      <th>vote_count</th>\n",
       "    </tr>\n",
       "  </thead>\n",
       "  <tbody>\n",
       "    <tr>\n",
       "      <th>count</th>\n",
       "      <td>1787.00</td>\n",
       "      <td>1787.00</td>\n",
       "      <td>1787.00</td>\n",
       "      <td>1785.00</td>\n",
       "      <td>1787.00</td>\n",
       "      <td>1787.00</td>\n",
       "    </tr>\n",
       "    <tr>\n",
       "      <th>mean</th>\n",
       "      <td>215170.33</td>\n",
       "      <td>45439992.95</td>\n",
       "      <td>146682340.17</td>\n",
       "      <td>109.78</td>\n",
       "      <td>6.43</td>\n",
       "      <td>2820.37</td>\n",
       "    </tr>\n",
       "    <tr>\n",
       "      <th>std</th>\n",
       "      <td>153536.11</td>\n",
       "      <td>54139850.31</td>\n",
       "      <td>248665399.57</td>\n",
       "      <td>17.65</td>\n",
       "      <td>0.87</td>\n",
       "      <td>3592.97</td>\n",
       "    </tr>\n",
       "    <tr>\n",
       "      <th>min</th>\n",
       "      <td>189.00</td>\n",
       "      <td>17000.00</td>\n",
       "      <td>11400.00</td>\n",
       "      <td>63.00</td>\n",
       "      <td>0.00</td>\n",
       "      <td>0.00</td>\n",
       "    </tr>\n",
       "    <tr>\n",
       "      <th>25%</th>\n",
       "      <td>70781.50</td>\n",
       "      <td>10000000.00</td>\n",
       "      <td>12638911.50</td>\n",
       "      <td>97.00</td>\n",
       "      <td>5.90</td>\n",
       "      <td>542.50</td>\n",
       "    </tr>\n",
       "    <tr>\n",
       "      <th>50%</th>\n",
       "      <td>195589.00</td>\n",
       "      <td>25000000.00</td>\n",
       "      <td>52545707.00</td>\n",
       "      <td>107.00</td>\n",
       "      <td>6.40</td>\n",
       "      <td>1488.00</td>\n",
       "    </tr>\n",
       "    <tr>\n",
       "      <th>75%</th>\n",
       "      <td>334528.50</td>\n",
       "      <td>57500000.00</td>\n",
       "      <td>160367082.50</td>\n",
       "      <td>120.00</td>\n",
       "      <td>7.00</td>\n",
       "      <td>3595.50</td>\n",
       "    </tr>\n",
       "    <tr>\n",
       "      <th>max</th>\n",
       "      <td>768710.00</td>\n",
       "      <td>380000000.00</td>\n",
       "      <td>2797800564.00</td>\n",
       "      <td>188.00</td>\n",
       "      <td>8.50</td>\n",
       "      <td>28633.00</td>\n",
       "    </tr>\n",
       "  </tbody>\n",
       "</table>\n",
       "</div>"
      ],
      "text/plain": [
       "             id       budget       revenue  runtime  vote_average  vote_count\n",
       "count   1787.00      1787.00       1787.00  1785.00       1787.00     1787.00\n",
       "mean  215170.33  45439992.95  146682340.17   109.78          6.43     2820.37\n",
       "std   153536.11  54139850.31  248665399.57    17.65          0.87     3592.97\n",
       "min      189.00     17000.00      11400.00    63.00          0.00        0.00\n",
       "25%    70781.50  10000000.00   12638911.50    97.00          5.90      542.50\n",
       "50%   195589.00  25000000.00   52545707.00   107.00          6.40     1488.00\n",
       "75%   334528.50  57500000.00  160367082.50   120.00          7.00     3595.50\n",
       "max   768710.00 380000000.00 2797800564.00   188.00          8.50    28633.00"
      ]
     },
     "execution_count": 259,
     "metadata": {},
     "output_type": "execute_result"
    }
   ],
   "source": [
    "# Now there should be no 0 min for runtime\n",
    "df.describe()"
   ]
  },
  {
   "cell_type": "code",
   "execution_count": 260,
   "metadata": {},
   "outputs": [
    {
     "data": {
      "text/plain": [
       "10    1787\n",
       "Name: release_date, dtype: int64"
      ]
     },
     "execution_count": 260,
     "metadata": {},
     "output_type": "execute_result"
    }
   ],
   "source": [
    "# Looks like all of our films have release dates (string len 10)\n",
    "# This makes sense, since we filtered the original set of movie ids\n",
    "# based on release dates 2010 and on\n",
    "df['release_date'].map(lambda x: len(x)).value_counts()"
   ]
  },
  {
   "cell_type": "code",
   "execution_count": 261,
   "metadata": {},
   "outputs": [],
   "source": [
    "# Split out year and month into new df columns\n",
    "month_map = {1:'January',2:'February',3:'March',4:'April',5:'May',6:'June',\n",
    "             7:'July',8:'August',9:'September',10:'October',11:'November',\n",
    "             12:'December'}\n",
    "\n",
    "df['release_year'] = df[df['release_date'].isna()==False]['release_date'].map(lambda x: int(x[:4]))\n",
    "df['release_month'] = df[df['release_date'].isna()==False]['release_date'].map(lambda x: month_map[int(x[5:7])])\n",
    "\n",
    "# Would need to use the below if there were null release dates, but there aren't\n",
    "#df.loc[df['release_year'].isna()==True, 'release_year'] = 0\n",
    "#df['release_year'] = df['release_year'].astype(int)"
   ]
  },
  {
   "cell_type": "code",
   "execution_count": 262,
   "metadata": {},
   "outputs": [],
   "source": [
    "# add a numerical month column, to make sorting easier\n",
    "rev_month_map = {}\n",
    "for k, v in month_map.items():\n",
    "    rev_month_map[v] = k\n",
    "    \n",
    "rev_month_map\n",
    "\n",
    "df['release_month_num'] = df['release_month'].map(lambda x: rev_month_map[x])\n"
   ]
  },
  {
   "cell_type": "code",
   "execution_count": 263,
   "metadata": {
    "scrolled": false
   },
   "outputs": [
    {
     "data": {
      "text/html": [
       "<div>\n",
       "<style scoped>\n",
       "    .dataframe tbody tr th:only-of-type {\n",
       "        vertical-align: middle;\n",
       "    }\n",
       "\n",
       "    .dataframe tbody tr th {\n",
       "        vertical-align: top;\n",
       "    }\n",
       "\n",
       "    .dataframe thead th {\n",
       "        text-align: right;\n",
       "    }\n",
       "</style>\n",
       "<table border=\"1\" class=\"dataframe\">\n",
       "  <thead>\n",
       "    <tr style=\"text-align: right;\">\n",
       "      <th></th>\n",
       "      <th>id</th>\n",
       "      <th>budget</th>\n",
       "      <th>revenue</th>\n",
       "      <th>release_date</th>\n",
       "      <th>original_language</th>\n",
       "      <th>imdb_id</th>\n",
       "      <th>runtime</th>\n",
       "      <th>vote_average</th>\n",
       "      <th>vote_count</th>\n",
       "      <th>release_year</th>\n",
       "      <th>release_month</th>\n",
       "      <th>release_month_num</th>\n",
       "    </tr>\n",
       "  </thead>\n",
       "  <tbody>\n",
       "    <tr>\n",
       "      <th>1</th>\n",
       "      <td>587807</td>\n",
       "      <td>50000000</td>\n",
       "      <td>100000000</td>\n",
       "      <td>2021-02-11</td>\n",
       "      <td>en</td>\n",
       "      <td>tt1361336</td>\n",
       "      <td>101.00</td>\n",
       "      <td>7.60</td>\n",
       "      <td>844</td>\n",
       "      <td>2021</td>\n",
       "      <td>February</td>\n",
       "      <td>2</td>\n",
       "    </tr>\n",
       "    <tr>\n",
       "      <th>2</th>\n",
       "      <td>458576</td>\n",
       "      <td>60000000</td>\n",
       "      <td>25814306</td>\n",
       "      <td>2020-12-03</td>\n",
       "      <td>en</td>\n",
       "      <td>tt6475714</td>\n",
       "      <td>104.00</td>\n",
       "      <td>7.20</td>\n",
       "      <td>1136</td>\n",
       "      <td>2020</td>\n",
       "      <td>December</td>\n",
       "      <td>12</td>\n",
       "    </tr>\n",
       "    <tr>\n",
       "      <th>3</th>\n",
       "      <td>464052</td>\n",
       "      <td>200000000</td>\n",
       "      <td>159533000</td>\n",
       "      <td>2020-12-16</td>\n",
       "      <td>en</td>\n",
       "      <td>tt7126948</td>\n",
       "      <td>151.00</td>\n",
       "      <td>6.90</td>\n",
       "      <td>4271</td>\n",
       "      <td>2020</td>\n",
       "      <td>December</td>\n",
       "      <td>12</td>\n",
       "    </tr>\n",
       "    <tr>\n",
       "      <th>4</th>\n",
       "      <td>602269</td>\n",
       "      <td>30000000</td>\n",
       "      <td>23205000</td>\n",
       "      <td>2021-01-28</td>\n",
       "      <td>en</td>\n",
       "      <td>tt10016180</td>\n",
       "      <td>128.00</td>\n",
       "      <td>6.50</td>\n",
       "      <td>578</td>\n",
       "      <td>2021</td>\n",
       "      <td>January</td>\n",
       "      <td>1</td>\n",
       "    </tr>\n",
       "    <tr>\n",
       "      <th>7</th>\n",
       "      <td>529203</td>\n",
       "      <td>65000000</td>\n",
       "      <td>135076090</td>\n",
       "      <td>2020-11-25</td>\n",
       "      <td>en</td>\n",
       "      <td>tt2850386</td>\n",
       "      <td>95.00</td>\n",
       "      <td>7.50</td>\n",
       "      <td>1733</td>\n",
       "      <td>2020</td>\n",
       "      <td>November</td>\n",
       "      <td>11</td>\n",
       "    </tr>\n",
       "  </tbody>\n",
       "</table>\n",
       "</div>"
      ],
      "text/plain": [
       "       id     budget    revenue release_date original_language     imdb_id  \\\n",
       "1  587807   50000000  100000000   2021-02-11                en   tt1361336   \n",
       "2  458576   60000000   25814306   2020-12-03                en   tt6475714   \n",
       "3  464052  200000000  159533000   2020-12-16                en   tt7126948   \n",
       "4  602269   30000000   23205000   2021-01-28                en  tt10016180   \n",
       "7  529203   65000000  135076090   2020-11-25                en   tt2850386   \n",
       "\n",
       "   runtime  vote_average  vote_count  release_year release_month  \\\n",
       "1   101.00          7.60         844          2021      February   \n",
       "2   104.00          7.20        1136          2020      December   \n",
       "3   151.00          6.90        4271          2020      December   \n",
       "4   128.00          6.50         578          2021       January   \n",
       "7    95.00          7.50        1733          2020      November   \n",
       "\n",
       "   release_month_num  \n",
       "1                  2  \n",
       "2                 12  \n",
       "3                 12  \n",
       "4                  1  \n",
       "7                 11  "
      ]
     },
     "execution_count": 263,
     "metadata": {},
     "output_type": "execute_result"
    }
   ],
   "source": [
    "df.head()"
   ]
  },
  {
   "cell_type": "markdown",
   "metadata": {},
   "source": [
    "Looks like I have movies that were released this year, in 2021. These results are incomplete since we're still in 2021, so I will drop those years from this dataset for now. "
   ]
  },
  {
   "cell_type": "code",
   "execution_count": 264,
   "metadata": {},
   "outputs": [],
   "source": [
    "# Drop the rows where either budget or revennue is less than 10k\n",
    "to_drop = df[df['release_year'] == 2021].index\n",
    "df.drop(labels=to_drop, axis=0, inplace=True)"
   ]
  },
  {
   "cell_type": "code",
   "execution_count": 265,
   "metadata": {},
   "outputs": [
    {
     "data": {
      "text/html": [
       "<div>\n",
       "<style scoped>\n",
       "    .dataframe tbody tr th:only-of-type {\n",
       "        vertical-align: middle;\n",
       "    }\n",
       "\n",
       "    .dataframe tbody tr th {\n",
       "        vertical-align: top;\n",
       "    }\n",
       "\n",
       "    .dataframe thead th {\n",
       "        text-align: right;\n",
       "    }\n",
       "</style>\n",
       "<table border=\"1\" class=\"dataframe\">\n",
       "  <thead>\n",
       "    <tr style=\"text-align: right;\">\n",
       "      <th></th>\n",
       "      <th>id</th>\n",
       "      <th>budget</th>\n",
       "      <th>revenue</th>\n",
       "      <th>release_date</th>\n",
       "      <th>original_language</th>\n",
       "      <th>imdb_id</th>\n",
       "      <th>runtime</th>\n",
       "      <th>vote_average</th>\n",
       "      <th>vote_count</th>\n",
       "      <th>release_year</th>\n",
       "      <th>release_month</th>\n",
       "      <th>release_month_num</th>\n",
       "    </tr>\n",
       "  </thead>\n",
       "  <tbody>\n",
       "  </tbody>\n",
       "</table>\n",
       "</div>"
      ],
      "text/plain": [
       "Empty DataFrame\n",
       "Columns: [id, budget, revenue, release_date, original_language, imdb_id, runtime, vote_average, vote_count, release_year, release_month, release_month_num]\n",
       "Index: []"
      ]
     },
     "execution_count": 265,
     "metadata": {},
     "output_type": "execute_result"
    }
   ],
   "source": [
    "# Check to see they were all dropped out, this should return nothing\n",
    "df[df['release_year'] == 2021]"
   ]
  },
  {
   "cell_type": "markdown",
   "metadata": {},
   "source": [
    "Before calculating profitability, want to adjust the numbers for inflation. Retrieved the Consumer Price Index from http://www.bls.gov/ using the instructions here: https://www.maa.org/press/periodicals/loci/joma/the-consumer-price-index-and-inflation-get-cpi-data-from-the-web-and-into-a-spreadsheet\n",
    "\n",
    "Will make the assumption that the vast majority of the revenue happened in the release year. This assumption is based on the revenue being box office only, and typically most movies only play in theaters for a few months. The one caveat is that revenue is worlwide, and releases in other countries may have been somewhat later."
   ]
  },
  {
   "cell_type": "code",
   "execution_count": 266,
   "metadata": {
    "scrolled": false
   },
   "outputs": [
    {
     "name": "stdout",
     "output_type": "stream",
     "text": [
      "/Users/jessicamiles/Documents/Flatiron_Data_Science/git_labs_lessons/phase1/dsc-phase-1-project/data\n"
     ]
    }
   ],
   "source": [
    "cd '/Users/jessicamiles/Documents/Flatiron_Data_Science/git_labs_lessons/phase1/dsc-phase-1-project/data'"
   ]
  },
  {
   "cell_type": "code",
   "execution_count": 267,
   "metadata": {},
   "outputs": [],
   "source": [
    "# Read in Consumer Price Index info from CSV\n",
    "df_cpi = pd.read_csv('Consumer Price Index.csv')\n",
    "\n",
    "cpi_dict = pd.Series(df_cpi['Annual'].values,index=df_cpi['Year']).to_dict()"
   ]
  },
  {
   "cell_type": "code",
   "execution_count": 268,
   "metadata": {
    "scrolled": true
   },
   "outputs": [],
   "source": [
    "# Adjust budget for inflation\n",
    "df['budget_2020adj'] = df[(df['budget'].isna()==False) & (df['budget'] > 0)\n",
    "       ][['budget', 'release_year']].apply(\n",
    "        lambda x : (x[0] * cpi_dict[2020]) / cpi_dict[x[1]], axis=1)\n"
   ]
  },
  {
   "cell_type": "code",
   "execution_count": 269,
   "metadata": {
    "scrolled": true
   },
   "outputs": [],
   "source": [
    "# Adjust revenue for inflation\n",
    "df['revenue_2020adj'] = df[(df['revenue'].isna()==False) & (df['revenue'] > 0)\n",
    "       ][['revenue', 'release_year']].apply(\n",
    "        lambda x : (x[0] * cpi_dict[2020]) / cpi_dict[x[1]]\n",
    "                                           , axis=1)"
   ]
  },
  {
   "cell_type": "code",
   "execution_count": 270,
   "metadata": {},
   "outputs": [],
   "source": [
    "# Calculate profit with inflation-adjusted values\n",
    "# Only calculate where have both sets of values\n",
    "df['profit_2020adj'] = df[(df['revenue_2020adj'].isna()==False) \n",
    "                      & (df['budget_2020adj'].isna()==False)\n",
    "       ][['revenue_2020adj', 'budget_2020adj']].apply(lambda x : (x[0] - x[1]), axis=1)"
   ]
  },
  {
   "cell_type": "code",
   "execution_count": 271,
   "metadata": {},
   "outputs": [],
   "source": [
    "# Calculate % profit with inflation-adjusted values\n",
    "df['profitpercent_2020adj'] = df[(df['revenue_2020adj'].isna()==False) \n",
    "                      & (df['budget_2020adj'].isna()==False)\n",
    "       ][['revenue_2020adj', 'budget_2020adj']].apply(\n",
    "    lambda x : ((x[0] - x[1]) / x[1]) * 100, axis=1)"
   ]
  },
  {
   "cell_type": "code",
   "execution_count": 272,
   "metadata": {
    "scrolled": true
   },
   "outputs": [
    {
     "data": {
      "text/plain": [
       "count    1784.00\n",
       "mean      327.96\n",
       "std      1399.87\n",
       "min       -99.91\n",
       "25%        -5.08\n",
       "50%       121.34\n",
       "75%       323.79\n",
       "max     42564.41\n",
       "Name: profitpercent_2020adj, dtype: float64"
      ]
     },
     "execution_count": 272,
     "metadata": {},
     "output_type": "execute_result"
    }
   ],
   "source": [
    "# Hmm, so we have instances of profit being negative almost 100%, but not \n",
    "# quite -100%. This is important, since a profit of -100% would mean made $0\n",
    "# or very little in revenue, and we were supposed to have removed the small values.\n",
    "\n",
    "# Mean profit percentage is 327%\n",
    "df['profitpercent_2020adj'].describe()"
   ]
  },
  {
   "cell_type": "code",
   "execution_count": 273,
   "metadata": {},
   "outputs": [
    {
     "data": {
      "text/plain": [
       "121.34331755102039"
      ]
     },
     "execution_count": 273,
     "metadata": {},
     "output_type": "execute_result"
    }
   ],
   "source": [
    "# And median profit percentage is 121%, which means doubled money + 20%\n",
    "df['profitpercent_2020adj'].median()"
   ]
  },
  {
   "cell_type": "code",
   "execution_count": 274,
   "metadata": {
    "scrolled": false
   },
   "outputs": [
    {
     "data": {
      "text/plain": [
       "2367   -99.91\n",
       "2484   -99.91\n",
       "3021   -99.89\n",
       "4036   -99.87\n",
       "4519   -99.86\n",
       "        ...  \n",
       "468     -0.93\n",
       "1459    -0.39\n",
       "665     -0.37\n",
       "2733    -0.30\n",
       "714     -0.04\n",
       "Name: profitpercent_2020adj, Length: 468, dtype: float64"
      ]
     },
     "execution_count": 274,
     "metadata": {},
     "output_type": "execute_result"
    }
   ],
   "source": [
    "df[df['profitpercent_2020adj'] < 0]['profitpercent_2020adj'].sort_values()"
   ]
  },
  {
   "cell_type": "markdown",
   "metadata": {},
   "source": [
    "Looks like we have a pretty good size sample of movies for each year. 2019 is smaller and 2020 even smaller than that. It could be there were truly fewer movies released to theaters in 2020 due to COVID-19, and could also be that it takes a while for users to enter revenues and budgets, and that "
   ]
  },
  {
   "cell_type": "code",
   "execution_count": 275,
   "metadata": {
    "scrolled": true
   },
   "outputs": [
    {
     "data": {
      "text/plain": [
       "2010    201\n",
       "2011    209\n",
       "2012    175\n",
       "2013    204\n",
       "2014    198\n",
       "2015    175\n",
       "2016    195\n",
       "2017    145\n",
       "2018    147\n",
       "2019    110\n",
       "2020     25\n",
       "Name: release_year, dtype: int64"
      ]
     },
     "execution_count": 275,
     "metadata": {},
     "output_type": "execute_result"
    }
   ],
   "source": [
    "# How many movies do we have in our sample for each year?\n",
    "df['release_year'].value_counts(sort=False)"
   ]
  },
  {
   "cell_type": "code",
   "execution_count": 276,
   "metadata": {},
   "outputs": [
    {
     "data": {
      "text/html": [
       "<div>\n",
       "<style scoped>\n",
       "    .dataframe tbody tr th:only-of-type {\n",
       "        vertical-align: middle;\n",
       "    }\n",
       "\n",
       "    .dataframe tbody tr th {\n",
       "        vertical-align: top;\n",
       "    }\n",
       "\n",
       "    .dataframe thead th {\n",
       "        text-align: right;\n",
       "    }\n",
       "</style>\n",
       "<table border=\"1\" class=\"dataframe\">\n",
       "  <thead>\n",
       "    <tr style=\"text-align: right;\">\n",
       "      <th></th>\n",
       "      <th>id</th>\n",
       "      <th>budget</th>\n",
       "      <th>revenue</th>\n",
       "      <th>release_date</th>\n",
       "      <th>original_language</th>\n",
       "      <th>imdb_id</th>\n",
       "      <th>runtime</th>\n",
       "      <th>vote_average</th>\n",
       "      <th>vote_count</th>\n",
       "      <th>release_year</th>\n",
       "      <th>release_month</th>\n",
       "      <th>release_month_num</th>\n",
       "      <th>budget_2020adj</th>\n",
       "      <th>revenue_2020adj</th>\n",
       "      <th>profit_2020adj</th>\n",
       "      <th>profitpercent_2020adj</th>\n",
       "    </tr>\n",
       "  </thead>\n",
       "  <tbody>\n",
       "    <tr>\n",
       "      <th>2</th>\n",
       "      <td>458576</td>\n",
       "      <td>60000000</td>\n",
       "      <td>25814306</td>\n",
       "      <td>2020-12-03</td>\n",
       "      <td>en</td>\n",
       "      <td>tt6475714</td>\n",
       "      <td>104.00</td>\n",
       "      <td>7.20</td>\n",
       "      <td>1136</td>\n",
       "      <td>2020</td>\n",
       "      <td>December</td>\n",
       "      <td>12</td>\n",
       "      <td>60000000.00</td>\n",
       "      <td>25814306.00</td>\n",
       "      <td>-34185694.00</td>\n",
       "      <td>-56.98</td>\n",
       "    </tr>\n",
       "    <tr>\n",
       "      <th>3</th>\n",
       "      <td>464052</td>\n",
       "      <td>200000000</td>\n",
       "      <td>159533000</td>\n",
       "      <td>2020-12-16</td>\n",
       "      <td>en</td>\n",
       "      <td>tt7126948</td>\n",
       "      <td>151.00</td>\n",
       "      <td>6.90</td>\n",
       "      <td>4271</td>\n",
       "      <td>2020</td>\n",
       "      <td>December</td>\n",
       "      <td>12</td>\n",
       "      <td>200000000.00</td>\n",
       "      <td>159533000.00</td>\n",
       "      <td>-40467000.00</td>\n",
       "      <td>-20.23</td>\n",
       "    </tr>\n",
       "    <tr>\n",
       "      <th>21</th>\n",
       "      <td>338762</td>\n",
       "      <td>42000000</td>\n",
       "      <td>33542457</td>\n",
       "      <td>2020-03-05</td>\n",
       "      <td>en</td>\n",
       "      <td>tt1634106</td>\n",
       "      <td>110.00</td>\n",
       "      <td>6.90</td>\n",
       "      <td>3654</td>\n",
       "      <td>2020</td>\n",
       "      <td>March</td>\n",
       "      <td>3</td>\n",
       "      <td>42000000.00</td>\n",
       "      <td>33542457.00</td>\n",
       "      <td>-8457543.00</td>\n",
       "      <td>-20.14</td>\n",
       "    </tr>\n",
       "    <tr>\n",
       "      <th>25</th>\n",
       "      <td>443791</td>\n",
       "      <td>80000000</td>\n",
       "      <td>40882928</td>\n",
       "      <td>2020-01-08</td>\n",
       "      <td>en</td>\n",
       "      <td>tt5774060</td>\n",
       "      <td>95.00</td>\n",
       "      <td>6.30</td>\n",
       "      <td>1963</td>\n",
       "      <td>2020</td>\n",
       "      <td>January</td>\n",
       "      <td>1</td>\n",
       "      <td>80000000.00</td>\n",
       "      <td>40882928.00</td>\n",
       "      <td>-39117072.00</td>\n",
       "      <td>-48.90</td>\n",
       "    </tr>\n",
       "    <tr>\n",
       "      <th>28</th>\n",
       "      <td>340102</td>\n",
       "      <td>67000000</td>\n",
       "      <td>45534613</td>\n",
       "      <td>2020-08-26</td>\n",
       "      <td>en</td>\n",
       "      <td>tt4682266</td>\n",
       "      <td>94.00</td>\n",
       "      <td>6.40</td>\n",
       "      <td>1656</td>\n",
       "      <td>2020</td>\n",
       "      <td>August</td>\n",
       "      <td>8</td>\n",
       "      <td>67000000.00</td>\n",
       "      <td>45534613.00</td>\n",
       "      <td>-21465387.00</td>\n",
       "      <td>-32.04</td>\n",
       "    </tr>\n",
       "    <tr>\n",
       "      <th>...</th>\n",
       "      <td>...</td>\n",
       "      <td>...</td>\n",
       "      <td>...</td>\n",
       "      <td>...</td>\n",
       "      <td>...</td>\n",
       "      <td>...</td>\n",
       "      <td>...</td>\n",
       "      <td>...</td>\n",
       "      <td>...</td>\n",
       "      <td>...</td>\n",
       "      <td>...</td>\n",
       "      <td>...</td>\n",
       "      <td>...</td>\n",
       "      <td>...</td>\n",
       "      <td>...</td>\n",
       "      <td>...</td>\n",
       "    </tr>\n",
       "    <tr>\n",
       "      <th>5621</th>\n",
       "      <td>372994</td>\n",
       "      <td>1500000</td>\n",
       "      <td>40840</td>\n",
       "      <td>2015-11-26</td>\n",
       "      <td>ru</td>\n",
       "      <td></td>\n",
       "      <td>93.00</td>\n",
       "      <td>6.00</td>\n",
       "      <td>2</td>\n",
       "      <td>2015</td>\n",
       "      <td>November</td>\n",
       "      <td>11</td>\n",
       "      <td>1637926.82</td>\n",
       "      <td>44595.29</td>\n",
       "      <td>-1593331.53</td>\n",
       "      <td>-97.28</td>\n",
       "    </tr>\n",
       "    <tr>\n",
       "      <th>5666</th>\n",
       "      <td>479750</td>\n",
       "      <td>1200000</td>\n",
       "      <td>806000</td>\n",
       "      <td>2017-01-01</td>\n",
       "      <td>mn</td>\n",
       "      <td>tt5858514</td>\n",
       "      <td>101.00</td>\n",
       "      <td>0.00</td>\n",
       "      <td>0</td>\n",
       "      <td>2017</td>\n",
       "      <td>January</td>\n",
       "      <td>1</td>\n",
       "      <td>1267025.13</td>\n",
       "      <td>851018.55</td>\n",
       "      <td>-416006.58</td>\n",
       "      <td>-32.83</td>\n",
       "    </tr>\n",
       "    <tr>\n",
       "      <th>5864</th>\n",
       "      <td>116741</td>\n",
       "      <td>58000000</td>\n",
       "      <td>44000000</td>\n",
       "      <td>2013-06-07</td>\n",
       "      <td>en</td>\n",
       "      <td>tt2234155</td>\n",
       "      <td>119.00</td>\n",
       "      <td>6.20</td>\n",
       "      <td>3265</td>\n",
       "      <td>2013</td>\n",
       "      <td>June</td>\n",
       "      <td>6</td>\n",
       "      <td>64436947.59</td>\n",
       "      <td>48883201.62</td>\n",
       "      <td>-15553745.97</td>\n",
       "      <td>-24.14</td>\n",
       "    </tr>\n",
       "    <tr>\n",
       "      <th>6017</th>\n",
       "      <td>692005</td>\n",
       "      <td>20000</td>\n",
       "      <td>11400</td>\n",
       "      <td>2020-03-20</td>\n",
       "      <td>bn</td>\n",
       "      <td>tt10122618</td>\n",
       "      <td>112.00</td>\n",
       "      <td>0.00</td>\n",
       "      <td>0</td>\n",
       "      <td>2020</td>\n",
       "      <td>March</td>\n",
       "      <td>3</td>\n",
       "      <td>20000.00</td>\n",
       "      <td>11400.00</td>\n",
       "      <td>-8600.00</td>\n",
       "      <td>-43.00</td>\n",
       "    </tr>\n",
       "    <tr>\n",
       "      <th>6178</th>\n",
       "      <td>364760</td>\n",
       "      <td>2000000</td>\n",
       "      <td>189000</td>\n",
       "      <td>2015-11-22</td>\n",
       "      <td>ru</td>\n",
       "      <td>tt5253372</td>\n",
       "      <td>86.00</td>\n",
       "      <td>5.50</td>\n",
       "      <td>4</td>\n",
       "      <td>2015</td>\n",
       "      <td>November</td>\n",
       "      <td>11</td>\n",
       "      <td>2183902.42</td>\n",
       "      <td>206378.78</td>\n",
       "      <td>-1977523.64</td>\n",
       "      <td>-90.55</td>\n",
       "    </tr>\n",
       "  </tbody>\n",
       "</table>\n",
       "<p>447 rows × 16 columns</p>\n",
       "</div>"
      ],
      "text/plain": [
       "          id     budget    revenue release_date original_language     imdb_id  \\\n",
       "2     458576   60000000   25814306   2020-12-03                en   tt6475714   \n",
       "3     464052  200000000  159533000   2020-12-16                en   tt7126948   \n",
       "21    338762   42000000   33542457   2020-03-05                en   tt1634106   \n",
       "25    443791   80000000   40882928   2020-01-08                en   tt5774060   \n",
       "28    340102   67000000   45534613   2020-08-26                en   tt4682266   \n",
       "...      ...        ...        ...          ...               ...         ...   \n",
       "5621  372994    1500000      40840   2015-11-26                ru               \n",
       "5666  479750    1200000     806000   2017-01-01                mn   tt5858514   \n",
       "5864  116741   58000000   44000000   2013-06-07                en   tt2234155   \n",
       "6017  692005      20000      11400   2020-03-20                bn  tt10122618   \n",
       "6178  364760    2000000     189000   2015-11-22                ru   tt5253372   \n",
       "\n",
       "      runtime  vote_average  vote_count  release_year release_month  \\\n",
       "2      104.00          7.20        1136          2020      December   \n",
       "3      151.00          6.90        4271          2020      December   \n",
       "21     110.00          6.90        3654          2020         March   \n",
       "25      95.00          6.30        1963          2020       January   \n",
       "28      94.00          6.40        1656          2020        August   \n",
       "...       ...           ...         ...           ...           ...   \n",
       "5621    93.00          6.00           2          2015      November   \n",
       "5666   101.00          0.00           0          2017       January   \n",
       "5864   119.00          6.20        3265          2013          June   \n",
       "6017   112.00          0.00           0          2020         March   \n",
       "6178    86.00          5.50           4          2015      November   \n",
       "\n",
       "      release_month_num  budget_2020adj  revenue_2020adj  profit_2020adj  \\\n",
       "2                    12     60000000.00      25814306.00    -34185694.00   \n",
       "3                    12    200000000.00     159533000.00    -40467000.00   \n",
       "21                    3     42000000.00      33542457.00     -8457543.00   \n",
       "25                    1     80000000.00      40882928.00    -39117072.00   \n",
       "28                    8     67000000.00      45534613.00    -21465387.00   \n",
       "...                 ...             ...              ...             ...   \n",
       "5621                 11      1637926.82         44595.29     -1593331.53   \n",
       "5666                  1      1267025.13        851018.55      -416006.58   \n",
       "5864                  6     64436947.59      48883201.62    -15553745.97   \n",
       "6017                  3        20000.00         11400.00        -8600.00   \n",
       "6178                 11      2183902.42        206378.78     -1977523.64   \n",
       "\n",
       "      profitpercent_2020adj  \n",
       "2                    -56.98  \n",
       "3                    -20.23  \n",
       "21                   -20.14  \n",
       "25                   -48.90  \n",
       "28                   -32.04  \n",
       "...                     ...  \n",
       "5621                 -97.28  \n",
       "5666                 -32.83  \n",
       "5864                 -24.14  \n",
       "6017                 -43.00  \n",
       "6178                 -90.55  \n",
       "\n",
       "[447 rows x 16 columns]"
      ]
     },
     "execution_count": 276,
     "metadata": {},
     "output_type": "execute_result"
    }
   ],
   "source": [
    "df.loc[df['profitpercent_2020adj'] <= -5]"
   ]
  },
  {
   "cell_type": "code",
   "execution_count": 277,
   "metadata": {},
   "outputs": [
    {
     "data": {
      "text/plain": [
       "-498.3892067548078"
      ]
     },
     "metadata": {},
     "output_type": "display_data"
    },
    {
     "data": {
      "text/plain": [
       "817.1045955913463"
      ]
     },
     "metadata": {},
     "output_type": "display_data"
    }
   ],
   "source": [
    "# OK so we don't have any outliers on the lower end, but we definitely do on the upper end.\n",
    "# I'm going to separate into\n",
    "# less than 0 (lost money)\n",
    "# 0-200% profit\n",
    "# 200-400% profit\n",
    "# 400-600% profit\n",
    "# 600-817% profit\n",
    "# everything above 817%, which are outliers\n",
    "\n",
    "q1 = df['profitpercent_2020adj'].quantile(.25)\n",
    "q3 = df['profitpercent_2020adj'].quantile(.75)\n",
    "iqr = q3-q1\n",
    "\n",
    "lower_outlier_bound = q1-(iqr*1.5)\n",
    "upper_outlier_bound = q3+(iqr*1.5)\n",
    "\n",
    "display(lower_outlier_bound, upper_outlier_bound)"
   ]
  },
  {
   "cell_type": "code",
   "execution_count": 278,
   "metadata": {},
   "outputs": [],
   "source": [
    "# Create % profit categories, updated version\n",
    "# over 817% would be considered outliers\n",
    "# everything below 0 is a loww\n",
    "# amounts between 0 and outlier territory are split about equally into 4 bins\n",
    "df.loc[df['profitpercent_2020adj'] < 0, 'profit_category'] = 'Loss'\n",
    "df.loc[(df['profitpercent_2020adj'] >= 0) & (\n",
    "    df['profitpercent_2020adj'] <= 200), 'profit_category'] = '0 - 200% ROI'\n",
    "df.loc[(df['profitpercent_2020adj'] > 200) & (\n",
    "    df['profitpercent_2020adj'] <= 400), 'profit_category'] = '200 - 400% ROI'\n",
    "df.loc[(df['profitpercent_2020adj'] > 400) & (\n",
    "    df['profitpercent_2020adj'] <= 600), 'profit_category'] = '400 - 600% ROI'\n",
    "df.loc[(df['profitpercent_2020adj'] > 600) & (\n",
    "    df['profitpercent_2020adj'] <= 800), 'profit_category'] = '600 - 800% ROI'\n",
    "df.loc[df['profitpercent_2020adj'] > 800, 'profit_category'] = 'Over 800% ROI'\n"
   ]
  },
  {
   "cell_type": "code",
   "execution_count": 279,
   "metadata": {},
   "outputs": [],
   "source": [
    "q10_labels = ['0-10Q','10-20Q','20-30Q', '30-40Q', '40-50Q', '50-60Q', '60-70Q', \n",
    " '70-80Q', '80-90Q', '90-100Q']\n",
    "\n",
    "df['roi_quantile'] = pd.qcut(df['profitpercent_2020adj'], 10, labels=q10_labels)"
   ]
  },
  {
   "cell_type": "code",
   "execution_count": 280,
   "metadata": {
    "scrolled": true
   },
   "outputs": [
    {
     "data": {
      "text/plain": [
       "{0.1: -73.9285389,\n",
       " 0.2: -29.225862299999996,\n",
       " 0.3: 14.338303594827584,\n",
       " 0.4: 67.53415040000002,\n",
       " 0.5: 121.34331755102039,\n",
       " 0.6: 180.05408226666668,\n",
       " 0.7: 266.69705647222224,\n",
       " 0.8: 390.9955402727274,\n",
       " 0.9: 678.4591498478262}"
      ]
     },
     "execution_count": 280,
     "metadata": {},
     "output_type": "execute_result"
    }
   ],
   "source": [
    "q_dict = df['profitpercent_2020adj'].quantile(\n",
    "    [.1, .2, .3, .4, .5, .6, .7, .8, .9]).to_dict()\n",
    "\n",
    "q_dict"
   ]
  },
  {
   "cell_type": "code",
   "execution_count": 281,
   "metadata": {
    "scrolled": true
   },
   "outputs": [
    {
     "data": {
      "text/plain": [
       "<AxesSubplot:xlabel='profitpercent_2020adj', ylabel='Count'>"
      ]
     },
     "execution_count": 281,
     "metadata": {},
     "output_type": "execute_result"
    },
    {
     "data": {
      "image/png": "[encoded data removed]",
      "text/plain": [
       "<Figure size 720x720 with 1 Axes>"
      ]
     },
     "metadata": {
      "needs_background": "light"
     },
     "output_type": "display_data"
    }
   ],
   "source": [
    "fig, ax = plt.subplots(figsize=(10,10))\n",
    "sns.histplot(df['profitpercent_2020adj'], bins=20)"
   ]
  },
  {
   "cell_type": "markdown",
   "metadata": {},
   "source": [
    "## Box Office Profit per Release Year"
   ]
  },
  {
   "cell_type": "code",
   "execution_count": 282,
   "metadata": {
    "scrolled": true
   },
   "outputs": [
    {
     "data": {
      "text/plain": [
       "['Solarize_Light2',\n",
       " '_classic_test_patch',\n",
       " 'bmh',\n",
       " 'classic',\n",
       " 'dark_background',\n",
       " 'fast',\n",
       " 'fivethirtyeight',\n",
       " 'ggplot',\n",
       " 'grayscale',\n",
       " 'seaborn',\n",
       " 'seaborn-bright',\n",
       " 'seaborn-colorblind',\n",
       " 'seaborn-dark',\n",
       " 'seaborn-dark-palette',\n",
       " 'seaborn-darkgrid',\n",
       " 'seaborn-deep',\n",
       " 'seaborn-muted',\n",
       " 'seaborn-notebook',\n",
       " 'seaborn-paper',\n",
       " 'seaborn-pastel',\n",
       " 'seaborn-poster',\n",
       " 'seaborn-talk',\n",
       " 'seaborn-ticks',\n",
       " 'seaborn-white',\n",
       " 'seaborn-whitegrid',\n",
       " 'tableau-colorblind10']"
      ]
     },
     "execution_count": 282,
     "metadata": {},
     "output_type": "execute_result"
    }
   ],
   "source": [
    "plt.style.available"
   ]
  },
  {
   "cell_type": "markdown",
   "metadata": {},
   "source": [
    "### 2020 not withstanding, people DO still go to the movies.\n",
    "\n",
    "The graph below shows median profit (box office revenue less production budget) for the last 10 years. Amounts are in 2020 US dollars, after adjustment for inflation.\n",
    "\n",
    "The median profit for films released in 2020 is actually negative. We calculated profit using only box office revenue, and movie theaters were closed for most of 2020 due to the COVID-19 pandemic.\n",
    "\n",
    "The 2020 results have been left as strong evidence that the data we're using to perform this analysis is representative enough to show trends. While the median profit certainly hasn't increased steadily (2013, 2016, and 2018 had some dips),  profits are generally increasing over time. \n",
    "\n",
    "Before the COVID-19 pandemic, box office revenues were healthy, even as original titles produced by companies--such as Amazon, Netflix and Hulu--were released directly to subscribers, bypassing theaters entirely.  \n",
    "\n"
   ]
  },
  {
   "cell_type": "code",
   "execution_count": 283,
   "metadata": {
    "scrolled": false
   },
   "outputs": [
    {
     "data": {
      "image/png": "[encoded data removed]",
      "text/plain": [
       "<Figure size 921.6x633.6 with 1 Axes>"
      ]
     },
     "metadata": {
      "needs_background": "light"
     },
     "output_type": "display_data"
    }
   ],
   "source": [
    "with plt.style.context('seaborn-poster'):\n",
    "    fig, ax = plt.subplots()\n",
    "\n",
    "    sns.barplot(x=df['release_year'], y=df['profit_2020adj']\n",
    "                , estimator=np.median, ax=ax, ci=68)\n",
    "\n",
    "    ax.set_title('Median Box Office Profit Per Release Year **');\n",
    "    ax.set_xlabel('Release Year');\n",
    "    ax.set_ylabel('Median Profit (2020 US Dollars)');\n",
    "    \n",
    "    #Source: https://stackoverflow.com/questions/53747298/how-to-format-seaborn-\n",
    "    #                matplotlib-axis-tick-labels-from-number-to-thousands-or-mi\n",
    "    ax.yaxis.set_major_formatter(plt.FuncFormatter(currency))"
   ]
  },
  {
   "cell_type": "markdown",
   "metadata": {},
   "source": [
    "### Many of the most profitable movies are outliers\n",
    "\n",
    "Per the previous chart and below, median profit fell within a range of \\\\$20 MM to \\\\$35 MM 2020 US dollars for the past 10 years. Even the average was only around \\\\$100 MM.\n",
    "\n",
    "But when we look at the distributions within each year, we see that there are many values well above that, in the many hundreds of millions, or billions of dollars. However, these are statistical outliers.\n",
    "\n",
    "This means that while it's certainly possible to make hundreds of millions or billions of dollars at the box office on a film, that isn't a common outcome."
   ]
  },
  {
   "cell_type": "code",
   "execution_count": 284,
   "metadata": {},
   "outputs": [
    {
     "data": {
      "text/plain": [
       "27.30874951389894"
      ]
     },
     "execution_count": 284,
     "metadata": {},
     "output_type": "execute_result"
    }
   ],
   "source": [
    "# Median across across all years in millions\n",
    "df['profit_2020adj'].quantile(0.5)/1000000"
   ]
  },
  {
   "cell_type": "code",
   "execution_count": 285,
   "metadata": {
    "scrolled": false
   },
   "outputs": [
    {
     "data": {
      "text/html": [
       "<div>\n",
       "<style scoped>\n",
       "    .dataframe tbody tr th:only-of-type {\n",
       "        vertical-align: middle;\n",
       "    }\n",
       "\n",
       "    .dataframe tbody tr th {\n",
       "        vertical-align: top;\n",
       "    }\n",
       "\n",
       "    .dataframe thead th {\n",
       "        text-align: right;\n",
       "    }\n",
       "</style>\n",
       "<table border=\"1\" class=\"dataframe\">\n",
       "  <thead>\n",
       "    <tr style=\"text-align: right;\">\n",
       "      <th></th>\n",
       "      <th>Year Released</th>\n",
       "      <th>Median Profit</th>\n",
       "    </tr>\n",
       "  </thead>\n",
       "  <tbody>\n",
       "    <tr>\n",
       "      <th>0</th>\n",
       "      <td>2010</td>\n",
       "      <td>$22.3 M</td>\n",
       "    </tr>\n",
       "    <tr>\n",
       "      <th>1</th>\n",
       "      <td>2011</td>\n",
       "      <td>$22.6 M</td>\n",
       "    </tr>\n",
       "    <tr>\n",
       "      <th>2</th>\n",
       "      <td>2012</td>\n",
       "      <td>$27.4 M</td>\n",
       "    </tr>\n",
       "    <tr>\n",
       "      <th>3</th>\n",
       "      <td>2013</td>\n",
       "      <td>$19.6 M</td>\n",
       "    </tr>\n",
       "    <tr>\n",
       "      <th>4</th>\n",
       "      <td>2014</td>\n",
       "      <td>$28.7 M</td>\n",
       "    </tr>\n",
       "    <tr>\n",
       "      <th>5</th>\n",
       "      <td>2015</td>\n",
       "      <td>$29.9 M</td>\n",
       "    </tr>\n",
       "    <tr>\n",
       "      <th>6</th>\n",
       "      <td>2016</td>\n",
       "      <td>$22.3 M</td>\n",
       "    </tr>\n",
       "    <tr>\n",
       "      <th>7</th>\n",
       "      <td>2017</td>\n",
       "      <td>$35.9 M</td>\n",
       "    </tr>\n",
       "    <tr>\n",
       "      <th>8</th>\n",
       "      <td>2018</td>\n",
       "      <td>$27.9 M</td>\n",
       "    </tr>\n",
       "    <tr>\n",
       "      <th>9</th>\n",
       "      <td>2019</td>\n",
       "      <td>$53.1 M</td>\n",
       "    </tr>\n",
       "    <tr>\n",
       "      <th>10</th>\n",
       "      <td>2020</td>\n",
       "      <td>$4.5 M</td>\n",
       "    </tr>\n",
       "  </tbody>\n",
       "</table>\n",
       "</div>"
      ],
      "text/plain": [
       "    Year Released Median Profit\n",
       "0            2010       $22.3 M\n",
       "1            2011       $22.6 M\n",
       "2            2012       $27.4 M\n",
       "3            2013       $19.6 M\n",
       "4            2014       $28.7 M\n",
       "5            2015       $29.9 M\n",
       "6            2016       $22.3 M\n",
       "7            2017       $35.9 M\n",
       "8            2018       $27.9 M\n",
       "9            2019       $53.1 M\n",
       "10           2020        $4.5 M"
      ]
     },
     "execution_count": 285,
     "metadata": {},
     "output_type": "execute_result"
    }
   ],
   "source": [
    "# median profits per year\n",
    "df_yr_medprofit = df.groupby('release_year')['profit_2020adj'].median().reset_index()\n",
    "df_yr_medprofit['profit_2020adj'] = df_yr_medprofit['profit_2020adj'\n",
    "                                                   ].map(lambda x : currency_num(x))\n",
    "\n",
    "df_yr_medprofit.rename(columns={'profit_2020adj': 'Median Profit', \n",
    "                                'release_year': 'Year Released'})"
   ]
  },
  {
   "cell_type": "code",
   "execution_count": 286,
   "metadata": {},
   "outputs": [
    {
     "data": {
      "text/plain": [
       "110.42956220650537"
      ]
     },
     "execution_count": 286,
     "metadata": {},
     "output_type": "execute_result"
    }
   ],
   "source": [
    "# overall mean profit in millions\n",
    "df['profit_2020adj'].mean()/1000000"
   ]
  },
  {
   "cell_type": "code",
   "execution_count": 287,
   "metadata": {},
   "outputs": [
    {
     "data": {
      "text/html": [
       "<div>\n",
       "<style scoped>\n",
       "    .dataframe tbody tr th:only-of-type {\n",
       "        vertical-align: middle;\n",
       "    }\n",
       "\n",
       "    .dataframe tbody tr th {\n",
       "        vertical-align: top;\n",
       "    }\n",
       "\n",
       "    .dataframe thead th {\n",
       "        text-align: right;\n",
       "    }\n",
       "</style>\n",
       "<table border=\"1\" class=\"dataframe\">\n",
       "  <thead>\n",
       "    <tr style=\"text-align: right;\">\n",
       "      <th></th>\n",
       "      <th>Year Released</th>\n",
       "      <th>Mean Profit</th>\n",
       "    </tr>\n",
       "  </thead>\n",
       "  <tbody>\n",
       "    <tr>\n",
       "      <th>0</th>\n",
       "      <td>2010</td>\n",
       "      <td>$86.7 M</td>\n",
       "    </tr>\n",
       "    <tr>\n",
       "      <th>1</th>\n",
       "      <td>2011</td>\n",
       "      <td>$86.9 M</td>\n",
       "    </tr>\n",
       "    <tr>\n",
       "      <th>2</th>\n",
       "      <td>2012</td>\n",
       "      <td>$111.1 M</td>\n",
       "    </tr>\n",
       "    <tr>\n",
       "      <th>3</th>\n",
       "      <td>2013</td>\n",
       "      <td>$92.0 M</td>\n",
       "    </tr>\n",
       "    <tr>\n",
       "      <th>4</th>\n",
       "      <td>2014</td>\n",
       "      <td>$99.4 M</td>\n",
       "    </tr>\n",
       "    <tr>\n",
       "      <th>5</th>\n",
       "      <td>2015</td>\n",
       "      <td>$119.7 M</td>\n",
       "    </tr>\n",
       "    <tr>\n",
       "      <th>6</th>\n",
       "      <td>2016</td>\n",
       "      <td>$107.4 M</td>\n",
       "    </tr>\n",
       "    <tr>\n",
       "      <th>7</th>\n",
       "      <td>2017</td>\n",
       "      <td>$147.3 M</td>\n",
       "    </tr>\n",
       "    <tr>\n",
       "      <th>8</th>\n",
       "      <td>2018</td>\n",
       "      <td>$132.6 M</td>\n",
       "    </tr>\n",
       "    <tr>\n",
       "      <th>9</th>\n",
       "      <td>2019</td>\n",
       "      <td>$180.1 M</td>\n",
       "    </tr>\n",
       "    <tr>\n",
       "      <th>10</th>\n",
       "      <td>2020</td>\n",
       "      <td>$38.7 M</td>\n",
       "    </tr>\n",
       "  </tbody>\n",
       "</table>\n",
       "</div>"
      ],
      "text/plain": [
       "    Year Released Mean Profit\n",
       "0            2010     $86.7 M\n",
       "1            2011     $86.9 M\n",
       "2            2012    $111.1 M\n",
       "3            2013     $92.0 M\n",
       "4            2014     $99.4 M\n",
       "5            2015    $119.7 M\n",
       "6            2016    $107.4 M\n",
       "7            2017    $147.3 M\n",
       "8            2018    $132.6 M\n",
       "9            2019    $180.1 M\n",
       "10           2020     $38.7 M"
      ]
     },
     "execution_count": 287,
     "metadata": {},
     "output_type": "execute_result"
    }
   ],
   "source": [
    "# mean profit per year\n",
    "df_yr_meanprofit = df.groupby('release_year')['profit_2020adj'].mean().reset_index()\n",
    "df_yr_meanprofit['profit_2020adj'] = df_yr_meanprofit['profit_2020adj'\n",
    "                                                   ].map(lambda x : currency_num(x))\n",
    "\n",
    "df_yr_meanprofit.rename(columns={'profit_2020adj': 'Mean Profit', \n",
    "                                'release_year': 'Year Released'})"
   ]
  },
  {
   "cell_type": "code",
   "execution_count": 288,
   "metadata": {
    "scrolled": false
   },
   "outputs": [
    {
     "data": {
      "image/png": "[encoded data removed]",
      "text/plain": [
       "<Figure size 864x864 with 1 Axes>"
      ]
     },
     "metadata": {
      "needs_background": "light"
     },
     "output_type": "display_data"
    }
   ],
   "source": [
    "with plt.style.context('seaborn-poster'):\n",
    "    fig, ax = plt.subplots(figsize=(12, 12))\n",
    "    \n",
    "    # Source: https://seaborn.pydata.org/generated/seaborn.boxplot.html\n",
    "    sns.boxplot(x=df['release_year'], y=df['profit_2020adj']\n",
    "                , ax=ax)\n",
    "    # Source: https://pbpython.com/effective-matplotlib.html\n",
    "    #ax.axhline(y=avg, color='b', label='Average', linestyle='--', linewidth=3)\n",
    "#    sns.swarmplot(x=df_recent['release_year'], y=df_recent['profit_2020adj']\n",
    "#                , ax=ax, size=1.5, color='black')\n",
    "\n",
    "    ax.set_title('Box Office Profit Per Release Year **');\n",
    "    ax.set_xlabel('Release Year');\n",
    "    ax.set_ylabel('Profit (2020 US Dollars)');\n",
    "\n",
    "    #Source: https://stackoverflow.com/questions/53747298/how-to-format-seaborn-\n",
    "    #                matplotlib-axis-tick-labels-from-number-to-thousands-or-mi\n",
    "    ax.yaxis.set_major_formatter(plt.FuncFormatter(currency))\n",
    "    \n",
    "    ax.set_yticks(np.arange(-500000000, 3000000000, 250000000));"
   ]
  },
  {
   "cell_type": "code",
   "execution_count": 289,
   "metadata": {
    "scrolled": false
   },
   "outputs": [
    {
     "ename": "NameError",
     "evalue": "name 'df_recent' is not defined",
     "output_type": "error",
     "traceback": [
      "\u001b[0;31m---------------------------------------------------------------------------\u001b[0m",
      "\u001b[0;31mNameError\u001b[0m                                 Traceback (most recent call last)",
      "\u001b[0;32m<ipython-input-289-2d6392416726>\u001b[0m in \u001b[0;36m<module>\u001b[0;34m\u001b[0m\n\u001b[1;32m      2\u001b[0m     \u001b[0mfig\u001b[0m\u001b[0;34m,\u001b[0m \u001b[0max\u001b[0m \u001b[0;34m=\u001b[0m \u001b[0mplt\u001b[0m\u001b[0;34m.\u001b[0m\u001b[0msubplots\u001b[0m\u001b[0;34m(\u001b[0m\u001b[0mfigsize\u001b[0m\u001b[0;34m=\u001b[0m\u001b[0;34m(\u001b[0m\u001b[0;36m12\u001b[0m\u001b[0;34m,\u001b[0m \u001b[0;36m12\u001b[0m\u001b[0;34m)\u001b[0m\u001b[0;34m)\u001b[0m\u001b[0;34m\u001b[0m\u001b[0;34m\u001b[0m\u001b[0m\n\u001b[1;32m      3\u001b[0m \u001b[0;34m\u001b[0m\u001b[0m\n\u001b[0;32m----> 4\u001b[0;31m     \u001b[0mavg\u001b[0m \u001b[0;34m=\u001b[0m \u001b[0mdf_recent\u001b[0m\u001b[0;34m[\u001b[0m\u001b[0;34m'profit_2020adj'\u001b[0m\u001b[0;34m]\u001b[0m\u001b[0;34m.\u001b[0m\u001b[0mmean\u001b[0m\u001b[0;34m(\u001b[0m\u001b[0;34m)\u001b[0m\u001b[0;34m\u001b[0m\u001b[0;34m\u001b[0m\u001b[0m\n\u001b[0m\u001b[1;32m      5\u001b[0m \u001b[0;34m\u001b[0m\u001b[0m\n\u001b[1;32m      6\u001b[0m     \u001b[0;31m# Source: https://seaborn.pydata.org/generated/seaborn.boxplot.html\u001b[0m\u001b[0;34m\u001b[0m\u001b[0;34m\u001b[0m\u001b[0;34m\u001b[0m\u001b[0m\n",
      "\u001b[0;31mNameError\u001b[0m: name 'df_recent' is not defined"
     ]
    },
    {
     "data": {
      "image/png": "[encoded data removed]",
      "text/plain": [
       "<Figure size 864x864 with 1 Axes>"
      ]
     },
     "metadata": {
      "needs_background": "light"
     },
     "output_type": "display_data"
    }
   ],
   "source": [
    "with plt.style.context('seaborn-poster'):\n",
    "    fig, ax = plt.subplots(figsize=(12, 12))\n",
    "    \n",
    "    avg = df_recent['profit_2020adj'].mean()\n",
    "    \n",
    "    # Source: https://seaborn.pydata.org/generated/seaborn.boxplot.html\n",
    "    sns.boxplot(x=df['release_year'], y=df['profit_2020adj']\n",
    "                , ax=ax, showfliers=False)\n",
    "\n",
    "    ax.set_title('Box Office Profit Per Release Year **');\n",
    "    ax.set_xlabel('Release Year');\n",
    "    ax.set_ylabel('Profit (2020 US Dollars)');\n",
    "\n",
    "    #Source: https://stackoverflow.com/questions/53747298/how-to-format-seaborn-\n",
    "    #                matplotlib-axis-tick-labels-from-number-to-thousands-or-mi\n",
    "    ax.yaxis.set_major_formatter(plt.FuncFormatter(currency))\n",
    "    \n",
    "    ax.set_yticks(np.arange(-200000000, 400000000, 50000000))\n"
   ]
  },
  {
   "cell_type": "code",
   "execution_count": null,
   "metadata": {
    "scrolled": true
   },
   "outputs": [],
   "source": [
    "with plt.style.context('seaborn-poster'):\n",
    "    fig, ax = plt.subplots(figsize=(8, 8))\n",
    "\n",
    "    sns.histplot(df['profit_2020adj'], ax=ax, bins=30)\n",
    "    ax.set_title('Box Office Profit Distribution');\n",
    "    ax.set_xlabel('Profit (2020 US Dollars)');\n",
    "\n",
    "    #Source: https://stackoverflow.com/questions/53747298/how-to-format-seaborn-\n",
    "    #                matplotlib-axis-tick-labels-from-number-to-thousands-or-mi\n",
    "    ax.xaxis.set_major_formatter(plt.FuncFormatter(currency))"
   ]
  },
  {
   "cell_type": "code",
   "execution_count": null,
   "metadata": {},
   "outputs": [],
   "source": [
    "df['profit_category'].unique()"
   ]
  },
  {
   "cell_type": "code",
   "execution_count": null,
   "metadata": {
    "scrolled": true
   },
   "outputs": [],
   "source": [
    "profit_category_order = ['Loss', '0 - 200% ROI', '200 - 400% ROI', \n",
    "        '400 - 600% ROI', '600 - 800% ROI', 'Over 800% ROI']\n",
    "\n",
    "with plt.style.context('seaborn-notebook'):\n",
    "    plt.tight_layout();\n",
    "    fig, ([ax1, ax2]) = plt.subplots(figsize=(8, 10), ncols=1, nrows=2);\n",
    "\n",
    "    sns.scatterplot(x=df['budget_2020adj'], y=df['profit_2020adj']\n",
    "                    , ax=ax1, hue=df['profit_category'],\n",
    "                   hue_order=profit_category_order);\n",
    "          \n",
    "    sns.scatterplot(x=df['budget_2020adj'], y=df['profit_2020adj']\n",
    "                    , ax=ax2, hue=df['profit_category'],\n",
    "                   hue_order=profit_category_order,\n",
    "                   palette='coolwarm');\n",
    "    \n",
    "    #ax1.set_title('Production Budget versus Box Office Profit (2020 US Dollars)');\n",
    "    ax1.set_xlabel('Production Budget');\n",
    "    ax1.set_ylabel('Box Office Profit');\n",
    "\n",
    "    #Source: https://stackoverflow.com/questions/53747298/how-to-format-seaborn-\n",
    "    #                matplotlib-axis-tick-labels-from-number-to-thousands-or-mi\n",
    "    ax1.yaxis.set_major_formatter(plt.FuncFormatter(currency));\n",
    "    ax1.xaxis.set_major_formatter(plt.FuncFormatter(currency));"
   ]
  },
  {
   "cell_type": "code",
   "execution_count": null,
   "metadata": {
    "scrolled": true
   },
   "outputs": [],
   "source": [
    "fig, ax = plt.subplots(figsize=(10,10))\n",
    "sns.histplot(df['profit_category'], )"
   ]
  },
  {
   "cell_type": "code",
   "execution_count": null,
   "metadata": {
    "scrolled": false
   },
   "outputs": [],
   "source": [
    "profit_category_order = q10_labels\n",
    "\n",
    "with plt.style.context('seaborn-notebook'):\n",
    "    plt.tight_layout();\n",
    "    fig, ([ax1, ax2]) = plt.subplots(figsize=(8, 10), ncols=1, nrows=2);\n",
    "\n",
    "    sns.scatterplot(x=df['budget_2020adj'], y=df['profit_2020adj']\n",
    "                    , ax=ax1, hue=df['roi_quantile'],\n",
    "                   hue_order=profit_category_order);\n",
    "          \n",
    "    sns.scatterplot(x=df['budget_2020adj'], y=df['profit_2020adj']\n",
    "                    , ax=ax2, hue=df['roi_quantile'],\n",
    "                   hue_order=profit_category_order,\n",
    "                   palette='coolwarm');\n",
    "    \n",
    "    #ax1.set_title('Production Budget versus Box Office Profit (2020 US Dollars)');\n",
    "    ax1.set_xlabel('Production Budget');\n",
    "    ax1.set_ylabel('Box Office Profit');\n",
    "\n",
    "    #Source: https://stackoverflow.com/questions/53747298/how-to-format-seaborn-\n",
    "    #                matplotlib-axis-tick-labels-from-number-to-thousands-or-mi\n",
    "    ax1.yaxis.set_major_formatter(plt.FuncFormatter(currency));\n",
    "    ax1.xaxis.set_major_formatter(plt.FuncFormatter(currency));"
   ]
  },
  {
   "cell_type": "markdown",
   "metadata": {},
   "source": [
    "# Topic 2: Characteristics of Profitable Movies"
   ]
  },
  {
   "cell_type": "markdown",
   "metadata": {},
   "source": [
    "Are the more profitable movies released in a certain month?\n",
    "\n",
    "December has the highest median profit for movies released in that month. This isn't surprising, given many movies seem to be released in December to catch the holiday season in the US. \n",
    "\n",
    "It would be a good idea to plan for movies to be released in December to maximize profitability, and November, May, June, and July are also good choices.\n",
    "\n",
    "Interestingly, September is the month with the most number of movies released, and it also has the lowest median profit. I would not recommend releasing movies in September, if you can avoid it.\n",
    "\n"
   ]
  },
  {
   "cell_type": "code",
   "execution_count": 291,
   "metadata": {
    "scrolled": false
   },
   "outputs": [
    {
     "data": {
      "image/png": "[encoded data removed]",
      "text/plain": [
       "<Figure size 576x432 with 2 Axes>"
      ]
     },
     "metadata": {
      "needs_background": "light"
     },
     "output_type": "display_data"
    }
   ],
   "source": [
    "month_order = ['January','February','March','April','May','June',\n",
    "             'July','August','September','October','November',\n",
    "             'December']\n",
    "\n",
    "# Source: https://stackoverflow.com/questions/12589481/multiple-aggregations-\n",
    "# of-the-same-column-using-pandas-groupby-agg\n",
    "profit_by_month = df.groupby('release_month_num').agg(\n",
    "    Median=('profit_2020adj', 'median'), \n",
    "    Count=('profit_2020adj', 'count'))\n",
    "\n",
    "profit_by_month\n",
    "\n",
    "fig, ax = plt.subplots(figsize=(8, 6))\n",
    "ax2=ax.twinx()\n",
    "# Source: James Irving\n",
    "ax2.plot(profit_by_month.index,profit_by_month.Median,marker='o',c='r')\n",
    "ax.bar(profit_by_month.index, profit_by_month.Count, )\n",
    "\n",
    "# set and format labels\n",
    "ax.set_ylabel('Number of Movies Released');\n",
    "ax2.set_ylabel('Median Profit per Month');\n",
    "ax.set_title('Monthly')\n",
    "\n",
    "ax.set_xticks(list(month_map.keys()));\n",
    "ax.set_xticklabels(list(month_map.values()), rotation=90);\n",
    "ax2.yaxis.set_major_formatter(plt.FuncFormatter(currency));"
   ]
  },
  {
   "cell_type": "markdown",
   "metadata": {},
   "source": [
    "Let's look at genres, what are the most popular genres?"
   ]
  },
  {
   "cell_type": "code",
   "execution_count": 292,
   "metadata": {},
   "outputs": [],
   "source": [
    "sql2 = \"\"\"SELECT mg.genre_id, g.genre, \n",
    "                 m.id, m.title\n",
    "          FROM tmdb_movies m\n",
    "          INNER JOIN tmdb_movie_genres mg ON mg.id = m.id\n",
    "          INNER JOIN tmdb_genres g ON mg.genre_id = g.genre_id\n",
    "         \"\"\"\n",
    "\n",
    "dfg = pd.DataFrame(cur.execute(sql2).fetchall(),columns=[x[0] for x in cur.description])"
   ]
  },
  {
   "cell_type": "code",
   "execution_count": 293,
   "metadata": {},
   "outputs": [
    {
     "name": "stdout",
     "output_type": "stream",
     "text": [
      "<class 'pandas.core.frame.DataFrame'>\n",
      "RangeIndex: 13275 entries, 0 to 13274\n",
      "Data columns (total 4 columns):\n",
      " #   Column    Non-Null Count  Dtype \n",
      "---  ------    --------------  ----- \n",
      " 0   genre_id  13275 non-null  int64 \n",
      " 1   genre     13275 non-null  object\n",
      " 2   id        13275 non-null  int64 \n",
      " 3   title     13275 non-null  object\n",
      "dtypes: int64(2), object(2)\n",
      "memory usage: 415.0+ KB\n"
     ]
    }
   ],
   "source": [
    "dfg.info()"
   ]
  },
  {
   "cell_type": "code",
   "execution_count": 294,
   "metadata": {},
   "outputs": [
    {
     "name": "stdout",
     "output_type": "stream",
     "text": [
      "<class 'pandas.core.frame.DataFrame'>\n",
      "Int64Index: 1784 entries, 2 to 6352\n",
      "Data columns (total 18 columns):\n",
      " #   Column                 Non-Null Count  Dtype   \n",
      "---  ------                 --------------  -----   \n",
      " 0   id                     1784 non-null   int64   \n",
      " 1   budget                 1784 non-null   int64   \n",
      " 2   revenue                1784 non-null   int64   \n",
      " 3   release_date           1784 non-null   object  \n",
      " 4   original_language      1784 non-null   object  \n",
      " 5   imdb_id                1784 non-null   object  \n",
      " 6   runtime                1782 non-null   float64 \n",
      " 7   vote_average           1784 non-null   float64 \n",
      " 8   vote_count             1784 non-null   int64   \n",
      " 9   release_year           1784 non-null   int64   \n",
      " 10  release_month          1784 non-null   object  \n",
      " 11  release_month_num      1784 non-null   int64   \n",
      " 12  budget_2020adj         1784 non-null   float64 \n",
      " 13  revenue_2020adj        1784 non-null   float64 \n",
      " 14  profit_2020adj         1784 non-null   float64 \n",
      " 15  profitpercent_2020adj  1784 non-null   float64 \n",
      " 16  profit_category        1784 non-null   object  \n",
      " 17  roi_quantile           1784 non-null   category\n",
      "dtypes: category(1), float64(6), int64(6), object(5)\n",
      "memory usage: 333.0+ KB\n"
     ]
    }
   ],
   "source": [
    "df.info()"
   ]
  },
  {
   "cell_type": "code",
   "execution_count": 295,
   "metadata": {
    "scrolled": true
   },
   "outputs": [
    {
     "data": {
      "text/html": [
       "<div>\n",
       "<style scoped>\n",
       "    .dataframe tbody tr th:only-of-type {\n",
       "        vertical-align: middle;\n",
       "    }\n",
       "\n",
       "    .dataframe tbody tr th {\n",
       "        vertical-align: top;\n",
       "    }\n",
       "\n",
       "    .dataframe thead th {\n",
       "        text-align: right;\n",
       "    }\n",
       "</style>\n",
       "<table border=\"1\" class=\"dataframe\">\n",
       "  <thead>\n",
       "    <tr style=\"text-align: right;\">\n",
       "      <th></th>\n",
       "      <th>genre_id</th>\n",
       "      <th>genre</th>\n",
       "      <th>id</th>\n",
       "      <th>title</th>\n",
       "      <th>profit_2020adj</th>\n",
       "      <th>profitpercent_2020adj</th>\n",
       "      <th>release_month_num</th>\n",
       "    </tr>\n",
       "  </thead>\n",
       "  <tbody>\n",
       "    <tr>\n",
       "      <th>0</th>\n",
       "      <td>14</td>\n",
       "      <td>Fantasy</td>\n",
       "      <td>458576</td>\n",
       "      <td>Monster Hunter</td>\n",
       "      <td>-34185694.00</td>\n",
       "      <td>-56.98</td>\n",
       "      <td>12</td>\n",
       "    </tr>\n",
       "    <tr>\n",
       "      <th>1</th>\n",
       "      <td>28</td>\n",
       "      <td>Action</td>\n",
       "      <td>458576</td>\n",
       "      <td>Monster Hunter</td>\n",
       "      <td>-34185694.00</td>\n",
       "      <td>-56.98</td>\n",
       "      <td>12</td>\n",
       "    </tr>\n",
       "    <tr>\n",
       "      <th>2</th>\n",
       "      <td>12</td>\n",
       "      <td>Adventure</td>\n",
       "      <td>458576</td>\n",
       "      <td>Monster Hunter</td>\n",
       "      <td>-34185694.00</td>\n",
       "      <td>-56.98</td>\n",
       "      <td>12</td>\n",
       "    </tr>\n",
       "    <tr>\n",
       "      <th>3</th>\n",
       "      <td>14</td>\n",
       "      <td>Fantasy</td>\n",
       "      <td>464052</td>\n",
       "      <td>Wonder Woman 1984</td>\n",
       "      <td>-40467000.00</td>\n",
       "      <td>-20.23</td>\n",
       "      <td>12</td>\n",
       "    </tr>\n",
       "    <tr>\n",
       "      <th>4</th>\n",
       "      <td>28</td>\n",
       "      <td>Action</td>\n",
       "      <td>464052</td>\n",
       "      <td>Wonder Woman 1984</td>\n",
       "      <td>-40467000.00</td>\n",
       "      <td>-20.23</td>\n",
       "      <td>12</td>\n",
       "    </tr>\n",
       "  </tbody>\n",
       "</table>\n",
       "</div>"
      ],
      "text/plain": [
       "   genre_id      genre      id              title  profit_2020adj  \\\n",
       "0        14    Fantasy  458576     Monster Hunter    -34185694.00   \n",
       "1        28     Action  458576     Monster Hunter    -34185694.00   \n",
       "2        12  Adventure  458576     Monster Hunter    -34185694.00   \n",
       "3        14    Fantasy  464052  Wonder Woman 1984    -40467000.00   \n",
       "4        28     Action  464052  Wonder Woman 1984    -40467000.00   \n",
       "\n",
       "   profitpercent_2020adj  release_month_num  \n",
       "0                 -56.98                 12  \n",
       "1                 -56.98                 12  \n",
       "2                 -56.98                 12  \n",
       "3                 -20.23                 12  \n",
       "4                 -20.23                 12  "
      ]
     },
     "execution_count": 295,
     "metadata": {},
     "output_type": "execute_result"
    }
   ],
   "source": [
    "# Merge the calculated values from our movies dataframe into the genres one\n",
    "df_genres= dfg.merge(df[['id','profit_2020adj', \n",
    "                         'profitpercent_2020adj',\n",
    "                         'release_month_num']], on='id')\n",
    "\n",
    "df_genres.head()"
   ]
  },
  {
   "cell_type": "code",
   "execution_count": 296,
   "metadata": {},
   "outputs": [],
   "source": [
    "# Create a pivot table showing aggregate profits, grouped by genre\n",
    "df_gp = pd.pivot_table(data=df_genres, index='genre', \n",
    "                       aggfunc={'id': 'count',\n",
    "                                'profit_2020adj': [np.sum, np.mean],\n",
    "                                'profitpercent_2020adj': np.median} )"
   ]
  },
  {
   "cell_type": "code",
   "execution_count": 297,
   "metadata": {
    "scrolled": true
   },
   "outputs": [
    {
     "data": {
      "text/plain": [
       "genre\n",
       "Adventure         105181569279.50\n",
       "Action             95042035330.68\n",
       "Comedy             63432848352.66\n",
       "Science Fiction    54735903036.87\n",
       "Drama              48372933371.79\n",
       "Fantasy            48293814953.30\n",
       "Family             46393785802.48\n",
       "Animation          36572990626.54\n",
       "Thriller           36476000617.55\n",
       "Romance            17355702059.32\n",
       "Crime              15846196440.22\n",
       "Horror             14409552899.32\n",
       "Mystery             8947632621.08\n",
       "Music               6532889170.20\n",
       "History             5032431714.75\n",
       "War                 3021754920.53\n",
       "Western             1187302718.26\n",
       "Documentary          398559236.01\n",
       "TV Movie              -3193263.61\n",
       "Name: (profit_2020adj, sum), dtype: float64"
      ]
     },
     "execution_count": 297,
     "metadata": {},
     "output_type": "execute_result"
    }
   ],
   "source": [
    "# Movies with an Adventure genre have generated the most profit in the\n",
    "# last 10 years, with Action, Comedy, and Science Fiction coming next.\n",
    "\n",
    "df_gp['profit_2020adj', 'sum'].sort_values(ascending=False)"
   ]
  },
  {
   "cell_type": "code",
   "execution_count": 298,
   "metadata": {
    "scrolled": true
   },
   "outputs": [
    {
     "data": {
      "text/plain": [
       "genre\n",
       "Adventure         278996204.99\n",
       "Science Fiction   253406958.50\n",
       "Animation         248795854.60\n",
       "Fantasy           226731525.60\n",
       "Family            210880844.56\n",
       "Action            183833724.04\n",
       "Music             125632484.04\n",
       "Comedy            104847683.23\n",
       "Thriller           74899385.25\n",
       "Romance            68329535.67\n",
       "Horror             65201596.83\n",
       "Crime              63132256.73\n",
       "Mystery            63011497.33\n",
       "Western            59365135.91\n",
       "War                59250096.48\n",
       "Drama              58919529.08\n",
       "History            47927921.09\n",
       "Documentary        20976801.90\n",
       "TV Movie           -3193263.61\n",
       "Name: (profit_2020adj, mean), dtype: float64"
      ]
     },
     "execution_count": 298,
     "metadata": {},
     "output_type": "execute_result"
    }
   ],
   "source": [
    "# Movies with an Adventure genre win for mean profit per movie.\n",
    "# SciFi comes next, with Animation, Fantasy, and Family next.\n",
    "# Action is 6th.\n",
    "\n",
    "df_gp['profit_2020adj', 'mean'].sort_values(ascending=False)"
   ]
  },
  {
   "cell_type": "code",
   "execution_count": 299,
   "metadata": {},
   "outputs": [
    {
     "data": {
      "text/plain": [
       "genre\n",
       "Documentary       399.67\n",
       "Horror            206.58\n",
       "Animation         173.24\n",
       "Comedy            149.57\n",
       "Family            149.15\n",
       "Science Fiction   144.84\n",
       "Adventure         144.25\n",
       "Fantasy           137.32\n",
       "Action            125.85\n",
       "Music             120.86\n",
       "Mystery           111.39\n",
       "Romance           110.58\n",
       "Thriller           82.98\n",
       "Drama              82.29\n",
       "Crime              70.50\n",
       "Western            43.83\n",
       "History            43.64\n",
       "War                25.64\n",
       "TV Movie          -67.26\n",
       "Name: (profitpercent_2020adj, median), dtype: float64"
      ]
     },
     "execution_count": 299,
     "metadata": {},
     "output_type": "execute_result"
    }
   ],
   "source": [
    "# Documentaries have the highest ROI, followed by Horror and Animation.\n",
    "# This kinda makes sense because documentaries will tend to have lower budgets \n",
    "# than big action or even animation films, so the ROI on a modest investment\n",
    "# multiples more quickly.\n",
    "# note that the genres that made the most profits hover around 125% to 144% ROI\n",
    "# range. This is likely because they have higher budgets.\n",
    "\n",
    "df_gp['profitpercent_2020adj', 'median'].sort_values(ascending=False)"
   ]
  },
  {
   "cell_type": "markdown",
   "metadata": {},
   "source": [
    "# Topic 3: Impact of Contributors on Profitability"
   ]
  },
  {
   "cell_type": "code",
   "execution_count": null,
   "metadata": {
    "scrolled": true
   },
   "outputs": [],
   "source": [
    "sql3 = \"\"\"SELECT w.tconst, n.primary_name, n.birth_year, 'Writer' AS role\n",
    "          FROM imdb_writers w\n",
    "          LEFT JOIN imdb_names n ON w.nconst = n.nconst\n",
    "\"\"\"\n",
    "\n",
    "\n",
    "df_writers = pd.DataFrame(cur.execute(sql3).fetchall(),columns=[x[0] for x in cur.description])\n",
    "df_writers.head()"
   ]
  },
  {
   "cell_type": "code",
   "execution_count": null,
   "metadata": {},
   "outputs": [],
   "source": [
    "sql4 = \"\"\"SELECT d.tconst, n.primary_name, n.birth_year, 'Director' AS role\n",
    "          FROM imdb_directors d\n",
    "          LEFT JOIN imdb_names n ON d.nconst = n.nconst\n",
    "\"\"\"\n",
    "\n",
    "\n",
    "df_dirs = pd.DataFrame(cur.execute(sql4).fetchall(),columns=[x[0] for x in cur.description])\n",
    "df_dirs.head()"
   ]
  },
  {
   "cell_type": "code",
   "execution_count": null,
   "metadata": {
    "scrolled": true
   },
   "outputs": [],
   "source": [
    "sql5 = \"\"\"SELECT p.tconst, n.primary_name, n.birth_year, p.category AS role\n",
    "          FROM imdb_principals p\n",
    "          LEFT JOIN imdb_names n ON n.nconst = p.nconst\n",
    "          WHERE p.category IN ('actor', 'actress')\n",
    "\"\"\"\n",
    "\n",
    "\n",
    "df_prins = pd.DataFrame(cur.execute(sql5).fetchall(),columns=[x[0] for x in cur.description])\n",
    "df_prins.head()"
   ]
  },
  {
   "cell_type": "code",
   "execution_count": 229,
   "metadata": {},
   "outputs": [
    {
     "data": {
      "text/html": [
       "<div>\n",
       "<style scoped>\n",
       "    .dataframe tbody tr th:only-of-type {\n",
       "        vertical-align: middle;\n",
       "    }\n",
       "\n",
       "    .dataframe tbody tr th {\n",
       "        vertical-align: top;\n",
       "    }\n",
       "\n",
       "    .dataframe thead th {\n",
       "        text-align: right;\n",
       "    }\n",
       "</style>\n",
       "<table border=\"1\" class=\"dataframe\">\n",
       "  <thead>\n",
       "    <tr style=\"text-align: right;\">\n",
       "      <th></th>\n",
       "      <th>tconst</th>\n",
       "      <th>averagerating</th>\n",
       "      <th>numvotes</th>\n",
       "    </tr>\n",
       "  </thead>\n",
       "  <tbody>\n",
       "    <tr>\n",
       "      <th>0</th>\n",
       "      <td>tt10356526</td>\n",
       "      <td>8.30</td>\n",
       "      <td>31</td>\n",
       "    </tr>\n",
       "    <tr>\n",
       "      <th>1</th>\n",
       "      <td>tt10384606</td>\n",
       "      <td>8.90</td>\n",
       "      <td>559</td>\n",
       "    </tr>\n",
       "    <tr>\n",
       "      <th>2</th>\n",
       "      <td>tt1042974</td>\n",
       "      <td>6.40</td>\n",
       "      <td>20</td>\n",
       "    </tr>\n",
       "    <tr>\n",
       "      <th>3</th>\n",
       "      <td>tt1043726</td>\n",
       "      <td>4.20</td>\n",
       "      <td>50352</td>\n",
       "    </tr>\n",
       "    <tr>\n",
       "      <th>4</th>\n",
       "      <td>tt1060240</td>\n",
       "      <td>6.50</td>\n",
       "      <td>21</td>\n",
       "    </tr>\n",
       "  </tbody>\n",
       "</table>\n",
       "</div>"
      ],
      "text/plain": [
       "       tconst  averagerating  numvotes\n",
       "0  tt10356526           8.30        31\n",
       "1  tt10384606           8.90       559\n",
       "2   tt1042974           6.40        20\n",
       "3   tt1043726           4.20     50352\n",
       "4   tt1060240           6.50        21"
      ]
     },
     "execution_count": 229,
     "metadata": {},
     "output_type": "execute_result"
    }
   ],
   "source": [
    "sql6 = \"\"\"SELECT r.tconst, r.averagerating, r.numvotes\n",
    "          FROM imdb_ratings r\n",
    "\"\"\"\n",
    "\n",
    "\n",
    "df_imdbratings = pd.DataFrame(cur.execute(sql6).fetchall(),columns=[x[0] for x in cur.description])\n",
    "df_imdbratings.head()"
   ]
  },
  {
   "cell_type": "code",
   "execution_count": 230,
   "metadata": {},
   "outputs": [
    {
     "data": {
      "text/plain": [
       "178352"
      ]
     },
     "metadata": {},
     "output_type": "display_data"
    },
    {
     "data": {
      "text/plain": [
       "163535"
      ]
     },
     "metadata": {},
     "output_type": "display_data"
    },
    {
     "data": {
      "text/plain": [
       "402893"
      ]
     },
     "metadata": {},
     "output_type": "display_data"
    }
   ],
   "source": [
    "display(len(df_writers), len(df_dirs), len(df_prins))"
   ]
  },
  {
   "cell_type": "code",
   "execution_count": 231,
   "metadata": {},
   "outputs": [
    {
     "data": {
      "text/plain": [
       "744780"
      ]
     },
     "execution_count": 231,
     "metadata": {},
     "output_type": "execute_result"
    }
   ],
   "source": [
    "df_roles = pd.concat([df_writers, df_dirs, df_prins])\n",
    "\n",
    "len(df_roles)"
   ]
  },
  {
   "cell_type": "code",
   "execution_count": 232,
   "metadata": {},
   "outputs": [],
   "source": [
    "# Normalize roles to title case\n",
    "df_roles['role'] = df_roles['role'].map(lambda x: x.title())"
   ]
  },
  {
   "cell_type": "code",
   "execution_count": 233,
   "metadata": {
    "scrolled": false
   },
   "outputs": [
    {
     "data": {
      "text/plain": [
       "array(['Writer', 'Director', 'Actor', 'Actress'], dtype=object)"
      ]
     },
     "execution_count": 233,
     "metadata": {},
     "output_type": "execute_result"
    }
   ],
   "source": [
    "df_roles['role'].unique()"
   ]
  },
  {
   "cell_type": "code",
   "execution_count": 238,
   "metadata": {
    "scrolled": true
   },
   "outputs": [],
   "source": [
    "df_roles.rename(columns={'tconst': 'imdb_id'}, inplace=True)\n",
    "df_imdbratings.rename(columns={'tconst': 'imdb_id'}, inplace=True)"
   ]
  },
  {
   "cell_type": "code",
   "execution_count": 239,
   "metadata": {
    "scrolled": false
   },
   "outputs": [
    {
     "name": "stdout",
     "output_type": "stream",
     "text": [
      "<class 'pandas.core.frame.DataFrame'>\n",
      "Int64Index: 1784 entries, 2 to 6352\n",
      "Data columns (total 18 columns):\n",
      " #   Column                 Non-Null Count  Dtype   \n",
      "---  ------                 --------------  -----   \n",
      " 0   id                     1784 non-null   int64   \n",
      " 1   budget                 1784 non-null   int64   \n",
      " 2   revenue                1784 non-null   int64   \n",
      " 3   release_date           1784 non-null   object  \n",
      " 4   original_language      1784 non-null   object  \n",
      " 5   imdb_id                1784 non-null   object  \n",
      " 6   runtime                1782 non-null   float64 \n",
      " 7   vote_average           1784 non-null   float64 \n",
      " 8   vote_count             1784 non-null   int64   \n",
      " 9   release_year           1784 non-null   int64   \n",
      " 10  release_month          1784 non-null   object  \n",
      " 11  release_month_num      1784 non-null   int64   \n",
      " 12  budget_2020adj         1784 non-null   float64 \n",
      " 13  revenue_2020adj        1784 non-null   float64 \n",
      " 14  profit_2020adj         1784 non-null   float64 \n",
      " 15  profitpercent_2020adj  1784 non-null   float64 \n",
      " 16  profit_category        1784 non-null   object  \n",
      " 17  roi_quantile           1784 non-null   category\n",
      "dtypes: category(1), float64(6), int64(6), object(5)\n",
      "memory usage: 333.0+ KB\n"
     ]
    }
   ],
   "source": [
    "df.info()"
   ]
  },
  {
   "cell_type": "code",
   "execution_count": 240,
   "metadata": {
    "scrolled": false
   },
   "outputs": [],
   "source": [
    "# Merge the imdb ratings and numvotes into tmdb movie working dataframe\n",
    "df = df.merge(df_imdbratings[['imdb_id','averagerating', 'numvotes']], \n",
    "              how='left', on='imdb_id')"
   ]
  },
  {
   "cell_type": "code",
   "execution_count": 241,
   "metadata": {},
   "outputs": [],
   "source": [
    "# and rename to reflect the provenance\n",
    "df.rename(columns={'averagerating': 'imdb_averagerating', \n",
    "                   'numvotes': 'imdb_numvotes'}, inplace=True)"
   ]
  },
  {
   "cell_type": "code",
   "execution_count": 242,
   "metadata": {},
   "outputs": [
    {
     "name": "stdout",
     "output_type": "stream",
     "text": [
      "<class 'pandas.core.frame.DataFrame'>\n",
      "Int64Index: 1784 entries, 0 to 1783\n",
      "Data columns (total 20 columns):\n",
      " #   Column                 Non-Null Count  Dtype   \n",
      "---  ------                 --------------  -----   \n",
      " 0   id                     1784 non-null   int64   \n",
      " 1   budget                 1784 non-null   int64   \n",
      " 2   revenue                1784 non-null   int64   \n",
      " 3   release_date           1784 non-null   object  \n",
      " 4   original_language      1784 non-null   object  \n",
      " 5   imdb_id                1784 non-null   object  \n",
      " 6   runtime                1782 non-null   float64 \n",
      " 7   vote_average           1784 non-null   float64 \n",
      " 8   vote_count             1784 non-null   int64   \n",
      " 9   release_year           1784 non-null   int64   \n",
      " 10  release_month          1784 non-null   object  \n",
      " 11  release_month_num      1784 non-null   int64   \n",
      " 12  budget_2020adj         1784 non-null   float64 \n",
      " 13  revenue_2020adj        1784 non-null   float64 \n",
      " 14  profit_2020adj         1784 non-null   float64 \n",
      " 15  profitpercent_2020adj  1784 non-null   float64 \n",
      " 16  profit_category        1784 non-null   object  \n",
      " 17  roi_quantile           1784 non-null   category\n",
      " 18  imdb_averagerating     1694 non-null   float64 \n",
      " 19  imdb_numvotes          1694 non-null   float64 \n",
      "dtypes: category(1), float64(8), int64(6), object(5)\n",
      "memory usage: 280.9+ KB\n"
     ]
    }
   ],
   "source": [
    "df.info()"
   ]
  },
  {
   "cell_type": "code",
   "execution_count": 243,
   "metadata": {},
   "outputs": [
    {
     "name": "stdout",
     "output_type": "stream",
     "text": [
      "<class 'pandas.core.frame.DataFrame'>\n",
      "Int64Index: 744780 entries, 0 to 402892\n",
      "Data columns (total 4 columns):\n",
      " #   Column        Non-Null Count   Dtype  \n",
      "---  ------        --------------   -----  \n",
      " 0   imdb_id       744780 non-null  object \n",
      " 1   primary_name  744535 non-null  object \n",
      " 2   birth_year    199944 non-null  float64\n",
      " 3   role          744780 non-null  object \n",
      "dtypes: float64(1), object(3)\n",
      "memory usage: 28.4+ MB\n"
     ]
    }
   ],
   "source": [
    "df_roles.info()"
   ]
  },
  {
   "cell_type": "code",
   "execution_count": 245,
   "metadata": {
    "scrolled": true
   },
   "outputs": [
    {
     "name": "stdout",
     "output_type": "stream",
     "text": [
      "<class 'pandas.core.frame.DataFrame'>\n",
      "Int64Index: 13751 entries, 0 to 13750\n",
      "Data columns (total 9 columns):\n",
      " #   Column                 Non-Null Count  Dtype  \n",
      "---  ------                 --------------  -----  \n",
      " 0   imdb_id                13751 non-null  object \n",
      " 1   primary_name           13751 non-null  object \n",
      " 2   birth_year             10366 non-null  float64\n",
      " 3   role                   13751 non-null  object \n",
      " 4   id                     13751 non-null  int64  \n",
      " 5   profit_2020adj         13751 non-null  float64\n",
      " 6   profitpercent_2020adj  13751 non-null  float64\n",
      " 7   imdb_averagerating     13144 non-null  float64\n",
      " 8   imdb_numvotes          13144 non-null  float64\n",
      "dtypes: float64(5), int64(1), object(3)\n",
      "memory usage: 1.0+ MB\n"
     ]
    }
   ],
   "source": [
    "# Merge the values from our movies dataframe into the roles one\n",
    "df_credits = df_roles.merge(df[['imdb_id', 'id','profit_2020adj', 'profitpercent_2020adj',\n",
    "                                'imdb_averagerating', 'imdb_numvotes']], \n",
    "                            on='imdb_id')\n",
    "\n",
    "df_credits.info()"
   ]
  },
  {
   "cell_type": "code",
   "execution_count": 300,
   "metadata": {},
   "outputs": [],
   "source": [
    "df_cred_pvt = pd.pivot_table(data=df_credits, index=['role', 'primary_name'], \n",
    "                       aggfunc={'id': 'count',\n",
    "                                'profit_2020adj': [np.sum, np.mean],\n",
    "                                'profitpercent_2020adj': np.median,\n",
    "                                'imdb_averagerating': np.mean\n",
    "                               } )"
   ]
  },
  {
   "cell_type": "code",
   "execution_count": 308,
   "metadata": {},
   "outputs": [
    {
     "data": {
      "text/plain": [
       "MultiIndex([( 'Actor',              '50 Cent'),\n",
       "            ( 'Actor',           'Aamir Khan'),\n",
       "            ( 'Actor',          'Aaron Burns'),\n",
       "            ( 'Actor',        'Aaron Eckhart'),\n",
       "            ( 'Actor',           'Aaron Kwok'),\n",
       "            ( 'Actor',           'Aaron Paul'),\n",
       "            ( 'Actor', 'Aaron Taylor-Johnson'),\n",
       "            ( 'Actor',          'Aaron Tveit'),\n",
       "            ( 'Actor',         'Aasif Mandvi'),\n",
       "            ( 'Actor',  'Abraham Clinkscales'),\n",
       "            ...\n",
       "            ('Writer',       'Zal Batmanglij'),\n",
       "            ('Writer',            'Zoe Kazan'),\n",
       "            ('Writer',        'Zolbayar Dorj'),\n",
       "            ('Writer',          'Zoya Akhtar'),\n",
       "            ('Writer',          'Àlex Pastor'),\n",
       "            ('Writer',   'Álex de la Iglesia'),\n",
       "            ('Writer',  'Álvaro Díaz Lorenzo'),\n",
       "            ('Writer',     'Álvaro Rodríguez'),\n",
       "            ('Writer',        'Éric Toledano'),\n",
       "            ('Writer',       'Óskar Jónasson')],\n",
       "           names=['role', 'primary_name'], length=7539)"
      ]
     },
     "execution_count": 308,
     "metadata": {},
     "output_type": "execute_result"
    }
   ],
   "source": [
    "df_cred_pvt.index"
   ]
  },
  {
   "cell_type": "code",
   "execution_count": 310,
   "metadata": {
    "scrolled": true
   },
   "outputs": [
    {
     "data": {
      "text/plain": [
       "primary_name\n",
       "Joe Russo           5841371293.55\n",
       "Anthony Russo       5841371293.55\n",
       "Pierre Coffin       3732583248.11\n",
       "David Yates         3572144166.05\n",
       "James Wan           3221906262.10\n",
       "J.J. Abrams         3133330583.63\n",
       "Christopher Nolan   2891876946.28\n",
       "Chris Renaud        2799168840.19\n",
       "Jon Favreau         2784513730.41\n",
       "Joss Whedon         2725740833.21\n",
       "Name: (profit_2020adj, sum), dtype: float64"
      ]
     },
     "execution_count": 310,
     "metadata": {},
     "output_type": "execute_result"
    }
   ],
   "source": [
    "# Top 10 directors based on sum of the profits their movies made in the last 10 years\n",
    "df_cred_pvt.loc[('Director')]['profit_2020adj', 'sum'].sort_values(ascending=False)[:10]"
   ]
  },
  {
   "cell_type": "code",
   "execution_count": 311,
   "metadata": {
    "scrolled": true
   },
   "outputs": [
    {
     "data": {
      "text/plain": [
       "primary_name\n",
       "Stan Lee             16269528687.92\n",
       "Jack Kirby           15777135918.51\n",
       "Stephen McFeely       6943310052.97\n",
       "Christopher Markus    6943310052.97\n",
       "Jim Starlin           6893197234.70\n",
       "Larry Lieber          6637102501.99\n",
       "Joe Simon             5640934268.65\n",
       "George Lucas          5091445489.17\n",
       "Michael Arndt         4777476614.45\n",
       "Linda Woolverton      4641522784.55\n",
       "Name: (profit_2020adj, sum), dtype: float64"
      ]
     },
     "execution_count": 311,
     "metadata": {},
     "output_type": "execute_result"
    }
   ],
   "source": [
    "# Top 10 writers based on sum of the profits their movies made in the last 10 years\n",
    "df_cred_pvt.loc[('Writer')]['profit_2020adj', 'sum'].sort_values(ascending=False)[:10]"
   ]
  },
  {
   "cell_type": "code",
   "execution_count": 312,
   "metadata": {
    "scrolled": false
   },
   "outputs": [
    {
     "data": {
      "text/plain": [
       "primary_name\n",
       "Robert Downey Jr.   10869654532.10\n",
       "Chris Evans          9182984358.18\n",
       "Dwayne Johnson       8540831489.51\n",
       "Chris Hemsworth      7613406364.84\n",
       "Mark Ruffalo         7226992156.86\n",
       "Vin Diesel           5522227200.54\n",
       "Chris Pratt          5116070018.00\n",
       "Jason Statham        3552916951.33\n",
       "Samuel L. Jackson    3470348945.91\n",
       "Kevin Hart           3452508650.64\n",
       "Name: (profit_2020adj, sum), dtype: float64"
      ]
     },
     "execution_count": 312,
     "metadata": {},
     "output_type": "execute_result"
    }
   ],
   "source": [
    "# Top 10 male actors based on sum of the profits their movies made in the last 10 years\n",
    "df_cred_pvt.loc[('Actor')]['profit_2020adj', 'sum'].sort_values(ascending=False)[:10]"
   ]
  },
  {
   "cell_type": "code",
   "execution_count": 313,
   "metadata": {},
   "outputs": [
    {
     "data": {
      "text/plain": [
       "primary_name\n",
       "Anne Hathaway         4662385564.32\n",
       "Scarlett Johansson    4292365701.20\n",
       "Jennifer Lawrence     4277557194.57\n",
       "Daisy Ridley          4020979912.03\n",
       "Emma Watson           3810054118.37\n",
       "Cate Blanchett        3567266170.96\n",
       "Bryce Dallas Howard   3360001413.13\n",
       "Kristen Wiig          3184871569.86\n",
       "Kristen Bell          2914990137.57\n",
       "Emma Stone            2880099012.44\n",
       "Name: (profit_2020adj, sum), dtype: float64"
      ]
     },
     "execution_count": 313,
     "metadata": {},
     "output_type": "execute_result"
    }
   ],
   "source": [
    "# Top 10 actresses based on sum of the profits their movies made in the last 10 years\n",
    "df_cred_pvt.loc[('Actress')]['profit_2020adj', 'sum'].sort_values(ascending=False)[:10]"
   ]
  },
  {
   "cell_type": "markdown",
   "metadata": {},
   "source": [
    "# Extra stuff"
   ]
  },
  {
   "cell_type": "code",
   "execution_count": 475,
   "metadata": {
    "scrolled": true
   },
   "outputs": [],
   "source": [
    "# I think this the most accurate representation of movies created by American\n",
    "# production studios, using films associated with US production studios.\n",
    "# After further analysis, also added movies that had English as original_language,\n",
    "# which means this includes some english films produced by studios outside the US.\n",
    "# Finally, limited to films with runtime over 60 mins, as was pulling in shorter\n",
    "# films that may have a different audience.\n",
    "\n",
    "sql2 = \"\"\"SELECT DISTINCT m.id\n",
    "                        , m.budget\n",
    "                        , m.revenue\n",
    "                        , m.release_date\n",
    "                        , m.original_language\n",
    "                        , m.imdb_id\n",
    "                        , m.runtime\n",
    "                        , m.vote_average\n",
    "                        , m.vote_count\n",
    "         FROM tmdb_movies m\n",
    "         WHERE ((\n",
    "                (m.id IN (SELECT DISTINCT pc.id \n",
    "                          FROM tmdb_movie_companies pc\n",
    "                          INNER JOIN tmdb_prodco c ON c.prodco_id = pc.prodco_id\n",
    "                          WHERE c.origin_country = 'US'))\n",
    "            OR  (m.original_language = 'en')\n",
    "               )\n",
    "            AND (m.runtime > 60))\n",
    "               \n",
    "         \"\"\"\n",
    "\n",
    "df = pd.DataFrame(cur.execute(sql2).fetchall(),columns=[x[0] for x in cur.description])"
   ]
  },
  {
   "cell_type": "code",
   "execution_count": 109,
   "metadata": {
    "scrolled": true
   },
   "outputs": [],
   "source": [
    "# Replace 0 with NULL values for budget, revenue, and runtime columns\n",
    "# Do in SQL so don't have to redo each time unless added new data\n",
    "\n",
    "sql4 = \"\"\"UPDATE tmdb_movies\n",
    "          SET budget = NULL WHERE budget = 0\"\"\"\n",
    "sql5 = \"\"\"UPDATE tmdb_movies\n",
    "          SET revenue = NULL WHERE revenue = 0\"\"\"\n",
    "sql6 = \"\"\"UPDATE tmdb_movies\n",
    "          SET runtime = NULL WHERE runtime = 0\"\"\"\n",
    "sql7 = \"\"\"UPDATE tmdb_movies\n",
    "          SET release_date = NULL WHERE release_date = ''\"\"\"\n",
    "\n",
    "#cur.execute(sql4)\n",
    "#cur.execute(sql5)\n",
    "#cur.execute(sql6)\n",
    "#cur.execute(sql7)\n",
    "\n",
    "conn.commit()"
   ]
  },
  {
   "cell_type": "code",
   "execution_count": 123,
   "metadata": {},
   "outputs": [
    {
     "data": {
      "text/plain": [
       "10    56366\n",
       "Name: release_date, dtype: int64"
      ]
     },
     "execution_count": 123,
     "metadata": {},
     "output_type": "execute_result"
    }
   ],
   "source": [
    "# Take a look at just the non-nulls\n",
    "df[df['release_date'].isna()==False]['release_date'].map(lambda x: len(x)).value_counts()"
   ]
  },
  {
   "cell_type": "code",
   "execution_count": 93,
   "metadata": {},
   "outputs": [],
   "source": [
    "# So these are mostly english-language films. What production companies \n",
    "# are we talking about for english-language films that aren't associated\n",
    "# with a US production company?\n",
    "\n",
    "# These are the production companies associated with films that NO US-based\n",
    "# production company worked on, and where the original_language was English\n",
    "\n",
    "sql3 = \"\"\"SELECT DISTINCT pc.id, c.name AS prodco_name, c.origin_country\n",
    "          FROM tmdb_movie_companies pc\n",
    "          INNER JOIN tmdb_prodco c ON c.prodco_id = pc.prodco_id\n",
    "          WHERE (\n",
    "                 (pc.id NOT IN (SELECT DISTINCT pc.id \n",
    "                                FROM tmdb_movie_companies pc\n",
    "                                INNER JOIN tmdb_prodco c ON c.prodco_id = pc.prodco_id\n",
    "                                WHERE c.origin_country = 'US'))\n",
    "             AND (pc.id IN (SELECT id FROM tmdb_movies \n",
    "                            WHERE original_language='en'))\n",
    "                )\n",
    "              \"\"\"\n",
    "\n",
    "df3 = pd.DataFrame(cur.execute(sql3).fetchall(),columns=[x[0] for x in cur.description])"
   ]
  },
  {
   "cell_type": "code",
   "execution_count": 41,
   "metadata": {},
   "outputs": [
    {
     "data": {
      "text/plain": [
       "BBC                                 725\n",
       "Universal International Pictures    200\n",
       "BBC Films                           148\n",
       "Hammer Film Productions             118\n",
       "Canal+                              110\n",
       "                                   ... \n",
       "Willowcreek Entertainment             1\n",
       "From the Dead Pictures                1\n",
       "Spinster                              1\n",
       "New Machine Studios                   1\n",
       "Cavalcade Films                       1\n",
       "Name: prodco_name, Length: 22543, dtype: int64"
      ]
     },
     "execution_count": 41,
     "metadata": {},
     "output_type": "execute_result"
    }
   ],
   "source": [
    "df3['prodco_name'].value_counts()"
   ]
  },
  {
   "cell_type": "code",
   "execution_count": 28,
   "metadata": {
    "scrolled": false
   },
   "outputs": [
    {
     "data": {
      "text/plain": [
       "en    24795\n",
       "es       78\n",
       "fr       75\n",
       "ja       62\n",
       "it       59\n",
       "de       50\n",
       "pt       29\n",
       "zh       25\n",
       "hi       14\n",
       "ko       11\n",
       "ru       10\n",
       "xx        9\n",
       "he        8\n",
       "id        6\n",
       "cn        5\n",
       "sv        5\n",
       "tr        4\n",
       "ar        4\n",
       "nl        4\n",
       "ro        3\n",
       "el        3\n",
       "da        3\n",
       "uk        2\n",
       "th        2\n",
       "pl        2\n",
       "tl        1\n",
       "et        1\n",
       "no        1\n",
       "hu        1\n",
       "ak        1\n",
       "se        1\n",
       "fa        1\n",
       "ml        1\n",
       "ca        1\n",
       "ab        1\n",
       "Name: original_language, dtype: int64"
      ]
     },
     "execution_count": 28,
     "metadata": {},
     "output_type": "execute_result"
    }
   ],
   "source": [
    "df2['original_language'].value_counts()"
   ]
  },
  {
   "cell_type": "code",
   "execution_count": null,
   "metadata": {},
   "outputs": [],
   "source": [
    "#Ultimately, I think I want the deduplicated union of both these sets.\n",
    "# This represents all movies which were either "
   ]
  },
  {
   "cell_type": "code",
   "execution_count": 542,
   "metadata": {},
   "outputs": [],
   "source": [
    "# release_decade\n",
    "df['release_decade'] = df[df['release_year'] > 0]['release_year'].map(\n",
    "    lambda x : int(str(x)[:3] + '0'))\n",
    "\n",
    "df.loc[df['release_decade'].isna()==True, 'release_decade'] = 0\n",
    "\n",
    "df['release_decade'] = df['release_decade'].astype(int)"
   ]
  },
  {
   "cell_type": "code",
   "execution_count": 342,
   "metadata": {
    "scrolled": false
   },
   "outputs": [],
   "source": [
    "# Using only the data\n",
    "# - release date in range 1960 to 2020\n",
    "# - where we have a budget and it's greater than $10,000\n",
    "# - where we have revenue\n",
    "\n",
    "df_finance = df[(df['budget'] > 10000) & (df['revenue'].isna() == False)\n",
    "   & (df['release_year'] >= 1960) & (df['release_year'] <= 2020)].copy()"
   ]
  },
  {
   "cell_type": "code",
   "execution_count": 342,
   "metadata": {
    "scrolled": false
   },
   "outputs": [],
   "source": [
    "# Using only the data\n",
    "# - release date in range 1960 to 2020\n",
    "# - where we have a budget and it's greater than $10,000\n",
    "# - where we have revenue\n",
    "\n",
    "df_finance = df[(df['budget'] > 10000) & (df['revenue'].isna() == False)\n",
    "   & (df['release_year'] >= 1960) & (df['release_year'] <= 2020)].copy()"
   ]
  },
  {
   "cell_type": "code",
   "execution_count": 345,
   "metadata": {},
   "outputs": [],
   "source": [
    "#df_recent = df_finance[(df_finance['release_year'] >= 2010) & (\n",
    "#    df_finance['release_year'] < 2020)]\n",
    "\n",
    "df_recent = df_finance[(df_finance['release_year'] >= 2010) & (\n",
    "    df_finance['release_year'] <= 2020)]"
   ]
  },
  {
   "cell_type": "code",
   "execution_count": 647,
   "metadata": {},
   "outputs": [],
   "source": [
    "# Create % profit categories, my initial version\n",
    "df.loc[df['profitpercent_2020adj'] <= -10, 'profit_category'] = 'Lost Money'\n",
    "df.loc[(df['profitpercent_2020adj'] > -10) & (df['profitpercent_2020adj']\n",
    "                                    <= 10), 'profit_category'] = '~ Broke Even'\n",
    "df.loc[(df['profitpercent_2020adj'] > 10) & (df['profitpercent_2020adj']\n",
    "                                    <= 50), 'profit_category'] = 'ROI 10-50%'\n",
    "df.loc[(df['profitpercent_2020adj'] > 50) & (df['profitpercent_2020adj']\n",
    "                                    <= 100), 'profit_category'] = 'ROI 50-100%'\n",
    "df.loc[(df['profitpercent_2020adj'] > 100) & (df['profitpercent_2020adj']\n",
    "                                    <= 500), 'profit_category'] = 'ROI 100-500%'\n",
    "df.loc[(df['profitpercent_2020adj'] > 500) & (df['profitpercent_2020adj']\n",
    "                                    <= 1000), 'profit_category'] = 'ROI 500-1000%'\n",
    "df.loc[df['profitpercent_2020adj'] > 1000, 'profit_category'] = 'ROI Over 1000%'"
   ]
  },
  {
   "cell_type": "code",
   "execution_count": 747,
   "metadata": {
    "scrolled": true
   },
   "outputs": [
    {
     "data": {
      "image/png": "[encoded data removed]",
      "text/plain": [
       "<Figure size 921.6x633.6 with 2 Axes>"
      ]
     },
     "metadata": {
      "needs_background": "light"
     },
     "output_type": "display_data"
    }
   ],
   "source": [
    "month_order = ['January','February','March','April','May','June',\n",
    "             'July','August','September','October','November',\n",
    "             'December']\n",
    "\n",
    "with plt.style.context('seaborn-poster'):\n",
    "    fig, ax = plt.subplots()\n",
    "    # source: https://stackoverflow.com/questions/57207245/\n",
    "    #how-do-you-use-count-plot-and-line-plot-with-the-same-y-axis-in-seaborn\n",
    "    ax2=ax.twinx()\n",
    "\n",
    "    sns.countplot(x=df['release_month_num'], ax=ax)\n",
    "    sns.lineplot(x=df['release_month_num'], y=df['profit_2020adj'], sort=True,\n",
    "                 estimator=np.median, ax=ax2)\n",
    "    \n",
    "    #ax.plot(df.groupby('release_month')['profit_2020adj'].median());\n",
    "    #ax.set_title('Count of Movies Released in each Calendar Month');\n",
    "    #ax.set_xlabel('Release Month');\n",
    "    #ax.set_ylabel('Number of Movies Released');"
   ]
  },
  {
   "cell_type": "code",
   "execution_count": 758,
   "metadata": {
    "scrolled": false
   },
   "outputs": [
    {
     "data": {
      "image/png": "[encoded data removed]",
      "text/plain": [
       "<Figure size 921.6x633.6 with 2 Axes>"
      ]
     },
     "metadata": {
      "needs_background": "light"
     },
     "output_type": "display_data"
    }
   ],
   "source": [
    "month_order = ['January','February','March','April','May','June',\n",
    "             'July','August','September','October','November',\n",
    "             'December']\n",
    "\n",
    "with plt.style.context('seaborn-poster'):\n",
    "    fig, ([ax1, ax2]) = plt.subplots(ncols=1, nrows=2)\n",
    "\n",
    "    sns.countplot(x=df['release_month_num'], ax=ax1)\n",
    "    sns.lineplot(x=df['release_month_num'], y=df['profit_2020adj'], sort=True,\n",
    "                 estimator=np.median, ax=ax2)\n",
    "    \n",
    "    #ax.plot(df.groupby('release_month')['profit_2020adj'].median());\n",
    "    #ax.set_title('Count of Movies Released in each Calendar Month');\n",
    "    #ax.set_xlabel('Release Month');\n",
    "    #ax.set_ylabel('Number of Movies Released');"
   ]
  },
  {
   "cell_type": "code",
   "execution_count": 696,
   "metadata": {
    "scrolled": false
   },
   "outputs": [
    {
     "data": {
      "image/png": "[encoded data removed]",
      "text/plain": [
       "<Figure size 921.6x633.6 with 1 Axes>"
      ]
     },
     "metadata": {
      "needs_background": "light"
     },
     "output_type": "display_data"
    }
   ],
   "source": [
    "month_order = ['January','February','March','April','May','June',\n",
    "             'July','August','September','October','November',\n",
    "             'December']\n",
    "\n",
    "with plt.style.context('seaborn-poster'):\n",
    "    fig, ax = plt.subplots()\n",
    "\n",
    "    sns.countplot(x=df['release_month'], order=month_order)\n",
    "\n",
    "    ax.set_title('Count of Movies Released in each Calendar Month');\n",
    "    ax.set_xlabel('Release Month');\n",
    "    ax.set_ylabel('Number of Movies Released');\n"
   ]
  }
 ],
 "metadata": {
  "kernelspec": {
   "display_name": "learn-env",
   "language": "python",
   "name": "learn-env"
  },
  "language_info": {
   "codemirror_mode": {
    "name": "ipython",
    "version": 3
   },
   "file_extension": ".py",
   "mimetype": "text/x-python",
   "name": "python",
   "nbconvert_exporter": "python",
   "pygments_lexer": "ipython3",
   "version": "3.8.5"
  },
  "toc": {
   "base_numbering": 1,
   "nav_menu": {},
   "number_sections": true,
   "sideBar": true,
   "skip_h1_title": false,
   "title_cell": "Table of Contents",
   "title_sidebar": "Contents",
   "toc_cell": false,
   "toc_position": {
    "height": "calc(100% - 180px)",
    "left": "10px",
    "top": "150px",
    "width": "247.594px"
   },
   "toc_section_display": true,
   "toc_window_display": true
  },
  "varInspector": {
   "cols": {
    "lenName": 16,
    "lenType": 16,
    "lenVar": 40
   },
   "kernels_config": {
    "python": {
     "delete_cmd_postfix": "",
     "delete_cmd_prefix": "del ",
     "library": "var_list.py",
     "varRefreshCmd": "print(var_dic_list())"
    },
    "r": {
     "delete_cmd_postfix": ") ",
     "delete_cmd_prefix": "rm(",
     "library": "var_list.r",
     "varRefreshCmd": "cat(var_dic_list()) "
    }
   },
   "types_to_exclude": [
    "module",
    "function",
    "builtin_function_or_method",
    "instance",
    "_Feature"
   ],
   "window_display": false
  }
 },
 "nbformat": 4,
 "nbformat_minor": 4
}
