{
 "cells": [
  {
   "cell_type": "code",
   "execution_count": 295,
   "metadata": {},
   "outputs": [],
   "source": [
    "import pandas as pd\n",
    "import numpy as np\n",
    "import sqlite3\n",
    "import json\n",
    "import pickle\n",
    "import matplotlib.pyplot as plt\n",
    "%matplotlib inline\n",
    "import seaborn as sns\n",
    "\n",
    "# Thanks StackOverflow!\n",
    "# https://stackoverflow.com/questions/21137150/format-suppress-scientific-\n",
    "#         notation-from-python-pandas-aggregation-results\n",
    "pd.options.display.float_format = '{:.2f}'.format"
   ]
  },
  {
   "cell_type": "code",
   "execution_count": 4,
   "metadata": {},
   "outputs": [
    {
     "name": "stdout",
     "output_type": "stream",
     "text": [
      "/Users/jessicamiles/Documents/Flatiron_Data_Science/git_labs_lessons/phase1/dsc-phase-1-project/analysis\n"
     ]
    }
   ],
   "source": [
    "cd '/Users/jessicamiles/Documents/Flatiron_Data_Science/git_labs_lessons/phase1/dsc-phase-1-project/analysis'"
   ]
  },
  {
   "cell_type": "code",
   "execution_count": 21,
   "metadata": {},
   "outputs": [],
   "source": [
    "conn = sqlite3.connect('movie_analysis.db')\n",
    "cur = conn.cursor()"
   ]
  },
  {
   "cell_type": "code",
   "execution_count": 425,
   "metadata": {},
   "outputs": [],
   "source": [
    "# Source: https://pbpython.com/effective-matplotlib.html\n",
    "\n",
    "# {:1.1f} in this case means: apply format to the first 1 instance\n",
    "# that value should be presented with .1f = as a float with 1 point precision\n",
    "# change the second number to increase or decrease precision\n",
    "\n",
    "def currency(x, pos):\n",
    "    'The two args are the value and tick position'\n",
    "    if abs(x) >= 1000000000:\n",
    "        return '${:1.1f} B'.format(x*1e-9)\n",
    "        return '${:1.1f} B'.format(x*1e-9)\n",
    "    elif abs(x) >= 1000000:\n",
    "        return '${:1.1f} M'.format(x*1e-6)\n",
    "    elif x == 0:\n",
    "        return '${:0}'.format(x)\n",
    "    else:\n",
    "        return '${:1.0f} K'.format(x*1e-3)"
   ]
  },
  {
   "cell_type": "markdown",
   "metadata": {},
   "source": [
    "# Topic 1: Profitability Trends"
   ]
  },
  {
   "cell_type": "markdown",
   "metadata": {},
   "source": [
    "## Create dataframe with relevant films for financial analysis"
   ]
  },
  {
   "cell_type": "code",
   "execution_count": 169,
   "metadata": {
    "scrolled": true
   },
   "outputs": [],
   "source": [
    "# I think this the most accurate representation of movies created by American\n",
    "# production studios, using films associated with US production studios.\n",
    "# After further analysis, also added movies that had English as original_language,\n",
    "# which means this includes some english films produced by studios outside the US.\n",
    "# Finally, limited to films with runtime over 60 mins, as was pulling in shorter\n",
    "# films that may have a different audience.\n",
    "\n",
    "sql2 = \"\"\"SELECT DISTINCT m.id\n",
    "                        , m.budget\n",
    "                        , m.revenue\n",
    "                        , m.release_date\n",
    "                        , m.original_language\n",
    "                        , m.imdb_id\n",
    "                        , m.runtime\n",
    "                        , m.vote_average\n",
    "                        , m.vote_count\n",
    "         FROM tmdb_movies m\n",
    "         WHERE ((\n",
    "                (m.id IN (SELECT DISTINCT pc.id \n",
    "                          FROM tmdb_movie_companies pc\n",
    "                          INNER JOIN tmdb_prodco c ON c.prodco_id = pc.prodco_id\n",
    "                          WHERE c.origin_country = 'US'))\n",
    "            OR  (m.original_language = 'en')\n",
    "               )\n",
    "            AND (m.runtime > 60))\n",
    "               \n",
    "         \"\"\"\n",
    "\n",
    "df = pd.DataFrame(cur.execute(sql2).fetchall(),columns=[x[0] for x in cur.description])"
   ]
  },
  {
   "cell_type": "code",
   "execution_count": 170,
   "metadata": {
    "scrolled": true
   },
   "outputs": [
    {
     "name": "stdout",
     "output_type": "stream",
     "text": [
      "<class 'pandas.core.frame.DataFrame'>\n",
      "RangeIndex: 56380 entries, 0 to 56379\n",
      "Data columns (total 9 columns):\n",
      " #   Column             Non-Null Count  Dtype  \n",
      "---  ------             --------------  -----  \n",
      " 0   id                 56380 non-null  int64  \n",
      " 1   budget             10850 non-null  float64\n",
      " 2   revenue            8302 non-null   float64\n",
      " 3   release_date       56366 non-null  object \n",
      " 4   original_language  56380 non-null  object \n",
      " 5   imdb_id            55699 non-null  object \n",
      " 6   runtime            56380 non-null  float64\n",
      " 7   vote_average       56380 non-null  float64\n",
      " 8   vote_count         56380 non-null  int64  \n",
      "dtypes: float64(4), int64(2), object(3)\n",
      "memory usage: 3.9+ MB\n"
     ]
    }
   ],
   "source": [
    "df.info()"
   ]
  },
  {
   "cell_type": "code",
   "execution_count": 171,
   "metadata": {
    "scrolled": true
   },
   "outputs": [
    {
     "data": {
      "text/html": [
       "<div>\n",
       "<style scoped>\n",
       "    .dataframe tbody tr th:only-of-type {\n",
       "        vertical-align: middle;\n",
       "    }\n",
       "\n",
       "    .dataframe tbody tr th {\n",
       "        vertical-align: top;\n",
       "    }\n",
       "\n",
       "    .dataframe thead th {\n",
       "        text-align: right;\n",
       "    }\n",
       "</style>\n",
       "<table border=\"1\" class=\"dataframe\">\n",
       "  <thead>\n",
       "    <tr style=\"text-align: right;\">\n",
       "      <th></th>\n",
       "      <th>id</th>\n",
       "      <th>budget</th>\n",
       "      <th>revenue</th>\n",
       "      <th>runtime</th>\n",
       "      <th>vote_average</th>\n",
       "      <th>vote_count</th>\n",
       "    </tr>\n",
       "  </thead>\n",
       "  <tbody>\n",
       "    <tr>\n",
       "      <th>count</th>\n",
       "      <td>56380.00</td>\n",
       "      <td>10850.00</td>\n",
       "      <td>8302.00</td>\n",
       "      <td>56380.00</td>\n",
       "      <td>56380.00</td>\n",
       "      <td>56380.00</td>\n",
       "    </tr>\n",
       "    <tr>\n",
       "      <th>mean</th>\n",
       "      <td>204081.74</td>\n",
       "      <td>19779143.19</td>\n",
       "      <td>69814223.57</td>\n",
       "      <td>98.20</td>\n",
       "      <td>5.53</td>\n",
       "      <td>227.69</td>\n",
       "    </tr>\n",
       "    <tr>\n",
       "      <th>std</th>\n",
       "      <td>204595.92</td>\n",
       "      <td>34357146.86</td>\n",
       "      <td>157088846.86</td>\n",
       "      <td>41.35</td>\n",
       "      <td>2.00</td>\n",
       "      <td>1076.63</td>\n",
       "    </tr>\n",
       "    <tr>\n",
       "      <th>min</th>\n",
       "      <td>5.00</td>\n",
       "      <td>1.00</td>\n",
       "      <td>1.00</td>\n",
       "      <td>61.00</td>\n",
       "      <td>0.00</td>\n",
       "      <td>0.00</td>\n",
       "    </tr>\n",
       "    <tr>\n",
       "      <th>25%</th>\n",
       "      <td>38384.75</td>\n",
       "      <td>1000000.00</td>\n",
       "      <td>1918387.00</td>\n",
       "      <td>85.00</td>\n",
       "      <td>4.90</td>\n",
       "      <td>4.00</td>\n",
       "    </tr>\n",
       "    <tr>\n",
       "      <th>50%</th>\n",
       "      <td>112507.00</td>\n",
       "      <td>6000000.00</td>\n",
       "      <td>15128146.50</td>\n",
       "      <td>92.00</td>\n",
       "      <td>6.00</td>\n",
       "      <td>11.00</td>\n",
       "    </tr>\n",
       "    <tr>\n",
       "      <th>75%</th>\n",
       "      <td>339535.50</td>\n",
       "      <td>23000000.00</td>\n",
       "      <td>64778551.25</td>\n",
       "      <td>103.00</td>\n",
       "      <td>6.70</td>\n",
       "      <td>46.00</td>\n",
       "    </tr>\n",
       "    <tr>\n",
       "      <th>max</th>\n",
       "      <td>804762.00</td>\n",
       "      <td>380000000.00</td>\n",
       "      <td>2797800564.00</td>\n",
       "      <td>5220.00</td>\n",
       "      <td>10.00</td>\n",
       "      <td>28618.00</td>\n",
       "    </tr>\n",
       "  </tbody>\n",
       "</table>\n",
       "</div>"
      ],
      "text/plain": [
       "             id       budget       revenue  runtime  vote_average  vote_count\n",
       "count  56380.00     10850.00       8302.00 56380.00      56380.00    56380.00\n",
       "mean  204081.74  19779143.19   69814223.57    98.20          5.53      227.69\n",
       "std   204595.92  34357146.86  157088846.86    41.35          2.00     1076.63\n",
       "min        5.00         1.00          1.00    61.00          0.00        0.00\n",
       "25%    38384.75   1000000.00    1918387.00    85.00          4.90        4.00\n",
       "50%   112507.00   6000000.00   15128146.50    92.00          6.00       11.00\n",
       "75%   339535.50  23000000.00   64778551.25   103.00          6.70       46.00\n",
       "max   804762.00 380000000.00 2797800564.00  5220.00         10.00    28618.00"
      ]
     },
     "execution_count": 171,
     "metadata": {},
     "output_type": "execute_result"
    }
   ],
   "source": [
    "df.describe()"
   ]
  },
  {
   "cell_type": "code",
   "execution_count": 109,
   "metadata": {
    "scrolled": true
   },
   "outputs": [],
   "source": [
    "# Replace 0 with NULL values for budget, revenue, and runtime columns\n",
    "# Do in SQL so don't have to redo each time unless added new data\n",
    "\n",
    "sql4 = \"\"\"UPDATE tmdb_movies\n",
    "          SET budget = NULL WHERE budget = 0\"\"\"\n",
    "sql5 = \"\"\"UPDATE tmdb_movies\n",
    "          SET revenue = NULL WHERE revenue = 0\"\"\"\n",
    "sql6 = \"\"\"UPDATE tmdb_movies\n",
    "          SET runtime = NULL WHERE runtime = 0\"\"\"\n",
    "sql7 = \"\"\"UPDATE tmdb_movies\n",
    "          SET release_date = NULL WHERE release_date = ''\"\"\"\n",
    "\n",
    "#cur.execute(sql4)\n",
    "#cur.execute(sql5)\n",
    "#cur.execute(sql6)\n",
    "#cur.execute(sql7)\n",
    "\n",
    "conn.commit()"
   ]
  },
  {
   "cell_type": "code",
   "execution_count": null,
   "metadata": {},
   "outputs": [],
   "source": [
    "# Looks like we have 14 films where our release_date is empty string\n",
    "df['release_date'].map(lambda x: len(x)).value_counts()"
   ]
  },
  {
   "cell_type": "code",
   "execution_count": 123,
   "metadata": {},
   "outputs": [
    {
     "data": {
      "text/plain": [
       "10    56366\n",
       "Name: release_date, dtype: int64"
      ]
     },
     "execution_count": 123,
     "metadata": {},
     "output_type": "execute_result"
    }
   ],
   "source": [
    "# Take a look at just the non-nulls\n",
    "df[df['release_date'].isna()==False]['release_date'].map(lambda x: len(x)).value_counts()"
   ]
  },
  {
   "cell_type": "code",
   "execution_count": 174,
   "metadata": {},
   "outputs": [],
   "source": [
    "# Split out year and month into new df columns\n",
    "month_map = {1:'January',2:'February',3:'March',4:'April',5:'May',6:'June',\n",
    "             7:'July',8:'August',9:'September',10:'October',11:'November',\n",
    "             12:'December'}\n",
    "\n",
    "df['release_year'] = df[df['release_date'].isna()==False]['release_date'].map(lambda x: int(x[:4]))\n",
    "df['release_month'] = df[df['release_date'].isna()==False]['release_date'].map(lambda x: month_map[int(x[5:7])])\n",
    "\n",
    "df.loc[df['release_year'].isna()==True, 'release_year'] = 0\n",
    "df['release_year'] = df['release_year'].astype(int)"
   ]
  },
  {
   "cell_type": "markdown",
   "metadata": {},
   "source": [
    "Before calculating profitability, want to adjust the numbers for inflation. Retrieved the Consumer Price Index from http://www.bls.gov/ using the instructions here: https://www.maa.org/press/periodicals/loci/joma/the-consumer-price-index-and-inflation-get-cpi-data-from-the-web-and-into-a-spreadsheet"
   ]
  },
  {
   "cell_type": "code",
   "execution_count": 182,
   "metadata": {
    "scrolled": false
   },
   "outputs": [
    {
     "name": "stdout",
     "output_type": "stream",
     "text": [
      "/Users/jessicamiles/Documents/Flatiron_Data_Science/git_labs_lessons/phase1/dsc-phase-1-project/data\n"
     ]
    }
   ],
   "source": [
    "cd '/Users/jessicamiles/Documents/Flatiron_Data_Science/git_labs_lessons/phase1/dsc-phase-1-project/data'"
   ]
  },
  {
   "cell_type": "code",
   "execution_count": 279,
   "metadata": {},
   "outputs": [],
   "source": [
    "# Read in Consumer Price Index info from CSV\n",
    "df_cpi = pd.read_csv('Consumer Price Index.csv')\n",
    "\n",
    "cpi_dict = pd.Series(df_cpi['Annual'].values,index=df_cpi['Year']).to_dict()"
   ]
  },
  {
   "cell_type": "code",
   "execution_count": 284,
   "metadata": {
    "scrolled": true
   },
   "outputs": [
    {
     "ename": "KeyError",
     "evalue": "2022.0",
     "output_type": "error",
     "traceback": [
      "\u001b[0;31m---------------------------------------------------------------------------\u001b[0m",
      "\u001b[0;31mKeyError\u001b[0m                                  Traceback (most recent call last)",
      "\u001b[0;32m<ipython-input-284-3cdee3e184d8>\u001b[0m in \u001b[0;36m<module>\u001b[0;34m\u001b[0m\n\u001b[1;32m      1\u001b[0m \u001b[0;31m# Adjust budget for inflation\u001b[0m\u001b[0;34m\u001b[0m\u001b[0;34m\u001b[0m\u001b[0;34m\u001b[0m\u001b[0m\n\u001b[0;32m----> 2\u001b[0;31m df['budget_2020adj'] = df[(df['budget'].isna()==False) & (df['budget'] > 0)\n\u001b[0m\u001b[1;32m      3\u001b[0m        \u001b[0;34m]\u001b[0m\u001b[0;34m[\u001b[0m\u001b[0;34m[\u001b[0m\u001b[0;34m'budget'\u001b[0m\u001b[0;34m,\u001b[0m \u001b[0;34m'release_year'\u001b[0m\u001b[0;34m]\u001b[0m\u001b[0;34m]\u001b[0m\u001b[0;34m.\u001b[0m\u001b[0mapply\u001b[0m\u001b[0;34m(\u001b[0m\u001b[0;34m\u001b[0m\u001b[0;34m\u001b[0m\u001b[0m\n\u001b[1;32m      4\u001b[0m         lambda x : (x[0] * cpi_dict[2020]) / cpi_dict[x[1]], axis=1)\n",
      "\u001b[0;32m~/opt/anaconda3/envs/learn-env/lib/python3.8/site-packages/pandas/core/frame.py\u001b[0m in \u001b[0;36mapply\u001b[0;34m(self, func, axis, raw, result_type, args, **kwds)\u001b[0m\n\u001b[1;32m   7546\u001b[0m             \u001b[0mkwds\u001b[0m\u001b[0;34m=\u001b[0m\u001b[0mkwds\u001b[0m\u001b[0;34m,\u001b[0m\u001b[0;34m\u001b[0m\u001b[0;34m\u001b[0m\u001b[0m\n\u001b[1;32m   7547\u001b[0m         )\n\u001b[0;32m-> 7548\u001b[0;31m         \u001b[0;32mreturn\u001b[0m \u001b[0mop\u001b[0m\u001b[0;34m.\u001b[0m\u001b[0mget_result\u001b[0m\u001b[0;34m(\u001b[0m\u001b[0;34m)\u001b[0m\u001b[0;34m\u001b[0m\u001b[0;34m\u001b[0m\u001b[0m\n\u001b[0m\u001b[1;32m   7549\u001b[0m \u001b[0;34m\u001b[0m\u001b[0m\n\u001b[1;32m   7550\u001b[0m     \u001b[0;32mdef\u001b[0m \u001b[0mapplymap\u001b[0m\u001b[0;34m(\u001b[0m\u001b[0mself\u001b[0m\u001b[0;34m,\u001b[0m \u001b[0mfunc\u001b[0m\u001b[0;34m)\u001b[0m \u001b[0;34m->\u001b[0m \u001b[0;34m\"DataFrame\"\u001b[0m\u001b[0;34m:\u001b[0m\u001b[0;34m\u001b[0m\u001b[0;34m\u001b[0m\u001b[0m\n",
      "\u001b[0;32m~/opt/anaconda3/envs/learn-env/lib/python3.8/site-packages/pandas/core/apply.py\u001b[0m in \u001b[0;36mget_result\u001b[0;34m(self)\u001b[0m\n\u001b[1;32m    178\u001b[0m             \u001b[0;32mreturn\u001b[0m \u001b[0mself\u001b[0m\u001b[0;34m.\u001b[0m\u001b[0mapply_raw\u001b[0m\u001b[0;34m(\u001b[0m\u001b[0;34m)\u001b[0m\u001b[0;34m\u001b[0m\u001b[0;34m\u001b[0m\u001b[0m\n\u001b[1;32m    179\u001b[0m \u001b[0;34m\u001b[0m\u001b[0m\n\u001b[0;32m--> 180\u001b[0;31m         \u001b[0;32mreturn\u001b[0m \u001b[0mself\u001b[0m\u001b[0;34m.\u001b[0m\u001b[0mapply_standard\u001b[0m\u001b[0;34m(\u001b[0m\u001b[0;34m)\u001b[0m\u001b[0;34m\u001b[0m\u001b[0;34m\u001b[0m\u001b[0m\n\u001b[0m\u001b[1;32m    181\u001b[0m \u001b[0;34m\u001b[0m\u001b[0m\n\u001b[1;32m    182\u001b[0m     \u001b[0;32mdef\u001b[0m \u001b[0mapply_empty_result\u001b[0m\u001b[0;34m(\u001b[0m\u001b[0mself\u001b[0m\u001b[0;34m)\u001b[0m\u001b[0;34m:\u001b[0m\u001b[0;34m\u001b[0m\u001b[0;34m\u001b[0m\u001b[0m\n",
      "\u001b[0;32m~/opt/anaconda3/envs/learn-env/lib/python3.8/site-packages/pandas/core/apply.py\u001b[0m in \u001b[0;36mapply_standard\u001b[0;34m(self)\u001b[0m\n\u001b[1;32m    269\u001b[0m \u001b[0;34m\u001b[0m\u001b[0m\n\u001b[1;32m    270\u001b[0m     \u001b[0;32mdef\u001b[0m \u001b[0mapply_standard\u001b[0m\u001b[0;34m(\u001b[0m\u001b[0mself\u001b[0m\u001b[0;34m)\u001b[0m\u001b[0;34m:\u001b[0m\u001b[0;34m\u001b[0m\u001b[0;34m\u001b[0m\u001b[0m\n\u001b[0;32m--> 271\u001b[0;31m         \u001b[0mresults\u001b[0m\u001b[0;34m,\u001b[0m \u001b[0mres_index\u001b[0m \u001b[0;34m=\u001b[0m \u001b[0mself\u001b[0m\u001b[0;34m.\u001b[0m\u001b[0mapply_series_generator\u001b[0m\u001b[0;34m(\u001b[0m\u001b[0;34m)\u001b[0m\u001b[0;34m\u001b[0m\u001b[0;34m\u001b[0m\u001b[0m\n\u001b[0m\u001b[1;32m    272\u001b[0m \u001b[0;34m\u001b[0m\u001b[0m\n\u001b[1;32m    273\u001b[0m         \u001b[0;31m# wrap results\u001b[0m\u001b[0;34m\u001b[0m\u001b[0;34m\u001b[0m\u001b[0;34m\u001b[0m\u001b[0m\n",
      "\u001b[0;32m~/opt/anaconda3/envs/learn-env/lib/python3.8/site-packages/pandas/core/apply.py\u001b[0m in \u001b[0;36mapply_series_generator\u001b[0;34m(self)\u001b[0m\n\u001b[1;32m    298\u001b[0m                 \u001b[0;32mfor\u001b[0m \u001b[0mi\u001b[0m\u001b[0;34m,\u001b[0m \u001b[0mv\u001b[0m \u001b[0;32min\u001b[0m \u001b[0menumerate\u001b[0m\u001b[0;34m(\u001b[0m\u001b[0mseries_gen\u001b[0m\u001b[0;34m)\u001b[0m\u001b[0;34m:\u001b[0m\u001b[0;34m\u001b[0m\u001b[0;34m\u001b[0m\u001b[0m\n\u001b[1;32m    299\u001b[0m                     \u001b[0;31m# ignore SettingWithCopy here in case the user mutates\u001b[0m\u001b[0;34m\u001b[0m\u001b[0;34m\u001b[0m\u001b[0;34m\u001b[0m\u001b[0m\n\u001b[0;32m--> 300\u001b[0;31m                     \u001b[0mresults\u001b[0m\u001b[0;34m[\u001b[0m\u001b[0mi\u001b[0m\u001b[0;34m]\u001b[0m \u001b[0;34m=\u001b[0m \u001b[0mself\u001b[0m\u001b[0;34m.\u001b[0m\u001b[0mf\u001b[0m\u001b[0;34m(\u001b[0m\u001b[0mv\u001b[0m\u001b[0;34m)\u001b[0m\u001b[0;34m\u001b[0m\u001b[0;34m\u001b[0m\u001b[0m\n\u001b[0m\u001b[1;32m    301\u001b[0m                     \u001b[0;32mif\u001b[0m \u001b[0misinstance\u001b[0m\u001b[0;34m(\u001b[0m\u001b[0mresults\u001b[0m\u001b[0;34m[\u001b[0m\u001b[0mi\u001b[0m\u001b[0;34m]\u001b[0m\u001b[0;34m,\u001b[0m \u001b[0mABCSeries\u001b[0m\u001b[0;34m)\u001b[0m\u001b[0;34m:\u001b[0m\u001b[0;34m\u001b[0m\u001b[0;34m\u001b[0m\u001b[0m\n\u001b[1;32m    302\u001b[0m                         \u001b[0;31m# If we have a view on v, we need to make a copy because\u001b[0m\u001b[0;34m\u001b[0m\u001b[0;34m\u001b[0m\u001b[0;34m\u001b[0m\u001b[0m\n",
      "\u001b[0;32m<ipython-input-284-3cdee3e184d8>\u001b[0m in \u001b[0;36m<lambda>\u001b[0;34m(x)\u001b[0m\n\u001b[1;32m      2\u001b[0m df['budget_2020adj'] = df[(df['budget'].isna()==False) & (df['budget'] > 0)\n\u001b[1;32m      3\u001b[0m        \u001b[0;34m]\u001b[0m\u001b[0;34m[\u001b[0m\u001b[0;34m[\u001b[0m\u001b[0;34m'budget'\u001b[0m\u001b[0;34m,\u001b[0m \u001b[0;34m'release_year'\u001b[0m\u001b[0;34m]\u001b[0m\u001b[0;34m]\u001b[0m\u001b[0;34m.\u001b[0m\u001b[0mapply\u001b[0m\u001b[0;34m(\u001b[0m\u001b[0;34m\u001b[0m\u001b[0;34m\u001b[0m\u001b[0m\n\u001b[0;32m----> 4\u001b[0;31m         lambda x : (x[0] * cpi_dict[2020]) / cpi_dict[x[1]], axis=1)\n\u001b[0m",
      "\u001b[0;31mKeyError\u001b[0m: 2022.0"
     ]
    }
   ],
   "source": [
    "# Adjust budget for inflation\n",
    "df['budget_2020adj'] = df[(df['budget'].isna()==False) & (df['budget'] > 0)\n",
    "       ][['budget', 'release_year']].apply(\n",
    "        lambda x : (x[0] * cpi_dict[2020]) / cpi_dict[x[1]], axis=1)\n"
   ]
  },
  {
   "cell_type": "code",
   "execution_count": 275,
   "metadata": {
    "scrolled": true
   },
   "outputs": [],
   "source": [
    "# Adjust revenue for inflation\n",
    "df['revenue_2020adj'] = df[(df['revenue'].isna()==False) & (df['revenue'] > 0)\n",
    "       ][['revenue', 'release_year']].apply(\n",
    "        lambda x : (x[0] * cpi_dict[2020]) / cpi_dict[x[1]]\n",
    "                                           , axis=1)"
   ]
  },
  {
   "cell_type": "code",
   "execution_count": 286,
   "metadata": {},
   "outputs": [],
   "source": [
    "# Calculate profit with inflation-adjusted values\n",
    "df['profit_2020adj'] = df[(df['revenue_2020adj'].isna()==False) \n",
    "                      & (df['budget_2020adj'].isna()==False)\n",
    "       ][['revenue_2020adj', 'budget_2020adj']].apply(lambda x : (x[0] - x[1]), axis=1)"
   ]
  },
  {
   "cell_type": "code",
   "execution_count": 291,
   "metadata": {},
   "outputs": [],
   "source": [
    "# Calculate % profit with inflation-adjusted values\n",
    "df['profitpercent_2020adj'] = df[(df['revenue_2020adj'].isna()==False) \n",
    "                      & (df['budget_2020adj'].isna()==False)\n",
    "       ][['revenue_2020adj', 'budget_2020adj']].apply(\n",
    "    lambda x : ((x[0] - x[1]) / x[1]) * 100, axis=1)"
   ]
  },
  {
   "cell_type": "code",
   "execution_count": 463,
   "metadata": {},
   "outputs": [
    {
     "data": {
      "text/plain": [
       "count      5950.00\n",
       "mean        696.33\n",
       "std       17654.47\n",
       "min        -100.00\n",
       "25%         -27.88\n",
       "50%          98.11\n",
       "75%         313.12\n",
       "max     1288938.67\n",
       "Name: profitpercent_2020adj, dtype: float64"
      ]
     },
     "execution_count": 463,
     "metadata": {},
     "output_type": "execute_result"
    }
   ],
   "source": [
    "df['profitpercent_2020adj'].describe()"
   ]
  },
  {
   "cell_type": "code",
   "execution_count": null,
   "metadata": {},
   "outputs": [],
   "source": [
    "# Create % profit categories\n",
    "df.loc[df['profitpercent_2020adj']]['profit_category'] = 'Broke Even'"
   ]
  },
  {
   "cell_type": "code",
   "execution_count": 299,
   "metadata": {},
   "outputs": [],
   "source": [
    "# release_decade\n",
    "df['release_decade'] = df[df['release_year'] > 0]['release_year'].map(\n",
    "    lambda x : int(str(x)[:3] + '0'))\n",
    "\n",
    "df.loc[df['release_decade'].isna()==True, 'release_decade'] = 0\n",
    "\n",
    "df['release_decade'] = df['release_decade'].astype(int)"
   ]
  },
  {
   "cell_type": "code",
   "execution_count": 306,
   "metadata": {
    "scrolled": false
   },
   "outputs": [
    {
     "data": {
      "text/html": [
       "<div>\n",
       "<style scoped>\n",
       "    .dataframe tbody tr th:only-of-type {\n",
       "        vertical-align: middle;\n",
       "    }\n",
       "\n",
       "    .dataframe tbody tr th {\n",
       "        vertical-align: top;\n",
       "    }\n",
       "\n",
       "    .dataframe thead th {\n",
       "        text-align: right;\n",
       "    }\n",
       "</style>\n",
       "<table border=\"1\" class=\"dataframe\">\n",
       "  <thead>\n",
       "    <tr style=\"text-align: right;\">\n",
       "      <th></th>\n",
       "      <th>id</th>\n",
       "      <th>budget</th>\n",
       "      <th>revenue</th>\n",
       "      <th>release_date</th>\n",
       "      <th>original_language</th>\n",
       "      <th>imdb_id</th>\n",
       "      <th>runtime</th>\n",
       "      <th>vote_average</th>\n",
       "      <th>vote_count</th>\n",
       "      <th>release_year</th>\n",
       "      <th>release_month</th>\n",
       "      <th>budget_2020adj</th>\n",
       "      <th>revenue_2020adj</th>\n",
       "      <th>profit_2020adj</th>\n",
       "      <th>profitpercent_2020adj</th>\n",
       "      <th>release_decade</th>\n",
       "    </tr>\n",
       "  </thead>\n",
       "  <tbody>\n",
       "    <tr>\n",
       "      <th>0</th>\n",
       "      <td>5</td>\n",
       "      <td>4000000.00</td>\n",
       "      <td>4257354.00</td>\n",
       "      <td>1995-12-09</td>\n",
       "      <td>en</td>\n",
       "      <td>tt0113101</td>\n",
       "      <td>98.00</td>\n",
       "      <td>5.70</td>\n",
       "      <td>1901</td>\n",
       "      <td>1995</td>\n",
       "      <td>December</td>\n",
       "      <td>6792939.63</td>\n",
       "      <td>7229987.18</td>\n",
       "      <td>437047.55</td>\n",
       "      <td>6.43</td>\n",
       "      <td>1990</td>\n",
       "    </tr>\n",
       "    <tr>\n",
       "      <th>1</th>\n",
       "      <td>6</td>\n",
       "      <td>21000000.00</td>\n",
       "      <td>12136938.00</td>\n",
       "      <td>1993-10-15</td>\n",
       "      <td>en</td>\n",
       "      <td>tt0107286</td>\n",
       "      <td>110.00</td>\n",
       "      <td>6.50</td>\n",
       "      <td>184</td>\n",
       "      <td>1993</td>\n",
       "      <td>October</td>\n",
       "      <td>37612671.28</td>\n",
       "      <td>21738221.87</td>\n",
       "      <td>-15874449.41</td>\n",
       "      <td>-42.21</td>\n",
       "      <td>1990</td>\n",
       "    </tr>\n",
       "    <tr>\n",
       "      <th>2</th>\n",
       "      <td>11</td>\n",
       "      <td>11000000.00</td>\n",
       "      <td>775398007.00</td>\n",
       "      <td>1977-05-25</td>\n",
       "      <td>en</td>\n",
       "      <td>tt0076759</td>\n",
       "      <td>121.00</td>\n",
       "      <td>8.20</td>\n",
       "      <td>15257</td>\n",
       "      <td>1977</td>\n",
       "      <td>May</td>\n",
       "      <td>46978894.39</td>\n",
       "      <td>3311576461.88</td>\n",
       "      <td>3264597567.49</td>\n",
       "      <td>6949.07</td>\n",
       "      <td>1970</td>\n",
       "    </tr>\n",
       "    <tr>\n",
       "      <th>3</th>\n",
       "      <td>12</td>\n",
       "      <td>94000000.00</td>\n",
       "      <td>940335536.00</td>\n",
       "      <td>2003-05-30</td>\n",
       "      <td>en</td>\n",
       "      <td>tt0266543</td>\n",
       "      <td>100.00</td>\n",
       "      <td>7.80</td>\n",
       "      <td>14750</td>\n",
       "      <td>2003</td>\n",
       "      <td>May</td>\n",
       "      <td>132218663.04</td>\n",
       "      <td>1322658589.17</td>\n",
       "      <td>1190439926.13</td>\n",
       "      <td>900.36</td>\n",
       "      <td>2000</td>\n",
       "    </tr>\n",
       "    <tr>\n",
       "      <th>4</th>\n",
       "      <td>13</td>\n",
       "      <td>55000000.00</td>\n",
       "      <td>677387716.00</td>\n",
       "      <td>1994-07-06</td>\n",
       "      <td>en</td>\n",
       "      <td>tt0109830</td>\n",
       "      <td>142.00</td>\n",
       "      <td>8.50</td>\n",
       "      <td>20141</td>\n",
       "      <td>1994</td>\n",
       "      <td>July</td>\n",
       "      <td>96049966.26</td>\n",
       "      <td>1182964859.42</td>\n",
       "      <td>1086914893.16</td>\n",
       "      <td>1131.61</td>\n",
       "      <td>1990</td>\n",
       "    </tr>\n",
       "  </tbody>\n",
       "</table>\n",
       "</div>"
      ],
      "text/plain": [
       "   id      budget      revenue release_date original_language    imdb_id  \\\n",
       "0   5  4000000.00   4257354.00   1995-12-09                en  tt0113101   \n",
       "1   6 21000000.00  12136938.00   1993-10-15                en  tt0107286   \n",
       "2  11 11000000.00 775398007.00   1977-05-25                en  tt0076759   \n",
       "3  12 94000000.00 940335536.00   2003-05-30                en  tt0266543   \n",
       "4  13 55000000.00 677387716.00   1994-07-06                en  tt0109830   \n",
       "\n",
       "   runtime  vote_average  vote_count  release_year release_month  \\\n",
       "0    98.00          5.70        1901          1995      December   \n",
       "1   110.00          6.50         184          1993       October   \n",
       "2   121.00          8.20       15257          1977           May   \n",
       "3   100.00          7.80       14750          2003           May   \n",
       "4   142.00          8.50       20141          1994          July   \n",
       "\n",
       "   budget_2020adj  revenue_2020adj  profit_2020adj  profitpercent_2020adj  \\\n",
       "0      6792939.63       7229987.18       437047.55                   6.43   \n",
       "1     37612671.28      21738221.87    -15874449.41                 -42.21   \n",
       "2     46978894.39    3311576461.88   3264597567.49                6949.07   \n",
       "3    132218663.04    1322658589.17   1190439926.13                 900.36   \n",
       "4     96049966.26    1182964859.42   1086914893.16                1131.61   \n",
       "\n",
       "   release_decade  \n",
       "0            1990  \n",
       "1            1990  \n",
       "2            1970  \n",
       "3            2000  \n",
       "4            1990  "
      ]
     },
     "execution_count": 306,
     "metadata": {},
     "output_type": "execute_result"
    }
   ],
   "source": [
    "df.head()"
   ]
  },
  {
   "cell_type": "markdown",
   "metadata": {},
   "source": [
    "OK so some of these may actually have had very low budgets (https://www.themoviedb.org/movie/1435-tarnation, for example) but it's hard to say. Some of these numbers should probably be converted to hundreds of thousands or millions, but it's impossible to tell which.\n",
    "\n",
    "Going to limit where budget is > 10000"
   ]
  },
  {
   "cell_type": "markdown",
   "metadata": {},
   "source": [
    "## Box Office Profit per Release Year"
   ]
  },
  {
   "cell_type": "code",
   "execution_count": 342,
   "metadata": {
    "scrolled": false
   },
   "outputs": [],
   "source": [
    "# Using only the data\n",
    "# - release date in range 1960 to 2020\n",
    "# - where we have a budget and it's greater than $10,000\n",
    "# - where we have revenue\n",
    "\n",
    "df_finance = df[(df['budget'] > 10000) & (df['revenue'].isna() == False)\n",
    "   & (df['release_year'] >= 1960) & (df['release_year'] <= 2020)].copy()"
   ]
  },
  {
   "cell_type": "code",
   "execution_count": 343,
   "metadata": {
    "scrolled": true
   },
   "outputs": [
    {
     "data": {
      "text/html": [
       "<div>\n",
       "<style scoped>\n",
       "    .dataframe tbody tr th:only-of-type {\n",
       "        vertical-align: middle;\n",
       "    }\n",
       "\n",
       "    .dataframe tbody tr th {\n",
       "        vertical-align: top;\n",
       "    }\n",
       "\n",
       "    .dataframe thead th {\n",
       "        text-align: right;\n",
       "    }\n",
       "</style>\n",
       "<table border=\"1\" class=\"dataframe\">\n",
       "  <thead>\n",
       "    <tr style=\"text-align: right;\">\n",
       "      <th></th>\n",
       "      <th>id</th>\n",
       "      <th>budget</th>\n",
       "      <th>revenue</th>\n",
       "      <th>release_date</th>\n",
       "      <th>original_language</th>\n",
       "      <th>imdb_id</th>\n",
       "      <th>runtime</th>\n",
       "      <th>vote_average</th>\n",
       "      <th>vote_count</th>\n",
       "      <th>release_year</th>\n",
       "      <th>release_month</th>\n",
       "      <th>budget_2020adj</th>\n",
       "      <th>revenue_2020adj</th>\n",
       "      <th>profit_2020adj</th>\n",
       "      <th>profitpercent_2020adj</th>\n",
       "      <th>release_decade</th>\n",
       "    </tr>\n",
       "  </thead>\n",
       "  <tbody>\n",
       "    <tr>\n",
       "      <th>0</th>\n",
       "      <td>5</td>\n",
       "      <td>4000000.00</td>\n",
       "      <td>4257354.00</td>\n",
       "      <td>1995-12-09</td>\n",
       "      <td>en</td>\n",
       "      <td>tt0113101</td>\n",
       "      <td>98.00</td>\n",
       "      <td>5.70</td>\n",
       "      <td>1901</td>\n",
       "      <td>1995</td>\n",
       "      <td>December</td>\n",
       "      <td>6792939.63</td>\n",
       "      <td>7229987.18</td>\n",
       "      <td>437047.55</td>\n",
       "      <td>6.43</td>\n",
       "      <td>1990</td>\n",
       "    </tr>\n",
       "    <tr>\n",
       "      <th>1</th>\n",
       "      <td>6</td>\n",
       "      <td>21000000.00</td>\n",
       "      <td>12136938.00</td>\n",
       "      <td>1993-10-15</td>\n",
       "      <td>en</td>\n",
       "      <td>tt0107286</td>\n",
       "      <td>110.00</td>\n",
       "      <td>6.50</td>\n",
       "      <td>184</td>\n",
       "      <td>1993</td>\n",
       "      <td>October</td>\n",
       "      <td>37612671.28</td>\n",
       "      <td>21738221.87</td>\n",
       "      <td>-15874449.41</td>\n",
       "      <td>-42.21</td>\n",
       "      <td>1990</td>\n",
       "    </tr>\n",
       "    <tr>\n",
       "      <th>2</th>\n",
       "      <td>11</td>\n",
       "      <td>11000000.00</td>\n",
       "      <td>775398007.00</td>\n",
       "      <td>1977-05-25</td>\n",
       "      <td>en</td>\n",
       "      <td>tt0076759</td>\n",
       "      <td>121.00</td>\n",
       "      <td>8.20</td>\n",
       "      <td>15257</td>\n",
       "      <td>1977</td>\n",
       "      <td>May</td>\n",
       "      <td>46978894.39</td>\n",
       "      <td>3311576461.88</td>\n",
       "      <td>3264597567.49</td>\n",
       "      <td>6949.07</td>\n",
       "      <td>1970</td>\n",
       "    </tr>\n",
       "    <tr>\n",
       "      <th>3</th>\n",
       "      <td>12</td>\n",
       "      <td>94000000.00</td>\n",
       "      <td>940335536.00</td>\n",
       "      <td>2003-05-30</td>\n",
       "      <td>en</td>\n",
       "      <td>tt0266543</td>\n",
       "      <td>100.00</td>\n",
       "      <td>7.80</td>\n",
       "      <td>14750</td>\n",
       "      <td>2003</td>\n",
       "      <td>May</td>\n",
       "      <td>132218663.04</td>\n",
       "      <td>1322658589.17</td>\n",
       "      <td>1190439926.13</td>\n",
       "      <td>900.36</td>\n",
       "      <td>2000</td>\n",
       "    </tr>\n",
       "    <tr>\n",
       "      <th>4</th>\n",
       "      <td>13</td>\n",
       "      <td>55000000.00</td>\n",
       "      <td>677387716.00</td>\n",
       "      <td>1994-07-06</td>\n",
       "      <td>en</td>\n",
       "      <td>tt0109830</td>\n",
       "      <td>142.00</td>\n",
       "      <td>8.50</td>\n",
       "      <td>20141</td>\n",
       "      <td>1994</td>\n",
       "      <td>July</td>\n",
       "      <td>96049966.26</td>\n",
       "      <td>1182964859.42</td>\n",
       "      <td>1086914893.16</td>\n",
       "      <td>1131.61</td>\n",
       "      <td>1990</td>\n",
       "    </tr>\n",
       "  </tbody>\n",
       "</table>\n",
       "</div>"
      ],
      "text/plain": [
       "   id      budget      revenue release_date original_language    imdb_id  \\\n",
       "0   5  4000000.00   4257354.00   1995-12-09                en  tt0113101   \n",
       "1   6 21000000.00  12136938.00   1993-10-15                en  tt0107286   \n",
       "2  11 11000000.00 775398007.00   1977-05-25                en  tt0076759   \n",
       "3  12 94000000.00 940335536.00   2003-05-30                en  tt0266543   \n",
       "4  13 55000000.00 677387716.00   1994-07-06                en  tt0109830   \n",
       "\n",
       "   runtime  vote_average  vote_count  release_year release_month  \\\n",
       "0    98.00          5.70        1901          1995      December   \n",
       "1   110.00          6.50         184          1993       October   \n",
       "2   121.00          8.20       15257          1977           May   \n",
       "3   100.00          7.80       14750          2003           May   \n",
       "4   142.00          8.50       20141          1994          July   \n",
       "\n",
       "   budget_2020adj  revenue_2020adj  profit_2020adj  profitpercent_2020adj  \\\n",
       "0      6792939.63       7229987.18       437047.55                   6.43   \n",
       "1     37612671.28      21738221.87    -15874449.41                 -42.21   \n",
       "2     46978894.39    3311576461.88   3264597567.49                6949.07   \n",
       "3    132218663.04    1322658589.17   1190439926.13                 900.36   \n",
       "4     96049966.26    1182964859.42   1086914893.16                1131.61   \n",
       "\n",
       "   release_decade  \n",
       "0            1990  \n",
       "1            1990  \n",
       "2            1970  \n",
       "3            2000  \n",
       "4            1990  "
      ]
     },
     "execution_count": 343,
     "metadata": {},
     "output_type": "execute_result"
    }
   ],
   "source": [
    "df_finance.head()"
   ]
  },
  {
   "cell_type": "code",
   "execution_count": 360,
   "metadata": {},
   "outputs": [
    {
     "data": {
      "text/plain": [
       "['Solarize_Light2',\n",
       " '_classic_test_patch',\n",
       " 'bmh',\n",
       " 'classic',\n",
       " 'dark_background',\n",
       " 'fast',\n",
       " 'fivethirtyeight',\n",
       " 'ggplot',\n",
       " 'grayscale',\n",
       " 'seaborn',\n",
       " 'seaborn-bright',\n",
       " 'seaborn-colorblind',\n",
       " 'seaborn-dark',\n",
       " 'seaborn-dark-palette',\n",
       " 'seaborn-darkgrid',\n",
       " 'seaborn-deep',\n",
       " 'seaborn-muted',\n",
       " 'seaborn-notebook',\n",
       " 'seaborn-paper',\n",
       " 'seaborn-pastel',\n",
       " 'seaborn-poster',\n",
       " 'seaborn-talk',\n",
       " 'seaborn-ticks',\n",
       " 'seaborn-white',\n",
       " 'seaborn-whitegrid',\n",
       " 'tableau-colorblind10']"
      ]
     },
     "execution_count": 360,
     "metadata": {},
     "output_type": "execute_result"
    }
   ],
   "source": [
    "plt.style.available"
   ]
  },
  {
   "cell_type": "code",
   "execution_count": 344,
   "metadata": {},
   "outputs": [
    {
     "data": {
      "text/plain": [
       "2010    1867\n",
       "2000    1783\n",
       "1990    1043\n",
       "1980     616\n",
       "1970     212\n",
       "1960     141\n",
       "2020      49\n",
       "Name: release_decade, dtype: int64"
      ]
     },
     "execution_count": 344,
     "metadata": {},
     "output_type": "execute_result"
    }
   ],
   "source": [
    "# How many movies do we have in our sample for each decade?\n",
    "df_finance['release_decade'].value_counts()"
   ]
  },
  {
   "cell_type": "code",
   "execution_count": 345,
   "metadata": {},
   "outputs": [],
   "source": [
    "#df_recent = df_finance[(df_finance['release_year'] >= 2010) & (\n",
    "#    df_finance['release_year'] < 2020)]\n",
    "\n",
    "df_recent = df_finance[(df_finance['release_year'] >= 2010) & (\n",
    "    df_finance['release_year'] <= 2020)]"
   ]
  },
  {
   "cell_type": "markdown",
   "metadata": {},
   "source": [
    "### 2020 not withstanding, people DO still go to the movies.\n",
    "\n",
    "The graph below shows median profit (box office revenue less production budget) for the last 10 years. Amounts are in 2020 US dollars, after adjustment for inflation.\n",
    "\n",
    "The median profit for films release in 2020 is actually negative. We calculated profit using only box office revenue, and movie theaters were closed for most of 2020 due to the COVID-19 pandemic.\n",
    "\n",
    "The 2020 results have been left as strong evidence that the data we're using to perform this analysis is representative enough to show trends. While the median profit certainly hasn't increased steadily (2013, 2016, and 2018 had some dips),  profits are generally increasing over time. \n",
    "\n",
    "Before the COVID-19 pandemic, box office revenues were healthy, even as original titles produced by companies--such as Amazon, Netflix and Hulu--were released directly to subscribers, bypassing theaters entirely.  \n",
    "\n"
   ]
  },
  {
   "cell_type": "code",
   "execution_count": 426,
   "metadata": {
    "scrolled": false
   },
   "outputs": [
    {
     "data": {
      "image/png": "[encoded data removed]",
      "text/plain": [
       "<Figure size 921.6x633.6 with 1 Axes>"
      ]
     },
     "metadata": {
      "needs_background": "light"
     },
     "output_type": "display_data"
    }
   ],
   "source": [
    "with plt.style.context('seaborn-poster'):\n",
    "    fig, ax = plt.subplots()\n",
    "\n",
    "    sns.barplot(x=df_recent['release_year'], y=df_recent['profit_2020adj']\n",
    "                , estimator=np.median, ax=ax, ci=68)\n",
    "\n",
    "    ax.set_title('Median Box Office Profit Per Release Year **');\n",
    "    ax.set_xlabel('Release Year');\n",
    "    ax.set_ylabel('Median Profit (2020 US Dollars)');\n",
    "    \n",
    "    #Source: https://stackoverflow.com/questions/53747298/how-to-format-seaborn-\n",
    "    #                matplotlib-axis-tick-labels-from-number-to-thousands-or-mi\n",
    "    ax.yaxis.set_major_formatter(plt.FuncFormatter(currency))"
   ]
  },
  {
   "cell_type": "markdown",
   "metadata": {},
   "source": [
    "### Many of the most profitable movies are outliers\n",
    "\n",
    "Per the previous chart, median profit fell within a range of \\\\$15 MM to \\\\$35 MM 2020 US dollars for the past 10 years. Even the average was only around \\\\$100 MM.\n",
    "\n",
    "But when we look at the distributions within each year, we see that there are many values well above that, in the many hundreds of millions, or billions of dollars. However, these are statistical outliers.\n",
    "\n",
    "This means that while it's certainly possible to make hundreds of millions or billions of dollars at the box office on a film, that isn't a common outcome."
   ]
  },
  {
   "cell_type": "code",
   "execution_count": 427,
   "metadata": {
    "scrolled": false
   },
   "outputs": [
    {
     "data": {
      "image/png": "[encoded data removed]",
      "text/plain": [
       "<Figure size 864x864 with 1 Axes>"
      ]
     },
     "metadata": {
      "needs_background": "light"
     },
     "output_type": "display_data"
    }
   ],
   "source": [
    "with plt.style.context('seaborn-poster'):\n",
    "    fig, ax = plt.subplots(figsize=(12, 12))\n",
    "    \n",
    "    # Source: https://seaborn.pydata.org/generated/seaborn.boxplot.html\n",
    "    sns.boxplot(x=df_recent['release_year'], y=df_recent['profit_2020adj']\n",
    "                , ax=ax)\n",
    "    # Source: https://pbpython.com/effective-matplotlib.html\n",
    "    #ax.axhline(y=avg, color='b', label='Average', linestyle='--', linewidth=3)\n",
    "#    sns.swarmplot(x=df_recent['release_year'], y=df_recent['profit_2020adj']\n",
    "#                , ax=ax, size=1.5, color='black')\n",
    "\n",
    "    ax.set_title('Box Office Profit Per Release Year **');\n",
    "    ax.set_xlabel('Release Year');\n",
    "    ax.set_ylabel('Profit (2020 US Dollars)');\n",
    "\n",
    "    #Source: https://stackoverflow.com/questions/53747298/how-to-format-seaborn-\n",
    "    #                matplotlib-axis-tick-labels-from-number-to-thousands-or-mi\n",
    "    ax.yaxis.set_major_formatter(plt.FuncFormatter(currency))\n",
    "    \n",
    "    ax.set_yticks(np.arange(-500000000, 3000000000, 250000000));"
   ]
  },
  {
   "cell_type": "code",
   "execution_count": 428,
   "metadata": {
    "scrolled": false
   },
   "outputs": [
    {
     "data": {
      "image/png": "[encoded data removed]",
      "text/plain": [
       "<Figure size 864x864 with 1 Axes>"
      ]
     },
     "metadata": {
      "needs_background": "light"
     },
     "output_type": "display_data"
    }
   ],
   "source": [
    "with plt.style.context('seaborn-poster'):\n",
    "    fig, ax = plt.subplots(figsize=(12, 12))\n",
    "    \n",
    "    avg = df_recent['profit_2020adj'].mean()\n",
    "    \n",
    "    # Source: https://seaborn.pydata.org/generated/seaborn.boxplot.html\n",
    "    sns.boxplot(x=df_recent['release_year'], y=df_recent['profit_2020adj']\n",
    "                , ax=ax, showfliers=False)\n",
    "\n",
    "    ax.set_title('Box Office Profit Per Release Year **');\n",
    "    ax.set_xlabel('Release Year');\n",
    "    ax.set_ylabel('Profit (2020 US Dollars)');\n",
    "\n",
    "    #Source: https://stackoverflow.com/questions/53747298/how-to-format-seaborn-\n",
    "    #                matplotlib-axis-tick-labels-from-number-to-thousands-or-mi\n",
    "    ax.yaxis.set_major_formatter(plt.FuncFormatter(currency))\n",
    "    \n",
    "    ax.set_yticks(np.arange(-200000000, 400000000, 50000000))\n"
   ]
  },
  {
   "cell_type": "code",
   "execution_count": 429,
   "metadata": {},
   "outputs": [
    {
     "data": {
      "image/png": "[encoded data removed]",
      "text/plain": [
       "<Figure size 576x576 with 1 Axes>"
      ]
     },
     "metadata": {
      "needs_background": "light"
     },
     "output_type": "display_data"
    }
   ],
   "source": [
    "with plt.style.context('seaborn-poster'):\n",
    "    fig, ax = plt.subplots(figsize=(8, 8))\n",
    "\n",
    "    sns.histplot(df_recent['profit_2020adj'], ax=ax, bins=30)\n",
    "    ax.set_title('Box Office Profit Distribution');\n",
    "    ax.set_xlabel('Profit (2020 US Dollars)');\n",
    "\n",
    "    #Source: https://stackoverflow.com/questions/53747298/how-to-format-seaborn-\n",
    "    #                matplotlib-axis-tick-labels-from-number-to-thousands-or-mi\n",
    "    ax.xaxis.set_major_formatter(plt.FuncFormatter(currency))"
   ]
  },
  {
   "cell_type": "code",
   "execution_count": 461,
   "metadata": {
    "scrolled": true
   },
   "outputs": [
    {
     "data": {
      "text/plain": [
       "<Figure size 576x396 with 0 Axes>"
      ]
     },
     "metadata": {},
     "output_type": "display_data"
    },
    {
     "data": {
      "image/png": "[encoded data removed]",
      "text/plain": [
       "<Figure size 576x432 with 1 Axes>"
      ]
     },
     "metadata": {
      "needs_background": "light"
     },
     "output_type": "display_data"
    }
   ],
   "source": [
    "with plt.style.context('seaborn-notebook'):\n",
    "    plt.tight_layout();\n",
    "    fig, ax1 = plt.subplots(figsize=(8, 6));\n",
    "\n",
    "    sns.scatterplot(x=df_recent['budget_2020adj'], y=df_recent['profit_2020adj']\n",
    "                    , ax=ax1, hue=df_recent['profitpercent_2020adj']);\n",
    "    \n",
    "    #ax1.set_title('Production Budget versus Box Office Profit (2020 US Dollars)');\n",
    "    ax1.set_xlabel('Production Budget');\n",
    "    ax1.set_ylabel('Box Office Profit');\n",
    "\n",
    "    #Source: https://stackoverflow.com/questions/53747298/how-to-format-seaborn-\n",
    "    #                matplotlib-axis-tick-labels-from-number-to-thousands-or-mi\n",
    "    ax1.yaxis.set_major_formatter(plt.FuncFormatter(currency));\n",
    "    ax1.xaxis.set_major_formatter(plt.FuncFormatter(currency));"
   ]
  },
  {
   "cell_type": "markdown",
   "metadata": {},
   "source": [
    "# Topic 2: Characteristics of Profitable Movies"
   ]
  },
  {
   "cell_type": "markdown",
   "metadata": {},
   "source": [
    "# Topic 3: Impact of Contributors on Profitability"
   ]
  },
  {
   "cell_type": "markdown",
   "metadata": {},
   "source": [
    "# Extra stuff"
   ]
  },
  {
   "cell_type": "code",
   "execution_count": 93,
   "metadata": {},
   "outputs": [],
   "source": [
    "# So these are mostly english-language films. What production companies \n",
    "# are we talking about for english-language films that aren't associated\n",
    "# with a US production company?\n",
    "\n",
    "# These are the production companies associated with films that NO US-based\n",
    "# production company worked on, and where the original_language was English\n",
    "\n",
    "sql3 = \"\"\"SELECT DISTINCT pc.id, c.name AS prodco_name, c.origin_country\n",
    "          FROM tmdb_movie_companies pc\n",
    "          INNER JOIN tmdb_prodco c ON c.prodco_id = pc.prodco_id\n",
    "          WHERE (\n",
    "                 (pc.id NOT IN (SELECT DISTINCT pc.id \n",
    "                                FROM tmdb_movie_companies pc\n",
    "                                INNER JOIN tmdb_prodco c ON c.prodco_id = pc.prodco_id\n",
    "                                WHERE c.origin_country = 'US'))\n",
    "             AND (pc.id IN (SELECT id FROM tmdb_movies \n",
    "                            WHERE original_language='en'))\n",
    "                )\n",
    "              \"\"\"\n",
    "\n",
    "df3 = pd.DataFrame(cur.execute(sql3).fetchall(),columns=[x[0] for x in cur.description])"
   ]
  },
  {
   "cell_type": "code",
   "execution_count": 41,
   "metadata": {},
   "outputs": [
    {
     "data": {
      "text/plain": [
       "BBC                                 725\n",
       "Universal International Pictures    200\n",
       "BBC Films                           148\n",
       "Hammer Film Productions             118\n",
       "Canal+                              110\n",
       "                                   ... \n",
       "Willowcreek Entertainment             1\n",
       "From the Dead Pictures                1\n",
       "Spinster                              1\n",
       "New Machine Studios                   1\n",
       "Cavalcade Films                       1\n",
       "Name: prodco_name, Length: 22543, dtype: int64"
      ]
     },
     "execution_count": 41,
     "metadata": {},
     "output_type": "execute_result"
    }
   ],
   "source": [
    "df3['prodco_name'].value_counts()"
   ]
  },
  {
   "cell_type": "code",
   "execution_count": 28,
   "metadata": {},
   "outputs": [
    {
     "data": {
      "text/plain": [
       "en    24795\n",
       "es       78\n",
       "fr       75\n",
       "ja       62\n",
       "it       59\n",
       "de       50\n",
       "pt       29\n",
       "zh       25\n",
       "hi       14\n",
       "ko       11\n",
       "ru       10\n",
       "xx        9\n",
       "he        8\n",
       "id        6\n",
       "cn        5\n",
       "sv        5\n",
       "tr        4\n",
       "ar        4\n",
       "nl        4\n",
       "ro        3\n",
       "el        3\n",
       "da        3\n",
       "uk        2\n",
       "th        2\n",
       "pl        2\n",
       "tl        1\n",
       "et        1\n",
       "no        1\n",
       "hu        1\n",
       "ak        1\n",
       "se        1\n",
       "fa        1\n",
       "ml        1\n",
       "ca        1\n",
       "ab        1\n",
       "Name: original_language, dtype: int64"
      ]
     },
     "execution_count": 28,
     "metadata": {},
     "output_type": "execute_result"
    }
   ],
   "source": [
    "df2['original_language'].value_counts()"
   ]
  },
  {
   "cell_type": "code",
   "execution_count": null,
   "metadata": {},
   "outputs": [],
   "source": [
    "#Ultimately, I think I want the deduplicated union of both these sets.\n",
    "# This represents all movies which were either "
   ]
  }
 ],
 "metadata": {
  "kernelspec": {
   "display_name": "learn-env",
   "language": "python",
   "name": "learn-env"
  },
  "language_info": {
   "codemirror_mode": {
    "name": "ipython",
    "version": 3
   },
   "file_extension": ".py",
   "mimetype": "text/x-python",
   "name": "python",
   "nbconvert_exporter": "python",
   "pygments_lexer": "ipython3",
   "version": "3.8.5"
  },
  "toc": {
   "base_numbering": 1,
   "nav_menu": {},
   "number_sections": true,
   "sideBar": true,
   "skip_h1_title": false,
   "title_cell": "Table of Contents",
   "title_sidebar": "Contents",
   "toc_cell": false,
   "toc_position": {},
   "toc_section_display": true,
   "toc_window_display": true
  },
  "varInspector": {
   "cols": {
    "lenName": 16,
    "lenType": 16,
    "lenVar": 40
   },
   "kernels_config": {
    "python": {
     "delete_cmd_postfix": "",
     "delete_cmd_prefix": "del ",
     "library": "var_list.py",
     "varRefreshCmd": "print(var_dic_list())"
    },
    "r": {
     "delete_cmd_postfix": ") ",
     "delete_cmd_prefix": "rm(",
     "library": "var_list.r",
     "varRefreshCmd": "cat(var_dic_list()) "
    }
   },
   "types_to_exclude": [
    "module",
    "function",
    "builtin_function_or_method",
    "instance",
    "_Feature"
   ],
   "window_display": false
  }
 },
 "nbformat": 4,
 "nbformat_minor": 4
}
