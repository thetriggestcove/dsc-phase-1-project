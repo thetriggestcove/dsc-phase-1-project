{
 "cells": [
  {
   "cell_type": "markdown",
   "metadata": {},
   "source": [
    "# Introduction\n",
    "\n",
    "I really want to get the info about streaming data to do some analysis along with the box office info. I'm curious whether movies that did well at the box office are more likely to be available for rent or buy versus subscription, and whether they are more likely to be on multiple platforms. I think this is important to figure out if the same things that make a movie successful at the box office will also make it successful in post-release streaming.\n",
    "\n",
    "The problem is, this data isn't easy to find. The Numbers has a paid data set that I don't want to pay for. So does JustWatch.\n",
    "\n",
    "I checked out https://api.watchmode.com/, which has a free option."
   ]
  },
  {
   "cell_type": "code",
   "execution_count": 53,
   "metadata": {},
   "outputs": [],
   "source": [
    "import requests\n",
    "import pandas as pd\n",
    "from bs4 import BeautifulSoup\n",
    "import json"
   ]
  },
  {
   "cell_type": "markdown",
   "metadata": {},
   "source": [
    "## Watchmode API"
   ]
  },
  {
   "cell_type": "code",
   "execution_count": 61,
   "metadata": {},
   "outputs": [
    {
     "data": {
      "text/plain": [
       "40"
      ]
     },
     "execution_count": 61,
     "metadata": {},
     "output_type": "execute_result"
    }
   ],
   "source": [
    "# Credit to https://stackoverflow.com/questions/4028904/\n",
    "#    how-to-get-the-home-directory-in-python for how to get the home directory\n",
    "def get_keys(path):\n",
    "    from os.path import expanduser\n",
    "    home = expanduser(\"~\")\n",
    "    with open(path.replace('~', home)) as f:\n",
    "        return json.load(f)\n",
    "\n",
    "keys = get_keys(\"~/.secret/watchmode_api.json\")\n",
    "api_key = keys['api_key']\n",
    "len(api_key)"
   ]
  },
  {
   "cell_type": "code",
   "execution_count": 62,
   "metadata": {},
   "outputs": [
    {
     "data": {
      "text/plain": [
       "200"
      ]
     },
     "execution_count": 62,
     "metadata": {},
     "output_type": "execute_result"
    }
   ],
   "source": [
    "# Test out the new API with key and make sure we get a good response\n",
    "url = 'https://api.watchmode.com/v1/list-titles'\n",
    "\n",
    "url_params = {\n",
    "                'apiKey': api_key,\n",
    "                'types': 'movie',\n",
    "                'regions': 'US',\n",
    "                'source_types': 'sub',\n",
    "                'page': '1'\n",
    "             }\n",
    "# source_types: sub, rent, buy, free, tve\n",
    "# Starting with 'sub' for subscription\n",
    "\n",
    "response = requests.get(url, params=url_params)\n",
    "response.status_code"
   ]
  },
  {
   "cell_type": "code",
   "execution_count": 64,
   "metadata": {},
   "outputs": [
    {
     "data": {
      "text/plain": [
       "dict_keys(['titles', 'page', 'total_results', 'total_pages'])"
      ]
     },
     "execution_count": 64,
     "metadata": {},
     "output_type": "execute_result"
    }
   ],
   "source": [
    "# Load the resonse into a dictionary and check out the keys\n",
    "resp_dict = json.loads(response.text)\n",
    "\n",
    "resp_dict.keys()"
   ]
  },
  {
   "cell_type": "code",
   "execution_count": 66,
   "metadata": {
    "scrolled": true
   },
   "outputs": [
    {
     "name": "stdout",
     "output_type": "stream",
     "text": [
      "Total results available: 17783\n",
      "Total pages available: 72\n"
     ]
    }
   ],
   "source": [
    "# How many results did we get?\n",
    "print(f\"Total results available: {resp_dict['total_results']}\")\n",
    "print(f\"Total pages available: {resp_dict['total_pages']}\")"
   ]
  },
  {
   "cell_type": "code",
   "execution_count": 68,
   "metadata": {},
   "outputs": [
    {
     "data": {
      "text/plain": [
       "{'id': 11,\n",
       " 'title': '!Women Art Revolution',\n",
       " 'year': 2010,\n",
       " 'imdb_id': 'tt1699720',\n",
       " 'tmdb_id': 55245,\n",
       " 'tmdb_type': 'movie',\n",
       " 'type': 'movie'}"
      ]
     },
     "execution_count": 68,
     "metadata": {},
     "output_type": "execute_result"
    }
   ],
   "source": [
    "resp_dict['titles'][0]"
   ]
  },
  {
   "cell_type": "markdown",
   "metadata": {},
   "source": [
    "## Attempt to scrape from JustWatch\n",
    "\n",
    "Justwatch has infinite scroll, and the info I want isn't on the initial page, so I would need to loop through the pages. I was able to get some of the pages "
   ]
  },
  {
   "cell_type": "code",
   "execution_count": 44,
   "metadata": {},
   "outputs": [
    {
     "data": {
      "text/plain": [
       "'{\"fields\": [\"cinema_release_date\", \"full_path\", \"full_paths\", \"id\", \"localized_release_date\", \"object_type\", \"poster\", \"scoring\", \"title\", \"tmdb_popularity\", \"backdrops\"], \"content_types\": [\"movie\"], \"providers\": [\"nfx\", \"amp\", \"dnp\", \"fuv\", \"atp\", \"itu\", \"hlu\", \"hbm\", \"pct\", \"pcp\", \"amz\", \"ply\", \"yot\", \"ytr\", \"hbn\", \"sho\"], \"sort_by\": \"release_year\", \"enable_provider_filter\": false, \"monetization_types\": [], \"page\": 3, \"page_size\": 30, \"matching_offers_only\": true}'"
      ]
     },
     "execution_count": 44,
     "metadata": {},
     "output_type": "execute_result"
    }
   ],
   "source": [
    "body = {\"fields\":[\"cinema_release_date\",\"full_path\",\"full_paths\",\"id\",\"localized_release_date\",\"object_type\",\"poster\",\"scoring\",\"title\",\"tmdb_popularity\",\"backdrops\"],\"content_types\":[\"movie\"],\"providers\":[\"nfx\",\"amp\",\"dnp\",\"fuv\",\"atp\",\"itu\",\"hlu\",\"hbm\",\"pct\",\"pcp\",\"amz\",\"ply\",\"yot\",\"ytr\",\"hbn\",\"sho\"],\"sort_by\":\"release_year\",\"enable_provider_filter\":False,\"monetization_types\":[],\"page\":3,\"page_size\":30,\"matching_offers_only\":True}\n",
    "body_json = json.dumps(body)\n",
    "body_json"
   ]
  },
  {
   "cell_type": "code",
   "execution_count": 45,
   "metadata": {},
   "outputs": [],
   "source": [
    "html_page = requests.get(\"\"\"https://apis.justwatch.com/content/titles/en_US/popular\"\"\"\n",
    "                        , data=body_json)\n",
    "soup = BeautifulSoup(html_page.content)"
   ]
  },
  {
   "cell_type": "code",
   "execution_count": 46,
   "metadata": {},
   "outputs": [
    {
     "data": {
      "text/plain": [
       "'<!DOCTYPE html>\\n<html lang=\"en\">\\n <head>\\n  <meta charset=\"utf-8\"/>\\n  <meta content=\"initial-scale=1, minimum-scale=1, width=device-width\" name=\"viewport\"/>\\n  <title>\\n   Error 400 (Bad Request)!!1\\n  </title>\\n  <style>\\n   *{margin:0;padding:0}html,code{font:15px/22px arial,sans-serif}html{background:#fff;color:#222;padding:15px}body{margin:7% auto 0;max-width:390px;min-height:180px;padding:30px 0 15px}* > body{background:url(//www.google.com/images/errors/robot.png) 100% 5px no-repeat;padding-right:205px}p{margin:11px 0 22px;overflow:hidden}ins{color:#777;text-decoration:none}a img{border:0}@media screen and (max-width:772px){body{background:none;margin-top:0;max-width:none;padding-right:0}}#logo{background:url(//www.google.com/images/branding/googlelogo/1x/googlelogo_color_150x54dp.png) no-repeat;margin-left:-5px}@media only screen and (min-resolution:192dpi){#logo{background:url(//www.google.com/images/branding/googlelogo/2x/googlelogo_color_150x54dp.png) no-repeat 0% 0%/100% 100%;-moz-border-image:url(//www.google.com/images/branding/googlelogo/2x/googlelogo_color_150x54dp.png) 0}}@media only screen and (-webkit-min-device-pixel-ratio:2){#logo{background:url(//www.google.com/images/branding/googlelogo/2x/googlelogo_color_150x54dp.png) no-repeat;-webkit-background-size:100% 100%}}#logo{display:inline-block;height:54px;width:150px}\\n  </style>\\n </head>\\n <body>\\n  <a href=\"//www.google.com/\">\\n   <span aria-label=\"Google\" id=\"logo\">\\n   </span>\\n  </a>\\n  <p>\\n   <b>\\n    400.\\n   </b>\\n   <ins>\\n    That’s an error.\\n   </ins>\\n  </p>\\n  <p>\\n   Your client has issued a malformed or illegal request.\\n   <ins>\\n    That’s all we know.\\n   </ins>\\n  </p>\\n </body>\\n</html>'"
      ]
     },
     "execution_count": 46,
     "metadata": {},
     "output_type": "execute_result"
    }
   ],
   "source": [
    "soup.prettify()"
   ]
  },
  {
   "cell_type": "markdown",
   "metadata": {},
   "source": [
    "OK, so I managed to find the API call used to get more results, but I don't think it will allow me to use it. Which makes sense since I'm making the call externally without a request header :-p\n",
    "\n",
    "However, the info saved in devtools actually has the links for the returned movies, so I can definitely parse those out of the HAR file from devtools and them loop through the sites to get the actual info. I have to manually scroll, but it's pretty easy to do. The site only loads 66 pages of 30 results total, which is only 1980 results at a time, so I have to figure out how to filter my results to be under that limit.\n",
    "\n",
    "Without specifying a release date in the filter, I get results that haven't been released yet... going to come back to that. Started with filtering by release year, but got too many movies. Tried also filtering by the streaming service for the most popular ones but, still too many. Finally, selected only the services which are subscription only - no rentals, and monetization is subscription. Success! Will keep trying this and logging the files with the criteria."
   ]
  },
  {
   "cell_type": "markdown",
   "metadata": {},
   "source": [
    "### Filter criteria used and results file tracking\n",
    "\n",
    "|URL|Release Year|Services|Monetization|Results|Saved File Name|\n",
    "|---|---|---|---|---|---|\n",
    "|//www.justwatch.com/us/movies<br>?monetization_types=flatrate<br>&providers=amp,atp,dnp,hbm,hlu,nfx<br>&release_year_from=2020<br>&release_year_until=2020<br>&sort_by=release_year  |2020|amp,atp,dnp,hbm,hlu,nfx|Subscription|1602|JustWatch_released2020_AvailBySubscription.har|\n",
    "|//www.justwatch.com/us/movies<br>?monetization_types=flatrate<br>&providers=atp,dnp,hbm,hlu,nfx<br>&release_year_from=2019<br>&release_year_until=2019<br>&sort_by=release_year |2019|atp,dnp,hbm,hlu,nfx|Subscription|941|JustWatch_released2019_AvailBySubscription_NoPrime.har|\n",
    "|//www.justwatch.com/us/movies<br>?monetization_types=flatrate<br>&providers=amp<br>&release_year_from=2019<br>&release_year_until=2019<br>&sort_by=release_year|2019|amp|Subscription|1800|JustWatch_released2019_AvailBySubscription_PrimeOnly.har|\n",
    "|---|---|---|---|---|---|\n",
    "|---|---|---|---|---|---|\n",
    "|---|---|---|---|---|---|\n",
    "|---|---|---|---|---|---|\n",
    "|---|---|---|---|---|---|\n",
    "|---|---|---|---|---|---|\n",
    "\n",
    "\n",
    "These are the popular services that don't have rentals or buy options; you get what you get with your subscription:\n",
    "\n",
    "- amp = Amazon Prime Video\n",
    "- atp = Apple TV Plus\n",
    "- dnp = Disney Plus\n",
    "- hbm = HBO Max\n",
    "- hlu = Hulu\n",
    "- nfx = Netflix"
   ]
  },
  {
   "cell_type": "markdown",
   "metadata": {},
   "source": [
    "### Parsing the HAR files to get paths\n",
    "\n",
    "Before getting too far with the HAR files, I want to make sure I'll be able to parse the paths I need from them and make a script to scrape the info from the individual page URLs."
   ]
  },
  {
   "cell_type": "code",
   "execution_count": null,
   "metadata": {},
   "outputs": [],
   "source": []
  },
  {
   "cell_type": "markdown",
   "metadata": {},
   "source": [
    "Credit to https://www.accordbox.com/blog/how-crawl-infinite-scrolling-pages-using-python/ for the instructions on how to web scrape a site with infinite scrolling, although it didn't work. Accessed 3/14/2021.\n",
    "\n",
    "Credit to https://stackoverflow.com/questions/4028904/how-to-get-the-home-directory-in-python for how to get the home directory in Python. Accessed 3/14/2021."
   ]
  },
  {
   "cell_type": "code",
   "execution_count": null,
   "metadata": {},
   "outputs": [],
   "source": []
  }
 ],
 "metadata": {
  "kernelspec": {
   "display_name": "learn-env",
   "language": "python",
   "name": "learn-env"
  },
  "language_info": {
   "codemirror_mode": {
    "name": "ipython",
    "version": 3
   },
   "file_extension": ".py",
   "mimetype": "text/x-python",
   "name": "python",
   "nbconvert_exporter": "python",
   "pygments_lexer": "ipython3",
   "version": "3.8.5"
  },
  "toc": {
   "base_numbering": 1,
   "nav_menu": {},
   "number_sections": true,
   "sideBar": true,
   "skip_h1_title": false,
   "title_cell": "Table of Contents",
   "title_sidebar": "Contents",
   "toc_cell": false,
   "toc_position": {},
   "toc_section_display": true,
   "toc_window_display": false
  },
  "varInspector": {
   "cols": {
    "lenName": 16,
    "lenType": 16,
    "lenVar": 40
   },
   "kernels_config": {
    "python": {
     "delete_cmd_postfix": "",
     "delete_cmd_prefix": "del ",
     "library": "var_list.py",
     "varRefreshCmd": "print(var_dic_list())"
    },
    "r": {
     "delete_cmd_postfix": ") ",
     "delete_cmd_prefix": "rm(",
     "library": "var_list.r",
     "varRefreshCmd": "cat(var_dic_list()) "
    }
   },
   "types_to_exclude": [
    "module",
    "function",
    "builtin_function_or_method",
    "instance",
    "_Feature"
   ],
   "window_display": false
  }
 },
 "nbformat": 4,
 "nbformat_minor": 4
}
