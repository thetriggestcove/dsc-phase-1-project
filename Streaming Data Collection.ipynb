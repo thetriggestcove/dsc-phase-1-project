{
 "cells": [
  {
   "cell_type": "markdown",
   "metadata": {},
   "source": [
    "# Introduction\n",
    "\n",
    "I really want to get the info about streaming data to do some analysis along with the box office info. I'm curious whether movies that did well at the box office are more likely to be available for rent or buy versus subscription, and whether they are more likely to be on multiple platforms. I think this is important to figure out if the same things that make a movie successful at the box office will also make it successful in post-release streaming.\n",
    "\n",
    "The problem is, this data isn't easy to find. The Numbers has a paid data set that I don't want to pay for. So does JustWatch.\n",
    "\n",
    "I checked out https://api.watchmode.com/, which has a free option."
   ]
  },
  {
   "cell_type": "code",
   "execution_count": 53,
   "metadata": {},
   "outputs": [],
   "source": [
    "import requests\n",
    "import pandas as pd\n",
    "from bs4 import BeautifulSoup\n",
    "import json"
   ]
  },
  {
   "cell_type": "markdown",
   "metadata": {},
   "source": [
    "## Watchmode API"
   ]
  },
  {
   "cell_type": "code",
   "execution_count": 61,
   "metadata": {},
   "outputs": [
    {
     "data": {
      "text/plain": [
       "40"
      ]
     },
     "execution_count": 61,
     "metadata": {},
     "output_type": "execute_result"
    }
   ],
   "source": [
    "# Credit to https://stackoverflow.com/questions/4028904/\n",
    "#    how-to-get-the-home-directory-in-python for how to get the home directory\n",
    "def get_keys(path):\n",
    "    from os.path import expanduser\n",
    "    home = expanduser(\"~\")\n",
    "    with open(path.replace('~', home)) as f:\n",
    "        return json.load(f)\n",
    "\n",
    "keys = get_keys(\"~/.secret/watchmode_api.json\")\n",
    "api_key = keys['api_key']\n",
    "len(api_key)"
   ]
  },
  {
   "cell_type": "code",
   "execution_count": 62,
   "metadata": {},
   "outputs": [
    {
     "data": {
      "text/plain": [
       "200"
      ]
     },
     "execution_count": 62,
     "metadata": {},
     "output_type": "execute_result"
    }
   ],
   "source": [
    "# Test out the new API with key and make sure we get a good response\n",
    "url = 'https://api.watchmode.com/v1/list-titles'\n",
    "\n",
    "url_params = {\n",
    "                'apiKey': api_key,\n",
    "                'types': 'movie',\n",
    "                'regions': 'US',\n",
    "                'source_types': 'sub',\n",
    "                'page': '1'\n",
    "             }\n",
    "# source_types: sub, rent, buy, free, tve\n",
    "# Starting with 'sub' for subscription\n",
    "\n",
    "response = requests.get(url, params=url_params)\n",
    "response.status_code"
   ]
  },
  {
   "cell_type": "code",
   "execution_count": 117,
   "metadata": {},
   "outputs": [
    {
     "data": {
      "text/plain": [
       "dict_keys(['Date', 'Server', 'Access-Control-Allow-Origin', 'Access-Control-Allow-Methods', 'Access-Control-Allow-Headers', 'X-RateLimit-Limit', 'X-RateLimit-Remaining', 'Retry-After', 'X-Account-Quota', 'X-Account-Quota-Used', 'Content-Encoding', 'Vary', 'Keep-Alive', 'Connection', 'Transfer-Encoding', 'Content-Type'])"
      ]
     },
     "execution_count": 117,
     "metadata": {},
     "output_type": "execute_result"
    }
   ],
   "source": [
    "head_dict = dict(response.headers)\n",
    "\n",
    "head_dict.keys()"
   ]
  },
  {
   "cell_type": "code",
   "execution_count": 64,
   "metadata": {},
   "outputs": [
    {
     "data": {
      "text/plain": [
       "dict_keys(['titles', 'page', 'total_results', 'total_pages'])"
      ]
     },
     "execution_count": 64,
     "metadata": {},
     "output_type": "execute_result"
    }
   ],
   "source": [
    "# Load the resonse into a dictionary and check out the keys\n",
    "resp_dict = json.loads(response.text)\n",
    "\n",
    "resp_dict.keys()"
   ]
  },
  {
   "cell_type": "code",
   "execution_count": 66,
   "metadata": {
    "scrolled": true
   },
   "outputs": [
    {
     "name": "stdout",
     "output_type": "stream",
     "text": [
      "Total results available: 17783\n",
      "Total pages available: 72\n"
     ]
    }
   ],
   "source": [
    "# How many results did we get?\n",
    "print(f\"Total results available: {resp_dict['total_results']}\")\n",
    "print(f\"Total pages available: {resp_dict['total_pages']}\")"
   ]
  },
  {
   "cell_type": "code",
   "execution_count": 132,
   "metadata": {
    "scrolled": true
   },
   "outputs": [],
   "source": [
    "def watchmode_movies_listtitles(api_key, source_types\n",
    "                                , start_page=1, run_test=False):\n",
    "    \"\"\"Requests movie information from Watchmode.com\n",
    "    using the list-titles endpoint.\n",
    "    US region is harcoded, as this is meant for a free API user license.\n",
    "    Pass API key to use, and source type. \n",
    "    Source type options are:\n",
    "    sub (Subscription); rent; buy; free; tve. Pass as a string or a list for\n",
    "    multiple source types.\n",
    "    run_test is False by default, but change to True \n",
    "    to simply see the number of results and how many API calls are left.\"\"\"\n",
    "    \n",
    "    url = 'https://api.watchmode.com/v1/list-titles'\n",
    "    df = pd.DataFrame()\n",
    "    url_params = {\n",
    "                    'apiKey': api_key,\n",
    "                    'types': 'movie',\n",
    "                    'regions': 'US',\n",
    "                    'source_types': source_types,\n",
    "                    'page': start_page\n",
    "                 }\n",
    "    \n",
    "    # The first GET request always runs to obtain totals\n",
    "    response = requests.get(url, params=url_params)\n",
    "    \n",
    "    # If response was good and we're actually going through all the pages...\n",
    "    if response.status_code == 200 and run_test == False:\n",
    "        resp_dict = json.loads(response.text)\n",
    "        print(f\"Total results available: {resp_dict['total_results']}\")\n",
    "        print(f\"Total pages available: {resp_dict['total_pages']}\")\n",
    "        print(f\"Initiating loop for each page.\")\n",
    "        end_page = resp_dict['total_pages']\n",
    "        current_page = start_page\n",
    "        \n",
    "        while current_page <= end_page:\n",
    "            print(f\"Initiating page {current_page} of {end_page}...\")\n",
    "            url_params['page'] = current_page\n",
    "            response = requests.get(url, params=url_params)\n",
    "            resp_dict = json.loads(response.text)\n",
    "            if len(df) == 0:\n",
    "                df = pd.DataFrame(resp_dict['titles'])\n",
    "            else:\n",
    "                df_temp = pd.DataFrame(resp_dict['titles'])\n",
    "                df = pd.concat([df, df_temp], ignore_index=True)\n",
    "            print(f\"Page {current_page} complete!\")\n",
    "            current_page += 1\n",
    "            \n",
    "        print(f\"\"\"API Calls Used: {dict(response.headers)['X-Account-Quota-Used']} \n",
    "        out of {dict(response.headers)['X-Account-Quota']}\"\"\")\n",
    "        return df\n",
    "    \n",
    "    # If response was good and we're only running a test...\n",
    "    elif response.status_code == 200 and run_test == True:\n",
    "        resp_dict = json.loads(response.text)\n",
    "        print(f\"Total results available: {resp_dict['total_results']}\")\n",
    "        print(f\"Total pages available: {resp_dict['total_pages']}\")\n",
    "        print(f\"\"\"API Calls Used: {dict(response.headers)['X-Account-Quota-Used']} \n",
    "        out of {dict(response.headers)['X-Account-Quota']}\"\"\")\n",
    "        return None\n",
    "    else:\n",
    "        print(f\"\"\"Error response attempting initial call:{response.status_code}. \n",
    "        Aborted.\"\"\")\n",
    "        return None"
   ]
  },
  {
   "cell_type": "code",
   "execution_count": 100,
   "metadata": {
    "code_folding": [],
    "scrolled": true
   },
   "outputs": [
    {
     "name": "stdout",
     "output_type": "stream",
     "text": [
      "Total results available: 17783\n",
      "Total pages available: 72\n",
      "Initiating loop for each page.\n",
      "Initiating page 1 of 72...\n",
      "Page 1 complete!\n",
      "Initiating page 2 of 72...\n",
      "Page 2 complete!\n",
      "Initiating page 3 of 72...\n",
      "Page 3 complete!\n",
      "Initiating page 4 of 72...\n",
      "Page 4 complete!\n",
      "Initiating page 5 of 72...\n",
      "Page 5 complete!\n",
      "Initiating page 6 of 72...\n",
      "Page 6 complete!\n",
      "Initiating page 7 of 72...\n",
      "Page 7 complete!\n",
      "Initiating page 8 of 72...\n",
      "Page 8 complete!\n",
      "Initiating page 9 of 72...\n",
      "Page 9 complete!\n",
      "Initiating page 10 of 72...\n",
      "Page 10 complete!\n",
      "Initiating page 11 of 72...\n",
      "Page 11 complete!\n",
      "Initiating page 12 of 72...\n",
      "Page 12 complete!\n",
      "Initiating page 13 of 72...\n",
      "Page 13 complete!\n",
      "Initiating page 14 of 72...\n",
      "Page 14 complete!\n",
      "Initiating page 15 of 72...\n",
      "Page 15 complete!\n",
      "Initiating page 16 of 72...\n",
      "Page 16 complete!\n",
      "Initiating page 17 of 72...\n",
      "Page 17 complete!\n",
      "Initiating page 18 of 72...\n",
      "Page 18 complete!\n",
      "Initiating page 19 of 72...\n",
      "Page 19 complete!\n",
      "Initiating page 20 of 72...\n",
      "Page 20 complete!\n",
      "Initiating page 21 of 72...\n",
      "Page 21 complete!\n",
      "Initiating page 22 of 72...\n",
      "Page 22 complete!\n",
      "Initiating page 23 of 72...\n",
      "Page 23 complete!\n",
      "Initiating page 24 of 72...\n",
      "Page 24 complete!\n",
      "Initiating page 25 of 72...\n",
      "Page 25 complete!\n",
      "Initiating page 26 of 72...\n",
      "Page 26 complete!\n",
      "Initiating page 27 of 72...\n",
      "Page 27 complete!\n",
      "Initiating page 28 of 72...\n",
      "Page 28 complete!\n",
      "Initiating page 29 of 72...\n",
      "Page 29 complete!\n",
      "Initiating page 30 of 72...\n",
      "Page 30 complete!\n",
      "Initiating page 31 of 72...\n",
      "Page 31 complete!\n",
      "Initiating page 32 of 72...\n",
      "Page 32 complete!\n",
      "Initiating page 33 of 72...\n",
      "Page 33 complete!\n",
      "Initiating page 34 of 72...\n",
      "Page 34 complete!\n",
      "Initiating page 35 of 72...\n",
      "Page 35 complete!\n",
      "Initiating page 36 of 72...\n",
      "Page 36 complete!\n",
      "Initiating page 37 of 72...\n",
      "Page 37 complete!\n",
      "Initiating page 38 of 72...\n",
      "Page 38 complete!\n",
      "Initiating page 39 of 72...\n",
      "Page 39 complete!\n",
      "Initiating page 40 of 72...\n",
      "Page 40 complete!\n",
      "Initiating page 41 of 72...\n",
      "Page 41 complete!\n",
      "Initiating page 42 of 72...\n",
      "Page 42 complete!\n",
      "Initiating page 43 of 72...\n",
      "Page 43 complete!\n",
      "Initiating page 44 of 72...\n",
      "Page 44 complete!\n",
      "Initiating page 45 of 72...\n",
      "Page 45 complete!\n",
      "Initiating page 46 of 72...\n",
      "Page 46 complete!\n",
      "Initiating page 47 of 72...\n",
      "Page 47 complete!\n",
      "Initiating page 48 of 72...\n",
      "Page 48 complete!\n",
      "Initiating page 49 of 72...\n",
      "Page 49 complete!\n",
      "Initiating page 50 of 72...\n",
      "Page 50 complete!\n",
      "Initiating page 51 of 72...\n",
      "Page 51 complete!\n",
      "Initiating page 52 of 72...\n",
      "Page 52 complete!\n",
      "Initiating page 53 of 72...\n",
      "Page 53 complete!\n",
      "Initiating page 54 of 72...\n",
      "Page 54 complete!\n",
      "Initiating page 55 of 72...\n",
      "Page 55 complete!\n",
      "Initiating page 56 of 72...\n",
      "Page 56 complete!\n",
      "Initiating page 57 of 72...\n",
      "Page 57 complete!\n",
      "Initiating page 58 of 72...\n",
      "Page 58 complete!\n",
      "Initiating page 59 of 72...\n",
      "Page 59 complete!\n",
      "Initiating page 60 of 72...\n",
      "Page 60 complete!\n",
      "Initiating page 61 of 72...\n",
      "Page 61 complete!\n",
      "Initiating page 62 of 72...\n",
      "Page 62 complete!\n",
      "Initiating page 63 of 72...\n",
      "Page 63 complete!\n",
      "Initiating page 64 of 72...\n",
      "Page 64 complete!\n",
      "Initiating page 65 of 72...\n",
      "Page 65 complete!\n",
      "Initiating page 66 of 72...\n",
      "Page 66 complete!\n",
      "Initiating page 67 of 72...\n",
      "Page 67 complete!\n",
      "Initiating page 68 of 72...\n",
      "Page 68 complete!\n",
      "Initiating page 69 of 72...\n",
      "Page 69 complete!\n",
      "Initiating page 70 of 72...\n",
      "Page 70 complete!\n",
      "Initiating page 71 of 72...\n",
      "Page 71 complete!\n",
      "Initiating page 72 of 72...\n",
      "Page 72 complete!\n"
     ]
    }
   ],
   "source": [
    "# Get results for movies available by subscription\n",
    "df_sub = watchmode_movies_listtitles(api_key=api_key, source_types='sub')"
   ]
  },
  {
   "cell_type": "code",
   "execution_count": 101,
   "metadata": {
    "scrolled": false
   },
   "outputs": [
    {
     "data": {
      "text/html": [
       "<div>\n",
       "<style scoped>\n",
       "    .dataframe tbody tr th:only-of-type {\n",
       "        vertical-align: middle;\n",
       "    }\n",
       "\n",
       "    .dataframe tbody tr th {\n",
       "        vertical-align: top;\n",
       "    }\n",
       "\n",
       "    .dataframe thead th {\n",
       "        text-align: right;\n",
       "    }\n",
       "</style>\n",
       "<table border=\"1\" class=\"dataframe\">\n",
       "  <thead>\n",
       "    <tr style=\"text-align: right;\">\n",
       "      <th></th>\n",
       "      <th>id</th>\n",
       "      <th>title</th>\n",
       "      <th>year</th>\n",
       "      <th>imdb_id</th>\n",
       "      <th>tmdb_id</th>\n",
       "      <th>tmdb_type</th>\n",
       "      <th>type</th>\n",
       "    </tr>\n",
       "  </thead>\n",
       "  <tbody>\n",
       "    <tr>\n",
       "      <th>0</th>\n",
       "      <td>11</td>\n",
       "      <td>!Women Art Revolution</td>\n",
       "      <td>2010</td>\n",
       "      <td>tt1699720</td>\n",
       "      <td>55245</td>\n",
       "      <td>movie</td>\n",
       "      <td>movie</td>\n",
       "    </tr>\n",
       "    <tr>\n",
       "      <th>1</th>\n",
       "      <td>135</td>\n",
       "      <td>#Female Pleasure</td>\n",
       "      <td>2018</td>\n",
       "      <td>tt8372826</td>\n",
       "      <td>540210</td>\n",
       "      <td>movie</td>\n",
       "      <td>movie</td>\n",
       "    </tr>\n",
       "    <tr>\n",
       "      <th>2</th>\n",
       "      <td>164</td>\n",
       "      <td>Pellichoopulu</td>\n",
       "      <td>2016</td>\n",
       "      <td>tt5824826</td>\n",
       "      <td>393841</td>\n",
       "      <td>movie</td>\n",
       "      <td>movie</td>\n",
       "    </tr>\n",
       "    <tr>\n",
       "      <th>3</th>\n",
       "      <td>166</td>\n",
       "      <td>#realityhigh</td>\n",
       "      <td>2017</td>\n",
       "      <td>tt6119504</td>\n",
       "      <td>455656</td>\n",
       "      <td>movie</td>\n",
       "      <td>movie</td>\n",
       "    </tr>\n",
       "    <tr>\n",
       "      <th>4</th>\n",
       "      <td>1155</td>\n",
       "      <td>$elfie Shootout</td>\n",
       "      <td>2016</td>\n",
       "      <td>tt4004608</td>\n",
       "      <td>327946</td>\n",
       "      <td>movie</td>\n",
       "      <td>movie</td>\n",
       "    </tr>\n",
       "    <tr>\n",
       "      <th>...</th>\n",
       "      <td>...</td>\n",
       "      <td>...</td>\n",
       "      <td>...</td>\n",
       "      <td>...</td>\n",
       "      <td>...</td>\n",
       "      <td>...</td>\n",
       "      <td>...</td>\n",
       "    </tr>\n",
       "    <tr>\n",
       "      <th>17778</th>\n",
       "      <td>4150062</td>\n",
       "      <td>The Mystery of D.B. Cooper</td>\n",
       "      <td>2020</td>\n",
       "      <td>tt8694594</td>\n",
       "      <td>743073</td>\n",
       "      <td>movie</td>\n",
       "      <td>movie</td>\n",
       "    </tr>\n",
       "    <tr>\n",
       "      <th>17779</th>\n",
       "      <td>518463</td>\n",
       "      <td>The Ballad of Buster Scruggs</td>\n",
       "      <td>2018</td>\n",
       "      <td>tt6412452</td>\n",
       "      <td>537996</td>\n",
       "      <td>movie</td>\n",
       "      <td>movie</td>\n",
       "    </tr>\n",
       "    <tr>\n",
       "      <th>17780</th>\n",
       "      <td>538946</td>\n",
       "      <td>The First Temptation of Christ</td>\n",
       "      <td>2019</td>\n",
       "      <td>tt11310004</td>\n",
       "      <td>652020</td>\n",
       "      <td>movie</td>\n",
       "      <td>movie</td>\n",
       "    </tr>\n",
       "    <tr>\n",
       "      <th>17781</th>\n",
       "      <td>540875</td>\n",
       "      <td>Dance Dreams: Hot Chocolate Nutcracker</td>\n",
       "      <td>2020</td>\n",
       "      <td>tt8741182</td>\n",
       "      <td>755328</td>\n",
       "      <td>movie</td>\n",
       "      <td>movie</td>\n",
       "    </tr>\n",
       "    <tr>\n",
       "      <th>17782</th>\n",
       "      <td>541110</td>\n",
       "      <td>North Korea: Inside The Mind of a Dictator</td>\n",
       "      <td>2021</td>\n",
       "      <td>tt13879908</td>\n",
       "      <td>788544</td>\n",
       "      <td>movie</td>\n",
       "      <td>movie</td>\n",
       "    </tr>\n",
       "  </tbody>\n",
       "</table>\n",
       "<p>17783 rows × 7 columns</p>\n",
       "</div>"
      ],
      "text/plain": [
       "            id                                       title  year     imdb_id  \\\n",
       "0           11                       !Women Art Revolution  2010   tt1699720   \n",
       "1          135                            #Female Pleasure  2018   tt8372826   \n",
       "2          164                               Pellichoopulu  2016   tt5824826   \n",
       "3          166                                #realityhigh  2017   tt6119504   \n",
       "4         1155                             $elfie Shootout  2016   tt4004608   \n",
       "...        ...                                         ...   ...         ...   \n",
       "17778  4150062                  The Mystery of D.B. Cooper  2020   tt8694594   \n",
       "17779   518463                The Ballad of Buster Scruggs  2018   tt6412452   \n",
       "17780   538946              The First Temptation of Christ  2019  tt11310004   \n",
       "17781   540875      Dance Dreams: Hot Chocolate Nutcracker  2020   tt8741182   \n",
       "17782   541110  North Korea: Inside The Mind of a Dictator  2021  tt13879908   \n",
       "\n",
       "       tmdb_id tmdb_type   type  \n",
       "0        55245     movie  movie  \n",
       "1       540210     movie  movie  \n",
       "2       393841     movie  movie  \n",
       "3       455656     movie  movie  \n",
       "4       327946     movie  movie  \n",
       "...        ...       ...    ...  \n",
       "17778   743073     movie  movie  \n",
       "17779   537996     movie  movie  \n",
       "17780   652020     movie  movie  \n",
       "17781   755328     movie  movie  \n",
       "17782   788544     movie  movie  \n",
       "\n",
       "[17783 rows x 7 columns]"
      ]
     },
     "execution_count": 101,
     "metadata": {},
     "output_type": "execute_result"
    }
   ],
   "source": [
    "df_sub"
   ]
  },
  {
   "cell_type": "code",
   "execution_count": 104,
   "metadata": {},
   "outputs": [
    {
     "name": "stdout",
     "output_type": "stream",
     "text": [
      "CONTRIBUTING.md                  awesome.gif\r\n",
      "LICENSE.md                       \u001b[34mdata\u001b[m\u001b[m/\r\n",
      "README.md                        student.ipynb\r\n",
      "Streaming Data Collection.ipynb  \u001b[34mzippedData\u001b[m\u001b[m/\r\n"
     ]
    }
   ],
   "source": [
    "ls"
   ]
  },
  {
   "cell_type": "code",
   "execution_count": 106,
   "metadata": {},
   "outputs": [],
   "source": [
    "# Export to file for safekeeping\n",
    "df_sub.to_json('data/watchmode_subscription_titles_20210314.json')"
   ]
  },
  {
   "cell_type": "code",
   "execution_count": 112,
   "metadata": {
    "scrolled": true
   },
   "outputs": [
    {
     "name": "stdout",
     "output_type": "stream",
     "text": [
      "<class 'pandas.core.frame.DataFrame'>\n",
      "Index: 17783 entries, 0 to 17782\n",
      "Data columns (total 7 columns):\n",
      " #   Column     Non-Null Count  Dtype \n",
      "---  ------     --------------  ----- \n",
      " 0   id         17783 non-null  int64 \n",
      " 1   title      17783 non-null  object\n",
      " 2   year       17783 non-null  int64 \n",
      " 3   imdb_id    17783 non-null  object\n",
      " 4   tmdb_id    17783 non-null  int64 \n",
      " 5   tmdb_type  17783 non-null  object\n",
      " 6   type       17783 non-null  object\n",
      "dtypes: int64(3), object(4)\n",
      "memory usage: 1.1+ MB\n"
     ]
    }
   ],
   "source": [
    "# Test to make sure file exported ok\n",
    "with open('data/watchmode_subscription_titles_20210314.json') as f:\n",
    "    loaded = json.load(f)\n",
    "    \n",
    "df_test = pd.DataFrame(loaded)\n",
    "\n",
    "df_test.info()"
   ]
  },
  {
   "cell_type": "code",
   "execution_count": 120,
   "metadata": {
    "scrolled": true
   },
   "outputs": [
    {
     "name": "stdout",
     "output_type": "stream",
     "text": [
      "Total results available: 22669\n",
      "Total pages available: 91\n",
      "API Calls Remaining: 120\n"
     ]
    }
   ],
   "source": [
    "# Now, let's see how many results we'll get for the other source types\n",
    "# Do I have enough API calls left this month to do all of them?\n",
    "\n",
    "df_rent = watchmode_movies_listtitles(api_key=api_key, source_types='rent', run_test=True)"
   ]
  },
  {
   "cell_type": "code",
   "execution_count": 121,
   "metadata": {
    "scrolled": true
   },
   "outputs": [
    {
     "name": "stdout",
     "output_type": "stream",
     "text": [
      "Total results available: 22669\n",
      "Total pages available: 91\n",
      "Initiating loop for each page.\n",
      "Initiating page 1 of 91...\n",
      "Page 1 complete!\n",
      "Initiating page 2 of 91...\n",
      "Page 2 complete!\n",
      "Initiating page 3 of 91...\n",
      "Page 3 complete!\n",
      "Initiating page 4 of 91...\n",
      "Page 4 complete!\n",
      "Initiating page 5 of 91...\n",
      "Page 5 complete!\n",
      "Initiating page 6 of 91...\n",
      "Page 6 complete!\n",
      "Initiating page 7 of 91...\n",
      "Page 7 complete!\n",
      "Initiating page 8 of 91...\n",
      "Page 8 complete!\n",
      "Initiating page 9 of 91...\n",
      "Page 9 complete!\n",
      "Initiating page 10 of 91...\n",
      "Page 10 complete!\n",
      "Initiating page 11 of 91...\n",
      "Page 11 complete!\n",
      "Initiating page 12 of 91...\n",
      "Page 12 complete!\n",
      "Initiating page 13 of 91...\n",
      "Page 13 complete!\n",
      "Initiating page 14 of 91...\n",
      "Page 14 complete!\n",
      "Initiating page 15 of 91...\n",
      "Page 15 complete!\n",
      "Initiating page 16 of 91...\n",
      "Page 16 complete!\n",
      "Initiating page 17 of 91...\n",
      "Page 17 complete!\n",
      "Initiating page 18 of 91...\n",
      "Page 18 complete!\n",
      "Initiating page 19 of 91...\n",
      "Page 19 complete!\n",
      "Initiating page 20 of 91...\n",
      "Page 20 complete!\n",
      "Initiating page 21 of 91...\n",
      "Page 21 complete!\n",
      "Initiating page 22 of 91...\n",
      "Page 22 complete!\n",
      "Initiating page 23 of 91...\n",
      "Page 23 complete!\n",
      "Initiating page 24 of 91...\n",
      "Page 24 complete!\n",
      "Initiating page 25 of 91...\n",
      "Page 25 complete!\n",
      "Initiating page 26 of 91...\n",
      "Page 26 complete!\n",
      "Initiating page 27 of 91...\n",
      "Page 27 complete!\n",
      "Initiating page 28 of 91...\n",
      "Page 28 complete!\n",
      "Initiating page 29 of 91...\n",
      "Page 29 complete!\n",
      "Initiating page 30 of 91...\n",
      "Page 30 complete!\n",
      "Initiating page 31 of 91...\n",
      "Page 31 complete!\n",
      "Initiating page 32 of 91...\n",
      "Page 32 complete!\n",
      "Initiating page 33 of 91...\n",
      "Page 33 complete!\n",
      "Initiating page 34 of 91...\n",
      "Page 34 complete!\n",
      "Initiating page 35 of 91...\n",
      "Page 35 complete!\n",
      "Initiating page 36 of 91...\n",
      "Page 36 complete!\n",
      "Initiating page 37 of 91...\n",
      "Page 37 complete!\n",
      "Initiating page 38 of 91...\n",
      "Page 38 complete!\n",
      "Initiating page 39 of 91...\n",
      "Page 39 complete!\n",
      "Initiating page 40 of 91...\n",
      "Page 40 complete!\n",
      "Initiating page 41 of 91...\n",
      "Page 41 complete!\n",
      "Initiating page 42 of 91...\n",
      "Page 42 complete!\n",
      "Initiating page 43 of 91...\n",
      "Page 43 complete!\n",
      "Initiating page 44 of 91...\n",
      "Page 44 complete!\n",
      "Initiating page 45 of 91...\n",
      "Page 45 complete!\n",
      "Initiating page 46 of 91...\n",
      "Page 46 complete!\n",
      "Initiating page 47 of 91...\n",
      "Page 47 complete!\n",
      "Initiating page 48 of 91...\n",
      "Page 48 complete!\n",
      "Initiating page 49 of 91...\n",
      "Page 49 complete!\n",
      "Initiating page 50 of 91...\n",
      "Page 50 complete!\n",
      "Initiating page 51 of 91...\n",
      "Page 51 complete!\n",
      "Initiating page 52 of 91...\n",
      "Page 52 complete!\n",
      "Initiating page 53 of 91...\n",
      "Page 53 complete!\n",
      "Initiating page 54 of 91...\n",
      "Page 54 complete!\n",
      "Initiating page 55 of 91...\n",
      "Page 55 complete!\n",
      "Initiating page 56 of 91...\n",
      "Page 56 complete!\n",
      "Initiating page 57 of 91...\n",
      "Page 57 complete!\n",
      "Initiating page 58 of 91...\n",
      "Page 58 complete!\n",
      "Initiating page 59 of 91...\n",
      "Page 59 complete!\n",
      "Initiating page 60 of 91...\n",
      "Page 60 complete!\n",
      "Initiating page 61 of 91...\n",
      "Page 61 complete!\n",
      "Initiating page 62 of 91...\n",
      "Page 62 complete!\n",
      "Initiating page 63 of 91...\n",
      "Page 63 complete!\n",
      "Initiating page 64 of 91...\n",
      "Page 64 complete!\n",
      "Initiating page 65 of 91...\n",
      "Page 65 complete!\n",
      "Initiating page 66 of 91...\n",
      "Page 66 complete!\n",
      "Initiating page 67 of 91...\n",
      "Page 67 complete!\n",
      "Initiating page 68 of 91...\n",
      "Page 68 complete!\n",
      "Initiating page 69 of 91...\n",
      "Page 69 complete!\n",
      "Initiating page 70 of 91...\n",
      "Page 70 complete!\n",
      "Initiating page 71 of 91...\n",
      "Page 71 complete!\n",
      "Initiating page 72 of 91...\n",
      "Page 72 complete!\n",
      "Initiating page 73 of 91...\n",
      "Page 73 complete!\n",
      "Initiating page 74 of 91...\n",
      "Page 74 complete!\n",
      "Initiating page 75 of 91...\n",
      "Page 75 complete!\n",
      "Initiating page 76 of 91...\n",
      "Page 76 complete!\n",
      "Initiating page 77 of 91...\n",
      "Page 77 complete!\n",
      "Initiating page 78 of 91...\n",
      "Page 78 complete!\n",
      "Initiating page 79 of 91...\n",
      "Page 79 complete!\n",
      "Initiating page 80 of 91...\n",
      "Page 80 complete!\n",
      "Initiating page 81 of 91...\n",
      "Page 81 complete!\n",
      "Initiating page 82 of 91...\n",
      "Page 82 complete!\n",
      "Initiating page 83 of 91...\n",
      "Page 83 complete!\n",
      "Initiating page 84 of 91...\n",
      "Page 84 complete!\n",
      "Initiating page 85 of 91...\n",
      "Page 85 complete!\n",
      "Initiating page 86 of 91...\n",
      "Page 86 complete!\n",
      "Initiating page 87 of 91...\n",
      "Page 87 complete!\n",
      "Initiating page 88 of 91...\n",
      "Page 88 complete!\n",
      "Initiating page 89 of 91...\n",
      "Page 89 complete!\n",
      "Initiating page 90 of 91...\n",
      "Page 90 complete!\n",
      "Initiating page 91 of 91...\n",
      "Page 91 complete!\n"
     ]
    }
   ],
   "source": [
    "df_rent = watchmode_movies_listtitles(api_key=api_key, source_types='rent', run_test=False)"
   ]
  },
  {
   "cell_type": "code",
   "execution_count": 123,
   "metadata": {
    "scrolled": true
   },
   "outputs": [
    {
     "name": "stdout",
     "output_type": "stream",
     "text": [
      "<class 'pandas.core.frame.DataFrame'>\n",
      "RangeIndex: 22669 entries, 0 to 22668\n",
      "Data columns (total 7 columns):\n",
      " #   Column     Non-Null Count  Dtype \n",
      "---  ------     --------------  ----- \n",
      " 0   id         22669 non-null  int64 \n",
      " 1   title      22669 non-null  object\n",
      " 2   year       22669 non-null  int64 \n",
      " 3   imdb_id    22669 non-null  object\n",
      " 4   tmdb_id    22669 non-null  int64 \n",
      " 5   tmdb_type  22669 non-null  object\n",
      " 6   type       22669 non-null  object\n",
      "dtypes: int64(3), object(4)\n",
      "memory usage: 1.2+ MB\n"
     ]
    }
   ],
   "source": [
    "df_rent.info()"
   ]
  },
  {
   "cell_type": "code",
   "execution_count": 124,
   "metadata": {},
   "outputs": [],
   "source": [
    "# Export to file for safekeeping\n",
    "df_rent.to_json('data/watchmode_rental_titles_20210314.json')"
   ]
  },
  {
   "cell_type": "code",
   "execution_count": 125,
   "metadata": {
    "scrolled": true
   },
   "outputs": [
    {
     "name": "stdout",
     "output_type": "stream",
     "text": [
      "<class 'pandas.core.frame.DataFrame'>\n",
      "Index: 22669 entries, 0 to 22668\n",
      "Data columns (total 7 columns):\n",
      " #   Column     Non-Null Count  Dtype \n",
      "---  ------     --------------  ----- \n",
      " 0   id         22669 non-null  int64 \n",
      " 1   title      22669 non-null  object\n",
      " 2   year       22669 non-null  int64 \n",
      " 3   imdb_id    22669 non-null  object\n",
      " 4   tmdb_id    22669 non-null  int64 \n",
      " 5   tmdb_type  22669 non-null  object\n",
      " 6   type       22669 non-null  object\n",
      "dtypes: int64(3), object(4)\n",
      "memory usage: 1.4+ MB\n"
     ]
    }
   ],
   "source": [
    "# Test to make sure file exported ok\n",
    "with open('data/watchmode_rental_titles_20210314.json') as f:\n",
    "    loaded = json.load(f)\n",
    "    \n",
    "df_test = pd.DataFrame(loaded)\n",
    "\n",
    "df_test.info()"
   ]
  },
  {
   "cell_type": "code",
   "execution_count": 133,
   "metadata": {
    "scrolled": true
   },
   "outputs": [
    {
     "name": "stdout",
     "output_type": "stream",
     "text": [
      "Total results available: 22776\n",
      "Total pages available: 92\n",
      "Initiating loop for each page.\n",
      "Initiating page 1 of 92...\n",
      "Page 1 complete!\n",
      "Initiating page 2 of 92...\n",
      "Page 2 complete!\n",
      "Initiating page 3 of 92...\n",
      "Page 3 complete!\n",
      "Initiating page 4 of 92...\n",
      "Page 4 complete!\n",
      "Initiating page 5 of 92...\n",
      "Page 5 complete!\n",
      "Initiating page 6 of 92...\n",
      "Page 6 complete!\n",
      "Initiating page 7 of 92...\n",
      "Page 7 complete!\n",
      "Initiating page 8 of 92...\n",
      "Page 8 complete!\n",
      "Initiating page 9 of 92...\n",
      "Page 9 complete!\n",
      "Initiating page 10 of 92...\n",
      "Page 10 complete!\n",
      "Initiating page 11 of 92...\n",
      "Page 11 complete!\n",
      "Initiating page 12 of 92...\n",
      "Page 12 complete!\n",
      "Initiating page 13 of 92...\n",
      "Page 13 complete!\n",
      "Initiating page 14 of 92...\n",
      "Page 14 complete!\n",
      "Initiating page 15 of 92...\n",
      "Page 15 complete!\n",
      "Initiating page 16 of 92...\n",
      "Page 16 complete!\n",
      "Initiating page 17 of 92...\n",
      "Page 17 complete!\n",
      "Initiating page 18 of 92...\n",
      "Page 18 complete!\n",
      "Initiating page 19 of 92...\n",
      "Page 19 complete!\n",
      "Initiating page 20 of 92...\n",
      "Page 20 complete!\n",
      "Initiating page 21 of 92...\n",
      "Page 21 complete!\n",
      "Initiating page 22 of 92...\n",
      "Page 22 complete!\n",
      "Initiating page 23 of 92...\n",
      "Page 23 complete!\n",
      "Initiating page 24 of 92...\n",
      "Page 24 complete!\n",
      "Initiating page 25 of 92...\n",
      "Page 25 complete!\n",
      "Initiating page 26 of 92...\n",
      "Page 26 complete!\n",
      "Initiating page 27 of 92...\n",
      "Page 27 complete!\n",
      "Initiating page 28 of 92...\n",
      "Page 28 complete!\n",
      "Initiating page 29 of 92...\n",
      "Page 29 complete!\n",
      "Initiating page 30 of 92...\n",
      "Page 30 complete!\n",
      "Initiating page 31 of 92...\n",
      "Page 31 complete!\n",
      "Initiating page 32 of 92...\n",
      "Page 32 complete!\n",
      "Initiating page 33 of 92...\n",
      "Page 33 complete!\n",
      "Initiating page 34 of 92...\n",
      "Page 34 complete!\n",
      "Initiating page 35 of 92...\n",
      "Page 35 complete!\n",
      "Initiating page 36 of 92...\n",
      "Page 36 complete!\n",
      "Initiating page 37 of 92...\n",
      "Page 37 complete!\n",
      "Initiating page 38 of 92...\n",
      "Page 38 complete!\n",
      "Initiating page 39 of 92...\n",
      "Page 39 complete!\n",
      "Initiating page 40 of 92...\n",
      "Page 40 complete!\n",
      "Initiating page 41 of 92...\n",
      "Page 41 complete!\n",
      "Initiating page 42 of 92...\n",
      "Page 42 complete!\n",
      "Initiating page 43 of 92...\n",
      "Page 43 complete!\n",
      "Initiating page 44 of 92...\n",
      "Page 44 complete!\n",
      "Initiating page 45 of 92...\n",
      "Page 45 complete!\n",
      "Initiating page 46 of 92...\n",
      "Page 46 complete!\n",
      "Initiating page 47 of 92...\n",
      "Page 47 complete!\n",
      "Initiating page 48 of 92...\n",
      "Page 48 complete!\n",
      "Initiating page 49 of 92...\n",
      "Page 49 complete!\n",
      "Initiating page 50 of 92...\n",
      "Page 50 complete!\n",
      "Initiating page 51 of 92...\n",
      "Page 51 complete!\n",
      "Initiating page 52 of 92...\n",
      "Page 52 complete!\n",
      "Initiating page 53 of 92...\n",
      "Page 53 complete!\n",
      "Initiating page 54 of 92...\n",
      "Page 54 complete!\n",
      "Initiating page 55 of 92...\n",
      "Page 55 complete!\n",
      "Initiating page 56 of 92...\n",
      "Page 56 complete!\n",
      "Initiating page 57 of 92...\n",
      "Page 57 complete!\n",
      "Initiating page 58 of 92...\n",
      "Page 58 complete!\n",
      "Initiating page 59 of 92...\n",
      "Page 59 complete!\n",
      "Initiating page 60 of 92...\n",
      "Page 60 complete!\n",
      "Initiating page 61 of 92...\n",
      "Page 61 complete!\n",
      "Initiating page 62 of 92...\n",
      "Page 62 complete!\n",
      "Initiating page 63 of 92...\n",
      "Page 63 complete!\n",
      "Initiating page 64 of 92...\n",
      "Page 64 complete!\n",
      "Initiating page 65 of 92...\n",
      "Page 65 complete!\n",
      "Initiating page 66 of 92...\n",
      "Page 66 complete!\n",
      "Initiating page 67 of 92...\n",
      "Page 67 complete!\n",
      "Initiating page 68 of 92...\n",
      "Page 68 complete!\n",
      "Initiating page 69 of 92...\n",
      "Page 69 complete!\n",
      "Initiating page 70 of 92...\n",
      "Page 70 complete!\n",
      "Initiating page 71 of 92...\n",
      "Page 71 complete!\n",
      "Initiating page 72 of 92...\n",
      "Page 72 complete!\n",
      "Initiating page 73 of 92...\n",
      "Page 73 complete!\n",
      "Initiating page 74 of 92...\n",
      "Page 74 complete!\n",
      "Initiating page 75 of 92...\n",
      "Page 75 complete!\n",
      "Initiating page 76 of 92...\n",
      "Page 76 complete!\n",
      "Initiating page 77 of 92...\n",
      "Page 77 complete!\n",
      "Initiating page 78 of 92...\n",
      "Page 78 complete!\n",
      "Initiating page 79 of 92...\n",
      "Page 79 complete!\n",
      "Initiating page 80 of 92...\n",
      "Page 80 complete!\n",
      "Initiating page 81 of 92...\n",
      "Page 81 complete!\n",
      "Initiating page 82 of 92...\n",
      "Page 82 complete!\n",
      "Initiating page 83 of 92...\n",
      "Page 83 complete!\n",
      "Initiating page 84 of 92...\n",
      "Page 84 complete!\n",
      "Initiating page 85 of 92...\n",
      "Page 85 complete!\n",
      "Initiating page 86 of 92...\n",
      "Page 86 complete!\n",
      "Initiating page 87 of 92...\n",
      "Page 87 complete!\n",
      "Initiating page 88 of 92...\n",
      "Page 88 complete!\n",
      "Initiating page 89 of 92...\n",
      "Page 89 complete!\n",
      "Initiating page 90 of 92...\n",
      "Page 90 complete!\n",
      "Initiating page 91 of 92...\n",
      "Page 91 complete!\n",
      "Initiating page 92 of 92...\n",
      "Page 92 complete!\n",
      "API Calls Used: 375 \n",
      "        out of 1000\n"
     ]
    }
   ],
   "source": [
    "df_buy = watchmode_movies_listtitles(api_key=api_key, source_types='buy', run_test=False)"
   ]
  },
  {
   "cell_type": "code",
   "execution_count": 135,
   "metadata": {
    "scrolled": false
   },
   "outputs": [
    {
     "name": "stdout",
     "output_type": "stream",
     "text": [
      "<class 'pandas.core.frame.DataFrame'>\n",
      "RangeIndex: 22776 entries, 0 to 22775\n",
      "Data columns (total 7 columns):\n",
      " #   Column     Non-Null Count  Dtype \n",
      "---  ------     --------------  ----- \n",
      " 0   id         22776 non-null  int64 \n",
      " 1   title      22776 non-null  object\n",
      " 2   year       22776 non-null  int64 \n",
      " 3   imdb_id    22776 non-null  object\n",
      " 4   tmdb_id    22776 non-null  int64 \n",
      " 5   tmdb_type  22776 non-null  object\n",
      " 6   type       22776 non-null  object\n",
      "dtypes: int64(3), object(4)\n",
      "memory usage: 1.2+ MB\n"
     ]
    }
   ],
   "source": [
    "df_buy.info()"
   ]
  },
  {
   "cell_type": "code",
   "execution_count": 136,
   "metadata": {},
   "outputs": [],
   "source": [
    "# Export to file for safekeeping\n",
    "df_buy.to_json('data/watchmode_buy_titles_20210314.json')"
   ]
  },
  {
   "cell_type": "code",
   "execution_count": 138,
   "metadata": {
    "scrolled": true
   },
   "outputs": [
    {
     "name": "stdout",
     "output_type": "stream",
     "text": [
      "<class 'pandas.core.frame.DataFrame'>\n",
      "Index: 22776 entries, 0 to 22775\n",
      "Data columns (total 7 columns):\n",
      " #   Column     Non-Null Count  Dtype \n",
      "---  ------     --------------  ----- \n",
      " 0   id         22776 non-null  int64 \n",
      " 1   title      22776 non-null  object\n",
      " 2   year       22776 non-null  int64 \n",
      " 3   imdb_id    22776 non-null  object\n",
      " 4   tmdb_id    22776 non-null  int64 \n",
      " 5   tmdb_type  22776 non-null  object\n",
      " 6   type       22776 non-null  object\n",
      "dtypes: int64(3), object(4)\n",
      "memory usage: 1.4+ MB\n"
     ]
    }
   ],
   "source": [
    "# Test to make sure file exported ok\n",
    "with open('data/watchmode_buy_titles_20210314.json') as f:\n",
    "    loaded = json.load(f)\n",
    "    \n",
    "df_test = pd.DataFrame(loaded)\n",
    "\n",
    "df_test.info()"
   ]
  },
  {
   "cell_type": "code",
   "execution_count": 140,
   "metadata": {
    "scrolled": true
   },
   "outputs": [
    {
     "name": "stdout",
     "output_type": "stream",
     "text": [
      "Total results available: 7058\n",
      "Total pages available: 29\n",
      "Initiating loop for each page.\n",
      "Initiating page 1 of 29...\n",
      "Page 1 complete!\n",
      "Initiating page 2 of 29...\n",
      "Page 2 complete!\n",
      "Initiating page 3 of 29...\n",
      "Page 3 complete!\n",
      "Initiating page 4 of 29...\n",
      "Page 4 complete!\n",
      "Initiating page 5 of 29...\n",
      "Page 5 complete!\n",
      "Initiating page 6 of 29...\n",
      "Page 6 complete!\n",
      "Initiating page 7 of 29...\n",
      "Page 7 complete!\n",
      "Initiating page 8 of 29...\n",
      "Page 8 complete!\n",
      "Initiating page 9 of 29...\n",
      "Page 9 complete!\n",
      "Initiating page 10 of 29...\n",
      "Page 10 complete!\n",
      "Initiating page 11 of 29...\n",
      "Page 11 complete!\n",
      "Initiating page 12 of 29...\n",
      "Page 12 complete!\n",
      "Initiating page 13 of 29...\n",
      "Page 13 complete!\n",
      "Initiating page 14 of 29...\n",
      "Page 14 complete!\n",
      "Initiating page 15 of 29...\n",
      "Page 15 complete!\n",
      "Initiating page 16 of 29...\n",
      "Page 16 complete!\n",
      "Initiating page 17 of 29...\n",
      "Page 17 complete!\n",
      "Initiating page 18 of 29...\n",
      "Page 18 complete!\n",
      "Initiating page 19 of 29...\n",
      "Page 19 complete!\n",
      "Initiating page 20 of 29...\n",
      "Page 20 complete!\n",
      "Initiating page 21 of 29...\n",
      "Page 21 complete!\n",
      "Initiating page 22 of 29...\n",
      "Page 22 complete!\n",
      "Initiating page 23 of 29...\n",
      "Page 23 complete!\n",
      "Initiating page 24 of 29...\n",
      "Page 24 complete!\n",
      "Initiating page 25 of 29...\n",
      "Page 25 complete!\n",
      "Initiating page 26 of 29...\n",
      "Page 26 complete!\n",
      "Initiating page 27 of 29...\n",
      "Page 27 complete!\n",
      "Initiating page 28 of 29...\n",
      "Page 28 complete!\n",
      "Initiating page 29 of 29...\n",
      "Page 29 complete!\n",
      "API Calls Used: 406 \n",
      "        out of 1000\n"
     ]
    }
   ],
   "source": [
    "df_free = watchmode_movies_listtitles(api_key=api_key, source_types='free', run_test=False)"
   ]
  },
  {
   "cell_type": "code",
   "execution_count": 141,
   "metadata": {
    "scrolled": true
   },
   "outputs": [
    {
     "name": "stdout",
     "output_type": "stream",
     "text": [
      "<class 'pandas.core.frame.DataFrame'>\n",
      "RangeIndex: 7059 entries, 0 to 7058\n",
      "Data columns (total 7 columns):\n",
      " #   Column     Non-Null Count  Dtype \n",
      "---  ------     --------------  ----- \n",
      " 0   id         7059 non-null   int64 \n",
      " 1   title      7059 non-null   object\n",
      " 2   year       7059 non-null   int64 \n",
      " 3   imdb_id    7059 non-null   object\n",
      " 4   tmdb_id    7059 non-null   int64 \n",
      " 5   tmdb_type  7059 non-null   object\n",
      " 6   type       7059 non-null   object\n",
      "dtypes: int64(3), object(4)\n",
      "memory usage: 386.2+ KB\n"
     ]
    }
   ],
   "source": [
    "df_free.info()"
   ]
  },
  {
   "cell_type": "code",
   "execution_count": 142,
   "metadata": {},
   "outputs": [],
   "source": [
    "# Export to file for safekeeping\n",
    "df_free.to_json('data/watchmode_free_titles_20210314.json')"
   ]
  },
  {
   "cell_type": "code",
   "execution_count": 143,
   "metadata": {
    "scrolled": true
   },
   "outputs": [
    {
     "name": "stdout",
     "output_type": "stream",
     "text": [
      "<class 'pandas.core.frame.DataFrame'>\n",
      "Index: 7059 entries, 0 to 7058\n",
      "Data columns (total 7 columns):\n",
      " #   Column     Non-Null Count  Dtype \n",
      "---  ------     --------------  ----- \n",
      " 0   id         7059 non-null   int64 \n",
      " 1   title      7059 non-null   object\n",
      " 2   year       7059 non-null   int64 \n",
      " 3   imdb_id    7059 non-null   object\n",
      " 4   tmdb_id    7059 non-null   int64 \n",
      " 5   tmdb_type  7059 non-null   object\n",
      " 6   type       7059 non-null   object\n",
      "dtypes: int64(3), object(4)\n",
      "memory usage: 441.2+ KB\n"
     ]
    }
   ],
   "source": [
    "# Test to make sure file exported ok\n",
    "with open('data/watchmode_free_titles_20210314.json') as f:\n",
    "    loaded = json.load(f)\n",
    "    \n",
    "df_test = pd.DataFrame(loaded)\n",
    "\n",
    "df_test.info()"
   ]
  },
  {
   "cell_type": "markdown",
   "metadata": {},
   "source": [
    "## The Movie Database\n",
    "\n",
    "Looking at the IDs I got from the watchmode results, I see they reference both The Movie Database IDs and IMDb IDs. This will make it easy to join the results.\n",
    "\n",
    "The Movie Databse does have its own API, although it appears IMDB does not.\n",
    "\n",
    "https://developers.themoviedb.org/3/getting-started/introduction"
   ]
  },
  {
   "cell_type": "markdown",
   "metadata": {},
   "source": [
    "## Attempt to scrape from JustWatch\n",
    "\n",
    "Justwatch has infinite scroll, and the info I want isn't on the initial page, so I would need to loop through the pages. I was able to get some of the pages "
   ]
  },
  {
   "cell_type": "code",
   "execution_count": 44,
   "metadata": {},
   "outputs": [
    {
     "data": {
      "text/plain": [
       "'{\"fields\": [\"cinema_release_date\", \"full_path\", \"full_paths\", \"id\", \"localized_release_date\", \"object_type\", \"poster\", \"scoring\", \"title\", \"tmdb_popularity\", \"backdrops\"], \"content_types\": [\"movie\"], \"providers\": [\"nfx\", \"amp\", \"dnp\", \"fuv\", \"atp\", \"itu\", \"hlu\", \"hbm\", \"pct\", \"pcp\", \"amz\", \"ply\", \"yot\", \"ytr\", \"hbn\", \"sho\"], \"sort_by\": \"release_year\", \"enable_provider_filter\": false, \"monetization_types\": [], \"page\": 3, \"page_size\": 30, \"matching_offers_only\": true}'"
      ]
     },
     "execution_count": 44,
     "metadata": {},
     "output_type": "execute_result"
    }
   ],
   "source": [
    "body = {\"fields\":[\"cinema_release_date\",\"full_path\",\"full_paths\",\"id\",\"localized_release_date\",\"object_type\",\"poster\",\"scoring\",\"title\",\"tmdb_popularity\",\"backdrops\"],\"content_types\":[\"movie\"],\"providers\":[\"nfx\",\"amp\",\"dnp\",\"fuv\",\"atp\",\"itu\",\"hlu\",\"hbm\",\"pct\",\"pcp\",\"amz\",\"ply\",\"yot\",\"ytr\",\"hbn\",\"sho\"],\"sort_by\":\"release_year\",\"enable_provider_filter\":False,\"monetization_types\":[],\"page\":3,\"page_size\":30,\"matching_offers_only\":True}\n",
    "body_json = json.dumps(body)\n",
    "body_json"
   ]
  },
  {
   "cell_type": "code",
   "execution_count": 45,
   "metadata": {},
   "outputs": [],
   "source": [
    "html_page = requests.get(\"\"\"https://apis.justwatch.com/content/titles/en_US/popular\"\"\"\n",
    "                        , data=body_json)\n",
    "soup = BeautifulSoup(html_page.content)"
   ]
  },
  {
   "cell_type": "code",
   "execution_count": 46,
   "metadata": {},
   "outputs": [
    {
     "data": {
      "text/plain": [
       "'<!DOCTYPE html>\\n<html lang=\"en\">\\n <head>\\n  <meta charset=\"utf-8\"/>\\n  <meta content=\"initial-scale=1, minimum-scale=1, width=device-width\" name=\"viewport\"/>\\n  <title>\\n   Error 400 (Bad Request)!!1\\n  </title>\\n  <style>\\n   *{margin:0;padding:0}html,code{font:15px/22px arial,sans-serif}html{background:#fff;color:#222;padding:15px}body{margin:7% auto 0;max-width:390px;min-height:180px;padding:30px 0 15px}* > body{background:url(//www.google.com/images/errors/robot.png) 100% 5px no-repeat;padding-right:205px}p{margin:11px 0 22px;overflow:hidden}ins{color:#777;text-decoration:none}a img{border:0}@media screen and (max-width:772px){body{background:none;margin-top:0;max-width:none;padding-right:0}}#logo{background:url(//www.google.com/images/branding/googlelogo/1x/googlelogo_color_150x54dp.png) no-repeat;margin-left:-5px}@media only screen and (min-resolution:192dpi){#logo{background:url(//www.google.com/images/branding/googlelogo/2x/googlelogo_color_150x54dp.png) no-repeat 0% 0%/100% 100%;-moz-border-image:url(//www.google.com/images/branding/googlelogo/2x/googlelogo_color_150x54dp.png) 0}}@media only screen and (-webkit-min-device-pixel-ratio:2){#logo{background:url(//www.google.com/images/branding/googlelogo/2x/googlelogo_color_150x54dp.png) no-repeat;-webkit-background-size:100% 100%}}#logo{display:inline-block;height:54px;width:150px}\\n  </style>\\n </head>\\n <body>\\n  <a href=\"//www.google.com/\">\\n   <span aria-label=\"Google\" id=\"logo\">\\n   </span>\\n  </a>\\n  <p>\\n   <b>\\n    400.\\n   </b>\\n   <ins>\\n    That’s an error.\\n   </ins>\\n  </p>\\n  <p>\\n   Your client has issued a malformed or illegal request.\\n   <ins>\\n    That’s all we know.\\n   </ins>\\n  </p>\\n </body>\\n</html>'"
      ]
     },
     "execution_count": 46,
     "metadata": {},
     "output_type": "execute_result"
    }
   ],
   "source": [
    "soup.prettify()"
   ]
  },
  {
   "cell_type": "markdown",
   "metadata": {},
   "source": [
    "OK, so I managed to find the API call used to get more results, but I don't think it will allow me to use it. Which makes sense since I'm making the call externally without a request header :-p\n",
    "\n",
    "However, the info saved in devtools actually has the links for the returned movies, so I can definitely parse those out of the HAR file from devtools and them loop through the sites to get the actual info. I have to manually scroll, but it's pretty easy to do. The site only loads 66 pages of 30 results total, which is only 1980 results at a time, so I have to figure out how to filter my results to be under that limit.\n",
    "\n",
    "Without specifying a release date in the filter, I get results that haven't been released yet... going to come back to that. Started with filtering by release year, but got too many movies. Tried also filtering by the streaming service for the most popular ones but, still too many. Finally, selected only the services which are subscription only - no rentals, and monetization is subscription. Success! Will keep trying this and logging the files with the criteria."
   ]
  },
  {
   "cell_type": "markdown",
   "metadata": {},
   "source": [
    "### Filter criteria used and results file tracking\n",
    "\n",
    "|URL|Release Year|Services|Monetization|Results|Saved File Name|\n",
    "|---|---|---|---|---|---|\n",
    "|//www.justwatch.com/us/movies<br>?monetization_types=flatrate<br>&providers=amp,atp,dnp,hbm,hlu,nfx<br>&release_year_from=2020<br>&release_year_until=2020<br>&sort_by=release_year  |2020|amp,atp,dnp,hbm,hlu,nfx|Subscription|1602|JustWatch_released2020_AvailBySubscription.har|\n",
    "|//www.justwatch.com/us/movies<br>?monetization_types=flatrate<br>&providers=atp,dnp,hbm,hlu,nfx<br>&release_year_from=2019<br>&release_year_until=2019<br>&sort_by=release_year |2019|atp,dnp,hbm,hlu,nfx|Subscription|941|JustWatch_released2019_AvailBySubscription_NoPrime.har|\n",
    "|//www.justwatch.com/us/movies<br>?monetization_types=flatrate<br>&providers=amp<br>&release_year_from=2019<br>&release_year_until=2019<br>&sort_by=release_year|2019|amp|Subscription|1800|JustWatch_released2019_AvailBySubscription_PrimeOnly.har|\n",
    "|---|---|---|---|---|---|\n",
    "|---|---|---|---|---|---|\n",
    "|---|---|---|---|---|---|\n",
    "|---|---|---|---|---|---|\n",
    "|---|---|---|---|---|---|\n",
    "|---|---|---|---|---|---|\n",
    "\n",
    "\n",
    "These are the popular services that don't have rentals or buy options; you get what you get with your subscription:\n",
    "\n",
    "- amp = Amazon Prime Video\n",
    "- atp = Apple TV Plus\n",
    "- dnp = Disney Plus\n",
    "- hbm = HBO Max\n",
    "- hlu = Hulu\n",
    "- nfx = Netflix"
   ]
  },
  {
   "cell_type": "markdown",
   "metadata": {},
   "source": [
    "### Parsing the HAR files to get paths\n",
    "\n",
    "Before getting too far with the HAR files, I want to make sure I'll be able to parse the paths I need from them and make a script to scrape the info from the individual page URLs."
   ]
  },
  {
   "cell_type": "code",
   "execution_count": null,
   "metadata": {},
   "outputs": [],
   "source": []
  },
  {
   "cell_type": "markdown",
   "metadata": {},
   "source": [
    "Credit to https://www.accordbox.com/blog/how-crawl-infinite-scrolling-pages-using-python/ for the instructions on how to web scrape a site with infinite scrolling, although it didn't work. Accessed 3/14/2021.\n",
    "\n",
    "Credit to https://stackoverflow.com/questions/4028904/how-to-get-the-home-directory-in-python for how to get the home directory in Python. Accessed 3/14/2021."
   ]
  },
  {
   "cell_type": "code",
   "execution_count": null,
   "metadata": {},
   "outputs": [],
   "source": []
  }
 ],
 "metadata": {
  "kernelspec": {
   "display_name": "learn-env",
   "language": "python",
   "name": "learn-env"
  },
  "language_info": {
   "codemirror_mode": {
    "name": "ipython",
    "version": 3
   },
   "file_extension": ".py",
   "mimetype": "text/x-python",
   "name": "python",
   "nbconvert_exporter": "python",
   "pygments_lexer": "ipython3",
   "version": "3.8.5"
  },
  "toc": {
   "base_numbering": 1,
   "nav_menu": {},
   "number_sections": true,
   "sideBar": true,
   "skip_h1_title": false,
   "title_cell": "Table of Contents",
   "title_sidebar": "Contents",
   "toc_cell": false,
   "toc_position": {},
   "toc_section_display": true,
   "toc_window_display": false
  },
  "varInspector": {
   "cols": {
    "lenName": 16,
    "lenType": 16,
    "lenVar": 40
   },
   "kernels_config": {
    "python": {
     "delete_cmd_postfix": "",
     "delete_cmd_prefix": "del ",
     "library": "var_list.py",
     "varRefreshCmd": "print(var_dic_list())"
    },
    "r": {
     "delete_cmd_postfix": ") ",
     "delete_cmd_prefix": "rm(",
     "library": "var_list.r",
     "varRefreshCmd": "cat(var_dic_list()) "
    }
   },
   "types_to_exclude": [
    "module",
    "function",
    "builtin_function_or_method",
    "instance",
    "_Feature"
   ],
   "window_display": false
  }
 },
 "nbformat": 4,
 "nbformat_minor": 4
}
