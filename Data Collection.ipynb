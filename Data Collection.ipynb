{
 "cells": [
  {
   "cell_type": "markdown",
   "metadata": {},
   "source": [
    "# Introduction\n",
    "\n",
    "I really want to get the info about streaming data to do some analysis along with the box office info. I'm curious whether movies that did well at the box office are more likely to be available for rent or buy versus subscription, and whether they are more likely to be on multiple platforms. I think this is important to figure out if the same things that make a movie successful at the box office will also make it successful in post-release streaming.\n",
    "\n",
    "The problem is, this data isn't easy to find. The Numbers has a paid data set that I don't want to pay for. So does JustWatch.\n",
    "\n",
    "I checked out https://api.watchmode.com/, which has a free option."
   ]
  },
  {
   "cell_type": "code",
   "execution_count": 46,
   "metadata": {},
   "outputs": [],
   "source": [
    "import requests\n",
    "import pandas as pd\n",
    "from bs4 import BeautifulSoup\n",
    "import json\n",
    "import gzip\n",
    "import pickle"
   ]
  },
  {
   "cell_type": "code",
   "execution_count": 2,
   "metadata": {},
   "outputs": [],
   "source": [
    "# Credit to https://stackoverflow.com/questions/4028904/\n",
    "#    how-to-get-the-home-directory-in-python for how to get the home directory\n",
    "def get_keys(path):\n",
    "    from os.path import expanduser\n",
    "    home = expanduser(\"~\")\n",
    "    with open(path.replace('~', home)) as f:\n",
    "        return json.load(f)"
   ]
  },
  {
   "cell_type": "markdown",
   "metadata": {},
   "source": [
    "# Watchmode API"
   ]
  },
  {
   "cell_type": "code",
   "execution_count": 61,
   "metadata": {},
   "outputs": [
    {
     "data": {
      "text/plain": [
       "40"
      ]
     },
     "execution_count": 61,
     "metadata": {},
     "output_type": "execute_result"
    }
   ],
   "source": [
    "keys = get_keys(\"~/.secret/watchmode_api.json\")\n",
    "api_key = keys['api_key']\n",
    "len(api_key)"
   ]
  },
  {
   "cell_type": "code",
   "execution_count": 62,
   "metadata": {},
   "outputs": [
    {
     "data": {
      "text/plain": [
       "200"
      ]
     },
     "execution_count": 62,
     "metadata": {},
     "output_type": "execute_result"
    }
   ],
   "source": [
    "# Test out the new API with key and make sure we get a good response\n",
    "url = 'https://api.watchmode.com/v1/list-titles'\n",
    "\n",
    "url_params = {\n",
    "                'apiKey': api_key,\n",
    "                'types': 'movie',\n",
    "                'regions': 'US',\n",
    "                'source_types': 'sub',\n",
    "                'page': '1'\n",
    "             }\n",
    "# source_types: sub, rent, buy, free, tve\n",
    "# Starting with 'sub' for subscription\n",
    "\n",
    "response = requests.get(url, params=url_params)\n",
    "response.status_code"
   ]
  },
  {
   "cell_type": "code",
   "execution_count": 117,
   "metadata": {},
   "outputs": [
    {
     "data": {
      "text/plain": [
       "dict_keys(['Date', 'Server', 'Access-Control-Allow-Origin', 'Access-Control-Allow-Methods', 'Access-Control-Allow-Headers', 'X-RateLimit-Limit', 'X-RateLimit-Remaining', 'Retry-After', 'X-Account-Quota', 'X-Account-Quota-Used', 'Content-Encoding', 'Vary', 'Keep-Alive', 'Connection', 'Transfer-Encoding', 'Content-Type'])"
      ]
     },
     "execution_count": 117,
     "metadata": {},
     "output_type": "execute_result"
    }
   ],
   "source": [
    "head_dict = dict(response.headers)\n",
    "\n",
    "head_dict.keys()"
   ]
  },
  {
   "cell_type": "code",
   "execution_count": 64,
   "metadata": {},
   "outputs": [
    {
     "data": {
      "text/plain": [
       "dict_keys(['titles', 'page', 'total_results', 'total_pages'])"
      ]
     },
     "execution_count": 64,
     "metadata": {},
     "output_type": "execute_result"
    }
   ],
   "source": [
    "# Load the resonse into a dictionary and check out the keys\n",
    "resp_dict = json.loads(response.text)\n",
    "\n",
    "resp_dict.keys()"
   ]
  },
  {
   "cell_type": "code",
   "execution_count": 66,
   "metadata": {
    "scrolled": true
   },
   "outputs": [
    {
     "name": "stdout",
     "output_type": "stream",
     "text": [
      "Total results available: 17783\n",
      "Total pages available: 72\n"
     ]
    }
   ],
   "source": [
    "# How many results did we get?\n",
    "print(f\"Total results available: {resp_dict['total_results']}\")\n",
    "print(f\"Total pages available: {resp_dict['total_pages']}\")"
   ]
  },
  {
   "cell_type": "code",
   "execution_count": 132,
   "metadata": {
    "scrolled": true
   },
   "outputs": [],
   "source": [
    "def watchmode_movies_listtitles(api_key, source_types\n",
    "                                , start_page=1, run_test=False):\n",
    "    \"\"\"Requests movie information from Watchmode.com\n",
    "    using the list-titles endpoint.\n",
    "    US region is harcoded, as this is meant for a free API user license.\n",
    "    Pass API key to use, and source type. \n",
    "    Source type options are:\n",
    "    sub (Subscription); rent; buy; free; tve. Pass as a string or a list for\n",
    "    multiple source types.\n",
    "    run_test is False by default, but change to True \n",
    "    to simply see the number of results and how many API calls are left.\"\"\"\n",
    "    \n",
    "    url = 'https://api.watchmode.com/v1/list-titles'\n",
    "    df = pd.DataFrame()\n",
    "    url_params = {\n",
    "                    'apiKey': api_key,\n",
    "                    'types': 'movie',\n",
    "                    'regions': 'US',\n",
    "                    'source_types': source_types,\n",
    "                    'page': start_page\n",
    "                 }\n",
    "    \n",
    "    # The first GET request always runs to obtain totals\n",
    "    response = requests.get(url, params=url_params)\n",
    "    \n",
    "    # If response was good and we're actually going through all the pages...\n",
    "    if response.status_code == 200 and run_test == False:\n",
    "        resp_dict = json.loads(response.text)\n",
    "        print(f\"Total results available: {resp_dict['total_results']}\")\n",
    "        print(f\"Total pages available: {resp_dict['total_pages']}\")\n",
    "        print(f\"Initiating loop for each page.\")\n",
    "        end_page = resp_dict['total_pages']\n",
    "        current_page = start_page\n",
    "        \n",
    "        while current_page <= end_page:\n",
    "            print(f\"Initiating page {current_page} of {end_page}...\")\n",
    "            url_params['page'] = current_page\n",
    "            response = requests.get(url, params=url_params)\n",
    "            resp_dict = json.loads(response.text)\n",
    "            if len(df) == 0:\n",
    "                df = pd.DataFrame(resp_dict['titles'])\n",
    "            else:\n",
    "                df_temp = pd.DataFrame(resp_dict['titles'])\n",
    "                df = pd.concat([df, df_temp], ignore_index=True)\n",
    "            print(f\"Page {current_page} complete!\")\n",
    "            current_page += 1\n",
    "            \n",
    "        print(f\"\"\"API Calls Used: {dict(response.headers)['X-Account-Quota-Used']} \n",
    "        out of {dict(response.headers)['X-Account-Quota']}\"\"\")\n",
    "        return df\n",
    "    \n",
    "    # If response was good and we're only running a test...\n",
    "    elif response.status_code == 200 and run_test == True:\n",
    "        resp_dict = json.loads(response.text)\n",
    "        print(f\"Total results available: {resp_dict['total_results']}\")\n",
    "        print(f\"Total pages available: {resp_dict['total_pages']}\")\n",
    "        print(f\"\"\"API Calls Used: {dict(response.headers)['X-Account-Quota-Used']} \n",
    "        out of {dict(response.headers)['X-Account-Quota']}\"\"\")\n",
    "        return None\n",
    "    else:\n",
    "        print(f\"\"\"Error response attempting initial call:{response.status_code}. \n",
    "        Aborted.\"\"\")\n",
    "        return None"
   ]
  },
  {
   "cell_type": "code",
   "execution_count": 100,
   "metadata": {
    "code_folding": [],
    "scrolled": true
   },
   "outputs": [
    {
     "name": "stdout",
     "output_type": "stream",
     "text": [
      "Total results available: 17783\n",
      "Total pages available: 72\n",
      "Initiating loop for each page.\n",
      "Initiating page 1 of 72...\n",
      "Page 1 complete!\n",
      "Initiating page 2 of 72...\n",
      "Page 2 complete!\n",
      "Initiating page 3 of 72...\n",
      "Page 3 complete!\n",
      "Initiating page 4 of 72...\n",
      "Page 4 complete!\n",
      "Initiating page 5 of 72...\n",
      "Page 5 complete!\n",
      "Initiating page 6 of 72...\n",
      "Page 6 complete!\n",
      "Initiating page 7 of 72...\n",
      "Page 7 complete!\n",
      "Initiating page 8 of 72...\n",
      "Page 8 complete!\n",
      "Initiating page 9 of 72...\n",
      "Page 9 complete!\n",
      "Initiating page 10 of 72...\n",
      "Page 10 complete!\n",
      "Initiating page 11 of 72...\n",
      "Page 11 complete!\n",
      "Initiating page 12 of 72...\n",
      "Page 12 complete!\n",
      "Initiating page 13 of 72...\n",
      "Page 13 complete!\n",
      "Initiating page 14 of 72...\n",
      "Page 14 complete!\n",
      "Initiating page 15 of 72...\n",
      "Page 15 complete!\n",
      "Initiating page 16 of 72...\n",
      "Page 16 complete!\n",
      "Initiating page 17 of 72...\n",
      "Page 17 complete!\n",
      "Initiating page 18 of 72...\n",
      "Page 18 complete!\n",
      "Initiating page 19 of 72...\n",
      "Page 19 complete!\n",
      "Initiating page 20 of 72...\n",
      "Page 20 complete!\n",
      "Initiating page 21 of 72...\n",
      "Page 21 complete!\n",
      "Initiating page 22 of 72...\n",
      "Page 22 complete!\n",
      "Initiating page 23 of 72...\n",
      "Page 23 complete!\n",
      "Initiating page 24 of 72...\n",
      "Page 24 complete!\n",
      "Initiating page 25 of 72...\n",
      "Page 25 complete!\n",
      "Initiating page 26 of 72...\n",
      "Page 26 complete!\n",
      "Initiating page 27 of 72...\n",
      "Page 27 complete!\n",
      "Initiating page 28 of 72...\n",
      "Page 28 complete!\n",
      "Initiating page 29 of 72...\n",
      "Page 29 complete!\n",
      "Initiating page 30 of 72...\n",
      "Page 30 complete!\n",
      "Initiating page 31 of 72...\n",
      "Page 31 complete!\n",
      "Initiating page 32 of 72...\n",
      "Page 32 complete!\n",
      "Initiating page 33 of 72...\n",
      "Page 33 complete!\n",
      "Initiating page 34 of 72...\n",
      "Page 34 complete!\n",
      "Initiating page 35 of 72...\n",
      "Page 35 complete!\n",
      "Initiating page 36 of 72...\n",
      "Page 36 complete!\n",
      "Initiating page 37 of 72...\n",
      "Page 37 complete!\n",
      "Initiating page 38 of 72...\n",
      "Page 38 complete!\n",
      "Initiating page 39 of 72...\n",
      "Page 39 complete!\n",
      "Initiating page 40 of 72...\n",
      "Page 40 complete!\n",
      "Initiating page 41 of 72...\n",
      "Page 41 complete!\n",
      "Initiating page 42 of 72...\n",
      "Page 42 complete!\n",
      "Initiating page 43 of 72...\n",
      "Page 43 complete!\n",
      "Initiating page 44 of 72...\n",
      "Page 44 complete!\n",
      "Initiating page 45 of 72...\n",
      "Page 45 complete!\n",
      "Initiating page 46 of 72...\n",
      "Page 46 complete!\n",
      "Initiating page 47 of 72...\n",
      "Page 47 complete!\n",
      "Initiating page 48 of 72...\n",
      "Page 48 complete!\n",
      "Initiating page 49 of 72...\n",
      "Page 49 complete!\n",
      "Initiating page 50 of 72...\n",
      "Page 50 complete!\n",
      "Initiating page 51 of 72...\n",
      "Page 51 complete!\n",
      "Initiating page 52 of 72...\n",
      "Page 52 complete!\n",
      "Initiating page 53 of 72...\n",
      "Page 53 complete!\n",
      "Initiating page 54 of 72...\n",
      "Page 54 complete!\n",
      "Initiating page 55 of 72...\n",
      "Page 55 complete!\n",
      "Initiating page 56 of 72...\n",
      "Page 56 complete!\n",
      "Initiating page 57 of 72...\n",
      "Page 57 complete!\n",
      "Initiating page 58 of 72...\n",
      "Page 58 complete!\n",
      "Initiating page 59 of 72...\n",
      "Page 59 complete!\n",
      "Initiating page 60 of 72...\n",
      "Page 60 complete!\n",
      "Initiating page 61 of 72...\n",
      "Page 61 complete!\n",
      "Initiating page 62 of 72...\n",
      "Page 62 complete!\n",
      "Initiating page 63 of 72...\n",
      "Page 63 complete!\n",
      "Initiating page 64 of 72...\n",
      "Page 64 complete!\n",
      "Initiating page 65 of 72...\n",
      "Page 65 complete!\n",
      "Initiating page 66 of 72...\n",
      "Page 66 complete!\n",
      "Initiating page 67 of 72...\n",
      "Page 67 complete!\n",
      "Initiating page 68 of 72...\n",
      "Page 68 complete!\n",
      "Initiating page 69 of 72...\n",
      "Page 69 complete!\n",
      "Initiating page 70 of 72...\n",
      "Page 70 complete!\n",
      "Initiating page 71 of 72...\n",
      "Page 71 complete!\n",
      "Initiating page 72 of 72...\n",
      "Page 72 complete!\n"
     ]
    }
   ],
   "source": [
    "# Get results for movies available by subscription\n",
    "df_sub = watchmode_movies_listtitles(api_key=api_key, source_types='sub')"
   ]
  },
  {
   "cell_type": "code",
   "execution_count": 101,
   "metadata": {
    "scrolled": false
   },
   "outputs": [
    {
     "data": {
      "text/html": [
       "<div>\n",
       "<style scoped>\n",
       "    .dataframe tbody tr th:only-of-type {\n",
       "        vertical-align: middle;\n",
       "    }\n",
       "\n",
       "    .dataframe tbody tr th {\n",
       "        vertical-align: top;\n",
       "    }\n",
       "\n",
       "    .dataframe thead th {\n",
       "        text-align: right;\n",
       "    }\n",
       "</style>\n",
       "<table border=\"1\" class=\"dataframe\">\n",
       "  <thead>\n",
       "    <tr style=\"text-align: right;\">\n",
       "      <th></th>\n",
       "      <th>id</th>\n",
       "      <th>title</th>\n",
       "      <th>year</th>\n",
       "      <th>imdb_id</th>\n",
       "      <th>tmdb_id</th>\n",
       "      <th>tmdb_type</th>\n",
       "      <th>type</th>\n",
       "    </tr>\n",
       "  </thead>\n",
       "  <tbody>\n",
       "    <tr>\n",
       "      <th>0</th>\n",
       "      <td>11</td>\n",
       "      <td>!Women Art Revolution</td>\n",
       "      <td>2010</td>\n",
       "      <td>tt1699720</td>\n",
       "      <td>55245</td>\n",
       "      <td>movie</td>\n",
       "      <td>movie</td>\n",
       "    </tr>\n",
       "    <tr>\n",
       "      <th>1</th>\n",
       "      <td>135</td>\n",
       "      <td>#Female Pleasure</td>\n",
       "      <td>2018</td>\n",
       "      <td>tt8372826</td>\n",
       "      <td>540210</td>\n",
       "      <td>movie</td>\n",
       "      <td>movie</td>\n",
       "    </tr>\n",
       "    <tr>\n",
       "      <th>2</th>\n",
       "      <td>164</td>\n",
       "      <td>Pellichoopulu</td>\n",
       "      <td>2016</td>\n",
       "      <td>tt5824826</td>\n",
       "      <td>393841</td>\n",
       "      <td>movie</td>\n",
       "      <td>movie</td>\n",
       "    </tr>\n",
       "    <tr>\n",
       "      <th>3</th>\n",
       "      <td>166</td>\n",
       "      <td>#realityhigh</td>\n",
       "      <td>2017</td>\n",
       "      <td>tt6119504</td>\n",
       "      <td>455656</td>\n",
       "      <td>movie</td>\n",
       "      <td>movie</td>\n",
       "    </tr>\n",
       "    <tr>\n",
       "      <th>4</th>\n",
       "      <td>1155</td>\n",
       "      <td>$elfie Shootout</td>\n",
       "      <td>2016</td>\n",
       "      <td>tt4004608</td>\n",
       "      <td>327946</td>\n",
       "      <td>movie</td>\n",
       "      <td>movie</td>\n",
       "    </tr>\n",
       "    <tr>\n",
       "      <th>...</th>\n",
       "      <td>...</td>\n",
       "      <td>...</td>\n",
       "      <td>...</td>\n",
       "      <td>...</td>\n",
       "      <td>...</td>\n",
       "      <td>...</td>\n",
       "      <td>...</td>\n",
       "    </tr>\n",
       "    <tr>\n",
       "      <th>17778</th>\n",
       "      <td>4150062</td>\n",
       "      <td>The Mystery of D.B. Cooper</td>\n",
       "      <td>2020</td>\n",
       "      <td>tt8694594</td>\n",
       "      <td>743073</td>\n",
       "      <td>movie</td>\n",
       "      <td>movie</td>\n",
       "    </tr>\n",
       "    <tr>\n",
       "      <th>17779</th>\n",
       "      <td>518463</td>\n",
       "      <td>The Ballad of Buster Scruggs</td>\n",
       "      <td>2018</td>\n",
       "      <td>tt6412452</td>\n",
       "      <td>537996</td>\n",
       "      <td>movie</td>\n",
       "      <td>movie</td>\n",
       "    </tr>\n",
       "    <tr>\n",
       "      <th>17780</th>\n",
       "      <td>538946</td>\n",
       "      <td>The First Temptation of Christ</td>\n",
       "      <td>2019</td>\n",
       "      <td>tt11310004</td>\n",
       "      <td>652020</td>\n",
       "      <td>movie</td>\n",
       "      <td>movie</td>\n",
       "    </tr>\n",
       "    <tr>\n",
       "      <th>17781</th>\n",
       "      <td>540875</td>\n",
       "      <td>Dance Dreams: Hot Chocolate Nutcracker</td>\n",
       "      <td>2020</td>\n",
       "      <td>tt8741182</td>\n",
       "      <td>755328</td>\n",
       "      <td>movie</td>\n",
       "      <td>movie</td>\n",
       "    </tr>\n",
       "    <tr>\n",
       "      <th>17782</th>\n",
       "      <td>541110</td>\n",
       "      <td>North Korea: Inside The Mind of a Dictator</td>\n",
       "      <td>2021</td>\n",
       "      <td>tt13879908</td>\n",
       "      <td>788544</td>\n",
       "      <td>movie</td>\n",
       "      <td>movie</td>\n",
       "    </tr>\n",
       "  </tbody>\n",
       "</table>\n",
       "<p>17783 rows × 7 columns</p>\n",
       "</div>"
      ],
      "text/plain": [
       "            id                                       title  year     imdb_id  \\\n",
       "0           11                       !Women Art Revolution  2010   tt1699720   \n",
       "1          135                            #Female Pleasure  2018   tt8372826   \n",
       "2          164                               Pellichoopulu  2016   tt5824826   \n",
       "3          166                                #realityhigh  2017   tt6119504   \n",
       "4         1155                             $elfie Shootout  2016   tt4004608   \n",
       "...        ...                                         ...   ...         ...   \n",
       "17778  4150062                  The Mystery of D.B. Cooper  2020   tt8694594   \n",
       "17779   518463                The Ballad of Buster Scruggs  2018   tt6412452   \n",
       "17780   538946              The First Temptation of Christ  2019  tt11310004   \n",
       "17781   540875      Dance Dreams: Hot Chocolate Nutcracker  2020   tt8741182   \n",
       "17782   541110  North Korea: Inside The Mind of a Dictator  2021  tt13879908   \n",
       "\n",
       "       tmdb_id tmdb_type   type  \n",
       "0        55245     movie  movie  \n",
       "1       540210     movie  movie  \n",
       "2       393841     movie  movie  \n",
       "3       455656     movie  movie  \n",
       "4       327946     movie  movie  \n",
       "...        ...       ...    ...  \n",
       "17778   743073     movie  movie  \n",
       "17779   537996     movie  movie  \n",
       "17780   652020     movie  movie  \n",
       "17781   755328     movie  movie  \n",
       "17782   788544     movie  movie  \n",
       "\n",
       "[17783 rows x 7 columns]"
      ]
     },
     "execution_count": 101,
     "metadata": {},
     "output_type": "execute_result"
    }
   ],
   "source": [
    "df_sub"
   ]
  },
  {
   "cell_type": "code",
   "execution_count": 104,
   "metadata": {},
   "outputs": [
    {
     "name": "stdout",
     "output_type": "stream",
     "text": [
      "CONTRIBUTING.md                  awesome.gif\r\n",
      "LICENSE.md                       \u001b[34mdata\u001b[m\u001b[m/\r\n",
      "README.md                        student.ipynb\r\n",
      "Streaming Data Collection.ipynb  \u001b[34mzippedData\u001b[m\u001b[m/\r\n"
     ]
    }
   ],
   "source": [
    "ls"
   ]
  },
  {
   "cell_type": "code",
   "execution_count": 106,
   "metadata": {},
   "outputs": [],
   "source": [
    "# Export to file for safekeeping\n",
    "df_sub.to_json('data/watchmode_subscription_titles_20210314.json')"
   ]
  },
  {
   "cell_type": "code",
   "execution_count": 112,
   "metadata": {
    "scrolled": true
   },
   "outputs": [
    {
     "name": "stdout",
     "output_type": "stream",
     "text": [
      "<class 'pandas.core.frame.DataFrame'>\n",
      "Index: 17783 entries, 0 to 17782\n",
      "Data columns (total 7 columns):\n",
      " #   Column     Non-Null Count  Dtype \n",
      "---  ------     --------------  ----- \n",
      " 0   id         17783 non-null  int64 \n",
      " 1   title      17783 non-null  object\n",
      " 2   year       17783 non-null  int64 \n",
      " 3   imdb_id    17783 non-null  object\n",
      " 4   tmdb_id    17783 non-null  int64 \n",
      " 5   tmdb_type  17783 non-null  object\n",
      " 6   type       17783 non-null  object\n",
      "dtypes: int64(3), object(4)\n",
      "memory usage: 1.1+ MB\n"
     ]
    }
   ],
   "source": [
    "# Test to make sure file exported ok\n",
    "with open('data/watchmode_subscription_titles_20210314.json') as f:\n",
    "    loaded = json.load(f)\n",
    "    \n",
    "df_test = pd.DataFrame(loaded)\n",
    "\n",
    "df_test.info()"
   ]
  },
  {
   "cell_type": "code",
   "execution_count": 120,
   "metadata": {
    "scrolled": true
   },
   "outputs": [
    {
     "name": "stdout",
     "output_type": "stream",
     "text": [
      "Total results available: 22669\n",
      "Total pages available: 91\n",
      "API Calls Remaining: 120\n"
     ]
    }
   ],
   "source": [
    "# Now, let's see how many results we'll get for the other source types\n",
    "# Do I have enough API calls left this month to do all of them?\n",
    "\n",
    "df_rent = watchmode_movies_listtitles(api_key=api_key, source_types='rent', run_test=True)"
   ]
  },
  {
   "cell_type": "code",
   "execution_count": 121,
   "metadata": {
    "scrolled": true
   },
   "outputs": [
    {
     "name": "stdout",
     "output_type": "stream",
     "text": [
      "Total results available: 22669\n",
      "Total pages available: 91\n",
      "Initiating loop for each page.\n",
      "Initiating page 1 of 91...\n",
      "Page 1 complete!\n",
      "Initiating page 2 of 91...\n",
      "Page 2 complete!\n",
      "Initiating page 3 of 91...\n",
      "Page 3 complete!\n",
      "Initiating page 4 of 91...\n",
      "Page 4 complete!\n",
      "Initiating page 5 of 91...\n",
      "Page 5 complete!\n",
      "Initiating page 6 of 91...\n",
      "Page 6 complete!\n",
      "Initiating page 7 of 91...\n",
      "Page 7 complete!\n",
      "Initiating page 8 of 91...\n",
      "Page 8 complete!\n",
      "Initiating page 9 of 91...\n",
      "Page 9 complete!\n",
      "Initiating page 10 of 91...\n",
      "Page 10 complete!\n",
      "Initiating page 11 of 91...\n",
      "Page 11 complete!\n",
      "Initiating page 12 of 91...\n",
      "Page 12 complete!\n",
      "Initiating page 13 of 91...\n",
      "Page 13 complete!\n",
      "Initiating page 14 of 91...\n",
      "Page 14 complete!\n",
      "Initiating page 15 of 91...\n",
      "Page 15 complete!\n",
      "Initiating page 16 of 91...\n",
      "Page 16 complete!\n",
      "Initiating page 17 of 91...\n",
      "Page 17 complete!\n",
      "Initiating page 18 of 91...\n",
      "Page 18 complete!\n",
      "Initiating page 19 of 91...\n",
      "Page 19 complete!\n",
      "Initiating page 20 of 91...\n",
      "Page 20 complete!\n",
      "Initiating page 21 of 91...\n",
      "Page 21 complete!\n",
      "Initiating page 22 of 91...\n",
      "Page 22 complete!\n",
      "Initiating page 23 of 91...\n",
      "Page 23 complete!\n",
      "Initiating page 24 of 91...\n",
      "Page 24 complete!\n",
      "Initiating page 25 of 91...\n",
      "Page 25 complete!\n",
      "Initiating page 26 of 91...\n",
      "Page 26 complete!\n",
      "Initiating page 27 of 91...\n",
      "Page 27 complete!\n",
      "Initiating page 28 of 91...\n",
      "Page 28 complete!\n",
      "Initiating page 29 of 91...\n",
      "Page 29 complete!\n",
      "Initiating page 30 of 91...\n",
      "Page 30 complete!\n",
      "Initiating page 31 of 91...\n",
      "Page 31 complete!\n",
      "Initiating page 32 of 91...\n",
      "Page 32 complete!\n",
      "Initiating page 33 of 91...\n",
      "Page 33 complete!\n",
      "Initiating page 34 of 91...\n",
      "Page 34 complete!\n",
      "Initiating page 35 of 91...\n",
      "Page 35 complete!\n",
      "Initiating page 36 of 91...\n",
      "Page 36 complete!\n",
      "Initiating page 37 of 91...\n",
      "Page 37 complete!\n",
      "Initiating page 38 of 91...\n",
      "Page 38 complete!\n",
      "Initiating page 39 of 91...\n",
      "Page 39 complete!\n",
      "Initiating page 40 of 91...\n",
      "Page 40 complete!\n",
      "Initiating page 41 of 91...\n",
      "Page 41 complete!\n",
      "Initiating page 42 of 91...\n",
      "Page 42 complete!\n",
      "Initiating page 43 of 91...\n",
      "Page 43 complete!\n",
      "Initiating page 44 of 91...\n",
      "Page 44 complete!\n",
      "Initiating page 45 of 91...\n",
      "Page 45 complete!\n",
      "Initiating page 46 of 91...\n",
      "Page 46 complete!\n",
      "Initiating page 47 of 91...\n",
      "Page 47 complete!\n",
      "Initiating page 48 of 91...\n",
      "Page 48 complete!\n",
      "Initiating page 49 of 91...\n",
      "Page 49 complete!\n",
      "Initiating page 50 of 91...\n",
      "Page 50 complete!\n",
      "Initiating page 51 of 91...\n",
      "Page 51 complete!\n",
      "Initiating page 52 of 91...\n",
      "Page 52 complete!\n",
      "Initiating page 53 of 91...\n",
      "Page 53 complete!\n",
      "Initiating page 54 of 91...\n",
      "Page 54 complete!\n",
      "Initiating page 55 of 91...\n",
      "Page 55 complete!\n",
      "Initiating page 56 of 91...\n",
      "Page 56 complete!\n",
      "Initiating page 57 of 91...\n",
      "Page 57 complete!\n",
      "Initiating page 58 of 91...\n",
      "Page 58 complete!\n",
      "Initiating page 59 of 91...\n",
      "Page 59 complete!\n",
      "Initiating page 60 of 91...\n",
      "Page 60 complete!\n",
      "Initiating page 61 of 91...\n",
      "Page 61 complete!\n",
      "Initiating page 62 of 91...\n",
      "Page 62 complete!\n",
      "Initiating page 63 of 91...\n",
      "Page 63 complete!\n",
      "Initiating page 64 of 91...\n",
      "Page 64 complete!\n",
      "Initiating page 65 of 91...\n",
      "Page 65 complete!\n",
      "Initiating page 66 of 91...\n",
      "Page 66 complete!\n",
      "Initiating page 67 of 91...\n",
      "Page 67 complete!\n",
      "Initiating page 68 of 91...\n",
      "Page 68 complete!\n",
      "Initiating page 69 of 91...\n",
      "Page 69 complete!\n",
      "Initiating page 70 of 91...\n",
      "Page 70 complete!\n",
      "Initiating page 71 of 91...\n",
      "Page 71 complete!\n",
      "Initiating page 72 of 91...\n",
      "Page 72 complete!\n",
      "Initiating page 73 of 91...\n",
      "Page 73 complete!\n",
      "Initiating page 74 of 91...\n",
      "Page 74 complete!\n",
      "Initiating page 75 of 91...\n",
      "Page 75 complete!\n",
      "Initiating page 76 of 91...\n",
      "Page 76 complete!\n",
      "Initiating page 77 of 91...\n",
      "Page 77 complete!\n",
      "Initiating page 78 of 91...\n",
      "Page 78 complete!\n",
      "Initiating page 79 of 91...\n",
      "Page 79 complete!\n",
      "Initiating page 80 of 91...\n",
      "Page 80 complete!\n",
      "Initiating page 81 of 91...\n",
      "Page 81 complete!\n",
      "Initiating page 82 of 91...\n",
      "Page 82 complete!\n",
      "Initiating page 83 of 91...\n",
      "Page 83 complete!\n",
      "Initiating page 84 of 91...\n",
      "Page 84 complete!\n",
      "Initiating page 85 of 91...\n",
      "Page 85 complete!\n",
      "Initiating page 86 of 91...\n",
      "Page 86 complete!\n",
      "Initiating page 87 of 91...\n",
      "Page 87 complete!\n",
      "Initiating page 88 of 91...\n",
      "Page 88 complete!\n",
      "Initiating page 89 of 91...\n",
      "Page 89 complete!\n",
      "Initiating page 90 of 91...\n",
      "Page 90 complete!\n",
      "Initiating page 91 of 91...\n",
      "Page 91 complete!\n"
     ]
    }
   ],
   "source": [
    "df_rent = watchmode_movies_listtitles(api_key=api_key, source_types='rent', run_test=False)"
   ]
  },
  {
   "cell_type": "code",
   "execution_count": 123,
   "metadata": {
    "scrolled": true
   },
   "outputs": [
    {
     "name": "stdout",
     "output_type": "stream",
     "text": [
      "<class 'pandas.core.frame.DataFrame'>\n",
      "RangeIndex: 22669 entries, 0 to 22668\n",
      "Data columns (total 7 columns):\n",
      " #   Column     Non-Null Count  Dtype \n",
      "---  ------     --------------  ----- \n",
      " 0   id         22669 non-null  int64 \n",
      " 1   title      22669 non-null  object\n",
      " 2   year       22669 non-null  int64 \n",
      " 3   imdb_id    22669 non-null  object\n",
      " 4   tmdb_id    22669 non-null  int64 \n",
      " 5   tmdb_type  22669 non-null  object\n",
      " 6   type       22669 non-null  object\n",
      "dtypes: int64(3), object(4)\n",
      "memory usage: 1.2+ MB\n"
     ]
    }
   ],
   "source": [
    "df_rent.info()"
   ]
  },
  {
   "cell_type": "code",
   "execution_count": 124,
   "metadata": {},
   "outputs": [],
   "source": [
    "# Export to file for safekeeping\n",
    "df_rent.to_json('data/watchmode_rental_titles_20210314.json')"
   ]
  },
  {
   "cell_type": "code",
   "execution_count": 125,
   "metadata": {
    "scrolled": true
   },
   "outputs": [
    {
     "name": "stdout",
     "output_type": "stream",
     "text": [
      "<class 'pandas.core.frame.DataFrame'>\n",
      "Index: 22669 entries, 0 to 22668\n",
      "Data columns (total 7 columns):\n",
      " #   Column     Non-Null Count  Dtype \n",
      "---  ------     --------------  ----- \n",
      " 0   id         22669 non-null  int64 \n",
      " 1   title      22669 non-null  object\n",
      " 2   year       22669 non-null  int64 \n",
      " 3   imdb_id    22669 non-null  object\n",
      " 4   tmdb_id    22669 non-null  int64 \n",
      " 5   tmdb_type  22669 non-null  object\n",
      " 6   type       22669 non-null  object\n",
      "dtypes: int64(3), object(4)\n",
      "memory usage: 1.4+ MB\n"
     ]
    }
   ],
   "source": [
    "# Test to make sure file exported ok\n",
    "with open('data/watchmode_rental_titles_20210314.json') as f:\n",
    "    loaded = json.load(f)\n",
    "    \n",
    "df_test = pd.DataFrame(loaded)\n",
    "\n",
    "df_test.info()"
   ]
  },
  {
   "cell_type": "code",
   "execution_count": 133,
   "metadata": {
    "scrolled": true
   },
   "outputs": [
    {
     "name": "stdout",
     "output_type": "stream",
     "text": [
      "Total results available: 22776\n",
      "Total pages available: 92\n",
      "Initiating loop for each page.\n",
      "Initiating page 1 of 92...\n",
      "Page 1 complete!\n",
      "Initiating page 2 of 92...\n",
      "Page 2 complete!\n",
      "Initiating page 3 of 92...\n",
      "Page 3 complete!\n",
      "Initiating page 4 of 92...\n",
      "Page 4 complete!\n",
      "Initiating page 5 of 92...\n",
      "Page 5 complete!\n",
      "Initiating page 6 of 92...\n",
      "Page 6 complete!\n",
      "Initiating page 7 of 92...\n",
      "Page 7 complete!\n",
      "Initiating page 8 of 92...\n",
      "Page 8 complete!\n",
      "Initiating page 9 of 92...\n",
      "Page 9 complete!\n",
      "Initiating page 10 of 92...\n",
      "Page 10 complete!\n",
      "Initiating page 11 of 92...\n",
      "Page 11 complete!\n",
      "Initiating page 12 of 92...\n",
      "Page 12 complete!\n",
      "Initiating page 13 of 92...\n",
      "Page 13 complete!\n",
      "Initiating page 14 of 92...\n",
      "Page 14 complete!\n",
      "Initiating page 15 of 92...\n",
      "Page 15 complete!\n",
      "Initiating page 16 of 92...\n",
      "Page 16 complete!\n",
      "Initiating page 17 of 92...\n",
      "Page 17 complete!\n",
      "Initiating page 18 of 92...\n",
      "Page 18 complete!\n",
      "Initiating page 19 of 92...\n",
      "Page 19 complete!\n",
      "Initiating page 20 of 92...\n",
      "Page 20 complete!\n",
      "Initiating page 21 of 92...\n",
      "Page 21 complete!\n",
      "Initiating page 22 of 92...\n",
      "Page 22 complete!\n",
      "Initiating page 23 of 92...\n",
      "Page 23 complete!\n",
      "Initiating page 24 of 92...\n",
      "Page 24 complete!\n",
      "Initiating page 25 of 92...\n",
      "Page 25 complete!\n",
      "Initiating page 26 of 92...\n",
      "Page 26 complete!\n",
      "Initiating page 27 of 92...\n",
      "Page 27 complete!\n",
      "Initiating page 28 of 92...\n",
      "Page 28 complete!\n",
      "Initiating page 29 of 92...\n",
      "Page 29 complete!\n",
      "Initiating page 30 of 92...\n",
      "Page 30 complete!\n",
      "Initiating page 31 of 92...\n",
      "Page 31 complete!\n",
      "Initiating page 32 of 92...\n",
      "Page 32 complete!\n",
      "Initiating page 33 of 92...\n",
      "Page 33 complete!\n",
      "Initiating page 34 of 92...\n",
      "Page 34 complete!\n",
      "Initiating page 35 of 92...\n",
      "Page 35 complete!\n",
      "Initiating page 36 of 92...\n",
      "Page 36 complete!\n",
      "Initiating page 37 of 92...\n",
      "Page 37 complete!\n",
      "Initiating page 38 of 92...\n",
      "Page 38 complete!\n",
      "Initiating page 39 of 92...\n",
      "Page 39 complete!\n",
      "Initiating page 40 of 92...\n",
      "Page 40 complete!\n",
      "Initiating page 41 of 92...\n",
      "Page 41 complete!\n",
      "Initiating page 42 of 92...\n",
      "Page 42 complete!\n",
      "Initiating page 43 of 92...\n",
      "Page 43 complete!\n",
      "Initiating page 44 of 92...\n",
      "Page 44 complete!\n",
      "Initiating page 45 of 92...\n",
      "Page 45 complete!\n",
      "Initiating page 46 of 92...\n",
      "Page 46 complete!\n",
      "Initiating page 47 of 92...\n",
      "Page 47 complete!\n",
      "Initiating page 48 of 92...\n",
      "Page 48 complete!\n",
      "Initiating page 49 of 92...\n",
      "Page 49 complete!\n",
      "Initiating page 50 of 92...\n",
      "Page 50 complete!\n",
      "Initiating page 51 of 92...\n",
      "Page 51 complete!\n",
      "Initiating page 52 of 92...\n",
      "Page 52 complete!\n",
      "Initiating page 53 of 92...\n",
      "Page 53 complete!\n",
      "Initiating page 54 of 92...\n",
      "Page 54 complete!\n",
      "Initiating page 55 of 92...\n",
      "Page 55 complete!\n",
      "Initiating page 56 of 92...\n",
      "Page 56 complete!\n",
      "Initiating page 57 of 92...\n",
      "Page 57 complete!\n",
      "Initiating page 58 of 92...\n",
      "Page 58 complete!\n",
      "Initiating page 59 of 92...\n",
      "Page 59 complete!\n",
      "Initiating page 60 of 92...\n",
      "Page 60 complete!\n",
      "Initiating page 61 of 92...\n",
      "Page 61 complete!\n",
      "Initiating page 62 of 92...\n",
      "Page 62 complete!\n",
      "Initiating page 63 of 92...\n",
      "Page 63 complete!\n",
      "Initiating page 64 of 92...\n",
      "Page 64 complete!\n",
      "Initiating page 65 of 92...\n",
      "Page 65 complete!\n",
      "Initiating page 66 of 92...\n",
      "Page 66 complete!\n",
      "Initiating page 67 of 92...\n",
      "Page 67 complete!\n",
      "Initiating page 68 of 92...\n",
      "Page 68 complete!\n",
      "Initiating page 69 of 92...\n",
      "Page 69 complete!\n",
      "Initiating page 70 of 92...\n",
      "Page 70 complete!\n",
      "Initiating page 71 of 92...\n",
      "Page 71 complete!\n",
      "Initiating page 72 of 92...\n",
      "Page 72 complete!\n",
      "Initiating page 73 of 92...\n",
      "Page 73 complete!\n",
      "Initiating page 74 of 92...\n",
      "Page 74 complete!\n",
      "Initiating page 75 of 92...\n",
      "Page 75 complete!\n",
      "Initiating page 76 of 92...\n",
      "Page 76 complete!\n",
      "Initiating page 77 of 92...\n",
      "Page 77 complete!\n",
      "Initiating page 78 of 92...\n",
      "Page 78 complete!\n",
      "Initiating page 79 of 92...\n",
      "Page 79 complete!\n",
      "Initiating page 80 of 92...\n",
      "Page 80 complete!\n",
      "Initiating page 81 of 92...\n",
      "Page 81 complete!\n",
      "Initiating page 82 of 92...\n",
      "Page 82 complete!\n",
      "Initiating page 83 of 92...\n",
      "Page 83 complete!\n",
      "Initiating page 84 of 92...\n",
      "Page 84 complete!\n",
      "Initiating page 85 of 92...\n",
      "Page 85 complete!\n",
      "Initiating page 86 of 92...\n",
      "Page 86 complete!\n",
      "Initiating page 87 of 92...\n",
      "Page 87 complete!\n",
      "Initiating page 88 of 92...\n",
      "Page 88 complete!\n",
      "Initiating page 89 of 92...\n",
      "Page 89 complete!\n",
      "Initiating page 90 of 92...\n",
      "Page 90 complete!\n",
      "Initiating page 91 of 92...\n",
      "Page 91 complete!\n",
      "Initiating page 92 of 92...\n",
      "Page 92 complete!\n",
      "API Calls Used: 375 \n",
      "        out of 1000\n"
     ]
    }
   ],
   "source": [
    "df_buy = watchmode_movies_listtitles(api_key=api_key, source_types='buy', run_test=False)"
   ]
  },
  {
   "cell_type": "code",
   "execution_count": 135,
   "metadata": {
    "scrolled": false
   },
   "outputs": [
    {
     "name": "stdout",
     "output_type": "stream",
     "text": [
      "<class 'pandas.core.frame.DataFrame'>\n",
      "RangeIndex: 22776 entries, 0 to 22775\n",
      "Data columns (total 7 columns):\n",
      " #   Column     Non-Null Count  Dtype \n",
      "---  ------     --------------  ----- \n",
      " 0   id         22776 non-null  int64 \n",
      " 1   title      22776 non-null  object\n",
      " 2   year       22776 non-null  int64 \n",
      " 3   imdb_id    22776 non-null  object\n",
      " 4   tmdb_id    22776 non-null  int64 \n",
      " 5   tmdb_type  22776 non-null  object\n",
      " 6   type       22776 non-null  object\n",
      "dtypes: int64(3), object(4)\n",
      "memory usage: 1.2+ MB\n"
     ]
    }
   ],
   "source": [
    "df_buy.info()"
   ]
  },
  {
   "cell_type": "code",
   "execution_count": 136,
   "metadata": {},
   "outputs": [],
   "source": [
    "# Export to file for safekeeping\n",
    "df_buy.to_json('data/watchmode_buy_titles_20210314.json')"
   ]
  },
  {
   "cell_type": "code",
   "execution_count": 138,
   "metadata": {
    "scrolled": true
   },
   "outputs": [
    {
     "name": "stdout",
     "output_type": "stream",
     "text": [
      "<class 'pandas.core.frame.DataFrame'>\n",
      "Index: 22776 entries, 0 to 22775\n",
      "Data columns (total 7 columns):\n",
      " #   Column     Non-Null Count  Dtype \n",
      "---  ------     --------------  ----- \n",
      " 0   id         22776 non-null  int64 \n",
      " 1   title      22776 non-null  object\n",
      " 2   year       22776 non-null  int64 \n",
      " 3   imdb_id    22776 non-null  object\n",
      " 4   tmdb_id    22776 non-null  int64 \n",
      " 5   tmdb_type  22776 non-null  object\n",
      " 6   type       22776 non-null  object\n",
      "dtypes: int64(3), object(4)\n",
      "memory usage: 1.4+ MB\n"
     ]
    }
   ],
   "source": [
    "# Test to make sure file exported ok\n",
    "with open('data/watchmode_buy_titles_20210314.json') as f:\n",
    "    loaded = json.load(f)\n",
    "    \n",
    "df_test = pd.DataFrame(loaded)\n",
    "\n",
    "df_test.info()"
   ]
  },
  {
   "cell_type": "code",
   "execution_count": 140,
   "metadata": {
    "scrolled": true
   },
   "outputs": [
    {
     "name": "stdout",
     "output_type": "stream",
     "text": [
      "Total results available: 7058\n",
      "Total pages available: 29\n",
      "Initiating loop for each page.\n",
      "Initiating page 1 of 29...\n",
      "Page 1 complete!\n",
      "Initiating page 2 of 29...\n",
      "Page 2 complete!\n",
      "Initiating page 3 of 29...\n",
      "Page 3 complete!\n",
      "Initiating page 4 of 29...\n",
      "Page 4 complete!\n",
      "Initiating page 5 of 29...\n",
      "Page 5 complete!\n",
      "Initiating page 6 of 29...\n",
      "Page 6 complete!\n",
      "Initiating page 7 of 29...\n",
      "Page 7 complete!\n",
      "Initiating page 8 of 29...\n",
      "Page 8 complete!\n",
      "Initiating page 9 of 29...\n",
      "Page 9 complete!\n",
      "Initiating page 10 of 29...\n",
      "Page 10 complete!\n",
      "Initiating page 11 of 29...\n",
      "Page 11 complete!\n",
      "Initiating page 12 of 29...\n",
      "Page 12 complete!\n",
      "Initiating page 13 of 29...\n",
      "Page 13 complete!\n",
      "Initiating page 14 of 29...\n",
      "Page 14 complete!\n",
      "Initiating page 15 of 29...\n",
      "Page 15 complete!\n",
      "Initiating page 16 of 29...\n",
      "Page 16 complete!\n",
      "Initiating page 17 of 29...\n",
      "Page 17 complete!\n",
      "Initiating page 18 of 29...\n",
      "Page 18 complete!\n",
      "Initiating page 19 of 29...\n",
      "Page 19 complete!\n",
      "Initiating page 20 of 29...\n",
      "Page 20 complete!\n",
      "Initiating page 21 of 29...\n",
      "Page 21 complete!\n",
      "Initiating page 22 of 29...\n",
      "Page 22 complete!\n",
      "Initiating page 23 of 29...\n",
      "Page 23 complete!\n",
      "Initiating page 24 of 29...\n",
      "Page 24 complete!\n",
      "Initiating page 25 of 29...\n",
      "Page 25 complete!\n",
      "Initiating page 26 of 29...\n",
      "Page 26 complete!\n",
      "Initiating page 27 of 29...\n",
      "Page 27 complete!\n",
      "Initiating page 28 of 29...\n",
      "Page 28 complete!\n",
      "Initiating page 29 of 29...\n",
      "Page 29 complete!\n",
      "API Calls Used: 406 \n",
      "        out of 1000\n"
     ]
    }
   ],
   "source": [
    "df_free = watchmode_movies_listtitles(api_key=api_key, source_types='free', run_test=False)"
   ]
  },
  {
   "cell_type": "code",
   "execution_count": 141,
   "metadata": {
    "scrolled": true
   },
   "outputs": [
    {
     "name": "stdout",
     "output_type": "stream",
     "text": [
      "<class 'pandas.core.frame.DataFrame'>\n",
      "RangeIndex: 7059 entries, 0 to 7058\n",
      "Data columns (total 7 columns):\n",
      " #   Column     Non-Null Count  Dtype \n",
      "---  ------     --------------  ----- \n",
      " 0   id         7059 non-null   int64 \n",
      " 1   title      7059 non-null   object\n",
      " 2   year       7059 non-null   int64 \n",
      " 3   imdb_id    7059 non-null   object\n",
      " 4   tmdb_id    7059 non-null   int64 \n",
      " 5   tmdb_type  7059 non-null   object\n",
      " 6   type       7059 non-null   object\n",
      "dtypes: int64(3), object(4)\n",
      "memory usage: 386.2+ KB\n"
     ]
    }
   ],
   "source": [
    "df_free.info()"
   ]
  },
  {
   "cell_type": "code",
   "execution_count": 142,
   "metadata": {},
   "outputs": [],
   "source": [
    "# Export to file for safekeeping\n",
    "df_free.to_json('data/watchmode_free_titles_20210314.json')"
   ]
  },
  {
   "cell_type": "code",
   "execution_count": 143,
   "metadata": {
    "scrolled": true
   },
   "outputs": [
    {
     "name": "stdout",
     "output_type": "stream",
     "text": [
      "<class 'pandas.core.frame.DataFrame'>\n",
      "Index: 7059 entries, 0 to 7058\n",
      "Data columns (total 7 columns):\n",
      " #   Column     Non-Null Count  Dtype \n",
      "---  ------     --------------  ----- \n",
      " 0   id         7059 non-null   int64 \n",
      " 1   title      7059 non-null   object\n",
      " 2   year       7059 non-null   int64 \n",
      " 3   imdb_id    7059 non-null   object\n",
      " 4   tmdb_id    7059 non-null   int64 \n",
      " 5   tmdb_type  7059 non-null   object\n",
      " 6   type       7059 non-null   object\n",
      "dtypes: int64(3), object(4)\n",
      "memory usage: 441.2+ KB\n"
     ]
    }
   ],
   "source": [
    "# Test to make sure file exported ok\n",
    "with open('data/watchmode_free_titles_20210314.json') as f:\n",
    "    loaded = json.load(f)\n",
    "    \n",
    "df_test = pd.DataFrame(loaded)\n",
    "\n",
    "df_test.info()"
   ]
  },
  {
   "cell_type": "markdown",
   "metadata": {},
   "source": [
    "# The Movie Database\n",
    "\n",
    "Looking at the IDs I got from the watchmode results, I see they reference both The Movie Database IDs and IMDb IDs. This will make it easy to join the results.\n",
    "\n",
    "The Movie Databse does have its own API, although it appears IMDB does not.\n",
    "\n",
    "https://developers.themoviedb.org/3/getting-started/introduction\n",
    "\n",
    "After further review, decided to do this because I don't trust the data in the files I already have."
   ]
  },
  {
   "cell_type": "code",
   "execution_count": 3,
   "metadata": {
    "scrolled": true
   },
   "outputs": [
    {
     "data": {
      "text/plain": [
       "211"
      ]
     },
     "execution_count": 3,
     "metadata": {},
     "output_type": "execute_result"
    }
   ],
   "source": [
    "# Get API key\n",
    "keys = get_keys(\"~/.secret/tmdb_api.json\")\n",
    "api_key = keys['api_keyv4']\n",
    "len(api_key)"
   ]
  },
  {
   "cell_type": "markdown",
   "metadata": {},
   "source": [
    "## Get a list of valid movie IDs, to loop through\n",
    "\n",
    "TMDb posts a daily list of valid IDs so you can know which are good and which aren't. Since what I want is in the movie details, which requires an ID in the API call, I'm going to download this list and loop through it.\n",
    "\n",
    "http://files.tmdb.org/p/exports/movie_ids_03_15_2021.json.gz"
   ]
  },
  {
   "cell_type": "code",
   "execution_count": 5,
   "metadata": {
    "scrolled": true
   },
   "outputs": [
    {
     "name": "stdout",
     "output_type": "stream",
     "text": [
      "/Users/jessicamiles/Documents/Flatiron_Data_Science/git_labs_lessons/phase1/dsc-phase-1-project/data\n"
     ]
    }
   ],
   "source": [
    "cd data"
   ]
  },
  {
   "cell_type": "code",
   "execution_count": 16,
   "metadata": {},
   "outputs": [
    {
     "data": {
      "text/plain": [
       "{'adult': False,\n",
       " 'id': 3924,\n",
       " 'original_title': 'Blondie',\n",
       " 'popularity': 3.837,\n",
       " 'video': False}"
      ]
     },
     "execution_count": 16,
     "metadata": {},
     "output_type": "execute_result"
    }
   ],
   "source": [
    "# Open the gzip file, specify for reading and text\n",
    "f = gzip.open('movie_ids_03_15_2021.json.gz','rt')\n",
    "\n",
    "line = f.readline()\n",
    "dict_line = json.loads(line)\n",
    "dict_line"
   ]
  },
  {
   "cell_type": "code",
   "execution_count": 18,
   "metadata": {},
   "outputs": [
    {
     "data": {
      "text/plain": [
       "589029"
      ]
     },
     "execution_count": 18,
     "metadata": {},
     "output_type": "execute_result"
    }
   ],
   "source": [
    "tmdb_movies = []\n",
    "\n",
    "for line in f.readlines():\n",
    "    dict_line = json.loads(line)\n",
    "    movie = {}\n",
    "    for key in dict_line.keys():\n",
    "        movie[key] = dict_line[key]\n",
    "    tmdb_movies.append(movie)\n",
    "\n",
    "len(tmdb_movies)"
   ]
  },
  {
   "cell_type": "code",
   "execution_count": 25,
   "metadata": {},
   "outputs": [
    {
     "data": {
      "text/plain": [
       "6124"
      ]
     },
     "execution_count": 25,
     "metadata": {},
     "output_type": "execute_result"
    }
   ],
   "source": [
    "tmdb_movies[0]['id']"
   ]
  },
  {
   "cell_type": "markdown",
   "metadata": {},
   "source": [
    "## API Test Call"
   ]
  },
  {
   "cell_type": "code",
   "execution_count": 26,
   "metadata": {
    "scrolled": true
   },
   "outputs": [
    {
     "data": {
      "text/plain": [
       "'{\"adult\":false,\"backdrop_path\":null,\"belongs_to_collection\":null,\"budget\":0,\"genres\":[{\"id\":12,\"name\":\"Adventure\"}],\"homepage\":\"\",\"id\":6124,\"imdb_id\":\"tt0011436\",\"original_language\":\"de\",\"original_title\":\"Der Mann ohne Namen\",\"overview\":\"Der Mann ohne Namen is a German adventure movie serial directed by Georg Jacoby.\",\"popularity\":0.6,\"poster_path\":\"/6xUbUCvndklbGVYiljHr34NTxSl.jpg\",\"production_companies\":[],\"production_countries\":[{\"iso_3166_1\":\"DE\",\"name\":\"Germany\"}],\"release_date\":\"1921-01-01\",\"revenue\":0,\"runtime\":420,\"spoken_languages\":[],\"status\":\"Released\",\"tagline\":\"\",\"title\":\"Peter Voss, Thief of Millions\",\"video\":false,\"vote_average\":0.0,\"vote_count\":0}'"
      ]
     },
     "execution_count": 26,
     "metadata": {},
     "output_type": "execute_result"
    }
   ],
   "source": [
    "# Test out the API with key and make sure we get a good response\n",
    "url = f\"https://api.themoviedb.org/3/movie/{tmdb_movies[0]['id']}\"\n",
    "\n",
    "headers = {'Authorization': f'Bearer {api_key}'}\n",
    "\n",
    "url_params = {\n",
    "                \n",
    "             }\n",
    "\n",
    "response = requests.get(url, headers=headers)\n",
    "response.text"
   ]
  },
  {
   "cell_type": "code",
   "execution_count": 27,
   "metadata": {
    "scrolled": true
   },
   "outputs": [
    {
     "data": {
      "text/plain": [
       "dict_keys(['adult', 'backdrop_path', 'belongs_to_collection', 'budget', 'genres', 'homepage', 'id', 'imdb_id', 'original_language', 'original_title', 'overview', 'popularity', 'poster_path', 'production_companies', 'production_countries', 'release_date', 'revenue', 'runtime', 'spoken_languages', 'status', 'tagline', 'title', 'video', 'vote_average', 'vote_count'])"
      ]
     },
     "execution_count": 27,
     "metadata": {},
     "output_type": "execute_result"
    }
   ],
   "source": [
    "resp_dict = json.loads(response.text)\n",
    "resp_dict.keys()"
   ]
  },
  {
   "cell_type": "markdown",
   "metadata": {},
   "source": [
    "## Figure out how to lump movie details with other calls and append them\n",
    "\n",
    "https://developers.themoviedb.org/3/getting-started/append-to-response\n",
    "\n",
    "Details gives me good info, but while here I might as well get as much info as possible. This API allows you to make multiple requests and have them bundled into a single response. Need to try it out.\n",
    "\n",
    "I want:\n",
    "- movie/id to get the details\n",
    "- movie/id/release_dates for the various release dates\n",
    "- movie/id/watch/providers for providers by country and by monetization\n",
    "\n",
    "Considered reviews, but I'm going to grab those from existing IMDB records for now since they have multiple pages."
   ]
  },
  {
   "cell_type": "code",
   "execution_count": 30,
   "metadata": {},
   "outputs": [
    {
     "data": {
      "text/plain": [
       "[{'adult': False,\n",
       "  'id': 19995,\n",
       "  'original_title': 'Avatar',\n",
       "  'popularity': 173.639,\n",
       "  'video': False},\n",
       " {'adult': False,\n",
       "  'id': 421403,\n",
       "  'original_title': 'Avatar',\n",
       "  'popularity': 1.804,\n",
       "  'video': False}]"
      ]
     },
     "execution_count": 30,
     "metadata": {},
     "output_type": "execute_result"
    }
   ],
   "source": [
    "# let's find an ID that will be streaming to make sure we get good results\n",
    "\n",
    "# Credit to https://stackoverflow.com/questions/8653516/\n",
    "# python-list-of-dictionaries-search for this elegant solution to search\n",
    "# a list of dictionaries\n",
    "\n",
    "list(filter(lambda movie: movie['original_title'] == 'Avatar', tmdb_movies))"
   ]
  },
  {
   "cell_type": "code",
   "execution_count": 31,
   "metadata": {
    "scrolled": true
   },
   "outputs": [
    {
     "data": {
      "text/plain": [
       "'{\"adult\":false,\"backdrop_path\":\"/AmHOQ7rpHwiaUMRjKXztnauSJb7.jpg\",\"belongs_to_collection\":{\"id\":87096,\"name\":\"Avatar Collection\",\"poster_path\":\"/gC3tW9a45RGOzzSh6wv91pFnmFr.jpg\",\"backdrop_path\":\"/syGPZuzcHBBHMLiNDN0x0Tms4Fk.jpg\"},\"budget\":237000000,\"genres\":[{\"id\":28,\"name\":\"Action\"},{\"id\":12,\"name\":\"Adventure\"},{\"id\":14,\"name\":\"Fantasy\"},{\"id\":878,\"name\":\"Science Fiction\"}],\"homepage\":\"http://www.avatarmovie.com/\",\"id\":19995,\"imdb_id\":\"tt0499549\",\"original_language\":\"en\",\"original_title\":\"Avatar\",\"overview\":\"In the 22nd century, a paraplegic Marine is dispatched to the moon Pandora on a unique mission, but becomes torn between following orders and protecting an alien civilization.\",\"popularity\":173.639,\"poster_path\":\"/6EiRUJpuoeQPghrs3YNktfnqOVh.jpg\",\"production_companies\":[{\"id\":444,\"logo_path\":\"/42UPdZl6B2cFXgNUASR8hSt9mpS.png\",\"name\":\"Dune Entertainment\",\"origin_country\":\"US\"},{\"id\":574,\"logo_path\":\"/iB6GjNVHs5hOqcEYt2rcjBqIjki.png\",\"name\":\"Lightstorm Entertainment\",\"origin_country\":\"US\"},{\"id\":25,\"logo_path\":\"/qZCc1lty5FzX30aOCVRBLzaVmcp.png\",\"name\":\"20th Century Fox\",\"origin_country\":\"US\"},{\"id\":290,\"logo_path\":\"/Q8mw2AOQQc8Qg0uNwLWq86DVZv.png\",\"name\":\"Ingenious Media\",\"origin_country\":\"GB\"}],\"production_countries\":[{\"iso_3166_1\":\"US\",\"name\":\"United States of America\"},{\"iso_3166_1\":\"GB\",\"name\":\"United Kingdom\"}],\"release_date\":\"2009-12-10\",\"revenue\":2787965087,\"runtime\":162,\"spoken_languages\":[{\"english_name\":\"English\",\"iso_639_1\":\"en\",\"name\":\"English\"},{\"english_name\":\"Spanish\",\"iso_639_1\":\"es\",\"name\":\"Español\"}],\"status\":\"Released\",\"tagline\":\"Enter the World of Pandora.\",\"title\":\"Avatar\",\"video\":false,\"vote_average\":7.5,\"vote_count\":23026,\"release_dates\":{\"results\":[{\"iso_3166_1\":\"DE\",\"release_dates\":[{\"certification\":\"12\",\"iso_639_1\":\"\",\"note\":\"\",\"release_date\":\"2009-12-17T00:00:00.000Z\",\"type\":3},{\"certification\":\"12\",\"iso_639_1\":\"\",\"release_date\":\"2012-10-26T00:00:00.000Z\",\"type\":5}]},{\"iso_3166_1\":\"ID\",\"release_dates\":[{\"certification\":\"\",\"iso_639_1\":\"\",\"note\":\"\",\"release_date\":\"2010-09-01T00:00:00.000Z\",\"type\":3}]},{\"iso_3166_1\":\"LB\",\"release_dates\":[{\"certification\":\"\",\"iso_639_1\":\"\",\"note\":\"\",\"release_date\":\"2009-12-17T00:00:00.000Z\",\"type\":3}]},{\"iso_3166_1\":\"AE\",\"release_dates\":[{\"certification\":\"\",\"iso_639_1\":\"\",\"note\":\"\",\"release_date\":\"2009-12-15T00:00:00.000Z\",\"type\":3}]},{\"iso_3166_1\":\"SK\",\"release_dates\":[{\"certification\":\"\",\"iso_639_1\":\"\",\"note\":\"\",\"release_date\":\"2009-12-17T00:00:00.000Z\",\"type\":3}]},{\"iso_3166_1\":\"IS\",\"release_dates\":[{\"certification\":\"\",\"iso_639_1\":\"\",\"note\":\"\",\"release_date\":\"2009-12-18T00:00:00.000Z\",\"type\":3}]},{\"iso_3166_1\":\"SE\",\"release_dates\":[{\"certification\":\"11\",\"iso_639_1\":\"\",\"note\":\"\",\"release_date\":\"2009-12-18T00:00:00.000Z\",\"type\":3},{\"certification\":\"11\",\"iso_639_1\":\"\",\"note\":\"DVD, Blu-ray\",\"release_date\":\"2010-04-28T00:00:00.000Z\",\"type\":5},{\"certification\":\"11\",\"iso_639_1\":\"\",\"note\":\"3D Blu-ray\",\"release_date\":\"2012-10-24T00:00:00.000Z\",\"type\":5}]},{\"iso_3166_1\":\"US\",\"release_dates\":[{\"certification\":\"PG-13\",\"iso_639_1\":\"\",\"note\":\"\",\"release_date\":\"2009-12-18T00:00:00.000Z\",\"type\":3},{\"certification\":\"PG-13\",\"iso_639_1\":\"\",\"note\":\"DVD, Blu-ray\",\"release_date\":\"2010-04-22T00:00:00.000Z\",\"type\":5}]},{\"iso_3166_1\":\"MY\",\"release_dates\":[{\"certification\":\"\",\"iso_639_1\":\"\",\"note\":\"\",\"release_date\":\"2010-08-26T00:00:00.000Z\",\"type\":3}]},{\"iso_3166_1\":\"SG\",\"release_dates\":[{\"certification\":\"\",\"iso_639_1\":\"\",\"note\":\"\",\"release_date\":\"2010-08-26T00:00:00.000Z\",\"type\":3}]},{\"iso_3166_1\":\"BG\",\"release_dates\":[{\"certification\":\"PG-13\",\"iso_639_1\":\"\",\"note\":\"\",\"release_date\":\"2009-12-17T00:00:00.000Z\",\"type\":3}]},{\"iso_3166_1\":\"PH\",\"release_dates\":[{\"certification\":\"\",\"iso_639_1\":\"\",\"note\":\"\",\"release_date\":\"2009-12-17T00:00:00.000Z\",\"type\":3}]},{\"iso_3166_1\":\"AU\",\"release_dates\":[{\"certification\":\"M\",\"iso_639_1\":\"\",\"note\":\"\",\"release_date\":\"2010-08-25T00:00:00.000Z\",\"type\":3}]},{\"iso_3166_1\":\"BR\",\"release_dates\":[{\"certification\":\"10\",\"iso_639_1\":\"\",\"note\":\"\",\"release_date\":\"2009-12-19T00:00:00.000Z\",\"type\":3},{\"certification\":\"\",\"iso_639_1\":\"\",\"note\":\"\",\"release_date\":\"2010-04-22T00:00:00.000Z\",\"type\":5}]},{\"iso_3166_1\":\"LV\",\"release_dates\":[{\"certification\":\"\",\"iso_639_1\":\"\",\"note\":\"\",\"release_date\":\"2009-12-18T00:00:00.000Z\",\"type\":3}]},{\"iso_3166_1\":\"PT\",\"release_dates\":[{\"certification\":\"M/6\",\"iso_639_1\":\"\",\"note\":\"\",\"release_date\":\"2009-12-17T00:00:00.000Z\",\"type\":3}]},{\"iso_3166_1\":\"ES\",\"release_dates\":[{\"certification\":\"7\",\"iso_639_1\":\"\",\"note\":\"\",\"release_date\":\"2009-12-18T00:00:00.000Z\",\"type\":3}]},{\"iso_3166_1\":\"AR\",\"release_dates\":[{\"certification\":\"\",\"iso_639_1\":\"\",\"note\":\"\",\"release_date\":\"2010-09-23T00:00:00.000Z\",\"type\":3}]},{\"iso_3166_1\":\"AT\",\"release_dates\":[{\"certification\":\"\",\"iso_639_1\":\"\",\"note\":\"\",\"release_date\":\"2009-12-17T00:00:00.000Z\",\"type\":3}]},{\"iso_3166_1\":\"KR\",\"release_dates\":[{\"certification\":\"12\",\"iso_639_1\":\"\",\"note\":\"\",\"release_date\":\"2010-08-26T00:00:00.000Z\",\"type\":3}]},{\"iso_3166_1\":\"CO\",\"release_dates\":[{\"certification\":\"\",\"iso_639_1\":\"\",\"note\":\"\",\"release_date\":\"2009-12-17T00:00:00.000Z\",\"type\":3}]},{\"iso_3166_1\":\"HK\",\"release_dates\":[{\"certification\":\"\",\"iso_639_1\":\"\",\"note\":\"\",\"release_date\":\"2010-08-26T00:00:00.000Z\",\"type\":3}]},{\"iso_3166_1\":\"NZ\",\"release_dates\":[{\"certification\":\"M\",\"iso_639_1\":\"\",\"note\":\"\",\"release_date\":\"2010-08-26T00:00:00.000Z\",\"type\":3}]},{\"iso_3166_1\":\"UA\",\"release_dates\":[{\"certification\":\"\",\"iso_639_1\":\"\",\"note\":\"\",\"release_date\":\"2009-12-17T00:00:00.000Z\",\"type\":3}]},{\"iso_3166_1\":\"FR\",\"release_dates\":[{\"certification\":\"U\",\"iso_639_1\":\"\",\"note\":\"\",\"release_date\":\"2009-12-16T00:00:00.000Z\",\"type\":3}]},{\"iso_3166_1\":\"MX\",\"release_dates\":[{\"certification\":\"\",\"iso_639_1\":\"\",\"note\":\"\",\"release_date\":\"2010-10-15T00:00:00.000Z\",\"type\":3}]},{\"iso_3166_1\":\"PK\",\"release_dates\":[{\"certification\":\"\",\"iso_639_1\":\"\",\"note\":\"\",\"release_date\":\"2010-01-01T00:00:00.000Z\",\"type\":3}]},{\"iso_3166_1\":\"HU\",\"release_dates\":[{\"certification\":\"16\",\"iso_639_1\":\"\",\"note\":\"\",\"release_date\":\"2009-12-17T00:00:00.000Z\",\"type\":3}]},{\"iso_3166_1\":\"BA\",\"release_dates\":[{\"certification\":\"\",\"iso_639_1\":\"\",\"note\":\"\",\"release_date\":\"2009-12-17T00:00:00.000Z\",\"type\":3}]},{\"iso_3166_1\":\"UY\",\"release_dates\":[{\"certification\":\"\",\"iso_639_1\":\"\",\"note\":\"\",\"release_date\":\"2009-12-18T00:00:00.000Z\",\"type\":3}]},{\"iso_3166_1\":\"GR\",\"release_dates\":[{\"certification\":\"Κ-13\",\"iso_639_1\":\"\",\"note\":\"\",\"release_date\":\"2009-12-16T00:00:00.000Z\",\"type\":3}]},{\"iso_3166_1\":\"NO\",\"release_dates\":[{\"certification\":\"\",\"iso_639_1\":\"\",\"note\":\"\",\"release_date\":\"2009-12-18T00:00:00.000Z\",\"type\":3}]},{\"iso_3166_1\":\"AM\",\"release_dates\":[{\"certification\":\"\",\"iso_639_1\":\"\",\"note\":\"\",\"release_date\":\"2010-01-03T00:00:00.000Z\",\"type\":3}]},{\"iso_3166_1\":\"GE\",\"release_dates\":[{\"certification\":\"\",\"iso_639_1\":\"\",\"note\":\"\",\"release_date\":\"2010-09-23T00:00:00.000Z\",\"type\":3}]},{\"iso_3166_1\":\"IL\",\"release_dates\":[{\"certification\":\"\",\"iso_639_1\":\"\",\"note\":\"\",\"release_date\":\"2009-12-17T00:00:00.000Z\",\"type\":3}]},{\"iso_3166_1\":\"EE\",\"release_dates\":[{\"certification\":\"\",\"iso_639_1\":\"\",\"note\":\"\",\"release_date\":\"2009-12-18T00:00:00.000Z\",\"type\":3}]},{\"iso_3166_1\":\"HR\",\"release_dates\":[{\"certification\":\"\",\"iso_639_1\":\"\",\"note\":\"\",\"release_date\":\"2009-12-17T00:00:00.000Z\",\"type\":3}]},{\"iso_3166_1\":\"DK\",\"release_dates\":[{\"certification\":\"15\",\"iso_639_1\":\"\",\"note\":\"\",\"release_date\":\"2009-12-18T00:00:00.000Z\",\"type\":3}]},{\"iso_3166_1\":\"TW\",\"release_dates\":[{\"certification\":\"\",\"iso_639_1\":\"\",\"note\":\"\",\"release_date\":\"2009-12-18T00:00:00.000Z\",\"type\":3}]},{\"iso_3166_1\":\"LT\",\"release_dates\":[{\"certification\":\"\",\"iso_639_1\":\"\",\"note\":\"\",\"release_date\":\"2009-12-18T00:00:00.000Z\",\"type\":3}]},{\"iso_3166_1\":\"PA\",\"release_dates\":[{\"certification\":\"\",\"iso_639_1\":\"\",\"note\":\"\",\"release_date\":\"2009-12-18T00:00:00.000Z\",\"type\":3}]},{\"iso_3166_1\":\"BE\",\"release_dates\":[{\"certification\":\"12-KT\",\"iso_639_1\":\"\",\"note\":\"\",\"release_date\":\"2010-09-08T00:00:00.000Z\",\"type\":3}]},{\"iso_3166_1\":\"PE\",\"release_dates\":[{\"certification\":\"\",\"iso_639_1\":\"\",\"note\":\"\",\"release_date\":\"2009-12-17T00:00:00.000Z\",\"type\":3}]},{\"iso_3166_1\":\"NL\",\"release_dates\":[{\"certification\":\"12\",\"iso_639_1\":\"\",\"note\":\"\",\"release_date\":\"2009-12-17T00:00:00.000Z\",\"type\":3},{\"certification\":\"12\",\"iso_639_1\":\"\",\"note\":\"RTL 4\",\"release_date\":\"2012-01-26T00:00:00.000Z\",\"type\":6}]},{\"iso_3166_1\":\"IE\",\"release_dates\":[{\"certification\":\"12A\",\"iso_639_1\":\"\",\"note\":\"\",\"release_date\":\"2010-08-27T00:00:00.000Z\",\"type\":3}]},{\"iso_3166_1\":\"CH\",\"release_dates\":[{\"certification\":\"12\",\"iso_639_1\":\"\",\"note\":\"\",\"release_date\":\"2009-12-17T00:00:00.000Z\",\"type\":3}]},{\"iso_3166_1\":\"SY\",\"release_dates\":[{\"certification\":\"\",\"iso_639_1\":\"\",\"note\":\"\",\"release_date\":\"2009-12-17T00:00:00.000Z\",\"type\":3}]},{\"iso_3166_1\":\"KW\",\"release_dates\":[{\"certification\":\"\",\"iso_639_1\":\"\",\"note\":\"\",\"release_date\":\"2009-12-17T00:00:00.000Z\",\"type\":3}]},{\"iso_3166_1\":\"CZ\",\"release_dates\":[{\"certification\":\"U\",\"iso_639_1\":\"\",\"note\":\"\",\"release_date\":\"2009-12-17T00:00:00.000Z\",\"type\":3}]},{\"iso_3166_1\":\"RO\",\"release_dates\":[{\"certification\":\"\",\"iso_639_1\":\"\",\"note\":\"\",\"release_date\":\"2009-12-18T00:00:00.000Z\",\"type\":3}]},{\"iso_3166_1\":\"VE\",\"release_dates\":[{\"certification\":\"\",\"iso_639_1\":\"\",\"note\":\"\",\"release_date\":\"2009-12-18T00:00:00.000Z\",\"type\":3}]},{\"iso_3166_1\":\"EG\",\"release_dates\":[{\"certification\":\"\",\"iso_639_1\":\"\",\"note\":\"\",\"release_date\":\"2009-12-16T00:00:00.000Z\",\"type\":3}]},{\"iso_3166_1\":\"CN\",\"release_dates\":[{\"certification\":\"\",\"iso_639_1\":\"\",\"note\":\"\",\"release_date\":\"2010-01-02T00:00:00.000Z\",\"type\":3}]},{\"iso_3166_1\":\"CA\",\"release_dates\":[{\"certification\":\"PG\",\"iso_639_1\":\"\",\"note\":\"\",\"release_date\":\"2009-12-18T00:00:00.000Z\",\"type\":3}]},{\"iso_3166_1\":\"FI\",\"release_dates\":[{\"certification\":\"K-13\",\"iso_639_1\":\"\",\"note\":\"\",\"release_date\":\"2009-12-18T00:00:00.000Z\",\"type\":3}]},{\"iso_3166_1\":\"RU\",\"release_dates\":[{\"certification\":\"16+\",\"iso_639_1\":\"ru\",\"note\":\"Ре-релиз «Двадцатый Век Фокс СНГ»\",\"release_date\":\"2010-08-26T00:00:00.000Z\",\"type\":3},{\"certification\":\"12+\",\"iso_639_1\":\"ru\",\"note\":\"«Двадцатый Век Фокс СНГ»\",\"release_date\":\"2009-12-17T00:00:00.000Z\",\"type\":3},{\"certification\":\"12+\",\"iso_639_1\":\"ru\",\"note\":\"DVD «Двадцатый Век Фокс СНГ»\",\"release_date\":\"2010-04-22T00:00:00.000Z\",\"type\":5},{\"certification\":\"12+\",\"iso_639_1\":\"ru\",\"note\":\"Blu-ray «Двадцатый Век Фокс СНГ»\",\"release_date\":\"2010-04-29T00:00:00.000Z\",\"type\":5}]},{\"iso_3166_1\":\"TH\",\"release_dates\":[{\"certification\":\"\",\"iso_639_1\":\"\",\"note\":\"\",\"release_date\":\"2009-12-17T00:00:00.000Z\",\"type\":3}]},{\"iso_3166_1\":\"TR\",\"release_dates\":[{\"certification\":\"\",\"iso_639_1\":\"\",\"note\":\"\",\"release_date\":\"2009-12-18T00:00:00.000Z\",\"type\":3}]},{\"iso_3166_1\":\"SI\",\"release_dates\":[{\"certification\":\"\",\"iso_639_1\":\"\",\"note\":\"\",\"release_date\":\"2009-12-17T00:00:00.000Z\",\"type\":3}]},{\"iso_3166_1\":\"KZ\",\"release_dates\":[{\"certification\":\"Б14\",\"iso_639_1\":\"\",\"note\":\"\",\"release_date\":\"2010-08-25T00:00:00.000Z\",\"type\":3}]},{\"iso_3166_1\":\"IT\",\"release_dates\":[{\"certification\":\"T\",\"iso_639_1\":\"\",\"note\":\"\",\"release_date\":\"2010-01-15T00:00:00.000Z\",\"type\":3}]},{\"iso_3166_1\":\"IN\",\"release_dates\":[{\"certification\":\"\",\"iso_639_1\":\"\",\"note\":\"\",\"release_date\":\"2010-08-27T00:00:00.000Z\",\"type\":3}]},{\"iso_3166_1\":\"JP\",\"release_dates\":[{\"certification\":\"\",\"iso_639_1\":\"\",\"note\":\"\",\"release_date\":\"2010-10-16T00:00:00.000Z\",\"type\":3}]},{\"iso_3166_1\":\"GB\",\"release_dates\":[{\"certification\":\"12A\",\"iso_639_1\":\"\",\"note\":\"\",\"release_date\":\"2009-12-10T00:00:00.000Z\",\"type\":3}]},{\"iso_3166_1\":\"ZA\",\"release_dates\":[{\"certification\":\"13M-LV\",\"iso_639_1\":\"\",\"note\":\"\",\"release_date\":\"2009-12-18T00:00:00.000Z\",\"type\":3}]}]},\"watch/providers\":{\"results\":{\"AR\":{\"link\":\"https://www.themoviedb.org/movie/19995-avatar/watch?locale=AR\",\"rent\":[{\"display_priority\":3,\"logo_path\":\"/p3Z12gKq2qvJaUOMeKNU2mzKVI9.jpg\",\"provider_id\":3,\"provider_name\":\"Google Play Movies\"},{\"display_priority\":8,\"logo_path\":\"/mzu37NQphDvqN2BHKM0Rwq9Es3r.jpg\",\"provider_id\":167,\"provider_name\":\"Claro video\"}],\"flatrate\":[{\"display_priority\":1,\"logo_path\":\"/dgPueyEdOwpQ10fjuhL2WYFQwQs.jpg\",\"provider_id\":337,\"provider_name\":\"Disney Plus\"}],\"buy\":[{\"display_priority\":3,\"logo_path\":\"/p3Z12gKq2qvJaUOMeKNU2mzKVI9.jpg\",\"provider_id\":3,\"provider_name\":\"Google Play Movies\"}]},\"AT\":{\"link\":\"https://www.themoviedb.org/movie/19995-avatar/watch?locale=AT\",\"flatrate\":[{\"display_priority\":1,\"logo_path\":\"/dgPueyEdOwpQ10fjuhL2WYFQwQs.jpg\",\"provider_id\":337,\"provider_name\":\"Disney Plus\"}],\"rent\":[{\"display_priority\":2,\"logo_path\":\"/q6tl6Ib6X5FT80RMlcDbexIo4St.jpg\",\"provider_id\":2,\"provider_name\":\"Apple iTunes\"},{\"display_priority\":3,\"logo_path\":\"/p3Z12gKq2qvJaUOMeKNU2mzKVI9.jpg\",\"provider_id\":3,\"provider_name\":\"Google Play Movies\"},{\"display_priority\":8,\"logo_path\":\"/pZgeSWpfvD59x6sY6stT5c6uc2h.jpg\",\"provider_id\":130,\"provider_name\":\"Sky Store\"},{\"display_priority\":10,\"logo_path\":\"/sVBEF7q7LqjHAWSnKwDbzmr2EMY.jpg\",\"provider_id\":10,\"provider_name\":\"Amazon Video\"},{\"display_priority\":11,\"logo_path\":\"/vjKeS7Y9fNyqNtvp2ROCc71iu1u.jpg\",\"provider_id\":40,\"provider_name\":\"Chili\"},{\"display_priority\":18,\"logo_path\":\"/wuViyDkbFp4r7VqI0efPW5hFfQj.jpg\",\"provider_id\":35,\"provider_name\":\"Rakuten TV\"},{\"display_priority\":35,\"logo_path\":\"/paq2o2dIfQnxcERsVoq7Ys8KYz8.jpg\",\"provider_id\":68,\"provider_name\":\"Microsoft Store\"}],\"buy\":[{\"display_priority\":2,\"logo_path\":\"/q6tl6Ib6X5FT80RMlcDbexIo4St.jpg\",\"provider_id\":2,\"provider_name\":\"Apple iTunes\"},{\"display_priority\":3,\"logo_path\":\"/p3Z12gKq2qvJaUOMeKNU2mzKVI9.jpg\",\"provider_id\":3,\"provider_name\":\"Google Play Movies\"},{\"display_priority\":8,\"logo_path\":\"/pZgeSWpfvD59x6sY6stT5c6uc2h.jpg\",\"provider_id\":130,\"provider_name\":\"Sky Store\"},{\"display_priority\":10,\"logo_path\":\"/sVBEF7q7LqjHAWSnKwDbzmr2EMY.jpg\",\"provider_id\":10,\"provider_name\":\"Amazon Video\"},{\"display_priority\":11,\"logo_path\":\"/vjKeS7Y9fNyqNtvp2ROCc71iu1u.jpg\",\"provider_id\":40,\"provider_name\":\"Chili\"},{\"display_priority\":18,\"logo_path\":\"/wuViyDkbFp4r7VqI0efPW5hFfQj.jpg\",\"provider_id\":35,\"provider_name\":\"Rakuten TV\"},{\"display_priority\":35,\"logo_path\":\"/paq2o2dIfQnxcERsVoq7Ys8KYz8.jpg\",\"provider_id\":68,\"provider_name\":\"Microsoft Store\"}]},\"AU\":{\"link\":\"https://www.themoviedb.org/movie/19995-avatar/watch?locale=AU\",\"buy\":[{\"display_priority\":2,\"logo_path\":\"/q6tl6Ib6X5FT80RMlcDbexIo4St.jpg\",\"provider_id\":2,\"provider_name\":\"Apple iTunes\"},{\"display_priority\":3,\"logo_path\":\"/p3Z12gKq2qvJaUOMeKNU2mzKVI9.jpg\",\"provider_id\":3,\"provider_name\":\"Google Play Movies\"},{\"display_priority\":10,\"logo_path\":\"/sVBEF7q7LqjHAWSnKwDbzmr2EMY.jpg\",\"provider_id\":10,\"provider_name\":\"Amazon Video\"},{\"display_priority\":12,\"logo_path\":\"/vDCcryHD32b0yMeSCgBhuYavsmx.jpg\",\"provider_id\":192,\"provider_name\":\"YouTube\"},{\"display_priority\":33,\"logo_path\":\"/43Ykyf69e9Ca3jmTtefhINkw6PN.jpg\",\"provider_id\":436,\"provider_name\":\"Fetch TV\"},{\"display_priority\":35,\"logo_path\":\"/paq2o2dIfQnxcERsVoq7Ys8KYz8.jpg\",\"provider_id\":68,\"provider_name\":\"Microsoft Store\"}],\"rent\":[{\"display_priority\":2,\"logo_path\":\"/q6tl6Ib6X5FT80RMlcDbexIo4St.jpg\",\"provider_id\":2,\"provider_name\":\"Apple iTunes\"},{\"display_priority\":3,\"logo_path\":\"/p3Z12gKq2qvJaUOMeKNU2mzKVI9.jpg\",\"provider_id\":3,\"provider_name\":\"Google Play Movies\"},{\"display_priority\":10,\"logo_path\":\"/sVBEF7q7LqjHAWSnKwDbzmr2EMY.jpg\",\"provider_id\":10,\"provider_name\":\"Amazon Video\"},{\"display_priority\":12,\"logo_path\":\"/vDCcryHD32b0yMeSCgBhuYavsmx.jpg\",\"provider_id\":192,\"provider_name\":\"YouTube\"},{\"display_priority\":33,\"logo_path\":\"/43Ykyf69e9Ca3jmTtefhINkw6PN.jpg\",\"provider_id\":436,\"provider_name\":\"Fetch TV\"},{\"display_priority\":35,\"logo_path\":\"/paq2o2dIfQnxcERsVoq7Ys8KYz8.jpg\",\"provider_id\":68,\"provider_name\":\"Microsoft Store\"}],\"flatrate\":[{\"display_priority\":1,\"logo_path\":\"/dgPueyEdOwpQ10fjuhL2WYFQwQs.jpg\",\"provider_id\":337,\"provider_name\":\"Disney Plus\"}]},\"BE\":{\"link\":\"https://www.themoviedb.org/movie/19995-avatar/watch?locale=BE\",\"buy\":[{\"display_priority\":2,\"logo_path\":\"/q6tl6Ib6X5FT80RMlcDbexIo4St.jpg\",\"provider_id\":2,\"provider_name\":\"Apple iTunes\"},{\"display_priority\":3,\"logo_path\":\"/p3Z12gKq2qvJaUOMeKNU2mzKVI9.jpg\",\"provider_id\":3,\"provider_name\":\"Google Play Movies\"},{\"display_priority\":18,\"logo_path\":\"/wuViyDkbFp4r7VqI0efPW5hFfQj.jpg\",\"provider_id\":35,\"provider_name\":\"Rakuten TV\"}],\"rent\":[{\"display_priority\":2,\"logo_path\":\"/q6tl6Ib6X5FT80RMlcDbexIo4St.jpg\",\"provider_id\":2,\"provider_name\":\"Apple iTunes\"},{\"display_priority\":3,\"logo_path\":\"/p3Z12gKq2qvJaUOMeKNU2mzKVI9.jpg\",\"provider_id\":3,\"provider_name\":\"Google Play Movies\"},{\"display_priority\":18,\"logo_path\":\"/wuViyDkbFp4r7VqI0efPW5hFfQj.jpg\",\"provider_id\":35,\"provider_name\":\"Rakuten TV\"}],\"flatrate\":[{\"display_priority\":1,\"logo_path\":\"/dgPueyEdOwpQ10fjuhL2WYFQwQs.jpg\",\"provider_id\":337,\"provider_name\":\"Disney Plus\"}]},\"BR\":{\"link\":\"https://www.themoviedb.org/movie/19995-avatar/watch?locale=BR\",\"flatrate\":[{\"display_priority\":1,\"logo_path\":\"/dgPueyEdOwpQ10fjuhL2WYFQwQs.jpg\",\"provider_id\":337,\"provider_name\":\"Disney Plus\"}]},\"CA\":{\"link\":\"https://www.themoviedb.org/movie/19995-avatar/watch?locale=CA\",\"buy\":[{\"display_priority\":2,\"logo_path\":\"/q6tl6Ib6X5FT80RMlcDbexIo4St.jpg\",\"provider_id\":2,\"provider_name\":\"Apple iTunes\"},{\"display_priority\":3,\"logo_path\":\"/p3Z12gKq2qvJaUOMeKNU2mzKVI9.jpg\",\"provider_id\":3,\"provider_name\":\"Google Play Movies\"},{\"display_priority\":10,\"logo_path\":\"/sVBEF7q7LqjHAWSnKwDbzmr2EMY.jpg\",\"provider_id\":10,\"provider_name\":\"Amazon Video\"},{\"display_priority\":12,\"logo_path\":\"/xEWgUq2tJyggisxbJ3fNOV9Inj2.jpg\",\"provider_id\":140,\"provider_name\":\"Cineplex\"},{\"display_priority\":12,\"logo_path\":\"/vDCcryHD32b0yMeSCgBhuYavsmx.jpg\",\"provider_id\":192,\"provider_name\":\"YouTube\"},{\"display_priority\":35,\"logo_path\":\"/paq2o2dIfQnxcERsVoq7Ys8KYz8.jpg\",\"provider_id\":68,\"provider_name\":\"Microsoft Store\"}],\"flatrate\":[{\"display_priority\":1,\"logo_path\":\"/dgPueyEdOwpQ10fjuhL2WYFQwQs.jpg\",\"provider_id\":337,\"provider_name\":\"Disney Plus\"}],\"rent\":[{\"display_priority\":2,\"logo_path\":\"/q6tl6Ib6X5FT80RMlcDbexIo4St.jpg\",\"provider_id\":2,\"provider_name\":\"Apple iTunes\"},{\"display_priority\":3,\"logo_path\":\"/p3Z12gKq2qvJaUOMeKNU2mzKVI9.jpg\",\"provider_id\":3,\"provider_name\":\"Google Play Movies\"},{\"display_priority\":10,\"logo_path\":\"/sVBEF7q7LqjHAWSnKwDbzmr2EMY.jpg\",\"provider_id\":10,\"provider_name\":\"Amazon Video\"},{\"display_priority\":12,\"logo_path\":\"/vDCcryHD32b0yMeSCgBhuYavsmx.jpg\",\"provider_id\":192,\"provider_name\":\"YouTube\"},{\"display_priority\":12,\"logo_path\":\"/xEWgUq2tJyggisxbJ3fNOV9Inj2.jpg\",\"provider_id\":140,\"provider_name\":\"Cineplex\"},{\"display_priority\":35,\"logo_path\":\"/paq2o2dIfQnxcERsVoq7Ys8KYz8.jpg\",\"provider_id\":68,\"provider_name\":\"Microsoft Store\"}]},\"CH\":{\"link\":\"https://www.themoviedb.org/movie/19995-avatar/watch?locale=CH\",\"flatrate\":[{\"display_priority\":1,\"logo_path\":\"/dgPueyEdOwpQ10fjuhL2WYFQwQs.jpg\",\"provider_id\":337,\"provider_name\":\"Disney Plus\"}],\"buy\":[{\"display_priority\":2,\"logo_path\":\"/q6tl6Ib6X5FT80RMlcDbexIo4St.jpg\",\"provider_id\":2,\"provider_name\":\"Apple iTunes\"},{\"display_priority\":3,\"logo_path\":\"/p3Z12gKq2qvJaUOMeKNU2mzKVI9.jpg\",\"provider_id\":3,\"provider_name\":\"Google Play Movies\"},{\"display_priority\":3,\"logo_path\":\"/dSBzj4T9P7PMUr015gnV7meT2LR.jpg\",\"provider_id\":150,\"provider_name\":\"SwissCom\"},{\"display_priority\":8,\"logo_path\":\"/567LmXMmafb8e2jGOmpHDZNl2r8.jpg\",\"provider_id\":164,\"provider_name\":\"Hollystar\"},{\"display_priority\":18,\"logo_path\":\"/wuViyDkbFp4r7VqI0efPW5hFfQj.jpg\",\"provider_id\":35,\"provider_name\":\"Rakuten TV\"},{\"display_priority\":35,\"logo_path\":\"/paq2o2dIfQnxcERsVoq7Ys8KYz8.jpg\",\"provider_id\":68,\"provider_name\":\"Microsoft Store\"}],\"rent\":[{\"display_priority\":2,\"logo_path\":\"/q6tl6Ib6X5FT80RMlcDbexIo4St.jpg\",\"provider_id\":2,\"provider_name\":\"Apple iTunes\"},{\"display_priority\":3,\"logo_path\":\"/dSBzj4T9P7PMUr015gnV7meT2LR.jpg\",\"provider_id\":150,\"provider_name\":\"SwissCom\"},{\"display_priority\":3,\"logo_path\":\"/p3Z12gKq2qvJaUOMeKNU2mzKVI9.jpg\",\"provider_id\":3,\"provider_name\":\"Google Play Movies\"},{\"display_priority\":8,\"logo_path\":\"/567LmXMmafb8e2jGOmpHDZNl2r8.jpg\",\"provider_id\":164,\"provider_name\":\"Hollystar\"},{\"display_priority\":18,\"logo_path\":\"/wuViyDkbFp4r7VqI0efPW5hFfQj.jpg\",\"provider_id\":35,\"provider_name\":\"Rakuten TV\"},{\"display_priority\":35,\"logo_path\":\"/paq2o2dIfQnxcERsVoq7Ys8KYz8.jpg\",\"provider_id\":68,\"provider_name\":\"Microsoft Store\"}]},\"CL\":{\"link\":\"https://www.themoviedb.org/movie/19995-avatar/watch?locale=CL\",\"buy\":[{\"display_priority\":3,\"logo_path\":\"/p3Z12gKq2qvJaUOMeKNU2mzKVI9.jpg\",\"provider_id\":3,\"provider_name\":\"Google Play Movies\"}],\"flatrate\":[{\"display_priority\":1,\"logo_path\":\"/dgPueyEdOwpQ10fjuhL2WYFQwQs.jpg\",\"provider_id\":337,\"provider_name\":\"Disney Plus\"}],\"rent\":[{\"display_priority\":3,\"logo_path\":\"/p3Z12gKq2qvJaUOMeKNU2mzKVI9.jpg\",\"provider_id\":3,\"provider_name\":\"Google Play Movies\"}]},\"CO\":{\"link\":\"https://www.themoviedb.org/movie/19995-avatar/watch?locale=CO\",\"buy\":[{\"display_priority\":3,\"logo_path\":\"/p3Z12gKq2qvJaUOMeKNU2mzKVI9.jpg\",\"provider_id\":3,\"provider_name\":\"Google Play Movies\"}],\"rent\":[{\"display_priority\":3,\"logo_path\":\"/p3Z12gKq2qvJaUOMeKNU2mzKVI9.jpg\",\"provider_id\":3,\"provider_name\":\"Google Play Movies\"}],\"flatrate\":[{\"display_priority\":1,\"logo_path\":\"/dgPueyEdOwpQ10fjuhL2WYFQwQs.jpg\",\"provider_id\":337,\"provider_name\":\"Disney Plus\"}]},\"CZ\":{\"link\":\"https://www.themoviedb.org/movie/19995-avatar/watch?locale=CZ\",\"buy\":[{\"display_priority\":2,\"logo_path\":\"/q6tl6Ib6X5FT80RMlcDbexIo4St.jpg\",\"provider_id\":2,\"provider_name\":\"Apple iTunes\"},{\"display_priority\":3,\"logo_path\":\"/p3Z12gKq2qvJaUOMeKNU2mzKVI9.jpg\",\"provider_id\":3,\"provider_name\":\"Google Play Movies\"}],\"rent\":[{\"display_priority\":2,\"logo_path\":\"/q6tl6Ib6X5FT80RMlcDbexIo4St.jpg\",\"provider_id\":2,\"provider_name\":\"Apple iTunes\"},{\"display_priority\":3,\"logo_path\":\"/p3Z12gKq2qvJaUOMeKNU2mzKVI9.jpg\",\"provider_id\":3,\"provider_name\":\"Google Play Movies\"}]},\"DE\":{\"link\":\"https://www.themoviedb.org/movie/19995-avatar/watch?locale=DE\",\"flatrate\":[{\"display_priority\":1,\"logo_path\":\"/dgPueyEdOwpQ10fjuhL2WYFQwQs.jpg\",\"provider_id\":337,\"provider_name\":\"Disney Plus\"}],\"rent\":[{\"display_priority\":2,\"logo_path\":\"/q6tl6Ib6X5FT80RMlcDbexIo4St.jpg\",\"provider_id\":2,\"provider_name\":\"Apple iTunes\"},{\"display_priority\":3,\"logo_path\":\"/p3Z12gKq2qvJaUOMeKNU2mzKVI9.jpg\",\"provider_id\":3,\"provider_name\":\"Google Play Movies\"},{\"display_priority\":8,\"logo_path\":\"/pZgeSWpfvD59x6sY6stT5c6uc2h.jpg\",\"provider_id\":130,\"provider_name\":\"Sky Store\"},{\"display_priority\":10,\"logo_path\":\"/sVBEF7q7LqjHAWSnKwDbzmr2EMY.jpg\",\"provider_id\":10,\"provider_name\":\"Amazon Video\"},{\"display_priority\":11,\"logo_path\":\"/vjKeS7Y9fNyqNtvp2ROCc71iu1u.jpg\",\"provider_id\":40,\"provider_name\":\"Chili\"},{\"display_priority\":12,\"logo_path\":\"/vDCcryHD32b0yMeSCgBhuYavsmx.jpg\",\"provider_id\":192,\"provider_name\":\"YouTube\"},{\"display_priority\":18,\"logo_path\":\"/wuViyDkbFp4r7VqI0efPW5hFfQj.jpg\",\"provider_id\":35,\"provider_name\":\"Rakuten TV\"},{\"display_priority\":27,\"logo_path\":\"/6QfNLK9toSu2bvsWN7A0sEsTz3j.jpg\",\"provider_id\":178,\"provider_name\":\"EntertainTV\"},{\"display_priority\":35,\"logo_path\":\"/paq2o2dIfQnxcERsVoq7Ys8KYz8.jpg\",\"provider_id\":68,\"provider_name\":\"Microsoft Store\"}],\"buy\":[{\"display_priority\":2,\"logo_path\":\"/q6tl6Ib6X5FT80RMlcDbexIo4St.jpg\",\"provider_id\":2,\"provider_name\":\"Apple iTunes\"},{\"display_priority\":3,\"logo_path\":\"/p3Z12gKq2qvJaUOMeKNU2mzKVI9.jpg\",\"provider_id\":3,\"provider_name\":\"Google Play Movies\"},{\"display_priority\":8,\"logo_path\":\"/pZgeSWpfvD59x6sY6stT5c6uc2h.jpg\",\"provider_id\":130,\"provider_name\":\"Sky Store\"},{\"display_priority\":10,\"logo_path\":\"/sVBEF7q7LqjHAWSnKwDbzmr2EMY.jpg\",\"provider_id\":10,\"provider_name\":\"Amazon Video\"},{\"display_priority\":11,\"logo_path\":\"/vjKeS7Y9fNyqNtvp2ROCc71iu1u.jpg\",\"provider_id\":40,\"provider_name\":\"Chili\"},{\"display_priority\":12,\"logo_path\":\"/vDCcryHD32b0yMeSCgBhuYavsmx.jpg\",\"provider_id\":192,\"provider_name\":\"YouTube\"},{\"display_priority\":18,\"logo_path\":\"/wuViyDkbFp4r7VqI0efPW5hFfQj.jpg\",\"provider_id\":35,\"provider_name\":\"Rakuten TV\"},{\"display_priority\":27,\"logo_path\":\"/6QfNLK9toSu2bvsWN7A0sEsTz3j.jpg\",\"provider_id\":178,\"provider_name\":\"EntertainTV\"},{\"display_priority\":35,\"logo_path\":\"/paq2o2dIfQnxcERsVoq7Ys8KYz8.jpg\",\"provider_id\":68,\"provider_name\":\"Microsoft Store\"}]},\"DK\":{\"link\":\"https://www.themoviedb.org/movie/19995-avatar/watch?locale=DK\",\"buy\":[{\"display_priority\":2,\"logo_path\":\"/q6tl6Ib6X5FT80RMlcDbexIo4St.jpg\",\"provider_id\":2,\"provider_name\":\"Apple iTunes\"},{\"display_priority\":3,\"logo_path\":\"/p3Z12gKq2qvJaUOMeKNU2mzKVI9.jpg\",\"provider_id\":3,\"provider_name\":\"Google Play Movies\"},{\"display_priority\":18,\"logo_path\":\"/wuViyDkbFp4r7VqI0efPW5hFfQj.jpg\",\"provider_id\":35,\"provider_name\":\"Rakuten TV\"},{\"display_priority\":19,\"logo_path\":\"/oEntjkQyz84qo1C4FZK9jW1qznl.jpg\",\"provider_id\":423,\"provider_name\":\"Blockbuster\"},{\"display_priority\":35,\"logo_path\":\"/paq2o2dIfQnxcERsVoq7Ys8KYz8.jpg\",\"provider_id\":68,\"provider_name\":\"Microsoft Store\"}],\"flatrate\":[{\"display_priority\":1,\"logo_path\":\"/dgPueyEdOwpQ10fjuhL2WYFQwQs.jpg\",\"provider_id\":337,\"provider_name\":\"Disney Plus\"}],\"rent\":[{\"display_priority\":2,\"logo_path\":\"/q6tl6Ib6X5FT80RMlcDbexIo4St.jpg\",\"provider_id\":2,\"provider_name\":\"Apple iTunes\"},{\"display_priority\":3,\"logo_path\":\"/p3Z12gKq2qvJaUOMeKNU2mzKVI9.jpg\",\"provider_id\":3,\"provider_name\":\"Google Play Movies\"},{\"display_priority\":5,\"logo_path\":\"/okuStqHQL2ImgtNxNM40La91u3A.jpg\",\"provider_id\":76,\"provider_name\":\"Viaplay\"},{\"display_priority\":18,\"logo_path\":\"/wuViyDkbFp4r7VqI0efPW5hFfQj.jpg\",\"provider_id\":35,\"provider_name\":\"Rakuten TV\"},{\"display_priority\":19,\"logo_path\":\"/oEntjkQyz84qo1C4FZK9jW1qznl.jpg\",\"provider_id\":423,\"provider_name\":\"Blockbuster\"},{\"display_priority\":35,\"logo_path\":\"/paq2o2dIfQnxcERsVoq7Ys8KYz8.jpg\",\"provider_id\":68,\"provider_name\":\"Microsoft Store\"}]},\"EC\":{\"link\":\"https://www.themoviedb.org/movie/19995-avatar/watch?locale=EC\",\"buy\":[{\"display_priority\":3,\"logo_path\":\"/p3Z12gKq2qvJaUOMeKNU2mzKVI9.jpg\",\"provider_id\":3,\"provider_name\":\"Google Play Movies\"}],\"flatrate\":[{\"display_priority\":1,\"logo_path\":\"/dgPueyEdOwpQ10fjuhL2WYFQwQs.jpg\",\"provider_id\":337,\"provider_name\":\"Disney Plus\"}],\"rent\":[{\"display_priority\":3,\"logo_path\":\"/p3Z12gKq2qvJaUOMeKNU2mzKVI9.jpg\",\"provider_id\":3,\"provider_name\":\"Google Play Movies\"}]},\"EE\":{\"link\":\"https://www.themoviedb.org/movie/19995-avatar/watch?locale=EE\",\"rent\":[{\"display_priority\":2,\"logo_path\":\"/q6tl6Ib6X5FT80RMlcDbexIo4St.jpg\",\"provider_id\":2,\"provider_name\":\"Apple iTunes\"},{\"display_priority\":3,\"logo_path\":\"/p3Z12gKq2qvJaUOMeKNU2mzKVI9.jpg\",\"provider_id\":3,\"provider_name\":\"Google Play Movies\"},{\"display_priority\":9,\"logo_path\":\"/gX0ivBWeCv3JcbOko3UoVYDITjL.jpg\",\"provider_id\":373,\"provider_name\":\"Go3\"}],\"buy\":[{\"display_priority\":2,\"logo_path\":\"/q6tl6Ib6X5FT80RMlcDbexIo4St.jpg\",\"provider_id\":2,\"provider_name\":\"Apple iTunes\"},{\"display_priority\":3,\"logo_path\":\"/p3Z12gKq2qvJaUOMeKNU2mzKVI9.jpg\",\"provider_id\":3,\"provider_name\":\"Google Play Movies\"}]},\"ES\":{\"link\":\"https://www.themoviedb.org/movie/19995-avatar/watch?locale=ES\",\"flatrate\":[{\"display_priority\":1,\"logo_path\":\"/dgPueyEdOwpQ10fjuhL2WYFQwQs.jpg\",\"provider_id\":337,\"provider_name\":\"Disney Plus\"}],\"rent\":[{\"display_priority\":3,\"logo_path\":\"/p3Z12gKq2qvJaUOMeKNU2mzKVI9.jpg\",\"provider_id\":3,\"provider_name\":\"Google Play Movies\"},{\"display_priority\":18,\"logo_path\":\"/wuViyDkbFp4r7VqI0efPW5hFfQj.jpg\",\"provider_id\":35,\"provider_name\":\"Rakuten TV\"},{\"display_priority\":35,\"logo_path\":\"/paq2o2dIfQnxcERsVoq7Ys8KYz8.jpg\",\"provider_id\":68,\"provider_name\":\"Microsoft Store\"}],\"buy\":[{\"display_priority\":2,\"logo_path\":\"/q6tl6Ib6X5FT80RMlcDbexIo4St.jpg\",\"provider_id\":2,\"provider_name\":\"Apple iTunes\"},{\"display_priority\":3,\"logo_path\":\"/p3Z12gKq2qvJaUOMeKNU2mzKVI9.jpg\",\"provider_id\":3,\"provider_name\":\"Google Play Movies\"},{\"display_priority\":18,\"logo_path\":\"/wuViyDkbFp4r7VqI0efPW5hFfQj.jpg\",\"provider_id\":35,\"provider_name\":\"Rakuten TV\"},{\"display_priority\":35,\"logo_path\":\"/paq2o2dIfQnxcERsVoq7Ys8KYz8.jpg\",\"provider_id\":68,\"provider_name\":\"Microsoft Store\"}]},\"FI\":{\"link\":\"https://www.themoviedb.org/movie/19995-avatar/watch?locale=FI\",\"rent\":[{\"display_priority\":2,\"logo_path\":\"/q6tl6Ib6X5FT80RMlcDbexIo4St.jpg\",\"provider_id\":2,\"provider_name\":\"Apple iTunes\"},{\"display_priority\":3,\"logo_path\":\"/p3Z12gKq2qvJaUOMeKNU2mzKVI9.jpg\",\"provider_id\":3,\"provider_name\":\"Google Play Movies\"},{\"display_priority\":5,\"logo_path\":\"/okuStqHQL2ImgtNxNM40La91u3A.jpg\",\"provider_id\":76,\"provider_name\":\"Viaplay\"},{\"display_priority\":18,\"logo_path\":\"/wuViyDkbFp4r7VqI0efPW5hFfQj.jpg\",\"provider_id\":35,\"provider_name\":\"Rakuten TV\"},{\"display_priority\":19,\"logo_path\":\"/oEntjkQyz84qo1C4FZK9jW1qznl.jpg\",\"provider_id\":423,\"provider_name\":\"Blockbuster\"},{\"display_priority\":35,\"logo_path\":\"/paq2o2dIfQnxcERsVoq7Ys8KYz8.jpg\",\"provider_id\":68,\"provider_name\":\"Microsoft Store\"}],\"buy\":[{\"display_priority\":2,\"logo_path\":\"/q6tl6Ib6X5FT80RMlcDbexIo4St.jpg\",\"provider_id\":2,\"provider_name\":\"Apple iTunes\"},{\"display_priority\":3,\"logo_path\":\"/p3Z12gKq2qvJaUOMeKNU2mzKVI9.jpg\",\"provider_id\":3,\"provider_name\":\"Google Play Movies\"},{\"display_priority\":18,\"logo_path\":\"/wuViyDkbFp4r7VqI0efPW5hFfQj.jpg\",\"provider_id\":35,\"provider_name\":\"Rakuten TV\"},{\"display_priority\":19,\"logo_path\":\"/oEntjkQyz84qo1C4FZK9jW1qznl.jpg\",\"provider_id\":423,\"provider_name\":\"Blockbuster\"},{\"display_priority\":35,\"logo_path\":\"/paq2o2dIfQnxcERsVoq7Ys8KYz8.jpg\",\"provider_id\":68,\"provider_name\":\"Microsoft Store\"}],\"flatrate\":[{\"display_priority\":1,\"logo_path\":\"/dgPueyEdOwpQ10fjuhL2WYFQwQs.jpg\",\"provider_id\":337,\"provider_name\":\"Disney Plus\"}]},\"FR\":{\"link\":\"https://www.themoviedb.org/movie/19995-avatar/watch?locale=FR\",\"buy\":[{\"display_priority\":2,\"logo_path\":\"/q6tl6Ib6X5FT80RMlcDbexIo4St.jpg\",\"provider_id\":2,\"provider_name\":\"Apple iTunes\"},{\"display_priority\":3,\"logo_path\":\"/p3Z12gKq2qvJaUOMeKNU2mzKVI9.jpg\",\"provider_id\":3,\"provider_name\":\"Google Play Movies\"},{\"display_priority\":11,\"logo_path\":\"/bqgpWEtokIEOF5nsliXca2BQMEn.jpg\",\"provider_id\":61,\"provider_name\":\"Orange VOD\"},{\"display_priority\":12,\"logo_path\":\"/vDCcryHD32b0yMeSCgBhuYavsmx.jpg\",\"provider_id\":192,\"provider_name\":\"YouTube\"},{\"display_priority\":18,\"logo_path\":\"/74cM9bbEjdUt7tRtCMv7rnRDKkm.jpg\",\"provider_id\":58,\"provider_name\":\"Canal VOD\"},{\"display_priority\":18,\"logo_path\":\"/wuViyDkbFp4r7VqI0efPW5hFfQj.jpg\",\"provider_id\":35,\"provider_name\":\"Rakuten TV\"},{\"display_priority\":35,\"logo_path\":\"/paq2o2dIfQnxcERsVoq7Ys8KYz8.jpg\",\"provider_id\":68,\"provider_name\":\"Microsoft Store\"}],\"flatrate\":[{\"display_priority\":1,\"logo_path\":\"/dgPueyEdOwpQ10fjuhL2WYFQwQs.jpg\",\"provider_id\":337,\"provider_name\":\"Disney Plus\"}],\"rent\":[{\"display_priority\":2,\"logo_path\":\"/q6tl6Ib6X5FT80RMlcDbexIo4St.jpg\",\"provider_id\":2,\"provider_name\":\"Apple iTunes\"},{\"display_priority\":3,\"logo_path\":\"/p3Z12gKq2qvJaUOMeKNU2mzKVI9.jpg\",\"provider_id\":3,\"provider_name\":\"Google Play Movies\"},{\"display_priority\":11,\"logo_path\":\"/bqgpWEtokIEOF5nsliXca2BQMEn.jpg\",\"provider_id\":61,\"provider_name\":\"Orange VOD\"},{\"display_priority\":12,\"logo_path\":\"/vDCcryHD32b0yMeSCgBhuYavsmx.jpg\",\"provider_id\":192,\"provider_name\":\"YouTube\"},{\"display_priority\":18,\"logo_path\":\"/wuViyDkbFp4r7VqI0efPW5hFfQj.jpg\",\"provider_id\":35,\"provider_name\":\"Rakuten TV\"},{\"display_priority\":18,\"logo_path\":\"/74cM9bbEjdUt7tRtCMv7rnRDKkm.jpg\",\"provider_id\":58,\"provider_name\":\"Canal VOD\"},{\"display_priority\":19,\"logo_path\":\"/8TMHKzfYC8vhJpU4Vfa5Knmeg1v.jpg\",\"provider_id\":59,\"provider_name\":\"Bbox VOD\"},{\"display_priority\":35,\"logo_path\":\"/paq2o2dIfQnxcERsVoq7Ys8KYz8.jpg\",\"provider_id\":68,\"provider_name\":\"Microsoft Store\"}]},\"GB\":{\"link\":\"https://www.themoviedb.org/movie/19995-avatar/watch?locale=GB\",\"buy\":[{\"display_priority\":2,\"logo_path\":\"/q6tl6Ib6X5FT80RMlcDbexIo4St.jpg\",\"provider_id\":2,\"provider_name\":\"Apple iTunes\"},{\"display_priority\":3,\"logo_path\":\"/p3Z12gKq2qvJaUOMeKNU2mzKVI9.jpg\",\"provider_id\":3,\"provider_name\":\"Google Play Movies\"},{\"display_priority\":8,\"logo_path\":\"/pZgeSWpfvD59x6sY6stT5c6uc2h.jpg\",\"provider_id\":130,\"provider_name\":\"Sky Store\"},{\"display_priority\":10,\"logo_path\":\"/sVBEF7q7LqjHAWSnKwDbzmr2EMY.jpg\",\"provider_id\":10,\"provider_name\":\"Amazon Video\"},{\"display_priority\":11,\"logo_path\":\"/vjKeS7Y9fNyqNtvp2ROCc71iu1u.jpg\",\"provider_id\":40,\"provider_name\":\"Chili\"},{\"display_priority\":12,\"logo_path\":\"/vDCcryHD32b0yMeSCgBhuYavsmx.jpg\",\"provider_id\":192,\"provider_name\":\"YouTube\"},{\"display_priority\":18,\"logo_path\":\"/wuViyDkbFp4r7VqI0efPW5hFfQj.jpg\",\"provider_id\":35,\"provider_name\":\"Rakuten TV\"},{\"display_priority\":35,\"logo_path\":\"/paq2o2dIfQnxcERsVoq7Ys8KYz8.jpg\",\"provider_id\":68,\"provider_name\":\"Microsoft Store\"}],\"rent\":[{\"display_priority\":2,\"logo_path\":\"/q6tl6Ib6X5FT80RMlcDbexIo4St.jpg\",\"provider_id\":2,\"provider_name\":\"Apple iTunes\"},{\"display_priority\":3,\"logo_path\":\"/p3Z12gKq2qvJaUOMeKNU2mzKVI9.jpg\",\"provider_id\":3,\"provider_name\":\"Google Play Movies\"},{\"display_priority\":8,\"logo_path\":\"/pZgeSWpfvD59x6sY6stT5c6uc2h.jpg\",\"provider_id\":130,\"provider_name\":\"Sky Store\"},{\"display_priority\":10,\"logo_path\":\"/sVBEF7q7LqjHAWSnKwDbzmr2EMY.jpg\",\"provider_id\":10,\"provider_name\":\"Amazon Video\"},{\"display_priority\":11,\"logo_path\":\"/vjKeS7Y9fNyqNtvp2ROCc71iu1u.jpg\",\"provider_id\":40,\"provider_name\":\"Chili\"},{\"display_priority\":12,\"logo_path\":\"/vDCcryHD32b0yMeSCgBhuYavsmx.jpg\",\"provider_id\":192,\"provider_name\":\"YouTube\"},{\"display_priority\":18,\"logo_path\":\"/wuViyDkbFp4r7VqI0efPW5hFfQj.jpg\",\"provider_id\":35,\"provider_name\":\"Rakuten TV\"},{\"display_priority\":35,\"logo_path\":\"/paq2o2dIfQnxcERsVoq7Ys8KYz8.jpg\",\"provider_id\":68,\"provider_name\":\"Microsoft Store\"}],\"flatrate\":[{\"display_priority\":1,\"logo_path\":\"/dgPueyEdOwpQ10fjuhL2WYFQwQs.jpg\",\"provider_id\":337,\"provider_name\":\"Disney Plus\"}]},\"GR\":{\"link\":\"https://www.themoviedb.org/movie/19995-avatar/watch?locale=GR\",\"buy\":[{\"display_priority\":2,\"logo_path\":\"/q6tl6Ib6X5FT80RMlcDbexIo4St.jpg\",\"provider_id\":2,\"provider_name\":\"Apple iTunes\"},{\"display_priority\":3,\"logo_path\":\"/p3Z12gKq2qvJaUOMeKNU2mzKVI9.jpg\",\"provider_id\":3,\"provider_name\":\"Google Play Movies\"}],\"rent\":[{\"display_priority\":2,\"logo_path\":\"/q6tl6Ib6X5FT80RMlcDbexIo4St.jpg\",\"provider_id\":2,\"provider_name\":\"Apple iTunes\"},{\"display_priority\":3,\"logo_path\":\"/p3Z12gKq2qvJaUOMeKNU2mzKVI9.jpg\",\"provider_id\":3,\"provider_name\":\"Google Play Movies\"}]},\"HU\":{\"link\":\"https://www.themoviedb.org/movie/19995-avatar/watch?locale=HU\",\"rent\":[{\"display_priority\":2,\"logo_path\":\"/q6tl6Ib6X5FT80RMlcDbexIo4St.jpg\",\"provider_id\":2,\"provider_name\":\"Apple iTunes\"},{\"display_priority\":3,\"logo_path\":\"/p3Z12gKq2qvJaUOMeKNU2mzKVI9.jpg\",\"provider_id\":3,\"provider_name\":\"Google Play Movies\"},{\"display_priority\":12,\"logo_path\":\"/vDCcryHD32b0yMeSCgBhuYavsmx.jpg\",\"provider_id\":192,\"provider_name\":\"YouTube\"}],\"buy\":[{\"display_priority\":2,\"logo_path\":\"/q6tl6Ib6X5FT80RMlcDbexIo4St.jpg\",\"provider_id\":2,\"provider_name\":\"Apple iTunes\"},{\"display_priority\":3,\"logo_path\":\"/p3Z12gKq2qvJaUOMeKNU2mzKVI9.jpg\",\"provider_id\":3,\"provider_name\":\"Google Play Movies\"},{\"display_priority\":12,\"logo_path\":\"/vDCcryHD32b0yMeSCgBhuYavsmx.jpg\",\"provider_id\":192,\"provider_name\":\"YouTube\"}]},\"ID\":{\"link\":\"https://www.themoviedb.org/movie/19995-avatar/watch?locale=ID\",\"rent\":[{\"display_priority\":2,\"logo_path\":\"/q6tl6Ib6X5FT80RMlcDbexIo4St.jpg\",\"provider_id\":2,\"provider_name\":\"Apple iTunes\"},{\"display_priority\":3,\"logo_path\":\"/p3Z12gKq2qvJaUOMeKNU2mzKVI9.jpg\",\"provider_id\":3,\"provider_name\":\"Google Play Movies\"}],\"buy\":[{\"display_priority\":2,\"logo_path\":\"/q6tl6Ib6X5FT80RMlcDbexIo4St.jpg\",\"provider_id\":2,\"provider_name\":\"Apple iTunes\"},{\"display_priority\":3,\"logo_path\":\"/p3Z12gKq2qvJaUOMeKNU2mzKVI9.jpg\",\"provider_id\":3,\"provider_name\":\"Google Play Movies\"}],\"flatrate\":[{\"display_priority\":47,\"logo_path\":\"/eApzJtzOngfBlEC3lCjuAtzsOTf.jpg\",\"provider_id\":122,\"provider_name\":\"Hotstar\"}]},\"IE\":{\"link\":\"https://www.themoviedb.org/movie/19995-avatar/watch?locale=IE\",\"rent\":[{\"display_priority\":2,\"logo_path\":\"/q6tl6Ib6X5FT80RMlcDbexIo4St.jpg\",\"provider_id\":2,\"provider_name\":\"Apple iTunes\"},{\"display_priority\":3,\"logo_path\":\"/p3Z12gKq2qvJaUOMeKNU2mzKVI9.jpg\",\"provider_id\":3,\"provider_name\":\"Google Play Movies\"},{\"display_priority\":8,\"logo_path\":\"/pZgeSWpfvD59x6sY6stT5c6uc2h.jpg\",\"provider_id\":130,\"provider_name\":\"Sky Store\"},{\"display_priority\":18,\"logo_path\":\"/wuViyDkbFp4r7VqI0efPW5hFfQj.jpg\",\"provider_id\":35,\"provider_name\":\"Rakuten TV\"},{\"display_priority\":35,\"logo_path\":\"/paq2o2dIfQnxcERsVoq7Ys8KYz8.jpg\",\"provider_id\":68,\"provider_name\":\"Microsoft Store\"}],\"buy\":[{\"display_priority\":2,\"logo_path\":\"/q6tl6Ib6X5FT80RMlcDbexIo4St.jpg\",\"provider_id\":2,\"provider_name\":\"Apple iTunes\"},{\"display_priority\":3,\"logo_path\":\"/p3Z12gKq2qvJaUOMeKNU2mzKVI9.jpg\",\"provider_id\":3,\"provider_name\":\"Google Play Movies\"},{\"display_priority\":8,\"logo_path\":\"/pZgeSWpfvD59x6sY6stT5c6uc2h.jpg\",\"provider_id\":130,\"provider_name\":\"Sky Store\"},{\"display_priority\":18,\"logo_path\":\"/wuViyDkbFp4r7VqI0efPW5hFfQj.jpg\",\"provider_id\":35,\"provider_name\":\"Rakuten TV\"},{\"display_priority\":35,\"logo_path\":\"/paq2o2dIfQnxcERsVoq7Ys8KYz8.jpg\",\"provider_id\":68,\"provider_name\":\"Microsoft Store\"}],\"flatrate\":[{\"display_priority\":1,\"logo_path\":\"/dgPueyEdOwpQ10fjuhL2WYFQwQs.jpg\",\"provider_id\":337,\"provider_name\":\"Disney Plus\"}]},\"IN\":{\"link\":\"https://www.themoviedb.org/movie/19995-avatar/watch?locale=IN\",\"buy\":[{\"display_priority\":2,\"logo_path\":\"/q6tl6Ib6X5FT80RMlcDbexIo4St.jpg\",\"provider_id\":2,\"provider_name\":\"Apple iTunes\"},{\"display_priority\":3,\"logo_path\":\"/p3Z12gKq2qvJaUOMeKNU2mzKVI9.jpg\",\"provider_id\":3,\"provider_name\":\"Google Play Movies\"},{\"display_priority\":12,\"logo_path\":\"/vDCcryHD32b0yMeSCgBhuYavsmx.jpg\",\"provider_id\":192,\"provider_name\":\"YouTube\"}],\"rent\":[{\"display_priority\":2,\"logo_path\":\"/q6tl6Ib6X5FT80RMlcDbexIo4St.jpg\",\"provider_id\":2,\"provider_name\":\"Apple iTunes\"},{\"display_priority\":3,\"logo_path\":\"/p3Z12gKq2qvJaUOMeKNU2mzKVI9.jpg\",\"provider_id\":3,\"provider_name\":\"Google Play Movies\"},{\"display_priority\":12,\"logo_path\":\"/vDCcryHD32b0yMeSCgBhuYavsmx.jpg\",\"provider_id\":192,\"provider_name\":\"YouTube\"}],\"flatrate\":[{\"display_priority\":47,\"logo_path\":\"/eApzJtzOngfBlEC3lCjuAtzsOTf.jpg\",\"provider_id\":122,\"provider_name\":\"Hotstar\"}]},\"IT\":{\"link\":\"https://www.themoviedb.org/movie/19995-avatar/watch?locale=IT\",\"buy\":[{\"display_priority\":3,\"logo_path\":\"/p3Z12gKq2qvJaUOMeKNU2mzKVI9.jpg\",\"provider_id\":3,\"provider_name\":\"Google Play Movies\"},{\"display_priority\":11,\"logo_path\":\"/vjKeS7Y9fNyqNtvp2ROCc71iu1u.jpg\",\"provider_id\":40,\"provider_name\":\"Chili\"},{\"display_priority\":12,\"logo_path\":\"/mn4yGYhpzVMKr9WFvcxmZK9RK86.jpg\",\"provider_id\":109,\"provider_name\":\"Timvision\"},{\"display_priority\":18,\"logo_path\":\"/wuViyDkbFp4r7VqI0efPW5hFfQj.jpg\",\"provider_id\":35,\"provider_name\":\"Rakuten TV\"},{\"display_priority\":35,\"logo_path\":\"/paq2o2dIfQnxcERsVoq7Ys8KYz8.jpg\",\"provider_id\":68,\"provider_name\":\"Microsoft Store\"}],\"flatrate\":[{\"display_priority\":1,\"logo_path\":\"/dgPueyEdOwpQ10fjuhL2WYFQwQs.jpg\",\"provider_id\":337,\"provider_name\":\"Disney Plus\"}],\"rent\":[{\"display_priority\":3,\"logo_path\":\"/p3Z12gKq2qvJaUOMeKNU2mzKVI9.jpg\",\"provider_id\":3,\"provider_name\":\"Google Play Movies\"},{\"display_priority\":11,\"logo_path\":\"/vjKeS7Y9fNyqNtvp2ROCc71iu1u.jpg\",\"provider_id\":40,\"provider_name\":\"Chili\"},{\"display_priority\":12,\"logo_path\":\"/mn4yGYhpzVMKr9WFvcxmZK9RK86.jpg\",\"provider_id\":109,\"provider_name\":\"Timvision\"},{\"display_priority\":18,\"logo_path\":\"/wuViyDkbFp4r7VqI0efPW5hFfQj.jpg\",\"provider_id\":35,\"provider_name\":\"Rakuten TV\"},{\"display_priority\":35,\"logo_path\":\"/paq2o2dIfQnxcERsVoq7Ys8KYz8.jpg\",\"provider_id\":68,\"provider_name\":\"Microsoft Store\"}]},\"JP\":{\"link\":\"https://www.themoviedb.org/movie/19995-avatar/watch?locale=JP\",\"flatrate\":[{\"display_priority\":3,\"logo_path\":\"/92xPNIrrXdgtfPu4Dd4tFryc9LW.jpg\",\"provider_id\":84,\"provider_name\":\"U-NEXT\"},{\"display_priority\":13,\"logo_path\":\"/dgPueyEdOwpQ10fjuhL2WYFQwQs.jpg\",\"provider_id\":390,\"provider_name\":\"Disney Plus\"}],\"free\":[{\"display_priority\":4,\"logo_path\":\"/4wxEbtWkEZLgndheDcg1ymvRG60.jpg\",\"provider_id\":86,\"provider_name\":\"GYAO\"}],\"buy\":[{\"display_priority\":2,\"logo_path\":\"/q6tl6Ib6X5FT80RMlcDbexIo4St.jpg\",\"provider_id\":2,\"provider_name\":\"Apple iTunes\"},{\"display_priority\":10,\"logo_path\":\"/sVBEF7q7LqjHAWSnKwDbzmr2EMY.jpg\",\"provider_id\":10,\"provider_name\":\"Amazon Video\"},{\"display_priority\":35,\"logo_path\":\"/paq2o2dIfQnxcERsVoq7Ys8KYz8.jpg\",\"provider_id\":68,\"provider_name\":\"Microsoft Store\"}],\"rent\":[{\"display_priority\":2,\"logo_path\":\"/q6tl6Ib6X5FT80RMlcDbexIo4St.jpg\",\"provider_id\":2,\"provider_name\":\"Apple iTunes\"},{\"display_priority\":2,\"logo_path\":\"/1MXP8yzNAuVHQAT0sqBIFI9Fc2M.jpg\",\"provider_id\":85,\"provider_name\":\"dTV\"},{\"display_priority\":10,\"logo_path\":\"/sVBEF7q7LqjHAWSnKwDbzmr2EMY.jpg\",\"provider_id\":10,\"provider_name\":\"Amazon Video\"},{\"display_priority\":35,\"logo_path\":\"/paq2o2dIfQnxcERsVoq7Ys8KYz8.jpg\",\"provider_id\":68,\"provider_name\":\"Microsoft Store\"}]},\"KR\":{\"link\":\"https://www.themoviedb.org/movie/19995-avatar/watch?locale=KR\",\"rent\":[{\"display_priority\":2,\"logo_path\":\"/8N0DNa4BO3lH24KWv1EjJh4TxoD.jpg\",\"provider_id\":356,\"provider_name\":\"wavve\"},{\"display_priority\":3,\"logo_path\":\"/p3Z12gKq2qvJaUOMeKNU2mzKVI9.jpg\",\"provider_id\":3,\"provider_name\":\"Google Play Movies\"},{\"display_priority\":4,\"logo_path\":\"/gvykO994iHcqL1Cgpii4RJCtDud.jpg\",\"provider_id\":96,\"provider_name\":\"Naver Store\"}],\"buy\":[{\"display_priority\":2,\"logo_path\":\"/8N0DNa4BO3lH24KWv1EjJh4TxoD.jpg\",\"provider_id\":356,\"provider_name\":\"wavve\"},{\"display_priority\":3,\"logo_path\":\"/p3Z12gKq2qvJaUOMeKNU2mzKVI9.jpg\",\"provider_id\":3,\"provider_name\":\"Google Play Movies\"},{\"display_priority\":4,\"logo_path\":\"/gvykO994iHcqL1Cgpii4RJCtDud.jpg\",\"provider_id\":96,\"provider_name\":\"Naver Store\"}]},\"LT\":{\"link\":\"https://www.themoviedb.org/movie/19995-avatar/watch?locale=LT\",\"buy\":[{\"display_priority\":2,\"logo_path\":\"/q6tl6Ib6X5FT80RMlcDbexIo4St.jpg\",\"provider_id\":2,\"provider_name\":\"Apple iTunes\"},{\"display_priority\":3,\"logo_path\":\"/p3Z12gKq2qvJaUOMeKNU2mzKVI9.jpg\",\"provider_id\":3,\"provider_name\":\"Google Play Movies\"}],\"rent\":[{\"display_priority\":2,\"logo_path\":\"/q6tl6Ib6X5FT80RMlcDbexIo4St.jpg\",\"provider_id\":2,\"provider_name\":\"Apple iTunes\"},{\"display_priority\":3,\"logo_path\":\"/p3Z12gKq2qvJaUOMeKNU2mzKVI9.jpg\",\"provider_id\":3,\"provider_name\":\"Google Play Movies\"},{\"display_priority\":9,\"logo_path\":\"/gX0ivBWeCv3JcbOko3UoVYDITjL.jpg\",\"provider_id\":373,\"provider_name\":\"Go3\"}]},\"LV\":{\"link\":\"https://www.themoviedb.org/movie/19995-avatar/watch?locale=LV\",\"buy\":[{\"display_priority\":2,\"logo_path\":\"/q6tl6Ib6X5FT80RMlcDbexIo4St.jpg\",\"provider_id\":2,\"provider_name\":\"Apple iTunes\"},{\"display_priority\":3,\"logo_path\":\"/p3Z12gKq2qvJaUOMeKNU2mzKVI9.jpg\",\"provider_id\":3,\"provider_name\":\"Google Play Movies\"}],\"rent\":[{\"display_priority\":2,\"logo_path\":\"/q6tl6Ib6X5FT80RMlcDbexIo4St.jpg\",\"provider_id\":2,\"provider_name\":\"Apple iTunes\"},{\"display_priority\":3,\"logo_path\":\"/p3Z12gKq2qvJaUOMeKNU2mzKVI9.jpg\",\"provider_id\":3,\"provider_name\":\"Google Play Movies\"}]},\"MX\":{\"link\":\"https://www.themoviedb.org/movie/19995-avatar/watch?locale=MX\",\"buy\":[{\"display_priority\":10,\"logo_path\":\"/sVBEF7q7LqjHAWSnKwDbzmr2EMY.jpg\",\"provider_id\":10,\"provider_name\":\"Amazon Video\"}],\"flatrate\":[{\"display_priority\":1,\"logo_path\":\"/dgPueyEdOwpQ10fjuhL2WYFQwQs.jpg\",\"provider_id\":337,\"provider_name\":\"Disney Plus\"}],\"rent\":[{\"display_priority\":10,\"logo_path\":\"/sVBEF7q7LqjHAWSnKwDbzmr2EMY.jpg\",\"provider_id\":10,\"provider_name\":\"Amazon Video\"}]},\"MY\":{\"link\":\"https://www.themoviedb.org/movie/19995-avatar/watch?locale=MY\",\"rent\":[{\"display_priority\":2,\"logo_path\":\"/q6tl6Ib6X5FT80RMlcDbexIo4St.jpg\",\"provider_id\":2,\"provider_name\":\"Apple iTunes\"},{\"display_priority\":3,\"logo_path\":\"/p3Z12gKq2qvJaUOMeKNU2mzKVI9.jpg\",\"provider_id\":3,\"provider_name\":\"Google Play Movies\"}],\"buy\":[{\"display_priority\":2,\"logo_path\":\"/q6tl6Ib6X5FT80RMlcDbexIo4St.jpg\",\"provider_id\":2,\"provider_name\":\"Apple iTunes\"},{\"display_priority\":3,\"logo_path\":\"/p3Z12gKq2qvJaUOMeKNU2mzKVI9.jpg\",\"provider_id\":3,\"provider_name\":\"Google Play Movies\"}]},\"NL\":{\"link\":\"https://www.themoviedb.org/movie/19995-avatar/watch?locale=NL\",\"buy\":[{\"display_priority\":2,\"logo_path\":\"/q6tl6Ib6X5FT80RMlcDbexIo4St.jpg\",\"provider_id\":2,\"provider_name\":\"Apple iTunes\"},{\"display_priority\":3,\"logo_path\":\"/p3Z12gKq2qvJaUOMeKNU2mzKVI9.jpg\",\"provider_id\":3,\"provider_name\":\"Google Play Movies\"},{\"display_priority\":6,\"logo_path\":\"/j7qnV5qyzWDB0uOdhe5PzQh71Th.jpg\",\"provider_id\":71,\"provider_name\":\"Pathé Thuis\"},{\"display_priority\":18,\"logo_path\":\"/wuViyDkbFp4r7VqI0efPW5hFfQj.jpg\",\"provider_id\":35,\"provider_name\":\"Rakuten TV\"},{\"display_priority\":35,\"logo_path\":\"/paq2o2dIfQnxcERsVoq7Ys8KYz8.jpg\",\"provider_id\":68,\"provider_name\":\"Microsoft Store\"}],\"flatrate\":[{\"display_priority\":1,\"logo_path\":\"/dgPueyEdOwpQ10fjuhL2WYFQwQs.jpg\",\"provider_id\":337,\"provider_name\":\"Disney Plus\"}],\"rent\":[{\"display_priority\":2,\"logo_path\":\"/q6tl6Ib6X5FT80RMlcDbexIo4St.jpg\",\"provider_id\":2,\"provider_name\":\"Apple iTunes\"},{\"display_priority\":3,\"logo_path\":\"/p3Z12gKq2qvJaUOMeKNU2mzKVI9.jpg\",\"provider_id\":3,\"provider_name\":\"Google Play Movies\"},{\"display_priority\":6,\"logo_path\":\"/j7qnV5qyzWDB0uOdhe5PzQh71Th.jpg\",\"provider_id\":71,\"provider_name\":\"Pathé Thuis\"},{\"display_priority\":18,\"logo_path\":\"/wuViyDkbFp4r7VqI0efPW5hFfQj.jpg\",\"provider_id\":35,\"provider_name\":\"Rakuten TV\"},{\"display_priority\":35,\"logo_path\":\"/paq2o2dIfQnxcERsVoq7Ys8KYz8.jpg\",\"provider_id\":68,\"provider_name\":\"Microsoft Store\"}]},\"NO\":{\"link\":\"https://www.themoviedb.org/movie/19995-avatar/watch?locale=NO\",\"rent\":[{\"display_priority\":2,\"logo_path\":\"/q6tl6Ib6X5FT80RMlcDbexIo4St.jpg\",\"provider_id\":2,\"provider_name\":\"Apple iTunes\"},{\"display_priority\":3,\"logo_path\":\"/p3Z12gKq2qvJaUOMeKNU2mzKVI9.jpg\",\"provider_id\":3,\"provider_name\":\"Google Play Movies\"},{\"display_priority\":5,\"logo_path\":\"/okuStqHQL2ImgtNxNM40La91u3A.jpg\",\"provider_id\":76,\"provider_name\":\"Viaplay\"},{\"display_priority\":19,\"logo_path\":\"/oEntjkQyz84qo1C4FZK9jW1qznl.jpg\",\"provider_id\":423,\"provider_name\":\"Blockbuster\"},{\"display_priority\":35,\"logo_path\":\"/paq2o2dIfQnxcERsVoq7Ys8KYz8.jpg\",\"provider_id\":68,\"provider_name\":\"Microsoft Store\"}],\"flatrate\":[{\"display_priority\":1,\"logo_path\":\"/dgPueyEdOwpQ10fjuhL2WYFQwQs.jpg\",\"provider_id\":337,\"provider_name\":\"Disney Plus\"}],\"buy\":[{\"display_priority\":2,\"logo_path\":\"/q6tl6Ib6X5FT80RMlcDbexIo4St.jpg\",\"provider_id\":2,\"provider_name\":\"Apple iTunes\"},{\"display_priority\":3,\"logo_path\":\"/p3Z12gKq2qvJaUOMeKNU2mzKVI9.jpg\",\"provider_id\":3,\"provider_name\":\"Google Play Movies\"},{\"display_priority\":19,\"logo_path\":\"/oEntjkQyz84qo1C4FZK9jW1qznl.jpg\",\"provider_id\":423,\"provider_name\":\"Blockbuster\"},{\"display_priority\":35,\"logo_path\":\"/paq2o2dIfQnxcERsVoq7Ys8KYz8.jpg\",\"provider_id\":68,\"provider_name\":\"Microsoft Store\"}]},\"NZ\":{\"link\":\"https://www.themoviedb.org/movie/19995-avatar/watch?locale=NZ\",\"rent\":[{\"display_priority\":2,\"logo_path\":\"/wRfIw4x22z9Zag6DZ8qLYwzpjOA.jpg\",\"provider_id\":273,\"provider_name\":\"Neon TV\"},{\"display_priority\":2,\"logo_path\":\"/q6tl6Ib6X5FT80RMlcDbexIo4St.jpg\",\"provider_id\":2,\"provider_name\":\"Apple iTunes\"},{\"display_priority\":3,\"logo_path\":\"/p3Z12gKq2qvJaUOMeKNU2mzKVI9.jpg\",\"provider_id\":3,\"provider_name\":\"Google Play Movies\"},{\"display_priority\":35,\"logo_path\":\"/paq2o2dIfQnxcERsVoq7Ys8KYz8.jpg\",\"provider_id\":68,\"provider_name\":\"Microsoft Store\"}],\"buy\":[{\"display_priority\":2,\"logo_path\":\"/q6tl6Ib6X5FT80RMlcDbexIo4St.jpg\",\"provider_id\":2,\"provider_name\":\"Apple iTunes\"},{\"display_priority\":3,\"logo_path\":\"/p3Z12gKq2qvJaUOMeKNU2mzKVI9.jpg\",\"provider_id\":3,\"provider_name\":\"Google Play Movies\"},{\"display_priority\":35,\"logo_path\":\"/paq2o2dIfQnxcERsVoq7Ys8KYz8.jpg\",\"provider_id\":68,\"provider_name\":\"Microsoft Store\"}],\"flatrate\":[{\"display_priority\":1,\"logo_path\":\"/dgPueyEdOwpQ10fjuhL2WYFQwQs.jpg\",\"provider_id\":337,\"provider_name\":\"Disney Plus\"}]},\"PE\":{\"link\":\"https://www.themoviedb.org/movie/19995-avatar/watch?locale=PE\",\"flatrate\":[{\"display_priority\":1,\"logo_path\":\"/dgPueyEdOwpQ10fjuhL2WYFQwQs.jpg\",\"provider_id\":337,\"provider_name\":\"Disney Plus\"}],\"rent\":[{\"display_priority\":3,\"logo_path\":\"/p3Z12gKq2qvJaUOMeKNU2mzKVI9.jpg\",\"provider_id\":3,\"provider_name\":\"Google Play Movies\"}],\"buy\":[{\"display_priority\":3,\"logo_path\":\"/p3Z12gKq2qvJaUOMeKNU2mzKVI9.jpg\",\"provider_id\":3,\"provider_name\":\"Google Play Movies\"}]},\"PH\":{\"link\":\"https://www.themoviedb.org/movie/19995-avatar/watch?locale=PH\",\"buy\":[{\"display_priority\":2,\"logo_path\":\"/q6tl6Ib6X5FT80RMlcDbexIo4St.jpg\",\"provider_id\":2,\"provider_name\":\"Apple iTunes\"},{\"display_priority\":3,\"logo_path\":\"/p3Z12gKq2qvJaUOMeKNU2mzKVI9.jpg\",\"provider_id\":3,\"provider_name\":\"Google Play Movies\"}],\"rent\":[{\"display_priority\":2,\"logo_path\":\"/q6tl6Ib6X5FT80RMlcDbexIo4St.jpg\",\"provider_id\":2,\"provider_name\":\"Apple iTunes\"},{\"display_priority\":3,\"logo_path\":\"/p3Z12gKq2qvJaUOMeKNU2mzKVI9.jpg\",\"provider_id\":3,\"provider_name\":\"Google Play Movies\"}]},\"PL\":{\"link\":\"https://www.themoviedb.org/movie/19995-avatar/watch?locale=PL\",\"rent\":[{\"display_priority\":2,\"logo_path\":\"/q6tl6Ib6X5FT80RMlcDbexIo4St.jpg\",\"provider_id\":2,\"provider_name\":\"Apple iTunes\"},{\"display_priority\":3,\"logo_path\":\"/p3Z12gKq2qvJaUOMeKNU2mzKVI9.jpg\",\"provider_id\":3,\"provider_name\":\"Google Play Movies\"},{\"display_priority\":6,\"logo_path\":\"/7svGw3REQ92v2EqhZ82bx3iCaQv.jpg\",\"provider_id\":245,\"provider_name\":\"VOD Poland\"},{\"display_priority\":11,\"logo_path\":\"/vjKeS7Y9fNyqNtvp2ROCc71iu1u.jpg\",\"provider_id\":40,\"provider_name\":\"Chili\"},{\"display_priority\":12,\"logo_path\":\"/vDCcryHD32b0yMeSCgBhuYavsmx.jpg\",\"provider_id\":192,\"provider_name\":\"YouTube\"}],\"buy\":[{\"display_priority\":2,\"logo_path\":\"/q6tl6Ib6X5FT80RMlcDbexIo4St.jpg\",\"provider_id\":2,\"provider_name\":\"Apple iTunes\"},{\"display_priority\":3,\"logo_path\":\"/p3Z12gKq2qvJaUOMeKNU2mzKVI9.jpg\",\"provider_id\":3,\"provider_name\":\"Google Play Movies\"},{\"display_priority\":11,\"logo_path\":\"/vjKeS7Y9fNyqNtvp2ROCc71iu1u.jpg\",\"provider_id\":40,\"provider_name\":\"Chili\"},{\"display_priority\":12,\"logo_path\":\"/vDCcryHD32b0yMeSCgBhuYavsmx.jpg\",\"provider_id\":192,\"provider_name\":\"YouTube\"}]},\"PT\":{\"link\":\"https://www.themoviedb.org/movie/19995-avatar/watch?locale=PT\",\"buy\":[{\"display_priority\":2,\"logo_path\":\"/q6tl6Ib6X5FT80RMlcDbexIo4St.jpg\",\"provider_id\":2,\"provider_name\":\"Apple iTunes\"},{\"display_priority\":3,\"logo_path\":\"/p3Z12gKq2qvJaUOMeKNU2mzKVI9.jpg\",\"provider_id\":3,\"provider_name\":\"Google Play Movies\"},{\"display_priority\":12,\"logo_path\":\"/vDCcryHD32b0yMeSCgBhuYavsmx.jpg\",\"provider_id\":192,\"provider_name\":\"YouTube\"},{\"display_priority\":18,\"logo_path\":\"/wuViyDkbFp4r7VqI0efPW5hFfQj.jpg\",\"provider_id\":35,\"provider_name\":\"Rakuten TV\"}],\"rent\":[{\"display_priority\":2,\"logo_path\":\"/q6tl6Ib6X5FT80RMlcDbexIo4St.jpg\",\"provider_id\":2,\"provider_name\":\"Apple iTunes\"},{\"display_priority\":3,\"logo_path\":\"/l9OqSYtqktdEFQ9Bk194DzTSGDN.jpg\",\"provider_id\":242,\"provider_name\":\"Meo\"},{\"display_priority\":3,\"logo_path\":\"/p3Z12gKq2qvJaUOMeKNU2mzKVI9.jpg\",\"provider_id\":3,\"provider_name\":\"Google Play Movies\"},{\"display_priority\":12,\"logo_path\":\"/vDCcryHD32b0yMeSCgBhuYavsmx.jpg\",\"provider_id\":192,\"provider_name\":\"YouTube\"},{\"display_priority\":18,\"logo_path\":\"/wuViyDkbFp4r7VqI0efPW5hFfQj.jpg\",\"provider_id\":35,\"provider_name\":\"Rakuten TV\"}],\"flatrate\":[{\"display_priority\":1,\"logo_path\":\"/dgPueyEdOwpQ10fjuhL2WYFQwQs.jpg\",\"provider_id\":337,\"provider_name\":\"Disney Plus\"}]},\"RO\":{\"link\":\"https://www.themoviedb.org/movie/19995-avatar/watch?locale=RO\",\"flatrate\":[{\"display_priority\":1,\"logo_path\":\"/49zBTsyFqE0u2hO8NxlyVmjFZDH.jpg\",\"provider_id\":250,\"provider_name\":\"Horizon\"}]},\"RU\":{\"link\":\"https://www.themoviedb.org/movie/19995-avatar/watch?locale=RU\",\"rent\":[{\"display_priority\":2,\"logo_path\":\"/2DpMZHxP9jzu3v70bph1UD3LLv3.jpg\",\"provider_id\":113,\"provider_name\":\"Ivi\"},{\"display_priority\":3,\"logo_path\":\"/p3Z12gKq2qvJaUOMeKNU2mzKVI9.jpg\",\"provider_id\":3,\"provider_name\":\"Google Play Movies\"},{\"display_priority\":17,\"logo_path\":\"/4AWMLvjQUQNmU3CkpLp7FSSIyZX.jpg\",\"provider_id\":501,\"provider_name\":\"Wink\"}],\"buy\":[{\"display_priority\":2,\"logo_path\":\"/2DpMZHxP9jzu3v70bph1UD3LLv3.jpg\",\"provider_id\":113,\"provider_name\":\"Ivi\"},{\"display_priority\":3,\"logo_path\":\"/p3Z12gKq2qvJaUOMeKNU2mzKVI9.jpg\",\"provider_id\":3,\"provider_name\":\"Google Play Movies\"},{\"display_priority\":17,\"logo_path\":\"/4AWMLvjQUQNmU3CkpLp7FSSIyZX.jpg\",\"provider_id\":501,\"provider_name\":\"Wink\"}]},\"SE\":{\"link\":\"https://www.themoviedb.org/movie/19995-avatar/watch?locale=SE\",\"flatrate\":[{\"display_priority\":1,\"logo_path\":\"/dgPueyEdOwpQ10fjuhL2WYFQwQs.jpg\",\"provider_id\":337,\"provider_name\":\"Disney Plus\"}],\"rent\":[{\"display_priority\":2,\"logo_path\":\"/q6tl6Ib6X5FT80RMlcDbexIo4St.jpg\",\"provider_id\":2,\"provider_name\":\"Apple iTunes\"},{\"display_priority\":3,\"logo_path\":\"/p3Z12gKq2qvJaUOMeKNU2mzKVI9.jpg\",\"provider_id\":3,\"provider_name\":\"Google Play Movies\"},{\"display_priority\":5,\"logo_path\":\"/okuStqHQL2ImgtNxNM40La91u3A.jpg\",\"provider_id\":76,\"provider_name\":\"Viaplay\"},{\"display_priority\":18,\"logo_path\":\"/wuViyDkbFp4r7VqI0efPW5hFfQj.jpg\",\"provider_id\":35,\"provider_name\":\"Rakuten TV\"},{\"display_priority\":19,\"logo_path\":\"/oEntjkQyz84qo1C4FZK9jW1qznl.jpg\",\"provider_id\":423,\"provider_name\":\"Blockbuster\"},{\"display_priority\":35,\"logo_path\":\"/paq2o2dIfQnxcERsVoq7Ys8KYz8.jpg\",\"provider_id\":68,\"provider_name\":\"Microsoft Store\"}],\"buy\":[{\"display_priority\":2,\"logo_path\":\"/q6tl6Ib6X5FT80RMlcDbexIo4St.jpg\",\"provider_id\":2,\"provider_name\":\"Apple iTunes\"},{\"display_priority\":3,\"logo_path\":\"/p3Z12gKq2qvJaUOMeKNU2mzKVI9.jpg\",\"provider_id\":3,\"provider_name\":\"Google Play Movies\"},{\"display_priority\":18,\"logo_path\":\"/wuViyDkbFp4r7VqI0efPW5hFfQj.jpg\",\"provider_id\":35,\"provider_name\":\"Rakuten TV\"},{\"display_priority\":19,\"logo_path\":\"/oEntjkQyz84qo1C4FZK9jW1qznl.jpg\",\"provider_id\":423,\"provider_name\":\"Blockbuster\"},{\"display_priority\":35,\"logo_path\":\"/paq2o2dIfQnxcERsVoq7Ys8KYz8.jpg\",\"provider_id\":68,\"provider_name\":\"Microsoft Store\"}]},\"SG\":{\"link\":\"https://www.themoviedb.org/movie/19995-avatar/watch?locale=SG\",\"rent\":[{\"display_priority\":3,\"logo_path\":\"/p3Z12gKq2qvJaUOMeKNU2mzKVI9.jpg\",\"provider_id\":3,\"provider_name\":\"Google Play Movies\"}],\"flatrate\":[{\"display_priority\":1,\"logo_path\":\"/dgPueyEdOwpQ10fjuhL2WYFQwQs.jpg\",\"provider_id\":337,\"provider_name\":\"Disney Plus\"}],\"buy\":[{\"display_priority\":2,\"logo_path\":\"/q6tl6Ib6X5FT80RMlcDbexIo4St.jpg\",\"provider_id\":2,\"provider_name\":\"Apple iTunes\"},{\"display_priority\":3,\"logo_path\":\"/p3Z12gKq2qvJaUOMeKNU2mzKVI9.jpg\",\"provider_id\":3,\"provider_name\":\"Google Play Movies\"}]},\"TH\":{\"link\":\"https://www.themoviedb.org/movie/19995-avatar/watch?locale=TH\",\"buy\":[{\"display_priority\":2,\"logo_path\":\"/q6tl6Ib6X5FT80RMlcDbexIo4St.jpg\",\"provider_id\":2,\"provider_name\":\"Apple iTunes\"},{\"display_priority\":3,\"logo_path\":\"/p3Z12gKq2qvJaUOMeKNU2mzKVI9.jpg\",\"provider_id\":3,\"provider_name\":\"Google Play Movies\"}],\"rent\":[{\"display_priority\":2,\"logo_path\":\"/q6tl6Ib6X5FT80RMlcDbexIo4St.jpg\",\"provider_id\":2,\"provider_name\":\"Apple iTunes\"},{\"display_priority\":3,\"logo_path\":\"/p3Z12gKq2qvJaUOMeKNU2mzKVI9.jpg\",\"provider_id\":3,\"provider_name\":\"Google Play Movies\"}]},\"TR\":{\"link\":\"https://www.themoviedb.org/movie/19995-avatar/watch?locale=TR\",\"buy\":[{\"display_priority\":2,\"logo_path\":\"/q6tl6Ib6X5FT80RMlcDbexIo4St.jpg\",\"provider_id\":2,\"provider_name\":\"Apple iTunes\"},{\"display_priority\":3,\"logo_path\":\"/p3Z12gKq2qvJaUOMeKNU2mzKVI9.jpg\",\"provider_id\":3,\"provider_name\":\"Google Play Movies\"}],\"rent\":[{\"display_priority\":2,\"logo_path\":\"/q6tl6Ib6X5FT80RMlcDbexIo4St.jpg\",\"provider_id\":2,\"provider_name\":\"Apple iTunes\"},{\"display_priority\":3,\"logo_path\":\"/p3Z12gKq2qvJaUOMeKNU2mzKVI9.jpg\",\"provider_id\":3,\"provider_name\":\"Google Play Movies\"}]},\"US\":{\"link\":\"https://www.themoviedb.org/movie/19995-avatar/watch?locale=US\",\"rent\":[{\"display_priority\":2,\"logo_path\":\"/q6tl6Ib6X5FT80RMlcDbexIo4St.jpg\",\"provider_id\":2,\"provider_name\":\"Apple iTunes\"},{\"display_priority\":3,\"logo_path\":\"/p3Z12gKq2qvJaUOMeKNU2mzKVI9.jpg\",\"provider_id\":3,\"provider_name\":\"Google Play Movies\"},{\"display_priority\":10,\"logo_path\":\"/sVBEF7q7LqjHAWSnKwDbzmr2EMY.jpg\",\"provider_id\":10,\"provider_name\":\"Amazon Video\"},{\"display_priority\":12,\"logo_path\":\"/vDCcryHD32b0yMeSCgBhuYavsmx.jpg\",\"provider_id\":192,\"provider_name\":\"YouTube\"},{\"display_priority\":18,\"logo_path\":\"/eqr1RvnDiHcM7UxmaZOIjdTmyx3.jpg\",\"provider_id\":105,\"provider_name\":\"FandangoNOW\"},{\"display_priority\":24,\"logo_path\":\"/pgaPsqgFh2grkcr7ROkoBajHJnf.jpg\",\"provider_id\":7,\"provider_name\":\"Vudu\"},{\"display_priority\":35,\"logo_path\":\"/paq2o2dIfQnxcERsVoq7Ys8KYz8.jpg\",\"provider_id\":68,\"provider_name\":\"Microsoft Store\"},{\"display_priority\":37,\"logo_path\":\"/nSr2IQSwc5C2QrttIWen8s06ofe.jpg\",\"provider_id\":279,\"provider_name\":\"Redbox\"},{\"display_priority\":41,\"logo_path\":\"/qZdEeINwQotbr1Rq15dL5G2BaAh.jpg\",\"provider_id\":358,\"provider_name\":\"DIRECTV\"}],\"flatrate\":[{\"display_priority\":1,\"logo_path\":\"/dgPueyEdOwpQ10fjuhL2WYFQwQs.jpg\",\"provider_id\":337,\"provider_name\":\"Disney Plus\"}],\"buy\":[{\"display_priority\":2,\"logo_path\":\"/q6tl6Ib6X5FT80RMlcDbexIo4St.jpg\",\"provider_id\":2,\"provider_name\":\"Apple iTunes\"},{\"display_priority\":3,\"logo_path\":\"/p3Z12gKq2qvJaUOMeKNU2mzKVI9.jpg\",\"provider_id\":3,\"provider_name\":\"Google Play Movies\"},{\"display_priority\":10,\"logo_path\":\"/sVBEF7q7LqjHAWSnKwDbzmr2EMY.jpg\",\"provider_id\":10,\"provider_name\":\"Amazon Video\"},{\"display_priority\":12,\"logo_path\":\"/vDCcryHD32b0yMeSCgBhuYavsmx.jpg\",\"provider_id\":192,\"provider_name\":\"YouTube\"},{\"display_priority\":18,\"logo_path\":\"/eqr1RvnDiHcM7UxmaZOIjdTmyx3.jpg\",\"provider_id\":105,\"provider_name\":\"FandangoNOW\"},{\"display_priority\":24,\"logo_path\":\"/pgaPsqgFh2grkcr7ROkoBajHJnf.jpg\",\"provider_id\":7,\"provider_name\":\"Vudu\"},{\"display_priority\":35,\"logo_path\":\"/paq2o2dIfQnxcERsVoq7Ys8KYz8.jpg\",\"provider_id\":68,\"provider_name\":\"Microsoft Store\"},{\"display_priority\":37,\"logo_path\":\"/nSr2IQSwc5C2QrttIWen8s06ofe.jpg\",\"provider_id\":279,\"provider_name\":\"Redbox\"},{\"display_priority\":41,\"logo_path\":\"/qZdEeINwQotbr1Rq15dL5G2BaAh.jpg\",\"provider_id\":358,\"provider_name\":\"DIRECTV\"}]},\"VE\":{\"link\":\"https://www.themoviedb.org/movie/19995-avatar/watch?locale=VE\",\"flatrate\":[{\"display_priority\":1,\"logo_path\":\"/dgPueyEdOwpQ10fjuhL2WYFQwQs.jpg\",\"provider_id\":337,\"provider_name\":\"Disney Plus\"}],\"rent\":[{\"display_priority\":3,\"logo_path\":\"/p3Z12gKq2qvJaUOMeKNU2mzKVI9.jpg\",\"provider_id\":3,\"provider_name\":\"Google Play Movies\"}],\"buy\":[{\"display_priority\":3,\"logo_path\":\"/p3Z12gKq2qvJaUOMeKNU2mzKVI9.jpg\",\"provider_id\":3,\"provider_name\":\"Google Play Movies\"}]},\"ZA\":{\"link\":\"https://www.themoviedb.org/movie/19995-avatar/watch?locale=ZA\",\"rent\":[{\"display_priority\":2,\"logo_path\":\"/q6tl6Ib6X5FT80RMlcDbexIo4St.jpg\",\"provider_id\":2,\"provider_name\":\"Apple iTunes\"},{\"display_priority\":3,\"logo_path\":\"/p3Z12gKq2qvJaUOMeKNU2mzKVI9.jpg\",\"provider_id\":3,\"provider_name\":\"Google Play Movies\"}],\"buy\":[{\"display_priority\":2,\"logo_path\":\"/q6tl6Ib6X5FT80RMlcDbexIo4St.jpg\",\"provider_id\":2,\"provider_name\":\"Apple iTunes\"},{\"display_priority\":3,\"logo_path\":\"/p3Z12gKq2qvJaUOMeKNU2mzKVI9.jpg\",\"provider_id\":3,\"provider_name\":\"Google Play Movies\"}]}}}}'"
      ]
     },
     "execution_count": 31,
     "metadata": {},
     "output_type": "execute_result"
    }
   ],
   "source": [
    "# How do I append the response?\n",
    "url = f\"https://api.themoviedb.org/3/movie/{19995}\\\n",
    "?append_to_response=release_dates,watch/providers\"\n",
    "\n",
    "headers = {'Authorization': f'Bearer {api_key}'}\n",
    "\n",
    "response = requests.get(url, headers=headers)\n",
    "response.text"
   ]
  },
  {
   "cell_type": "code",
   "execution_count": 32,
   "metadata": {
    "scrolled": true
   },
   "outputs": [
    {
     "data": {
      "text/plain": [
       "dict_keys(['adult', 'backdrop_path', 'belongs_to_collection', 'budget', 'genres', 'homepage', 'id', 'imdb_id', 'original_language', 'original_title', 'overview', 'popularity', 'poster_path', 'production_companies', 'production_countries', 'release_date', 'revenue', 'runtime', 'spoken_languages', 'status', 'tagline', 'title', 'video', 'vote_average', 'vote_count', 'release_dates', 'watch/providers'])"
      ]
     },
     "execution_count": 32,
     "metadata": {},
     "output_type": "execute_result"
    }
   ],
   "source": [
    "resp_dict = json.loads(response.text)\n",
    "resp_dict.keys()"
   ]
  },
  {
   "cell_type": "markdown",
   "metadata": {},
   "source": [
    "OK I'm glad I know how to do that but that's a LOT of data. Let's get just the basic details for now to get things moving, and I'll come back and get the rest of the details later if needed."
   ]
  },
  {
   "cell_type": "markdown",
   "metadata": {},
   "source": [
    "## Get details via API"
   ]
  },
  {
   "cell_type": "code",
   "execution_count": 43,
   "metadata": {},
   "outputs": [],
   "source": [
    "def tmdb_getmoviedetails(movie_list_slice, api_key):\n",
    "    \"\"\"\"\"\"\n",
    "    new_keys_to_keep = ['budget', 'genres', 'imdb_id', \n",
    "                   'original_language', 'overview', 'production_companies', \n",
    "                   'production_countries', 'release_date', 'revenue', \n",
    "                   'runtime', 'status', 'tagline', 'title', 'vote_average', \n",
    "                   'vote_count']\n",
    "        \n",
    "    movie_count = len(movie_list_slice)\n",
    "    \n",
    "    print(f\"{movie_count} movies to process. Initiating.\")\n",
    "    \n",
    "    for counter, movie in enumerate(movie_list_slice):\n",
    "        \n",
    "        # run GET API call to get movie details for movie id\n",
    "        url = f\"https://api.themoviedb.org/3/movie/{movie['id']}\"\n",
    "        headers = {'Authorization': f'Bearer {api_key}'}\n",
    "\n",
    "        response = requests.get(url, headers=headers)\n",
    "        resp_dict = json.loads(response.text)\n",
    "        \n",
    "        # add details from the response back to the original dictionary\n",
    "        # Only add the keys I want (removed duplicates and unecessary info)\n",
    "        for key in new_keys_to_keep:\n",
    "            movie[key] = resp_dict[key]\n",
    "        \n",
    "        # Print output to the console every 10 movies to show progress\n",
    "        if not (counter + 1) % 10:\n",
    "            print(f\"{counter + 1} movies processed so far...\")\n",
    "    \n",
    "    print(f\"{len(movie_list_slice)} total movies processed successfully\")\n",
    "    return movie_list_slice\n",
    "        "
   ]
  },
  {
   "cell_type": "code",
   "execution_count": 44,
   "metadata": {
    "scrolled": false
   },
   "outputs": [
    {
     "name": "stdout",
     "output_type": "stream",
     "text": [
      "100 movies to process. Initiating.\n",
      "10 movies processed so far...\n",
      "20 movies processed so far...\n",
      "30 movies processed so far...\n",
      "40 movies processed so far...\n",
      "50 movies processed so far...\n",
      "60 movies processed so far...\n",
      "70 movies processed so far...\n",
      "80 movies processed so far...\n",
      "90 movies processed so far...\n",
      "100 movies processed so far...\n",
      "100 total movies processed successfully\n"
     ]
    }
   ],
   "source": [
    "movies_batch1 = tmdb_getmoviedetails(tmdb_movies[:10001], api_key)\n",
    "\n",
    "pickle.Pickler(open('tmdb_moviedetails_batch01.pickle', 'wb')).dump(movies_batch1)"
   ]
  },
  {
   "cell_type": "code",
   "execution_count": 52,
   "metadata": {
    "scrolled": true
   },
   "outputs": [],
   "source": [
    "\n",
    "pickle.Pickler(open('testfile.pickle', 'wb')).dump(movies_test)"
   ]
  },
  {
   "cell_type": "code",
   "execution_count": 55,
   "metadata": {},
   "outputs": [],
   "source": [
    "test_unpickle = pickle.Unpickler(open('testfile.pickle', 'rb')).load()"
   ]
  },
  {
   "cell_type": "code",
   "execution_count": 57,
   "metadata": {},
   "outputs": [],
   "source": [
    "df = pd.DataFrame(test_unpickle)"
   ]
  },
  {
   "cell_type": "code",
   "execution_count": 45,
   "metadata": {
    "scrolled": true
   },
   "outputs": [
    {
     "data": {
      "text/html": [
       "<div>\n",
       "<style scoped>\n",
       "    .dataframe tbody tr th:only-of-type {\n",
       "        vertical-align: middle;\n",
       "    }\n",
       "\n",
       "    .dataframe tbody tr th {\n",
       "        vertical-align: top;\n",
       "    }\n",
       "\n",
       "    .dataframe thead th {\n",
       "        text-align: right;\n",
       "    }\n",
       "</style>\n",
       "<table border=\"1\" class=\"dataframe\">\n",
       "  <thead>\n",
       "    <tr style=\"text-align: right;\">\n",
       "      <th></th>\n",
       "      <th>adult</th>\n",
       "      <th>id</th>\n",
       "      <th>original_title</th>\n",
       "      <th>popularity</th>\n",
       "      <th>video</th>\n",
       "      <th>budget</th>\n",
       "      <th>genres</th>\n",
       "      <th>homepage</th>\n",
       "      <th>imdb_id</th>\n",
       "      <th>original_language</th>\n",
       "      <th>...</th>\n",
       "      <th>production_companies</th>\n",
       "      <th>production_countries</th>\n",
       "      <th>release_date</th>\n",
       "      <th>revenue</th>\n",
       "      <th>runtime</th>\n",
       "      <th>status</th>\n",
       "      <th>tagline</th>\n",
       "      <th>title</th>\n",
       "      <th>vote_average</th>\n",
       "      <th>vote_count</th>\n",
       "    </tr>\n",
       "  </thead>\n",
       "  <tbody>\n",
       "    <tr>\n",
       "      <th>0</th>\n",
       "      <td>False</td>\n",
       "      <td>6124</td>\n",
       "      <td>Der Mann ohne Namen</td>\n",
       "      <td>0.600</td>\n",
       "      <td>False</td>\n",
       "      <td>0</td>\n",
       "      <td>[{'id': 12, 'name': 'Adventure'}]</td>\n",
       "      <td></td>\n",
       "      <td>tt0011436</td>\n",
       "      <td>de</td>\n",
       "      <td>...</td>\n",
       "      <td>[]</td>\n",
       "      <td>[{'iso_3166_1': 'DE', 'name': 'Germany'}]</td>\n",
       "      <td>1921-01-01</td>\n",
       "      <td>0</td>\n",
       "      <td>420</td>\n",
       "      <td>Released</td>\n",
       "      <td></td>\n",
       "      <td>Peter Voss, Thief of Millions</td>\n",
       "      <td>0.0</td>\n",
       "      <td>0</td>\n",
       "    </tr>\n",
       "    <tr>\n",
       "      <th>1</th>\n",
       "      <td>False</td>\n",
       "      <td>8773</td>\n",
       "      <td>L'amour à vingt ans</td>\n",
       "      <td>2.932</td>\n",
       "      <td>False</td>\n",
       "      <td>0</td>\n",
       "      <td>[{'id': 18, 'name': 'Drama'}, {'id': 10749, 'n...</td>\n",
       "      <td></td>\n",
       "      <td>tt0055747</td>\n",
       "      <td>fr</td>\n",
       "      <td>...</td>\n",
       "      <td>[{'id': 38936, 'logo_path': '/ypvTqUeQOxORhFEF...</td>\n",
       "      <td>[{'iso_3166_1': 'DE', 'name': 'Germany'}, {'is...</td>\n",
       "      <td>1962-06-22</td>\n",
       "      <td>0</td>\n",
       "      <td>110</td>\n",
       "      <td>Released</td>\n",
       "      <td>The Intimate Secrets of Young Lovers</td>\n",
       "      <td>Love at Twenty</td>\n",
       "      <td>6.8</td>\n",
       "      <td>32</td>\n",
       "    </tr>\n",
       "    <tr>\n",
       "      <th>2</th>\n",
       "      <td>False</td>\n",
       "      <td>25449</td>\n",
       "      <td>New World Disorder 9: Never Enough</td>\n",
       "      <td>2.981</td>\n",
       "      <td>False</td>\n",
       "      <td>0</td>\n",
       "      <td>[]</td>\n",
       "      <td>http://www.nwdfilms.com</td>\n",
       "      <td></td>\n",
       "      <td>en</td>\n",
       "      <td>...</td>\n",
       "      <td>[]</td>\n",
       "      <td>[]</td>\n",
       "      <td>2008-12-08</td>\n",
       "      <td>0</td>\n",
       "      <td>69</td>\n",
       "      <td>Released</td>\n",
       "      <td></td>\n",
       "      <td>New World Disorder 9: Never Enough</td>\n",
       "      <td>4.5</td>\n",
       "      <td>2</td>\n",
       "    </tr>\n",
       "    <tr>\n",
       "      <th>3</th>\n",
       "      <td>False</td>\n",
       "      <td>31975</td>\n",
       "      <td>Sesame Street: Elmo Loves You!</td>\n",
       "      <td>1.965</td>\n",
       "      <td>True</td>\n",
       "      <td>0</td>\n",
       "      <td>[{'id': 10751, 'name': 'Family'}]</td>\n",
       "      <td></td>\n",
       "      <td>tt1656746</td>\n",
       "      <td>en</td>\n",
       "      <td>...</td>\n",
       "      <td>[]</td>\n",
       "      <td>[]</td>\n",
       "      <td>2010-01-05</td>\n",
       "      <td>0</td>\n",
       "      <td>46</td>\n",
       "      <td>Released</td>\n",
       "      <td></td>\n",
       "      <td>Sesame Street: Elmo Loves You!</td>\n",
       "      <td>0.0</td>\n",
       "      <td>0</td>\n",
       "    </tr>\n",
       "    <tr>\n",
       "      <th>4</th>\n",
       "      <td>False</td>\n",
       "      <td>2</td>\n",
       "      <td>Ariel</td>\n",
       "      <td>8.455</td>\n",
       "      <td>False</td>\n",
       "      <td>0</td>\n",
       "      <td>[{'id': 18, 'name': 'Drama'}, {'id': 80, 'name...</td>\n",
       "      <td></td>\n",
       "      <td>tt0094675</td>\n",
       "      <td>fi</td>\n",
       "      <td>...</td>\n",
       "      <td>[{'id': 2303, 'logo_path': None, 'name': 'Vill...</td>\n",
       "      <td>[{'iso_3166_1': 'FI', 'name': 'Finland'}]</td>\n",
       "      <td>1988-10-21</td>\n",
       "      <td>0</td>\n",
       "      <td>73</td>\n",
       "      <td>Released</td>\n",
       "      <td></td>\n",
       "      <td>Ariel</td>\n",
       "      <td>6.8</td>\n",
       "      <td>128</td>\n",
       "    </tr>\n",
       "    <tr>\n",
       "      <th>...</th>\n",
       "      <td>...</td>\n",
       "      <td>...</td>\n",
       "      <td>...</td>\n",
       "      <td>...</td>\n",
       "      <td>...</td>\n",
       "      <td>...</td>\n",
       "      <td>...</td>\n",
       "      <td>...</td>\n",
       "      <td>...</td>\n",
       "      <td>...</td>\n",
       "      <td>...</td>\n",
       "      <td>...</td>\n",
       "      <td>...</td>\n",
       "      <td>...</td>\n",
       "      <td>...</td>\n",
       "      <td>...</td>\n",
       "      <td>...</td>\n",
       "      <td>...</td>\n",
       "      <td>...</td>\n",
       "      <td>...</td>\n",
       "      <td>...</td>\n",
       "    </tr>\n",
       "    <tr>\n",
       "      <th>95</th>\n",
       "      <td>False</td>\n",
       "      <td>124</td>\n",
       "      <td>Bez końca</td>\n",
       "      <td>3.299</td>\n",
       "      <td>False</td>\n",
       "      <td>0</td>\n",
       "      <td>[{'id': 18, 'name': 'Drama'}]</td>\n",
       "      <td>NaN</td>\n",
       "      <td>tt0086961</td>\n",
       "      <td>pl</td>\n",
       "      <td>...</td>\n",
       "      <td>[{'id': 1587, 'logo_path': None, 'name': 'P.P....</td>\n",
       "      <td>[{'iso_3166_1': 'PL', 'name': 'Poland'}]</td>\n",
       "      <td>1985-06-17</td>\n",
       "      <td>0</td>\n",
       "      <td>108</td>\n",
       "      <td>Released</td>\n",
       "      <td></td>\n",
       "      <td>No End</td>\n",
       "      <td>7.6</td>\n",
       "      <td>38</td>\n",
       "    </tr>\n",
       "    <tr>\n",
       "      <th>96</th>\n",
       "      <td>False</td>\n",
       "      <td>125</td>\n",
       "      <td>Dworzec</td>\n",
       "      <td>1.406</td>\n",
       "      <td>False</td>\n",
       "      <td>0</td>\n",
       "      <td>[{'id': 99, 'name': 'Documentary'}]</td>\n",
       "      <td>NaN</td>\n",
       "      <td>tt0080668</td>\n",
       "      <td>pl</td>\n",
       "      <td>...</td>\n",
       "      <td>[{'id': 2466, 'logo_path': None, 'name': 'WFD'...</td>\n",
       "      <td>[{'iso_3166_1': 'PL', 'name': 'Poland'}]</td>\n",
       "      <td>1980-01-01</td>\n",
       "      <td>0</td>\n",
       "      <td>13</td>\n",
       "      <td>Released</td>\n",
       "      <td></td>\n",
       "      <td>Railway Station</td>\n",
       "      <td>5.9</td>\n",
       "      <td>15</td>\n",
       "    </tr>\n",
       "    <tr>\n",
       "      <th>97</th>\n",
       "      <td>False</td>\n",
       "      <td>126</td>\n",
       "      <td>Krótki dzień pracy</td>\n",
       "      <td>2.148</td>\n",
       "      <td>False</td>\n",
       "      <td>0</td>\n",
       "      <td>[{'id': 18, 'name': 'Drama'}, {'id': 10770, 'n...</td>\n",
       "      <td>NaN</td>\n",
       "      <td>tt0082631</td>\n",
       "      <td>pl</td>\n",
       "      <td>...</td>\n",
       "      <td>[{'id': 7984, 'logo_path': None, 'name': 'Zesp...</td>\n",
       "      <td>[{'iso_3166_1': 'PL', 'name': 'Poland'}]</td>\n",
       "      <td>1981-06-27</td>\n",
       "      <td>0</td>\n",
       "      <td>73</td>\n",
       "      <td>Released</td>\n",
       "      <td></td>\n",
       "      <td>Short Working Day</td>\n",
       "      <td>6.8</td>\n",
       "      <td>4</td>\n",
       "    </tr>\n",
       "    <tr>\n",
       "      <th>98</th>\n",
       "      <td>False</td>\n",
       "      <td>127</td>\n",
       "      <td>Przypadek</td>\n",
       "      <td>5.246</td>\n",
       "      <td>False</td>\n",
       "      <td>0</td>\n",
       "      <td>[{'id': 18, 'name': 'Drama'}]</td>\n",
       "      <td>NaN</td>\n",
       "      <td>tt0084549</td>\n",
       "      <td>pl</td>\n",
       "      <td>...</td>\n",
       "      <td>[{'id': 1587, 'logo_path': None, 'name': 'P.P....</td>\n",
       "      <td>[{'iso_3166_1': 'PL', 'name': 'Poland'}]</td>\n",
       "      <td>1987-01-10</td>\n",
       "      <td>0</td>\n",
       "      <td>123</td>\n",
       "      <td>Released</td>\n",
       "      <td></td>\n",
       "      <td>Blind Chance</td>\n",
       "      <td>7.7</td>\n",
       "      <td>103</td>\n",
       "    </tr>\n",
       "    <tr>\n",
       "      <th>99</th>\n",
       "      <td>False</td>\n",
       "      <td>128</td>\n",
       "      <td>もののけ姫</td>\n",
       "      <td>36.082</td>\n",
       "      <td>False</td>\n",
       "      <td>26500000</td>\n",
       "      <td>[{'id': 12, 'name': 'Adventure'}, {'id': 14, '...</td>\n",
       "      <td>NaN</td>\n",
       "      <td>tt0119698</td>\n",
       "      <td>ja</td>\n",
       "      <td>...</td>\n",
       "      <td>[{'id': 10342, 'logo_path': '/eS79pslnoKbWg7t3...</td>\n",
       "      <td>[{'iso_3166_1': 'JP', 'name': 'Japan'}]</td>\n",
       "      <td>1997-07-12</td>\n",
       "      <td>159414369</td>\n",
       "      <td>134</td>\n",
       "      <td>Released</td>\n",
       "      <td>The Fate Of The World Rests On The Courage Of ...</td>\n",
       "      <td>Princess Mononoke</td>\n",
       "      <td>8.3</td>\n",
       "      <td>5452</td>\n",
       "    </tr>\n",
       "  </tbody>\n",
       "</table>\n",
       "<p>100 rows × 21 columns</p>\n",
       "</div>"
      ],
      "text/plain": [
       "    adult     id                      original_title  popularity  video  \\\n",
       "0   False   6124                 Der Mann ohne Namen       0.600  False   \n",
       "1   False   8773                 L'amour à vingt ans       2.932  False   \n",
       "2   False  25449  New World Disorder 9: Never Enough       2.981  False   \n",
       "3   False  31975      Sesame Street: Elmo Loves You!       1.965   True   \n",
       "4   False      2                               Ariel       8.455  False   \n",
       "..    ...    ...                                 ...         ...    ...   \n",
       "95  False    124                           Bez końca       3.299  False   \n",
       "96  False    125                             Dworzec       1.406  False   \n",
       "97  False    126                  Krótki dzień pracy       2.148  False   \n",
       "98  False    127                           Przypadek       5.246  False   \n",
       "99  False    128                               もののけ姫      36.082  False   \n",
       "\n",
       "      budget                                             genres  \\\n",
       "0          0                  [{'id': 12, 'name': 'Adventure'}]   \n",
       "1          0  [{'id': 18, 'name': 'Drama'}, {'id': 10749, 'n...   \n",
       "2          0                                                 []   \n",
       "3          0                  [{'id': 10751, 'name': 'Family'}]   \n",
       "4          0  [{'id': 18, 'name': 'Drama'}, {'id': 80, 'name...   \n",
       "..       ...                                                ...   \n",
       "95         0                      [{'id': 18, 'name': 'Drama'}]   \n",
       "96         0                [{'id': 99, 'name': 'Documentary'}]   \n",
       "97         0  [{'id': 18, 'name': 'Drama'}, {'id': 10770, 'n...   \n",
       "98         0                      [{'id': 18, 'name': 'Drama'}]   \n",
       "99  26500000  [{'id': 12, 'name': 'Adventure'}, {'id': 14, '...   \n",
       "\n",
       "                   homepage    imdb_id original_language  ...  \\\n",
       "0                            tt0011436                de  ...   \n",
       "1                            tt0055747                fr  ...   \n",
       "2   http://www.nwdfilms.com                           en  ...   \n",
       "3                            tt1656746                en  ...   \n",
       "4                            tt0094675                fi  ...   \n",
       "..                      ...        ...               ...  ...   \n",
       "95                      NaN  tt0086961                pl  ...   \n",
       "96                      NaN  tt0080668                pl  ...   \n",
       "97                      NaN  tt0082631                pl  ...   \n",
       "98                      NaN  tt0084549                pl  ...   \n",
       "99                      NaN  tt0119698                ja  ...   \n",
       "\n",
       "                                 production_companies  \\\n",
       "0                                                  []   \n",
       "1   [{'id': 38936, 'logo_path': '/ypvTqUeQOxORhFEF...   \n",
       "2                                                  []   \n",
       "3                                                  []   \n",
       "4   [{'id': 2303, 'logo_path': None, 'name': 'Vill...   \n",
       "..                                                ...   \n",
       "95  [{'id': 1587, 'logo_path': None, 'name': 'P.P....   \n",
       "96  [{'id': 2466, 'logo_path': None, 'name': 'WFD'...   \n",
       "97  [{'id': 7984, 'logo_path': None, 'name': 'Zesp...   \n",
       "98  [{'id': 1587, 'logo_path': None, 'name': 'P.P....   \n",
       "99  [{'id': 10342, 'logo_path': '/eS79pslnoKbWg7t3...   \n",
       "\n",
       "                                 production_countries release_date    revenue  \\\n",
       "0           [{'iso_3166_1': 'DE', 'name': 'Germany'}]   1921-01-01          0   \n",
       "1   [{'iso_3166_1': 'DE', 'name': 'Germany'}, {'is...   1962-06-22          0   \n",
       "2                                                  []   2008-12-08          0   \n",
       "3                                                  []   2010-01-05          0   \n",
       "4           [{'iso_3166_1': 'FI', 'name': 'Finland'}]   1988-10-21          0   \n",
       "..                                                ...          ...        ...   \n",
       "95           [{'iso_3166_1': 'PL', 'name': 'Poland'}]   1985-06-17          0   \n",
       "96           [{'iso_3166_1': 'PL', 'name': 'Poland'}]   1980-01-01          0   \n",
       "97           [{'iso_3166_1': 'PL', 'name': 'Poland'}]   1981-06-27          0   \n",
       "98           [{'iso_3166_1': 'PL', 'name': 'Poland'}]   1987-01-10          0   \n",
       "99            [{'iso_3166_1': 'JP', 'name': 'Japan'}]   1997-07-12  159414369   \n",
       "\n",
       "    runtime    status                                            tagline  \\\n",
       "0       420  Released                                                      \n",
       "1       110  Released               The Intimate Secrets of Young Lovers   \n",
       "2        69  Released                                                      \n",
       "3        46  Released                                                      \n",
       "4        73  Released                                                      \n",
       "..      ...       ...                                                ...   \n",
       "95      108  Released                                                      \n",
       "96       13  Released                                                      \n",
       "97       73  Released                                                      \n",
       "98      123  Released                                                      \n",
       "99      134  Released  The Fate Of The World Rests On The Courage Of ...   \n",
       "\n",
       "                                 title vote_average  vote_count  \n",
       "0        Peter Voss, Thief of Millions          0.0           0  \n",
       "1                       Love at Twenty          6.8          32  \n",
       "2   New World Disorder 9: Never Enough          4.5           2  \n",
       "3       Sesame Street: Elmo Loves You!          0.0           0  \n",
       "4                                Ariel          6.8         128  \n",
       "..                                 ...          ...         ...  \n",
       "95                              No End          7.6          38  \n",
       "96                     Railway Station          5.9          15  \n",
       "97                   Short Working Day          6.8           4  \n",
       "98                        Blind Chance          7.7         103  \n",
       "99                   Princess Mononoke          8.3        5452  \n",
       "\n",
       "[100 rows x 21 columns]"
      ]
     },
     "execution_count": 45,
     "metadata": {},
     "output_type": "execute_result"
    }
   ],
   "source": [
    "df = pd.DataFrame(movies_test)\n",
    "df"
   ]
  },
  {
   "cell_type": "markdown",
   "metadata": {},
   "source": [
    "# Attempt to scrape from JustWatch\n",
    "\n",
    "Justwatch has infinite scroll, and the info I want isn't on the initial page, so I would need to loop through the pages. I was able to get some of the pages "
   ]
  },
  {
   "cell_type": "code",
   "execution_count": 44,
   "metadata": {},
   "outputs": [
    {
     "data": {
      "text/plain": [
       "'{\"fields\": [\"cinema_release_date\", \"full_path\", \"full_paths\", \"id\", \"localized_release_date\", \"object_type\", \"poster\", \"scoring\", \"title\", \"tmdb_popularity\", \"backdrops\"], \"content_types\": [\"movie\"], \"providers\": [\"nfx\", \"amp\", \"dnp\", \"fuv\", \"atp\", \"itu\", \"hlu\", \"hbm\", \"pct\", \"pcp\", \"amz\", \"ply\", \"yot\", \"ytr\", \"hbn\", \"sho\"], \"sort_by\": \"release_year\", \"enable_provider_filter\": false, \"monetization_types\": [], \"page\": 3, \"page_size\": 30, \"matching_offers_only\": true}'"
      ]
     },
     "execution_count": 44,
     "metadata": {},
     "output_type": "execute_result"
    }
   ],
   "source": [
    "body = {\"fields\":[\"cinema_release_date\",\"full_path\",\"full_paths\",\"id\",\"localized_release_date\",\"object_type\",\"poster\",\"scoring\",\"title\",\"tmdb_popularity\",\"backdrops\"],\"content_types\":[\"movie\"],\"providers\":[\"nfx\",\"amp\",\"dnp\",\"fuv\",\"atp\",\"itu\",\"hlu\",\"hbm\",\"pct\",\"pcp\",\"amz\",\"ply\",\"yot\",\"ytr\",\"hbn\",\"sho\"],\"sort_by\":\"release_year\",\"enable_provider_filter\":False,\"monetization_types\":[],\"page\":3,\"page_size\":30,\"matching_offers_only\":True}\n",
    "body_json = json.dumps(body)\n",
    "body_json"
   ]
  },
  {
   "cell_type": "code",
   "execution_count": 45,
   "metadata": {},
   "outputs": [],
   "source": [
    "html_page = requests.get(\"\"\"https://apis.justwatch.com/content/titles/en_US/popular\"\"\"\n",
    "                        , data=body_json)\n",
    "soup = BeautifulSoup(html_page.content)"
   ]
  },
  {
   "cell_type": "code",
   "execution_count": 46,
   "metadata": {},
   "outputs": [
    {
     "data": {
      "text/plain": [
       "'<!DOCTYPE html>\\n<html lang=\"en\">\\n <head>\\n  <meta charset=\"utf-8\"/>\\n  <meta content=\"initial-scale=1, minimum-scale=1, width=device-width\" name=\"viewport\"/>\\n  <title>\\n   Error 400 (Bad Request)!!1\\n  </title>\\n  <style>\\n   *{margin:0;padding:0}html,code{font:15px/22px arial,sans-serif}html{background:#fff;color:#222;padding:15px}body{margin:7% auto 0;max-width:390px;min-height:180px;padding:30px 0 15px}* > body{background:url(//www.google.com/images/errors/robot.png) 100% 5px no-repeat;padding-right:205px}p{margin:11px 0 22px;overflow:hidden}ins{color:#777;text-decoration:none}a img{border:0}@media screen and (max-width:772px){body{background:none;margin-top:0;max-width:none;padding-right:0}}#logo{background:url(//www.google.com/images/branding/googlelogo/1x/googlelogo_color_150x54dp.png) no-repeat;margin-left:-5px}@media only screen and (min-resolution:192dpi){#logo{background:url(//www.google.com/images/branding/googlelogo/2x/googlelogo_color_150x54dp.png) no-repeat 0% 0%/100% 100%;-moz-border-image:url(//www.google.com/images/branding/googlelogo/2x/googlelogo_color_150x54dp.png) 0}}@media only screen and (-webkit-min-device-pixel-ratio:2){#logo{background:url(//www.google.com/images/branding/googlelogo/2x/googlelogo_color_150x54dp.png) no-repeat;-webkit-background-size:100% 100%}}#logo{display:inline-block;height:54px;width:150px}\\n  </style>\\n </head>\\n <body>\\n  <a href=\"//www.google.com/\">\\n   <span aria-label=\"Google\" id=\"logo\">\\n   </span>\\n  </a>\\n  <p>\\n   <b>\\n    400.\\n   </b>\\n   <ins>\\n    That’s an error.\\n   </ins>\\n  </p>\\n  <p>\\n   Your client has issued a malformed or illegal request.\\n   <ins>\\n    That’s all we know.\\n   </ins>\\n  </p>\\n </body>\\n</html>'"
      ]
     },
     "execution_count": 46,
     "metadata": {},
     "output_type": "execute_result"
    }
   ],
   "source": [
    "soup.prettify()"
   ]
  },
  {
   "cell_type": "markdown",
   "metadata": {},
   "source": [
    "OK, so I managed to find the API call used to get more results, but I don't think it will allow me to use it. Which makes sense since I'm making the call externally without a request header :-p\n",
    "\n",
    "However, the info saved in devtools actually has the links for the returned movies, so I can definitely parse those out of the HAR file from devtools and them loop through the sites to get the actual info. I have to manually scroll, but it's pretty easy to do. The site only loads 66 pages of 30 results total, which is only 1980 results at a time, so I have to figure out how to filter my results to be under that limit.\n",
    "\n",
    "Without specifying a release date in the filter, I get results that haven't been released yet... going to come back to that. Started with filtering by release year, but got too many movies. Tried also filtering by the streaming service for the most popular ones but, still too many. Finally, selected only the services which are subscription only - no rentals, and monetization is subscription. Success! Will keep trying this and logging the files with the criteria."
   ]
  },
  {
   "cell_type": "markdown",
   "metadata": {},
   "source": [
    "### Filter criteria used and results file tracking\n",
    "\n",
    "|URL|Release Year|Services|Monetization|Results|Saved File Name|\n",
    "|---|---|---|---|---|---|\n",
    "|//www.justwatch.com/us/movies<br>?monetization_types=flatrate<br>&providers=amp,atp,dnp,hbm,hlu,nfx<br>&release_year_from=2020<br>&release_year_until=2020<br>&sort_by=release_year  |2020|amp,atp,dnp,hbm,hlu,nfx|Subscription|1602|JustWatch_released2020_AvailBySubscription.har|\n",
    "|//www.justwatch.com/us/movies<br>?monetization_types=flatrate<br>&providers=atp,dnp,hbm,hlu,nfx<br>&release_year_from=2019<br>&release_year_until=2019<br>&sort_by=release_year |2019|atp,dnp,hbm,hlu,nfx|Subscription|941|JustWatch_released2019_AvailBySubscription_NoPrime.har|\n",
    "|//www.justwatch.com/us/movies<br>?monetization_types=flatrate<br>&providers=amp<br>&release_year_from=2019<br>&release_year_until=2019<br>&sort_by=release_year|2019|amp|Subscription|1800|JustWatch_released2019_AvailBySubscription_PrimeOnly.har|\n",
    "|---|---|---|---|---|---|\n",
    "|---|---|---|---|---|---|\n",
    "|---|---|---|---|---|---|\n",
    "|---|---|---|---|---|---|\n",
    "|---|---|---|---|---|---|\n",
    "|---|---|---|---|---|---|\n",
    "\n",
    "\n",
    "These are the popular services that don't have rentals or buy options; you get what you get with your subscription:\n",
    "\n",
    "- amp = Amazon Prime Video\n",
    "- atp = Apple TV Plus\n",
    "- dnp = Disney Plus\n",
    "- hbm = HBO Max\n",
    "- hlu = Hulu\n",
    "- nfx = Netflix"
   ]
  },
  {
   "cell_type": "markdown",
   "metadata": {},
   "source": [
    "### Parsing the HAR files to get paths\n",
    "\n",
    "Before getting too far with the HAR files, I want to make sure I'll be able to parse the paths I need from them and make a script to scrape the info from the individual page URLs."
   ]
  },
  {
   "cell_type": "code",
   "execution_count": null,
   "metadata": {},
   "outputs": [],
   "source": []
  },
  {
   "cell_type": "markdown",
   "metadata": {},
   "source": [
    "Credit to https://www.accordbox.com/blog/how-crawl-infinite-scrolling-pages-using-python/ for the instructions on how to web scrape a site with infinite scrolling, although it didn't work. Accessed 3/14/2021.\n",
    "\n",
    "Credit to https://stackoverflow.com/questions/4028904/how-to-get-the-home-directory-in-python for how to get the home directory in Python. Accessed 3/14/2021."
   ]
  },
  {
   "cell_type": "code",
   "execution_count": null,
   "metadata": {},
   "outputs": [],
   "source": []
  }
 ],
 "metadata": {
  "kernelspec": {
   "display_name": "learn-env",
   "language": "python",
   "name": "learn-env"
  },
  "language_info": {
   "codemirror_mode": {
    "name": "ipython",
    "version": 3
   },
   "file_extension": ".py",
   "mimetype": "text/x-python",
   "name": "python",
   "nbconvert_exporter": "python",
   "pygments_lexer": "ipython3",
   "version": "3.8.5"
  },
  "toc": {
   "base_numbering": 1,
   "nav_menu": {},
   "number_sections": true,
   "sideBar": true,
   "skip_h1_title": false,
   "title_cell": "Table of Contents",
   "title_sidebar": "Contents",
   "toc_cell": false,
   "toc_position": {
    "height": "calc(100% - 180px)",
    "left": "10px",
    "top": "150px",
    "width": "248px"
   },
   "toc_section_display": true,
   "toc_window_display": true
  },
  "varInspector": {
   "cols": {
    "lenName": 16,
    "lenType": 16,
    "lenVar": 40
   },
   "kernels_config": {
    "python": {
     "delete_cmd_postfix": "",
     "delete_cmd_prefix": "del ",
     "library": "var_list.py",
     "varRefreshCmd": "print(var_dic_list())"
    },
    "r": {
     "delete_cmd_postfix": ") ",
     "delete_cmd_prefix": "rm(",
     "library": "var_list.r",
     "varRefreshCmd": "cat(var_dic_list()) "
    }
   },
   "types_to_exclude": [
    "module",
    "function",
    "builtin_function_or_method",
    "instance",
    "_Feature"
   ],
   "window_display": false
  }
 },
 "nbformat": 4,
 "nbformat_minor": 4
}
